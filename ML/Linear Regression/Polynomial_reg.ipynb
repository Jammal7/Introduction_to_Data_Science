{
 "cells": [
  {
   "cell_type": "code",
   "execution_count": 1,
   "id": "6938c68f-7ea6-4166-8265-ee34a85ec3f0",
   "metadata": {},
   "outputs": [],
   "source": [
    "import pandas as pd\n",
    "import numpy as np\n",
    "import seaborn as sns\n",
    "import matplotlib.pyplot as plt"
   ]
  },
  {
   "cell_type": "code",
   "execution_count": 2,
   "id": "adff1375-e807-4d46-aa3d-c499eff8b081",
   "metadata": {},
   "outputs": [
    {
     "data": {
      "text/html": [
       "<div>\n",
       "<style scoped>\n",
       "    .dataframe tbody tr th:only-of-type {\n",
       "        vertical-align: middle;\n",
       "    }\n",
       "\n",
       "    .dataframe tbody tr th {\n",
       "        vertical-align: top;\n",
       "    }\n",
       "\n",
       "    .dataframe thead th {\n",
       "        text-align: right;\n",
       "    }\n",
       "</style>\n",
       "<table border=\"1\" class=\"dataframe\">\n",
       "  <thead>\n",
       "    <tr style=\"text-align: right;\">\n",
       "      <th></th>\n",
       "      <th>TV</th>\n",
       "      <th>radio</th>\n",
       "      <th>newspaper</th>\n",
       "      <th>sales</th>\n",
       "    </tr>\n",
       "  </thead>\n",
       "  <tbody>\n",
       "    <tr>\n",
       "      <th>0</th>\n",
       "      <td>230.1</td>\n",
       "      <td>37.8</td>\n",
       "      <td>69.2</td>\n",
       "      <td>22.1</td>\n",
       "    </tr>\n",
       "    <tr>\n",
       "      <th>1</th>\n",
       "      <td>44.5</td>\n",
       "      <td>39.3</td>\n",
       "      <td>45.1</td>\n",
       "      <td>10.4</td>\n",
       "    </tr>\n",
       "    <tr>\n",
       "      <th>2</th>\n",
       "      <td>17.2</td>\n",
       "      <td>45.9</td>\n",
       "      <td>69.3</td>\n",
       "      <td>9.3</td>\n",
       "    </tr>\n",
       "    <tr>\n",
       "      <th>3</th>\n",
       "      <td>151.5</td>\n",
       "      <td>41.3</td>\n",
       "      <td>58.5</td>\n",
       "      <td>18.5</td>\n",
       "    </tr>\n",
       "    <tr>\n",
       "      <th>4</th>\n",
       "      <td>180.8</td>\n",
       "      <td>10.8</td>\n",
       "      <td>58.4</td>\n",
       "      <td>12.9</td>\n",
       "    </tr>\n",
       "  </tbody>\n",
       "</table>\n",
       "</div>"
      ],
      "text/plain": [
       "      TV  radio  newspaper  sales\n",
       "0  230.1   37.8       69.2   22.1\n",
       "1   44.5   39.3       45.1   10.4\n",
       "2   17.2   45.9       69.3    9.3\n",
       "3  151.5   41.3       58.5   18.5\n",
       "4  180.8   10.8       58.4   12.9"
      ]
     },
     "execution_count": 2,
     "metadata": {},
     "output_type": "execute_result"
    }
   ],
   "source": [
    "df = pd.read_csv(\"../Data/Linear_reg/Advertising.csv\")\n",
    "df.head()"
   ]
  },
  {
   "cell_type": "code",
   "execution_count": 3,
   "id": "0331f2ac-62aa-4231-ae80-e8ba7abbee0e",
   "metadata": {},
   "outputs": [],
   "source": [
    "X = df.drop('sales', axis=1)\n",
    "y = df['sales']"
   ]
  },
  {
   "cell_type": "code",
   "execution_count": 4,
   "id": "b9c7dcab-ddd6-45fb-b5fd-3f951ccebae2",
   "metadata": {},
   "outputs": [
    {
     "data": {
      "text/html": [
       "<div>\n",
       "<style scoped>\n",
       "    .dataframe tbody tr th:only-of-type {\n",
       "        vertical-align: middle;\n",
       "    }\n",
       "\n",
       "    .dataframe tbody tr th {\n",
       "        vertical-align: top;\n",
       "    }\n",
       "\n",
       "    .dataframe thead th {\n",
       "        text-align: right;\n",
       "    }\n",
       "</style>\n",
       "<table border=\"1\" class=\"dataframe\">\n",
       "  <thead>\n",
       "    <tr style=\"text-align: right;\">\n",
       "      <th></th>\n",
       "      <th>TV</th>\n",
       "      <th>radio</th>\n",
       "      <th>newspaper</th>\n",
       "    </tr>\n",
       "  </thead>\n",
       "  <tbody>\n",
       "    <tr>\n",
       "      <th>0</th>\n",
       "      <td>230.1</td>\n",
       "      <td>37.8</td>\n",
       "      <td>69.2</td>\n",
       "    </tr>\n",
       "    <tr>\n",
       "      <th>1</th>\n",
       "      <td>44.5</td>\n",
       "      <td>39.3</td>\n",
       "      <td>45.1</td>\n",
       "    </tr>\n",
       "    <tr>\n",
       "      <th>2</th>\n",
       "      <td>17.2</td>\n",
       "      <td>45.9</td>\n",
       "      <td>69.3</td>\n",
       "    </tr>\n",
       "    <tr>\n",
       "      <th>3</th>\n",
       "      <td>151.5</td>\n",
       "      <td>41.3</td>\n",
       "      <td>58.5</td>\n",
       "    </tr>\n",
       "    <tr>\n",
       "      <th>4</th>\n",
       "      <td>180.8</td>\n",
       "      <td>10.8</td>\n",
       "      <td>58.4</td>\n",
       "    </tr>\n",
       "  </tbody>\n",
       "</table>\n",
       "</div>"
      ],
      "text/plain": [
       "      TV  radio  newspaper\n",
       "0  230.1   37.8       69.2\n",
       "1   44.5   39.3       45.1\n",
       "2   17.2   45.9       69.3\n",
       "3  151.5   41.3       58.5\n",
       "4  180.8   10.8       58.4"
      ]
     },
     "execution_count": 4,
     "metadata": {},
     "output_type": "execute_result"
    }
   ],
   "source": [
    "X.head()"
   ]
  },
  {
   "cell_type": "markdown",
   "id": "7a7a224c-818f-4585-94d7-d472adf2d8f8",
   "metadata": {},
   "source": [
    "## Polynomial Regression"
   ]
  },
  {
   "cell_type": "markdown",
   "id": "5899ecc7-bfca-470f-a28d-0ea95e289f10",
   "metadata": {},
   "source": [
    "**From Preprocessing, import PolynomialFeatures, which will help us transform our original data set by adding polynomial features**\n",
    "\n",
    "We will go from the equation in the form (shown here as if we only had one x feature):\n",
    "\n",
    "$$\\hat{y} = \\beta_0 + \\beta_1x_1 + \\epsilon $$\n",
    "\n",
    "and create more features from the original x feature for some *d* degree of polynomial.\n",
    "\n",
    "$$\\hat{y} = \\beta_0 + \\beta_1x_1 + \\beta_1x^2_1 +  ... + \\beta_dx^d_1 + \\epsilon$$\n",
    "\n",
    "Then we can call the linear regression model on it, since in reality, we're just treating these new polynomial features x^2, x^3, ... x^d as new features. Obviously we need to be careful about choosing the correct value of *d* , the degree of the model. Our metric results on the test set will help us with this!\n",
    "\n",
    "**The other thing to note here is we have multiple X features, not just a single one as in the formula above, so in reality, the PolynomialFeatures will also take *interaction* terms into account for example, if an input sample is two dimensional and of the form [a, b], the degree-2 polynomial features are [1, a, b, a^2, ab, b^2].**"
   ]
  },
  {
   "cell_type": "code",
   "execution_count": 5,
   "id": "6a689b97-4dca-41ac-ab94-08aec25d6ad7",
   "metadata": {},
   "outputs": [],
   "source": [
    "from sklearn.preprocessing import PolynomialFeatures\n",
    "\n",
    "polynomial_converter = PolynomialFeatures(degree=2, include_bias=False)\n",
    "\n",
    "# Converter \"fits\" to data, in this case, reads in every X column\n",
    "# Then it \"transforms\" and ouputs the new polynomial data\n",
    "transform = polynomial_converter.fit_transform(X)"
   ]
  },
  {
   "cell_type": "code",
   "execution_count": 6,
   "id": "0047fb11-8e68-413b-a036-d07a7f93be92",
   "metadata": {},
   "outputs": [
    {
     "data": {
      "text/plain": [
       "array([[ 230.1 ,   37.8 ,   69.2 , ..., 1428.84, 2615.76, 4788.64],\n",
       "       [  44.5 ,   39.3 ,   45.1 , ..., 1544.49, 1772.43, 2034.01],\n",
       "       [  17.2 ,   45.9 ,   69.3 , ..., 2106.81, 3180.87, 4802.49],\n",
       "       ...,\n",
       "       [ 177.  ,    9.3 ,    6.4 , ...,   86.49,   59.52,   40.96],\n",
       "       [ 283.6 ,   42.  ,   66.2 , ..., 1764.  , 2780.4 , 4382.44],\n",
       "       [ 232.1 ,    8.6 ,    8.7 , ...,   73.96,   74.82,   75.69]])"
      ]
     },
     "execution_count": 6,
     "metadata": {},
     "output_type": "execute_result"
    }
   ],
   "source": [
    "transform"
   ]
  },
  {
   "cell_type": "code",
   "execution_count": 7,
   "id": "1e51dddd-cbe5-4a87-8f4e-606a7c39c0a9",
   "metadata": {},
   "outputs": [
    {
     "data": {
      "text/plain": [
       "(200, 9)"
      ]
     },
     "execution_count": 7,
     "metadata": {},
     "output_type": "execute_result"
    }
   ],
   "source": [
    "transform.shape"
   ]
  },
  {
   "cell_type": "code",
   "execution_count": 8,
   "id": "2a514d76-e7d2-40e0-b11b-3de2a4ed3932",
   "metadata": {},
   "outputs": [
    {
     "data": {
      "text/plain": [
       "(200, 3)"
      ]
     },
     "execution_count": 8,
     "metadata": {},
     "output_type": "execute_result"
    }
   ],
   "source": [
    "X.shape"
   ]
  },
  {
   "cell_type": "code",
   "execution_count": 9,
   "id": "60e014c6-19dc-4680-a52b-4097bfd8e765",
   "metadata": {},
   "outputs": [
    {
     "data": {
      "text/plain": [
       "TV           230.1\n",
       "radio         37.8\n",
       "newspaper     69.2\n",
       "Name: 0, dtype: float64"
      ]
     },
     "execution_count": 9,
     "metadata": {},
     "output_type": "execute_result"
    }
   ],
   "source": [
    "X.iloc[0]"
   ]
  },
  {
   "cell_type": "code",
   "execution_count": 10,
   "id": "2ac1cd8b-26cc-4c69-aeb2-6de5190f23e1",
   "metadata": {},
   "outputs": [
    {
     "data": {
      "text/plain": [
       "array([2.301000e+02, 3.780000e+01, 6.920000e+01, 5.294601e+04,\n",
       "       8.697780e+03, 1.592292e+04, 1.428840e+03, 2.615760e+03,\n",
       "       4.788640e+03])"
      ]
     },
     "execution_count": 10,
     "metadata": {},
     "output_type": "execute_result"
    }
   ],
   "source": [
    "transform[0]"
   ]
  },
  {
   "cell_type": "code",
   "execution_count": 11,
   "id": "1915fd1f-4250-443b-8962-75ed7c485f42",
   "metadata": {},
   "outputs": [
    {
     "data": {
      "text/plain": [
       "array([230.1,  37.8,  69.2])"
      ]
     },
     "execution_count": 11,
     "metadata": {},
     "output_type": "execute_result"
    }
   ],
   "source": [
    "transform[0][:3]"
   ]
  },
  {
   "cell_type": "code",
   "execution_count": 12,
   "id": "e14b40c4-b710-4b63-a8bf-0990b51d9aa3",
   "metadata": {},
   "outputs": [
    {
     "data": {
      "text/plain": [
       "array([52946.01,  1428.84,  4788.64])"
      ]
     },
     "execution_count": 12,
     "metadata": {},
     "output_type": "execute_result"
    }
   ],
   "source": [
    "# Squared terms\n",
    "transform[0][:3]**2"
   ]
  },
  {
   "cell_type": "markdown",
   "id": "e09d8c91-7edb-4057-b375-7844e37db851",
   "metadata": {
    "tags": []
   },
   "source": [
    "**Transform variable explained**: We got the 9 columns cause when transforming 6 extra columns were added to the orginial two and the 6 could be categorized under 2 terms, which are;\n",
    "\n",
    "----\n",
    "1. The interaction terms $$x_1  \\cdot x_2 \\text{  and  } x_1  \\cdot x_3 \\text{  and  }   x_2  \\cdot x_3 $$\n",
    "2. The Square terms"
   ]
  },
  {
   "cell_type": "code",
   "execution_count": 13,
   "id": "2f3e9fcd-32bb-4c95-b4b4-b4b9af6c6cb7",
   "metadata": {},
   "outputs": [
    {
     "data": {
      "text/plain": [
       "8697.779999999999"
      ]
     },
     "execution_count": 13,
     "metadata": {},
     "output_type": "execute_result"
    }
   ],
   "source": [
    "# Interaction terms\n",
    "230.1*37.8"
   ]
  },
  {
   "cell_type": "code",
   "execution_count": 14,
   "id": "e77b5240-05cd-482f-888f-1ca190e1ad75",
   "metadata": {},
   "outputs": [
    {
     "data": {
      "text/plain": [
       "15922.92"
      ]
     },
     "execution_count": 14,
     "metadata": {},
     "output_type": "execute_result"
    }
   ],
   "source": [
    "# Interaction terms\n",
    "230.1*69.2"
   ]
  },
  {
   "cell_type": "code",
   "execution_count": 15,
   "id": "916350dc-47ce-44c6-8713-cc96aa4d4b88",
   "metadata": {},
   "outputs": [
    {
     "data": {
      "text/plain": [
       "2615.7599999999998"
      ]
     },
     "execution_count": 15,
     "metadata": {},
     "output_type": "execute_result"
    }
   ],
   "source": [
    "# Interaction terms\n",
    "37.8*69.2"
   ]
  },
  {
   "cell_type": "markdown",
   "id": "dfb7ca4d-dd7d-4497-b775-d4fa88f67b1f",
   "metadata": {},
   "source": [
    "## Training & Evaluating"
   ]
  },
  {
   "cell_type": "code",
   "execution_count": 16,
   "id": "dcfeaed6-daf8-4955-a16c-1618f367405e",
   "metadata": {},
   "outputs": [],
   "source": [
    "from sklearn.linear_model import LinearRegression\n",
    "from sklearn.model_selection import train_test_split"
   ]
  },
  {
   "cell_type": "code",
   "execution_count": 17,
   "id": "b9f3ad17-d4ba-4ab0-9ba9-1bb4eb07694e",
   "metadata": {},
   "outputs": [],
   "source": [
    "X_train, X_test, y_train, y_test = train_test_split(transform, y, test_size=0.3, random_state=42)\n",
    "\n",
    "\n",
    "# Model for fitting on Polynomial Data - Create an instance of the model with parameters\n",
    "model = LinearRegression(fit_intercept=True)\n",
    "model.fit(X_train,y_train)\n",
    "test_predictions = model.predict(X_test)"
   ]
  },
  {
   "cell_type": "markdown",
   "id": "b04ac2b2-d897-4e7f-b2f9-0212b9788171",
   "metadata": {},
   "source": [
    "### Evaluation on the Test Set\n",
    "\n",
    "Calculate Performance on Test Set"
   ]
  },
  {
   "cell_type": "code",
   "execution_count": 18,
   "id": "5da9c104-30fb-4e71-b8be-b03041a58839",
   "metadata": {},
   "outputs": [],
   "source": [
    "from sklearn.metrics import mean_absolute_error,mean_squared_error\n",
    "\n",
    "MAE = mean_absolute_error(y_test,test_predictions)\n",
    "MSE = mean_squared_error(y_test,test_predictions)\n",
    "RMSE = np.sqrt(MSE)"
   ]
  },
  {
   "cell_type": "code",
   "execution_count": 19,
   "id": "476c69f1-5f37-46fc-b5ae-f724e344ac60",
   "metadata": {},
   "outputs": [
    {
     "data": {
      "text/plain": [
       "0.5905974833808024"
      ]
     },
     "execution_count": 19,
     "metadata": {},
     "output_type": "execute_result"
    }
   ],
   "source": [
    "MAE"
   ]
  },
  {
   "cell_type": "code",
   "execution_count": 20,
   "id": "f8c9a4a5-a95f-4240-87b0-bca6a814245d",
   "metadata": {},
   "outputs": [
    {
     "data": {
      "text/plain": [
       "0.523194494905538"
      ]
     },
     "execution_count": 20,
     "metadata": {},
     "output_type": "execute_result"
    }
   ],
   "source": [
    "MSE"
   ]
  },
  {
   "cell_type": "code",
   "execution_count": 21,
   "id": "8e829d8e-69dd-4377-815d-7d151af64a05",
   "metadata": {},
   "outputs": [
    {
     "data": {
      "text/plain": [
       "0.7233218473857527"
      ]
     },
     "execution_count": 21,
     "metadata": {},
     "output_type": "execute_result"
    }
   ],
   "source": [
    "RMSE"
   ]
  },
  {
   "cell_type": "code",
   "execution_count": 22,
   "id": "83914ea3-6501-4acf-b60b-bd6c5b794a74",
   "metadata": {},
   "outputs": [
    {
     "data": {
      "text/plain": [
       "14.022500000000003"
      ]
     },
     "execution_count": 22,
     "metadata": {},
     "output_type": "execute_result"
    }
   ],
   "source": [
    "df['sales'].mean()"
   ]
  },
  {
   "cell_type": "markdown",
   "id": "adbff680-e259-485f-829e-cc0fb1492a6b",
   "metadata": {},
   "source": [
    "### Comparison with Simple Linear Regression\n",
    "\n",
    "**Results on the Test Set (Note: Use the same Random Split to fairly compare!)**\n",
    "\n",
    "* Simple Linear Regression:\n",
    "    * MAE: 1.5117\n",
    "    * RMSE: 1.9485\n",
    "\n",
    "* Polynomial 2-degree:\n",
    "    * MAE: 0.5906\n",
    "    * RMSE: 0.7233"
   ]
  },
  {
   "cell_type": "markdown",
   "id": "7af3edea-c350-48f9-9baa-39fcf151e454",
   "metadata": {},
   "source": [
    "---\n",
    "---\n",
    "## Choosing a Model\n",
    "\n",
    "### Adjusting Parameters\n",
    "\n",
    "Are we satisfied with this performance? Perhaps a higher order would improve performance even more! But how high is too high? It is now up to us to possibly go back and adjust our model and parameters, let's explore higher order Polynomials in a loop and plot out their error. This will nicely lead us into a discussion on Overfitting.\n",
    "\n",
    "Let's use a for loop to do the following:\n",
    "\n",
    "1. Create different order polynomial X data\n",
    "2. Split that polynomial data for train/test\n",
    "3. Fit on the training data\n",
    "4. Report back the metrics on *both* the train and test results\n",
    "5. Plot these results and explore overfitting"
   ]
  },
  {
   "cell_type": "code",
   "execution_count": 23,
   "id": "78194a81-2fd7-450f-8e0e-bcd84b62154c",
   "metadata": {},
   "outputs": [],
   "source": [
    "# TRAINING ERROR PER DEGREE\n",
    "train_rmse_errors = []\n",
    "\n",
    "# TEST ERROR PER DEGREE\n",
    "test_rmse_errors = []\n",
    "\n",
    "for d in range(1,10):\n",
    "    \n",
    "    # CREATE POLY DATA SET FOR DEGREE \"d\"\n",
    "    polynomial_converter = PolynomialFeatures(degree=d,include_bias=False)\n",
    "    poly_features = polynomial_converter.fit_transform(X)\n",
    "    \n",
    "    # SPLIT THIS NEW POLY DATA SET\n",
    "    X_train, X_test, y_train, y_test = train_test_split(poly_features, y, test_size=0.3, random_state=101)\n",
    "    \n",
    "    # TRAIN ON THIS NEW POLY SET\n",
    "    model = LinearRegression(fit_intercept=True)\n",
    "    model.fit(X_train,y_train)\n",
    "    \n",
    "    # PREDICT ON BOTH TRAIN AND TEST\n",
    "    train_pred = model.predict(X_train)\n",
    "    test_pred = model.predict(X_test)\n",
    "    \n",
    "    # Calculate Errors \n",
    "    # Errors on Train Set\n",
    "    train_RMSE = np.sqrt(mean_squared_error(y_train,train_pred))\n",
    "    # Errors on Test Set\n",
    "    test_RMSE = np.sqrt(mean_squared_error(y_test,test_pred))\n",
    "\n",
    "    # Append errors to lists for plotting later\n",
    "    train_rmse_errors.append(train_RMSE)\n",
    "    test_rmse_errors.append(test_RMSE)"
   ]
  },
  {
   "cell_type": "code",
   "execution_count": 24,
   "id": "82555008-d593-45f1-9d48-2edd9d245a39",
   "metadata": {},
   "outputs": [
    {
     "data": {
      "text/plain": [
       "[1.7345941243293763,\n",
       " 0.587957408529223,\n",
       " 0.4339344356902067,\n",
       " 0.35170836883993584,\n",
       " 0.2509342962728227,\n",
       " 0.1994556133865361,\n",
       " 5.418481285535737,\n",
       " 0.1508621033579802,\n",
       " 0.17175170448632276]"
      ]
     },
     "execution_count": 24,
     "metadata": {},
     "output_type": "execute_result"
    }
   ],
   "source": [
    "train_rmse_errors"
   ]
  },
  {
   "cell_type": "code",
   "execution_count": 25,
   "id": "795f67ba-9056-4ab7-a42a-8bdb03280727",
   "metadata": {},
   "outputs": [
    {
     "data": {
      "text/plain": [
       "[1.5161519375993875,\n",
       " 0.6646431757268965,\n",
       " 0.5803286825240505,\n",
       " 0.5077742641892913,\n",
       " 2.575808121294812,\n",
       " 4.263812349320766,\n",
       " 1383.4052620420694,\n",
       " 3733.4225752445113,\n",
       " 95489.26452707677]"
      ]
     },
     "execution_count": 25,
     "metadata": {},
     "output_type": "execute_result"
    }
   ],
   "source": [
    "test_rmse_errors"
   ]
  },
  {
   "cell_type": "code",
   "execution_count": 27,
   "id": "bd18fc68-14f5-4ca5-b89f-ba51ece0a241",
   "metadata": {},
   "outputs": [
    {
     "data": {
      "image/png": "[encoded data removed]",
      "text/plain": [
       "<Figure size 432x288 with 1 Axes>"
      ]
     },
     "metadata": {
      "needs_background": "light"
     },
     "output_type": "display_data"
    }
   ],
   "source": [
    "plt.plot(range(1,6),train_rmse_errors[:5],label='TRAIN RMSE')\n",
    "plt.plot(range(1,6),test_rmse_errors[:5],label='TEST RMSE')\n",
    "plt.xlabel(\"Polynomial Complexity\")\n",
    "plt.ylabel(\"RMSE\")\n",
    "plt.legend()\n",
    "plt.show()"
   ]
  },
  {
   "cell_type": "code",
   "execution_count": 28,
   "id": "b255acea-c6f2-4da1-a600-e613d04ce51d",
   "metadata": {},
   "outputs": [
    {
     "data": {
      "image/png": "[encoded data removed]",
      "text/plain": [
       "<Figure size 432x288 with 1 Axes>"
      ]
     },
     "metadata": {
      "needs_background": "light"
     },
     "output_type": "display_data"
    }
   ],
   "source": [
    "plt.plot(range(1,10),train_rmse_errors,label='TRAIN RMSE')\n",
    "plt.plot(range(1,10),test_rmse_errors,label='TEST RMSE')\n",
    "plt.xlabel(\"Polynomial Complexity\")\n",
    "plt.ylabel(\"RMSE\")\n",
    "plt.legend()\n",
    "plt.show()"
   ]
  },
  {
   "cell_type": "code",
   "execution_count": 29,
   "id": "bd6aaf6f-eb96-4d30-bdf1-f5ff25df38ad",
   "metadata": {},
   "outputs": [
    {
     "data": {
      "image/png": "[encoded data removed]",
      "text/plain": [
       "<Figure size 432x288 with 1 Axes>"
      ]
     },
     "metadata": {
      "needs_background": "light"
     },
     "output_type": "display_data"
    }
   ],
   "source": [
    "plt.plot(range(1,10),train_rmse_errors,label='TRAIN')\n",
    "plt.plot(range(1,10),test_rmse_errors,label='TEST')\n",
    "plt.xlabel(\"Polynomial Complexity\")\n",
    "plt.ylabel(\"RMSE\")\n",
    "plt.ylim(0,100)\n",
    "plt.legend()\n",
    "plt.show()"
   ]
  },
  {
   "cell_type": "markdown",
   "id": "f00284dd-2b88-4ce1-ae04-598156ca015d",
   "metadata": {},
   "source": [
    "## Finalizing Model Choice\n",
    "\n",
    "There are now 2 things we need to save, the Polynomial Feature creator AND the model itself. Let's explore how we would proceed from here:\n",
    "\n",
    "1. Choose final parameters based on test metrics\n",
    "2. Retrain on all data\n",
    "3. Save Polynomial Converter object\n",
    "4. Save model"
   ]
  },
  {
   "cell_type": "code",
   "execution_count": 31,
   "id": "0fe4563d-465d-4d55-bbd7-777c6dd1e69c",
   "metadata": {},
   "outputs": [
    {
     "data": {
      "text/plain": [
       "LinearRegression()"
      ]
     },
     "execution_count": 31,
     "metadata": {},
     "output_type": "execute_result"
    }
   ],
   "source": [
    "# Based on our chart, could have also been degree=4, but  it is better to be on the safe side of complexity\n",
    "final_poly_converter = PolynomialFeatures(degree=3,include_bias=False)\n",
    "final_transform = final_poly_converter.fit_transform(X)\n",
    "\n",
    "final_model = LinearRegression()\n",
    "final_model.fit(final_transform, y)"
   ]
  },
  {
   "cell_type": "markdown",
   "id": "7e82d602-ce95-405b-8608-c34fdd4a834d",
   "metadata": {},
   "source": [
    "### Saving Model and Converter"
   ]
  },
  {
   "cell_type": "code",
   "execution_count": 32,
   "id": "4561e985-bc10-4268-a216-55ba493e8542",
   "metadata": {},
   "outputs": [],
   "source": [
    "from joblib import dump, load"
   ]
  },
  {
   "cell_type": "code",
   "execution_count": 33,
   "id": "d6bda1c6-0b8f-4da7-8852-949a82ac005a",
   "metadata": {},
   "outputs": [
    {
     "data": {
      "text/plain": [
       "['sales_poly_model.joblib']"
      ]
     },
     "execution_count": 33,
     "metadata": {},
     "output_type": "execute_result"
    }
   ],
   "source": [
    "dump(final_model, 'sales_poly_model.joblib') "
   ]
  },
  {
   "cell_type": "code",
   "execution_count": 34,
   "id": "43288a5d-0f50-4fe0-b9f9-130a7feb637d",
   "metadata": {},
   "outputs": [
    {
     "data": {
      "text/plain": [
       "['poly_converter.joblib']"
      ]
     },
     "execution_count": 34,
     "metadata": {},
     "output_type": "execute_result"
    }
   ],
   "source": [
    "dump(final_poly_converter,'poly_converter.joblib')"
   ]
  },
  {
   "cell_type": "markdown",
   "id": "e95c77ad-414f-46ab-b4bf-5c406fc2f31d",
   "metadata": {},
   "source": [
    "## Load and Predictions"
   ]
  },
  {
   "cell_type": "markdown",
   "id": "ca99db86-6255-481f-ab0c-1369c52efcac",
   "metadata": {},
   "source": [
    "### Prediction on New Data\n",
    "\n",
    "Recall that we will need to **convert** any incoming data to polynomial data, since that is what our model is trained on. We simply load up our saved converter object and only call **.transform()** on the new data, since we're not refitting to a new data set.\n",
    "\n",
    "**Our next ad campaign will have a total spend of 149k on TV, 22k on Radio, and 12k on Newspaper Ads, how many units could we expect to sell as a result of this?**"
   ]
  },
  {
   "cell_type": "code",
   "execution_count": 35,
   "id": "e2b1b63b-0235-45f4-b65e-0f4e4a7aa736",
   "metadata": {},
   "outputs": [],
   "source": [
    "loaded_poly = load('poly_converter.joblib')\n",
    "loaded_model = load('sales_poly_model.joblib')"
   ]
  },
  {
   "cell_type": "code",
   "execution_count": 36,
   "id": "4bd3333a-e717-4555-a01a-2135bffa472a",
   "metadata": {},
   "outputs": [
    {
     "name": "stderr",
     "output_type": "stream",
     "text": [
      "C:\\Users\\oabas\\anaconda3\\lib\\site-packages\\sklearn\\base.py:450: UserWarning: X does not have valid feature names, but PolynomialFeatures was fitted with feature names\n",
      "  warnings.warn(\n"
     ]
    }
   ],
   "source": [
    "campaign = [[149,22,12]]\n",
    "campaign_poly = loaded_poly.transform(campaign)"
   ]
  },
  {
   "cell_type": "code",
   "execution_count": 37,
   "id": "65b3390f-a6ef-4d31-95d3-05f3fb6195d8",
   "metadata": {},
   "outputs": [
    {
     "data": {
      "text/plain": [
       "array([[1.490000e+02, 2.200000e+01, 1.200000e+01, 2.220100e+04,\n",
       "        3.278000e+03, 1.788000e+03, 4.840000e+02, 2.640000e+02,\n",
       "        1.440000e+02, 3.307949e+06, 4.884220e+05, 2.664120e+05,\n",
       "        7.211600e+04, 3.933600e+04, 2.145600e+04, 1.064800e+04,\n",
       "        5.808000e+03, 3.168000e+03, 1.728000e+03]])"
      ]
     },
     "execution_count": 37,
     "metadata": {},
     "output_type": "execute_result"
    }
   ],
   "source": [
    "campaign_poly"
   ]
  },
  {
   "cell_type": "code",
   "execution_count": 38,
   "id": "1e8815e1-4de5-41cb-8728-366186a0bc97",
   "metadata": {},
   "outputs": [
    {
     "data": {
      "text/plain": [
       "array([14.64501014])"
      ]
     },
     "execution_count": 38,
     "metadata": {},
     "output_type": "execute_result"
    }
   ],
   "source": [
    "loaded_model.predict(campaign_poly)"
   ]
  }
 ],
 "metadata": {
  "kernelspec": {
   "display_name": "Python 3 (ipykernel)",
   "language": "python",
   "name": "python3"
  },
  "language_info": {
   "codemirror_mode": {
    "name": "ipython",
    "version": 3
   },
   "file_extension": ".py",
   "mimetype": "text/x-python",
   "name": "python",
   "nbconvert_exporter": "python",
   "pygments_lexer": "ipython3",
   "version": "3.8.8"
  }
 },
 "nbformat": 4,
 "nbformat_minor": 5
}
