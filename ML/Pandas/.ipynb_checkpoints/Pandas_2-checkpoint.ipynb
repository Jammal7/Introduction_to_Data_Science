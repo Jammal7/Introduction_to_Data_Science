{
 "cells": [
  {
   "cell_type": "code",
   "execution_count": 1,
   "id": "6914fbdb-2aaa-47d3-862a-be411411935d",
   "metadata": {},
   "outputs": [],
   "source": [
    "import pandas as pd\n",
    "import numpy as np"
   ]
  },
  {
   "cell_type": "markdown",
   "id": "13041e0e-ea76-4d0a-bba9-c82e6881fa86",
   "metadata": {},
   "source": [
    "# Text Methods"
   ]
  },
  {
   "cell_type": "code",
   "execution_count": 2,
   "id": "643263a7-7d89-493d-bdf0-7a3c9712201a",
   "metadata": {},
   "outputs": [
    {
     "data": {
      "text/plain": [
       "'Hello'"
      ]
     },
     "execution_count": 2,
     "metadata": {},
     "output_type": "execute_result"
    }
   ],
   "source": [
    "mystring = 'hello'\n",
    "mystring.capitalize()"
   ]
  },
  {
   "cell_type": "code",
   "execution_count": 3,
   "id": "715189be-c717-43bf-90c0-424066d2b8cd",
   "metadata": {},
   "outputs": [
    {
     "data": {
      "text/plain": [
       "False"
      ]
     },
     "execution_count": 3,
     "metadata": {},
     "output_type": "execute_result"
    }
   ],
   "source": [
    "mystring.isdigit()"
   ]
  },
  {
   "cell_type": "code",
   "execution_count": 4,
   "id": "14910b13-a7ee-41f6-b2fd-c5243dc4c060",
   "metadata": {},
   "outputs": [],
   "source": [
    "#help(str)"
   ]
  },
  {
   "cell_type": "markdown",
   "id": "07f5a9dc-ea89-4bbd-88e9-c94d1b823bcd",
   "metadata": {},
   "source": [
    "## Text Methods on Pandas String Column\n",
    "\n",
    "Pandas can do a lot more than what we show here. Full online documentation on things like advanced string indexing and regular expressions with pandas can be found here: https://pandas.pydata.org/docs/user_guide/text.html"
   ]
  },
  {
   "cell_type": "code",
   "execution_count": 5,
   "id": "c747079e-3252-4b09-af62-77f2df422331",
   "metadata": {},
   "outputs": [
    {
     "data": {
      "text/plain": [
       "0    andrew\n",
       "1      bobo\n",
       "2    claire\n",
       "3     david\n",
       "4         4\n",
       "dtype: object"
      ]
     },
     "execution_count": 5,
     "metadata": {},
     "output_type": "execute_result"
    }
   ],
   "source": [
    "names = pd.Series(['andrew','bobo','claire','david','4'])\n",
    "names"
   ]
  },
  {
   "cell_type": "code",
   "execution_count": 6,
   "id": "cb026e57-eab7-4298-9ece-e8198f920a8a",
   "metadata": {},
   "outputs": [
    {
     "data": {
      "text/plain": [
       "0    Andrew\n",
       "1      Bobo\n",
       "2    Claire\n",
       "3     David\n",
       "4         4\n",
       "dtype: object"
      ]
     },
     "execution_count": 6,
     "metadata": {},
     "output_type": "execute_result"
    }
   ],
   "source": [
    "names.str.capitalize()"
   ]
  },
  {
   "cell_type": "code",
   "execution_count": 7,
   "id": "99a83a6a-e7ef-4bfd-8a70-71ecaa8e76bd",
   "metadata": {},
   "outputs": [
    {
     "data": {
      "text/plain": [
       "0    False\n",
       "1    False\n",
       "2    False\n",
       "3    False\n",
       "4     True\n",
       "dtype: bool"
      ]
     },
     "execution_count": 7,
     "metadata": {},
     "output_type": "execute_result"
    }
   ],
   "source": [
    "names.str.isdigit()"
   ]
  },
  {
   "cell_type": "markdown",
   "id": "4eabcabf-8297-48bf-945d-6ff870ba7825",
   "metadata": {},
   "source": [
    "## Splitting , Grabbing, and Expanding"
   ]
  },
  {
   "cell_type": "code",
   "execution_count": 8,
   "id": "8fde58c1-6b29-4d19-bc88-78ffffa98f20",
   "metadata": {},
   "outputs": [
    {
     "data": {
      "text/plain": [
       "2"
      ]
     },
     "execution_count": 8,
     "metadata": {},
     "output_type": "execute_result"
    }
   ],
   "source": [
    "tech_finance = ['GOOG,APPL,AMZN','JPM,BAC,GS']\n",
    "len(tech_finance)"
   ]
  },
  {
   "cell_type": "code",
   "execution_count": 9,
   "id": "bece0c0e-089f-4224-8dbb-bba29d4b779b",
   "metadata": {},
   "outputs": [
    {
     "data": {
      "text/plain": [
       "0    GOOG,APPL,AMZN\n",
       "1        JPM,BAC,GS\n",
       "dtype: object"
      ]
     },
     "execution_count": 9,
     "metadata": {},
     "output_type": "execute_result"
    }
   ],
   "source": [
    "tickers = pd.Series(tech_finance)\n",
    "tickers"
   ]
  },
  {
   "cell_type": "code",
   "execution_count": 10,
   "id": "cf562209-ed2a-46c2-bb53-b8041a0579a7",
   "metadata": {},
   "outputs": [
    {
     "data": {
      "text/plain": [
       "0    [GOOG, APPL, AMZN]\n",
       "1        [JPM, BAC, GS]\n",
       "dtype: object"
      ]
     },
     "execution_count": 10,
     "metadata": {},
     "output_type": "execute_result"
    }
   ],
   "source": [
    "tickers.str.split(',')"
   ]
  },
  {
   "cell_type": "code",
   "execution_count": 11,
   "id": "99844b96-ca3e-47cb-8914-f2aaf33fb9af",
   "metadata": {},
   "outputs": [
    {
     "data": {
      "text/plain": [
       "0    GOOG\n",
       "1     JPM\n",
       "dtype: object"
      ]
     },
     "execution_count": 11,
     "metadata": {},
     "output_type": "execute_result"
    }
   ],
   "source": [
    "tickers.str.split(',').str[0]"
   ]
  },
  {
   "cell_type": "code",
   "execution_count": 12,
   "id": "badf3063-728b-452f-a020-ef6fcb72803f",
   "metadata": {},
   "outputs": [
    {
     "data": {
      "text/html": [
       "<div>\n",
       "<style scoped>\n",
       "    .dataframe tbody tr th:only-of-type {\n",
       "        vertical-align: middle;\n",
       "    }\n",
       "\n",
       "    .dataframe tbody tr th {\n",
       "        vertical-align: top;\n",
       "    }\n",
       "\n",
       "    .dataframe thead th {\n",
       "        text-align: right;\n",
       "    }\n",
       "</style>\n",
       "<table border=\"1\" class=\"dataframe\">\n",
       "  <thead>\n",
       "    <tr style=\"text-align: right;\">\n",
       "      <th></th>\n",
       "      <th>0</th>\n",
       "      <th>1</th>\n",
       "      <th>2</th>\n",
       "    </tr>\n",
       "  </thead>\n",
       "  <tbody>\n",
       "    <tr>\n",
       "      <th>0</th>\n",
       "      <td>GOOG</td>\n",
       "      <td>APPL</td>\n",
       "      <td>AMZN</td>\n",
       "    </tr>\n",
       "    <tr>\n",
       "      <th>1</th>\n",
       "      <td>JPM</td>\n",
       "      <td>BAC</td>\n",
       "      <td>GS</td>\n",
       "    </tr>\n",
       "  </tbody>\n",
       "</table>\n",
       "</div>"
      ],
      "text/plain": [
       "      0     1     2\n",
       "0  GOOG  APPL  AMZN\n",
       "1   JPM   BAC    GS"
      ]
     },
     "execution_count": 12,
     "metadata": {},
     "output_type": "execute_result"
    }
   ],
   "source": [
    "tickers.str.split(',',expand=True)"
   ]
  },
  {
   "cell_type": "markdown",
   "id": "04840273-de6c-4779-a59a-b6208728f13b",
   "metadata": {},
   "source": [
    "## Cleaning or Editing Strings"
   ]
  },
  {
   "cell_type": "code",
   "execution_count": 13,
   "id": "dbee8d4f-0cf1-495c-b7e8-7ff67b419c12",
   "metadata": {},
   "outputs": [
    {
     "data": {
      "text/plain": [
       "0      andrew  \n",
       "1         bo;bo\n",
       "2      claire  \n",
       "dtype: object"
      ]
     },
     "execution_count": 13,
     "metadata": {},
     "output_type": "execute_result"
    }
   ],
   "source": [
    "messy_names = pd.Series([\"andrew  \",\"bo;bo\",\"  claire  \"])\n",
    "messy_names"
   ]
  },
  {
   "cell_type": "code",
   "execution_count": 14,
   "id": "84bf4459-0a3f-444e-a7e4-ee253a684203",
   "metadata": {},
   "outputs": [
    {
     "data": {
      "text/plain": [
       "0      andrew  \n",
       "1          bobo\n",
       "2      claire  \n",
       "dtype: object"
      ]
     },
     "execution_count": 14,
     "metadata": {},
     "output_type": "execute_result"
    }
   ],
   "source": [
    "messy_names.str.replace(\";\",\"\")"
   ]
  },
  {
   "cell_type": "code",
   "execution_count": 15,
   "id": "0721d7f1-3944-4cde-8b67-5942a692422b",
   "metadata": {},
   "outputs": [
    {
     "data": {
      "text/plain": [
       "0    andrew\n",
       "1     bo;bo\n",
       "2    claire\n",
       "dtype: object"
      ]
     },
     "execution_count": 15,
     "metadata": {},
     "output_type": "execute_result"
    }
   ],
   "source": [
    "messy_names.str.strip()"
   ]
  },
  {
   "cell_type": "code",
   "execution_count": 16,
   "id": "2659e796-d018-4ece-8068-e3ba708e234c",
   "metadata": {},
   "outputs": [
    {
     "data": {
      "text/plain": [
       "0    andrew\n",
       "1      bobo\n",
       "2    claire\n",
       "dtype: object"
      ]
     },
     "execution_count": 16,
     "metadata": {},
     "output_type": "execute_result"
    }
   ],
   "source": [
    "messy_names.str.replace(\";\",\"\").str.strip()"
   ]
  },
  {
   "cell_type": "code",
   "execution_count": 17,
   "id": "76f18d69-71ef-4f52-b62a-d962827f7c88",
   "metadata": {},
   "outputs": [
    {
     "data": {
      "text/plain": [
       "0    Andrew\n",
       "1      Bobo\n",
       "2    Claire\n",
       "dtype: object"
      ]
     },
     "execution_count": 17,
     "metadata": {},
     "output_type": "execute_result"
    }
   ],
   "source": [
    "messy_names.str.replace(\";\",\"\").str.strip().str.capitalize()"
   ]
  },
  {
   "cell_type": "markdown",
   "id": "14d840c1-d7e0-4400-a78d-3540f3a21330",
   "metadata": {},
   "source": [
    "## Alternative with Custom apply() call"
   ]
  },
  {
   "cell_type": "code",
   "execution_count": 18,
   "id": "13287299-92af-4ffa-836d-8bd6e1fcbc0d",
   "metadata": {},
   "outputs": [],
   "source": [
    "def cleanup(name):\n",
    "    name = name.replace(\";\",\"\")\n",
    "    name = name.strip()\n",
    "    name = name.capitalize()\n",
    "    return name"
   ]
  },
  {
   "cell_type": "code",
   "execution_count": 19,
   "id": "8170574a-b222-415a-8a7f-173f337150dc",
   "metadata": {},
   "outputs": [
    {
     "data": {
      "text/plain": [
       "0    Andrew\n",
       "1      Bobo\n",
       "2    Claire\n",
       "dtype: object"
      ]
     },
     "execution_count": 19,
     "metadata": {},
     "output_type": "execute_result"
    }
   ],
   "source": [
    "names = messy_names.apply(cleanup)\n",
    "names"
   ]
  },
  {
   "cell_type": "code",
   "execution_count": null,
   "id": "7c982b31-5694-402f-9e75-f4352dc2e687",
   "metadata": {},
   "outputs": [],
   "source": []
  }
 ],
 "metadata": {
  "kernelspec": {
   "display_name": "Python 3 (ipykernel)",
   "language": "python",
   "name": "python3"
  },
  "language_info": {
   "codemirror_mode": {
    "name": "ipython",
    "version": 3
   },
   "file_extension": ".py",
   "mimetype": "text/x-python",
   "name": "python",
   "nbconvert_exporter": "python",
   "pygments_lexer": "ipython3",
   "version": "3.8.8"
  }
 },
 "nbformat": 4,
 "nbformat_minor": 5
}
