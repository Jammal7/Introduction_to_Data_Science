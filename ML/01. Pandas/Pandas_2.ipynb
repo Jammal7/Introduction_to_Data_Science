{
 "cells": [
  {
   "cell_type": "code",
   "execution_count": 1,
   "id": "6914fbdb-2aaa-47d3-862a-be411411935d",
   "metadata": {},
   "outputs": [],
   "source": [
    "import pandas as pd\n",
    "import numpy as np"
   ]
  },
  {
   "cell_type": "markdown",
   "id": "13041e0e-ea76-4d0a-bba9-c82e6881fa86",
   "metadata": {},
   "source": [
    "# Text Methods"
   ]
  },
  {
   "cell_type": "code",
   "execution_count": 2,
   "id": "643263a7-7d89-493d-bdf0-7a3c9712201a",
   "metadata": {},
   "outputs": [
    {
     "data": {
      "text/plain": [
       "'Hello'"
      ]
     },
     "execution_count": 2,
     "metadata": {},
     "output_type": "execute_result"
    }
   ],
   "source": [
    "mystring = 'hello'\n",
    "mystring.capitalize()"
   ]
  },
  {
   "cell_type": "code",
   "execution_count": 3,
   "id": "715189be-c717-43bf-90c0-424066d2b8cd",
   "metadata": {},
   "outputs": [
    {
     "data": {
      "text/plain": [
       "False"
      ]
     },
     "execution_count": 3,
     "metadata": {},
     "output_type": "execute_result"
    }
   ],
   "source": [
    "mystring.isdigit()"
   ]
  },
  {
   "cell_type": "code",
   "execution_count": 4,
   "id": "14910b13-a7ee-41f6-b2fd-c5243dc4c060",
   "metadata": {},
   "outputs": [],
   "source": [
    "#help(str)"
   ]
  },
  {
   "cell_type": "markdown",
   "id": "07f5a9dc-ea89-4bbd-88e9-c94d1b823bcd",
   "metadata": {},
   "source": [
    "## Text Methods on Pandas String Column\n",
    "\n",
    "Pandas can do a lot more than what we show here. Full online documentation on things like advanced string indexing and regular expressions with pandas can be found here: https://pandas.pydata.org/docs/user_guide/text.html"
   ]
  },
  {
   "cell_type": "code",
   "execution_count": 5,
   "id": "c747079e-3252-4b09-af62-77f2df422331",
   "metadata": {},
   "outputs": [
    {
     "data": {
      "text/plain": [
       "0    andrew\n",
       "1      bobo\n",
       "2    claire\n",
       "3     david\n",
       "4         4\n",
       "dtype: object"
      ]
     },
     "execution_count": 5,
     "metadata": {},
     "output_type": "execute_result"
    }
   ],
   "source": [
    "names = pd.Series(['andrew','bobo','claire','david','4'])\n",
    "names"
   ]
  },
  {
   "cell_type": "code",
   "execution_count": 6,
   "id": "cb026e57-eab7-4298-9ece-e8198f920a8a",
   "metadata": {},
   "outputs": [
    {
     "data": {
      "text/plain": [
       "0    Andrew\n",
       "1      Bobo\n",
       "2    Claire\n",
       "3     David\n",
       "4         4\n",
       "dtype: object"
      ]
     },
     "execution_count": 6,
     "metadata": {},
     "output_type": "execute_result"
    }
   ],
   "source": [
    "names.str.capitalize()"
   ]
  },
  {
   "cell_type": "code",
   "execution_count": 7,
   "id": "99a83a6a-e7ef-4bfd-8a70-71ecaa8e76bd",
   "metadata": {},
   "outputs": [
    {
     "data": {
      "text/plain": [
       "0    False\n",
       "1    False\n",
       "2    False\n",
       "3    False\n",
       "4     True\n",
       "dtype: bool"
      ]
     },
     "execution_count": 7,
     "metadata": {},
     "output_type": "execute_result"
    }
   ],
   "source": [
    "names.str.isdigit()"
   ]
  },
  {
   "cell_type": "markdown",
   "id": "4eabcabf-8297-48bf-945d-6ff870ba7825",
   "metadata": {},
   "source": [
    "## Splitting , Grabbing, and Expanding"
   ]
  },
  {
   "cell_type": "code",
   "execution_count": 8,
   "id": "8fde58c1-6b29-4d19-bc88-78ffffa98f20",
   "metadata": {},
   "outputs": [
    {
     "data": {
      "text/plain": [
       "2"
      ]
     },
     "execution_count": 8,
     "metadata": {},
     "output_type": "execute_result"
    }
   ],
   "source": [
    "tech_finance = ['GOOG,APPL,AMZN','JPM,BAC,GS']\n",
    "len(tech_finance)"
   ]
  },
  {
   "cell_type": "code",
   "execution_count": 9,
   "id": "bece0c0e-089f-4224-8dbb-bba29d4b779b",
   "metadata": {},
   "outputs": [
    {
     "data": {
      "text/plain": [
       "0    GOOG,APPL,AMZN\n",
       "1        JPM,BAC,GS\n",
       "dtype: object"
      ]
     },
     "execution_count": 9,
     "metadata": {},
     "output_type": "execute_result"
    }
   ],
   "source": [
    "tickers = pd.Series(tech_finance)\n",
    "tickers"
   ]
  },
  {
   "cell_type": "code",
   "execution_count": 10,
   "id": "cf562209-ed2a-46c2-bb53-b8041a0579a7",
   "metadata": {},
   "outputs": [
    {
     "data": {
      "text/plain": [
       "0    [GOOG, APPL, AMZN]\n",
       "1        [JPM, BAC, GS]\n",
       "dtype: object"
      ]
     },
     "execution_count": 10,
     "metadata": {},
     "output_type": "execute_result"
    }
   ],
   "source": [
    "tickers.str.split(',')"
   ]
  },
  {
   "cell_type": "code",
   "execution_count": 11,
   "id": "99844b96-ca3e-47cb-8914-f2aaf33fb9af",
   "metadata": {},
   "outputs": [
    {
     "data": {
      "text/plain": [
       "0    GOOG\n",
       "1     JPM\n",
       "dtype: object"
      ]
     },
     "execution_count": 11,
     "metadata": {},
     "output_type": "execute_result"
    }
   ],
   "source": [
    "tickers.str.split(',').str[0]"
   ]
  },
  {
   "cell_type": "code",
   "execution_count": 12,
   "id": "badf3063-728b-452f-a020-ef6fcb72803f",
   "metadata": {},
   "outputs": [
    {
     "data": {
      "text/html": [
       "<div>\n",
       "<style scoped>\n",
       "    .dataframe tbody tr th:only-of-type {\n",
       "        vertical-align: middle;\n",
       "    }\n",
       "\n",
       "    .dataframe tbody tr th {\n",
       "        vertical-align: top;\n",
       "    }\n",
       "\n",
       "    .dataframe thead th {\n",
       "        text-align: right;\n",
       "    }\n",
       "</style>\n",
       "<table border=\"1\" class=\"dataframe\">\n",
       "  <thead>\n",
       "    <tr style=\"text-align: right;\">\n",
       "      <th></th>\n",
       "      <th>0</th>\n",
       "      <th>1</th>\n",
       "      <th>2</th>\n",
       "    </tr>\n",
       "  </thead>\n",
       "  <tbody>\n",
       "    <tr>\n",
       "      <th>0</th>\n",
       "      <td>GOOG</td>\n",
       "      <td>APPL</td>\n",
       "      <td>AMZN</td>\n",
       "    </tr>\n",
       "    <tr>\n",
       "      <th>1</th>\n",
       "      <td>JPM</td>\n",
       "      <td>BAC</td>\n",
       "      <td>GS</td>\n",
       "    </tr>\n",
       "  </tbody>\n",
       "</table>\n",
       "</div>"
      ],
      "text/plain": [
       "      0     1     2\n",
       "0  GOOG  APPL  AMZN\n",
       "1   JPM   BAC    GS"
      ]
     },
     "execution_count": 12,
     "metadata": {},
     "output_type": "execute_result"
    }
   ],
   "source": [
    "tickers.str.split(',',expand=True)"
   ]
  },
  {
   "cell_type": "markdown",
   "id": "04840273-de6c-4779-a59a-b6208728f13b",
   "metadata": {},
   "source": [
    "## Cleaning or Editing Strings"
   ]
  },
  {
   "cell_type": "code",
   "execution_count": 13,
   "id": "dbee8d4f-0cf1-495c-b7e8-7ff67b419c12",
   "metadata": {},
   "outputs": [
    {
     "data": {
      "text/plain": [
       "0      andrew  \n",
       "1         bo;bo\n",
       "2      claire  \n",
       "dtype: object"
      ]
     },
     "execution_count": 13,
     "metadata": {},
     "output_type": "execute_result"
    }
   ],
   "source": [
    "messy_names = pd.Series([\"andrew  \",\"bo;bo\",\"  claire  \"])\n",
    "messy_names"
   ]
  },
  {
   "cell_type": "code",
   "execution_count": 14,
   "id": "84bf4459-0a3f-444e-a7e4-ee253a684203",
   "metadata": {},
   "outputs": [
    {
     "data": {
      "text/plain": [
       "0      andrew  \n",
       "1          bobo\n",
       "2      claire  \n",
       "dtype: object"
      ]
     },
     "execution_count": 14,
     "metadata": {},
     "output_type": "execute_result"
    }
   ],
   "source": [
    "messy_names.str.replace(\";\",\"\")"
   ]
  },
  {
   "cell_type": "code",
   "execution_count": 15,
   "id": "0721d7f1-3944-4cde-8b67-5942a692422b",
   "metadata": {},
   "outputs": [
    {
     "data": {
      "text/plain": [
       "0    andrew\n",
       "1     bo;bo\n",
       "2    claire\n",
       "dtype: object"
      ]
     },
     "execution_count": 15,
     "metadata": {},
     "output_type": "execute_result"
    }
   ],
   "source": [
    "messy_names.str.strip()"
   ]
  },
  {
   "cell_type": "code",
   "execution_count": 16,
   "id": "2659e796-d018-4ece-8068-e3ba708e234c",
   "metadata": {},
   "outputs": [
    {
     "data": {
      "text/plain": [
       "0    andrew\n",
       "1      bobo\n",
       "2    claire\n",
       "dtype: object"
      ]
     },
     "execution_count": 16,
     "metadata": {},
     "output_type": "execute_result"
    }
   ],
   "source": [
    "messy_names.str.replace(\";\",\"\").str.strip()"
   ]
  },
  {
   "cell_type": "code",
   "execution_count": 17,
   "id": "76f18d69-71ef-4f52-b62a-d962827f7c88",
   "metadata": {},
   "outputs": [
    {
     "data": {
      "text/plain": [
       "0    Andrew\n",
       "1      Bobo\n",
       "2    Claire\n",
       "dtype: object"
      ]
     },
     "execution_count": 17,
     "metadata": {},
     "output_type": "execute_result"
    }
   ],
   "source": [
    "messy_names.str.replace(\";\",\"\").str.strip().str.capitalize()"
   ]
  },
  {
   "cell_type": "markdown",
   "id": "14d840c1-d7e0-4400-a78d-3540f3a21330",
   "metadata": {},
   "source": [
    "## Alternative with Custom apply() call"
   ]
  },
  {
   "cell_type": "code",
   "execution_count": 18,
   "id": "13287299-92af-4ffa-836d-8bd6e1fcbc0d",
   "metadata": {},
   "outputs": [],
   "source": [
    "def cleanup(name):\n",
    "    name = name.replace(\";\",\"\")\n",
    "    name = name.strip()\n",
    "    name = name.capitalize()\n",
    "    return name"
   ]
  },
  {
   "cell_type": "code",
   "execution_count": 19,
   "id": "8170574a-b222-415a-8a7f-173f337150dc",
   "metadata": {},
   "outputs": [
    {
     "data": {
      "text/plain": [
       "0    Andrew\n",
       "1      Bobo\n",
       "2    Claire\n",
       "dtype: object"
      ]
     },
     "execution_count": 19,
     "metadata": {},
     "output_type": "execute_result"
    }
   ],
   "source": [
    "names = messy_names.apply(cleanup)\n",
    "names"
   ]
  },
  {
   "cell_type": "markdown",
   "id": "4a8cdf56-f6fc-4ad5-85f0-8abd65b5ba25",
   "metadata": {},
   "source": [
    "## Time Methods for Date and Time Data"
   ]
  },
  {
   "cell_type": "code",
   "execution_count": 20,
   "id": "1a96296c-9fde-47d0-a546-a0c6cdd6f12c",
   "metadata": {},
   "outputs": [],
   "source": [
    "from datetime import datetime"
   ]
  },
  {
   "cell_type": "code",
   "execution_count": 21,
   "id": "c8b48dff-ccc0-4c23-a03b-f37e541ae352",
   "metadata": {},
   "outputs": [
    {
     "data": {
      "text/plain": [
       "0    Nov 3, 1990\n",
       "1     1998-02-13\n",
       "2           None\n",
       "dtype: object"
      ]
     },
     "execution_count": 21,
     "metadata": {},
     "output_type": "execute_result"
    }
   ],
   "source": [
    "# Converting Series to datetime using pandas\n",
    "myser = pd.Series(['Nov 3, 1990', '1998-02-13', None])\n",
    "myser"
   ]
  },
  {
   "cell_type": "code",
   "execution_count": 23,
   "id": "4d0484f0-7632-4d75-b319-6b2559afeb44",
   "metadata": {},
   "outputs": [
    {
     "data": {
      "text/plain": [
       "0   1990-11-03\n",
       "1   1998-02-13\n",
       "2          NaT\n",
       "dtype: datetime64[ns]"
      ]
     },
     "execution_count": 23,
     "metadata": {},
     "output_type": "execute_result"
    }
   ],
   "source": [
    "timeser = pd.to_datetime(myser)\n",
    "timeser"
   ]
  },
  {
   "cell_type": "code",
   "execution_count": 24,
   "id": "c52f457a-c58c-4c6a-9872-f0573a746f94",
   "metadata": {},
   "outputs": [
    {
     "data": {
      "text/plain": [
       "1998"
      ]
     },
     "execution_count": 24,
     "metadata": {},
     "output_type": "execute_result"
    }
   ],
   "source": [
    "timeser[1].year"
   ]
  },
  {
   "cell_type": "code",
   "execution_count": 25,
   "id": "6d310cbf-91a5-4e59-833b-eec2ae2a8472",
   "metadata": {},
   "outputs": [
    {
     "name": "stderr",
     "output_type": "stream",
     "text": [
      "C:\\Users\\oabas\\AppData\\Local\\Temp\\ipykernel_14400\\226089597.py:2: UserWarning: Parsing '31-12-2000' in DD/MM/YYYY format. Provide format or specify infer_datetime_format=True for consistent parsing.\n",
      "  pd.to_datetime(euro_date)\n"
     ]
    },
    {
     "data": {
      "text/plain": [
       "Timestamp('2000-12-31 00:00:00')"
      ]
     },
     "execution_count": 25,
     "metadata": {},
     "output_type": "execute_result"
    }
   ],
   "source": [
    "euro_date = '31-12-2000'\n",
    "pd.to_datetime(euro_date)"
   ]
  },
  {
   "cell_type": "code",
   "execution_count": 26,
   "id": "e6e255ee-11bb-4605-a940-c016c0cd96fc",
   "metadata": {},
   "outputs": [
    {
     "data": {
      "text/plain": [
       "Timestamp('2000-10-12 00:00:00')"
      ]
     },
     "execution_count": 26,
     "metadata": {},
     "output_type": "execute_result"
    }
   ],
   "source": [
    "# 10th of Dec OR 12th of October?\n",
    "# We may need to tell pandas\n",
    "\n",
    "euro_date = '10-12-2000'\n",
    "\n",
    "# to make sure the day comes first\n",
    "pd.to_datetime(euro_date, dayfirst=True)"
   ]
  },
  {
   "cell_type": "markdown",
   "id": "89b7e677-c99b-4dcd-8b29-b37cc31a7493",
   "metadata": {},
   "source": [
    "### Custom Time String Formatting\n",
    "\n",
    "Sometimes dates can have a non standard format, luckily you can always specify to pandas the format. You should also note this could speed up the conversion, so it may be worth doing even if pandas can parse on its own. A full table of codes can be found here: https://docs.python.org/3/library/datetime.html#strftime-and-strptime-format-codes"
   ]
  },
  {
   "cell_type": "code",
   "execution_count": 27,
   "id": "b681c950-de29-4eee-9123-766c85afd5f1",
   "metadata": {},
   "outputs": [
    {
     "data": {
      "text/plain": [
       "Timestamp('2000-12-12 00:00:00')"
      ]
     },
     "execution_count": 27,
     "metadata": {},
     "output_type": "execute_result"
    }
   ],
   "source": [
    "style_date = '12--Dec--2000'\n",
    "pd.to_datetime(style_date, format='%d--%b--%Y')"
   ]
  },
  {
   "cell_type": "code",
   "execution_count": 28,
   "id": "dfbabee7-f791-472e-a747-4a647820338a",
   "metadata": {},
   "outputs": [
    {
     "data": {
      "text/plain": [
       "Timestamp('2000-12-12 00:00:00')"
      ]
     },
     "execution_count": 28,
     "metadata": {},
     "output_type": "execute_result"
    }
   ],
   "source": [
    "strange_date = '12th of Dec 2000'\n",
    "pd.to_datetime(strange_date)"
   ]
  },
  {
   "cell_type": "markdown",
   "id": "f982d446-8cfd-42f0-aa60-2c56c0f4fa3d",
   "metadata": {},
   "source": [
    "### Data\n",
    "\n",
    "Retail Sales: Beer, Wine, and Liquor Stores\n",
    "\n",
    "Units:  Millions of Dollars, Not Seasonally Adjusted\n",
    "\n",
    "Frequency:  Monthly\n",
    "\n",
    "\n",
    "U.S. Census Bureau, Retail Sales: Beer, Wine, and Liquor Stores [MRTSSM4453USN], retrieved from FRED, Federal Reserve Bank of St. Louis; https://fred.stlouisfed.org/series/MRTSSM4453USN, July 2, 2020."
   ]
  },
  {
   "cell_type": "code",
   "execution_count": 29,
   "id": "6eeaaea8-35c3-4935-bd53-a67f96e04cab",
   "metadata": {},
   "outputs": [
    {
     "data": {
      "text/html": [
       "<div>\n",
       "<style scoped>\n",
       "    .dataframe tbody tr th:only-of-type {\n",
       "        vertical-align: middle;\n",
       "    }\n",
       "\n",
       "    .dataframe tbody tr th {\n",
       "        vertical-align: top;\n",
       "    }\n",
       "\n",
       "    .dataframe thead th {\n",
       "        text-align: right;\n",
       "    }\n",
       "</style>\n",
       "<table border=\"1\" class=\"dataframe\">\n",
       "  <thead>\n",
       "    <tr style=\"text-align: right;\">\n",
       "      <th></th>\n",
       "      <th>DATE</th>\n",
       "      <th>MRTSSM4453USN</th>\n",
       "    </tr>\n",
       "  </thead>\n",
       "  <tbody>\n",
       "    <tr>\n",
       "      <th>0</th>\n",
       "      <td>1992-01-01</td>\n",
       "      <td>1509</td>\n",
       "    </tr>\n",
       "    <tr>\n",
       "      <th>1</th>\n",
       "      <td>1992-02-01</td>\n",
       "      <td>1541</td>\n",
       "    </tr>\n",
       "    <tr>\n",
       "      <th>2</th>\n",
       "      <td>1992-03-01</td>\n",
       "      <td>1597</td>\n",
       "    </tr>\n",
       "    <tr>\n",
       "      <th>3</th>\n",
       "      <td>1992-04-01</td>\n",
       "      <td>1675</td>\n",
       "    </tr>\n",
       "    <tr>\n",
       "      <th>4</th>\n",
       "      <td>1992-05-01</td>\n",
       "      <td>1822</td>\n",
       "    </tr>\n",
       "  </tbody>\n",
       "</table>\n",
       "</div>"
      ],
      "text/plain": [
       "         DATE  MRTSSM4453USN\n",
       "0  1992-01-01           1509\n",
       "1  1992-02-01           1541\n",
       "2  1992-03-01           1597\n",
       "3  1992-04-01           1675\n",
       "4  1992-05-01           1822"
      ]
     },
     "execution_count": 29,
     "metadata": {},
     "output_type": "execute_result"
    }
   ],
   "source": [
    "sales = pd.read_csv('../Data/RetailSales_BeerWineLiquor.csv')\n",
    "sales.head()"
   ]
  },
  {
   "cell_type": "code",
   "execution_count": 30,
   "id": "b70e82c6-2c79-472e-b235-d28aa5e3e145",
   "metadata": {},
   "outputs": [
    {
     "data": {
      "text/plain": [
       "'1992-01-01'"
      ]
     },
     "execution_count": 30,
     "metadata": {},
     "output_type": "execute_result"
    }
   ],
   "source": [
    "sales.iloc[0]['DATE']"
   ]
  },
  {
   "cell_type": "code",
   "execution_count": 31,
   "id": "bacc4196-de35-4c2d-b387-e9bd5e124dd4",
   "metadata": {},
   "outputs": [
    {
     "data": {
      "text/plain": [
       "str"
      ]
     },
     "execution_count": 31,
     "metadata": {},
     "output_type": "execute_result"
    }
   ],
   "source": [
    "type(sales.iloc[0]['DATE'])"
   ]
  },
  {
   "cell_type": "code",
   "execution_count": 32,
   "id": "82845ec6-9d88-4e41-80ee-187cb79081a1",
   "metadata": {},
   "outputs": [
    {
     "data": {
      "text/html": [
       "<div>\n",
       "<style scoped>\n",
       "    .dataframe tbody tr th:only-of-type {\n",
       "        vertical-align: middle;\n",
       "    }\n",
       "\n",
       "    .dataframe tbody tr th {\n",
       "        vertical-align: top;\n",
       "    }\n",
       "\n",
       "    .dataframe thead th {\n",
       "        text-align: right;\n",
       "    }\n",
       "</style>\n",
       "<table border=\"1\" class=\"dataframe\">\n",
       "  <thead>\n",
       "    <tr style=\"text-align: right;\">\n",
       "      <th></th>\n",
       "      <th>DATE</th>\n",
       "      <th>MRTSSM4453USN</th>\n",
       "    </tr>\n",
       "  </thead>\n",
       "  <tbody>\n",
       "    <tr>\n",
       "      <th>0</th>\n",
       "      <td>1992-01-01</td>\n",
       "      <td>1509</td>\n",
       "    </tr>\n",
       "    <tr>\n",
       "      <th>1</th>\n",
       "      <td>1992-02-01</td>\n",
       "      <td>1541</td>\n",
       "    </tr>\n",
       "    <tr>\n",
       "      <th>2</th>\n",
       "      <td>1992-03-01</td>\n",
       "      <td>1597</td>\n",
       "    </tr>\n",
       "    <tr>\n",
       "      <th>3</th>\n",
       "      <td>1992-04-01</td>\n",
       "      <td>1675</td>\n",
       "    </tr>\n",
       "    <tr>\n",
       "      <th>4</th>\n",
       "      <td>1992-05-01</td>\n",
       "      <td>1822</td>\n",
       "    </tr>\n",
       "  </tbody>\n",
       "</table>\n",
       "</div>"
      ],
      "text/plain": [
       "        DATE  MRTSSM4453USN\n",
       "0 1992-01-01           1509\n",
       "1 1992-02-01           1541\n",
       "2 1992-03-01           1597\n",
       "3 1992-04-01           1675\n",
       "4 1992-05-01           1822"
      ]
     },
     "execution_count": 32,
     "metadata": {},
     "output_type": "execute_result"
    }
   ],
   "source": [
    "# Convert the date column to datetime\n",
    "sales['DATE'] = pd.to_datetime(sales['DATE'])\n",
    "sales.head()"
   ]
  },
  {
   "cell_type": "code",
   "execution_count": 33,
   "id": "8726d847-d8b0-4062-8ef8-204380fa8f4e",
   "metadata": {},
   "outputs": [
    {
     "data": {
      "text/plain": [
       "Timestamp('1992-01-01 00:00:00')"
      ]
     },
     "execution_count": 33,
     "metadata": {},
     "output_type": "execute_result"
    }
   ],
   "source": [
    "sales.iloc[0]['DATE']"
   ]
  },
  {
   "cell_type": "code",
   "execution_count": 34,
   "id": "bb5d9528-bdf7-40ea-a9a9-455cdc561331",
   "metadata": {},
   "outputs": [
    {
     "data": {
      "text/plain": [
       "pandas._libs.tslibs.timestamps.Timestamp"
      ]
     },
     "execution_count": 34,
     "metadata": {},
     "output_type": "execute_result"
    }
   ],
   "source": [
    "type(sales.iloc[0]['DATE'])"
   ]
  },
  {
   "cell_type": "markdown",
   "id": "7b10e76b-2bd4-4424-a577-d6bedeea8e6e",
   "metadata": {},
   "source": [
    "#### Attempt to Parse Dates Automatically"
   ]
  },
  {
   "cell_type": "code",
   "execution_count": 35,
   "id": "fa6021e6-8a93-4021-9c83-cb3179e41814",
   "metadata": {},
   "outputs": [
    {
     "data": {
      "text/html": [
       "<div>\n",
       "<style scoped>\n",
       "    .dataframe tbody tr th:only-of-type {\n",
       "        vertical-align: middle;\n",
       "    }\n",
       "\n",
       "    .dataframe tbody tr th {\n",
       "        vertical-align: top;\n",
       "    }\n",
       "\n",
       "    .dataframe thead th {\n",
       "        text-align: right;\n",
       "    }\n",
       "</style>\n",
       "<table border=\"1\" class=\"dataframe\">\n",
       "  <thead>\n",
       "    <tr style=\"text-align: right;\">\n",
       "      <th></th>\n",
       "      <th>DATE</th>\n",
       "      <th>MRTSSM4453USN</th>\n",
       "    </tr>\n",
       "  </thead>\n",
       "  <tbody>\n",
       "    <tr>\n",
       "      <th>0</th>\n",
       "      <td>1992-01-01</td>\n",
       "      <td>1509</td>\n",
       "    </tr>\n",
       "    <tr>\n",
       "      <th>1</th>\n",
       "      <td>1992-02-01</td>\n",
       "      <td>1541</td>\n",
       "    </tr>\n",
       "    <tr>\n",
       "      <th>2</th>\n",
       "      <td>1992-03-01</td>\n",
       "      <td>1597</td>\n",
       "    </tr>\n",
       "    <tr>\n",
       "      <th>3</th>\n",
       "      <td>1992-04-01</td>\n",
       "      <td>1675</td>\n",
       "    </tr>\n",
       "    <tr>\n",
       "      <th>4</th>\n",
       "      <td>1992-05-01</td>\n",
       "      <td>1822</td>\n",
       "    </tr>\n",
       "  </tbody>\n",
       "</table>\n",
       "</div>"
      ],
      "text/plain": [
       "        DATE  MRTSSM4453USN\n",
       "0 1992-01-01           1509\n",
       "1 1992-02-01           1541\n",
       "2 1992-03-01           1597\n",
       "3 1992-04-01           1675\n",
       "4 1992-05-01           1822"
      ]
     },
     "execution_count": 35,
     "metadata": {},
     "output_type": "execute_result"
    }
   ],
   "source": [
    "sales = pd.read_csv('../Data/RetailSales_BeerWineLiquor.csv', parse_dates=[0])\n",
    "sales.head()"
   ]
  },
  {
   "cell_type": "code",
   "execution_count": 37,
   "id": "125dac65-5435-48f8-8437-5e85785e3c6f",
   "metadata": {},
   "outputs": [
    {
     "data": {
      "text/plain": [
       "pandas._libs.tslibs.timestamps.Timestamp"
      ]
     },
     "execution_count": 37,
     "metadata": {},
     "output_type": "execute_result"
    }
   ],
   "source": [
    "type(sales.iloc[0]['DATE'])"
   ]
  },
  {
   "cell_type": "markdown",
   "id": "99916f8d-1906-4bac-be0b-e8483d472376",
   "metadata": {},
   "source": [
    "#### Resample\n",
    "\n",
    "\n",
    "A common operation with time series data is resampling based on the time series index. Let's see how to use the resample() method. [[reference](https://pandas.pydata.org/pandas-docs/stable/generated/pandas.DataFrame.resample.html)]"
   ]
  },
  {
   "cell_type": "code",
   "execution_count": 38,
   "id": "1232469f-6308-4e09-baaa-f15cf294fd88",
   "metadata": {},
   "outputs": [
    {
     "data": {
      "text/plain": [
       "RangeIndex(start=0, stop=340, step=1)"
      ]
     },
     "execution_count": 38,
     "metadata": {},
     "output_type": "execute_result"
    }
   ],
   "source": [
    "# Our index\n",
    "sales.index"
   ]
  },
  {
   "cell_type": "code",
   "execution_count": 39,
   "id": "fc33c355-48bd-425e-85bf-e314dd8315a5",
   "metadata": {},
   "outputs": [
    {
     "data": {
      "text/html": [
       "<div>\n",
       "<style scoped>\n",
       "    .dataframe tbody tr th:only-of-type {\n",
       "        vertical-align: middle;\n",
       "    }\n",
       "\n",
       "    .dataframe tbody tr th {\n",
       "        vertical-align: top;\n",
       "    }\n",
       "\n",
       "    .dataframe thead th {\n",
       "        text-align: right;\n",
       "    }\n",
       "</style>\n",
       "<table border=\"1\" class=\"dataframe\">\n",
       "  <thead>\n",
       "    <tr style=\"text-align: right;\">\n",
       "      <th></th>\n",
       "      <th>MRTSSM4453USN</th>\n",
       "    </tr>\n",
       "    <tr>\n",
       "      <th>DATE</th>\n",
       "      <th></th>\n",
       "    </tr>\n",
       "  </thead>\n",
       "  <tbody>\n",
       "    <tr>\n",
       "      <th>1992-01-01</th>\n",
       "      <td>1509</td>\n",
       "    </tr>\n",
       "    <tr>\n",
       "      <th>1992-02-01</th>\n",
       "      <td>1541</td>\n",
       "    </tr>\n",
       "    <tr>\n",
       "      <th>1992-03-01</th>\n",
       "      <td>1597</td>\n",
       "    </tr>\n",
       "    <tr>\n",
       "      <th>1992-04-01</th>\n",
       "      <td>1675</td>\n",
       "    </tr>\n",
       "    <tr>\n",
       "      <th>1992-05-01</th>\n",
       "      <td>1822</td>\n",
       "    </tr>\n",
       "  </tbody>\n",
       "</table>\n",
       "</div>"
      ],
      "text/plain": [
       "            MRTSSM4453USN\n",
       "DATE                     \n",
       "1992-01-01           1509\n",
       "1992-02-01           1541\n",
       "1992-03-01           1597\n",
       "1992-04-01           1675\n",
       "1992-05-01           1822"
      ]
     },
     "execution_count": 39,
     "metadata": {},
     "output_type": "execute_result"
    }
   ],
   "source": [
    "# Reset DATE to index\n",
    "sales = sales.set_index(\"DATE\")\n",
    "sales.head()"
   ]
  },
  {
   "cell_type": "code",
   "execution_count": 40,
   "id": "8e28d55e-1c06-4a30-8451-1b0eb22ff9b5",
   "metadata": {},
   "outputs": [
    {
     "data": {
      "text/html": [
       "<div>\n",
       "<style scoped>\n",
       "    .dataframe tbody tr th:only-of-type {\n",
       "        vertical-align: middle;\n",
       "    }\n",
       "\n",
       "    .dataframe tbody tr th {\n",
       "        vertical-align: top;\n",
       "    }\n",
       "\n",
       "    .dataframe thead th {\n",
       "        text-align: right;\n",
       "    }\n",
       "</style>\n",
       "<table border=\"1\" class=\"dataframe\">\n",
       "  <thead>\n",
       "    <tr style=\"text-align: right;\">\n",
       "      <th></th>\n",
       "      <th>MRTSSM4453USN</th>\n",
       "    </tr>\n",
       "    <tr>\n",
       "      <th>DATE</th>\n",
       "      <th></th>\n",
       "    </tr>\n",
       "  </thead>\n",
       "  <tbody>\n",
       "    <tr>\n",
       "      <th>1992-12-31</th>\n",
       "      <td>1807.250000</td>\n",
       "    </tr>\n",
       "    <tr>\n",
       "      <th>1993-12-31</th>\n",
       "      <td>1794.833333</td>\n",
       "    </tr>\n",
       "    <tr>\n",
       "      <th>1994-12-31</th>\n",
       "      <td>1841.750000</td>\n",
       "    </tr>\n",
       "    <tr>\n",
       "      <th>1995-12-31</th>\n",
       "      <td>1833.916667</td>\n",
       "    </tr>\n",
       "    <tr>\n",
       "      <th>1996-12-31</th>\n",
       "      <td>1929.750000</td>\n",
       "    </tr>\n",
       "    <tr>\n",
       "      <th>1997-12-31</th>\n",
       "      <td>2006.750000</td>\n",
       "    </tr>\n",
       "    <tr>\n",
       "      <th>1998-12-31</th>\n",
       "      <td>2115.166667</td>\n",
       "    </tr>\n",
       "    <tr>\n",
       "      <th>1999-12-31</th>\n",
       "      <td>2206.333333</td>\n",
       "    </tr>\n",
       "    <tr>\n",
       "      <th>2000-12-31</th>\n",
       "      <td>2375.583333</td>\n",
       "    </tr>\n",
       "    <tr>\n",
       "      <th>2001-12-31</th>\n",
       "      <td>2468.416667</td>\n",
       "    </tr>\n",
       "    <tr>\n",
       "      <th>2002-12-31</th>\n",
       "      <td>2491.166667</td>\n",
       "    </tr>\n",
       "    <tr>\n",
       "      <th>2003-12-31</th>\n",
       "      <td>2539.083333</td>\n",
       "    </tr>\n",
       "    <tr>\n",
       "      <th>2004-12-31</th>\n",
       "      <td>2682.416667</td>\n",
       "    </tr>\n",
       "    <tr>\n",
       "      <th>2005-12-31</th>\n",
       "      <td>2797.250000</td>\n",
       "    </tr>\n",
       "    <tr>\n",
       "      <th>2006-12-31</th>\n",
       "      <td>3001.333333</td>\n",
       "    </tr>\n",
       "    <tr>\n",
       "      <th>2007-12-31</th>\n",
       "      <td>3177.333333</td>\n",
       "    </tr>\n",
       "    <tr>\n",
       "      <th>2008-12-31</th>\n",
       "      <td>3292.000000</td>\n",
       "    </tr>\n",
       "    <tr>\n",
       "      <th>2009-12-31</th>\n",
       "      <td>3353.750000</td>\n",
       "    </tr>\n",
       "    <tr>\n",
       "      <th>2010-12-31</th>\n",
       "      <td>3450.083333</td>\n",
       "    </tr>\n",
       "    <tr>\n",
       "      <th>2011-12-31</th>\n",
       "      <td>3532.666667</td>\n",
       "    </tr>\n",
       "    <tr>\n",
       "      <th>2012-12-31</th>\n",
       "      <td>3697.083333</td>\n",
       "    </tr>\n",
       "    <tr>\n",
       "      <th>2013-12-31</th>\n",
       "      <td>3839.666667</td>\n",
       "    </tr>\n",
       "    <tr>\n",
       "      <th>2014-12-31</th>\n",
       "      <td>4023.833333</td>\n",
       "    </tr>\n",
       "    <tr>\n",
       "      <th>2015-12-31</th>\n",
       "      <td>4212.500000</td>\n",
       "    </tr>\n",
       "    <tr>\n",
       "      <th>2016-12-31</th>\n",
       "      <td>4434.416667</td>\n",
       "    </tr>\n",
       "    <tr>\n",
       "      <th>2017-12-31</th>\n",
       "      <td>4602.666667</td>\n",
       "    </tr>\n",
       "    <tr>\n",
       "      <th>2018-12-31</th>\n",
       "      <td>4830.666667</td>\n",
       "    </tr>\n",
       "    <tr>\n",
       "      <th>2019-12-31</th>\n",
       "      <td>4972.750000</td>\n",
       "    </tr>\n",
       "    <tr>\n",
       "      <th>2020-12-31</th>\n",
       "      <td>4922.500000</td>\n",
       "    </tr>\n",
       "  </tbody>\n",
       "</table>\n",
       "</div>"
      ],
      "text/plain": [
       "            MRTSSM4453USN\n",
       "DATE                     \n",
       "1992-12-31    1807.250000\n",
       "1993-12-31    1794.833333\n",
       "1994-12-31    1841.750000\n",
       "1995-12-31    1833.916667\n",
       "1996-12-31    1929.750000\n",
       "1997-12-31    2006.750000\n",
       "1998-12-31    2115.166667\n",
       "1999-12-31    2206.333333\n",
       "2000-12-31    2375.583333\n",
       "2001-12-31    2468.416667\n",
       "2002-12-31    2491.166667\n",
       "2003-12-31    2539.083333\n",
       "2004-12-31    2682.416667\n",
       "2005-12-31    2797.250000\n",
       "2006-12-31    3001.333333\n",
       "2007-12-31    3177.333333\n",
       "2008-12-31    3292.000000\n",
       "2009-12-31    3353.750000\n",
       "2010-12-31    3450.083333\n",
       "2011-12-31    3532.666667\n",
       "2012-12-31    3697.083333\n",
       "2013-12-31    3839.666667\n",
       "2014-12-31    4023.833333\n",
       "2015-12-31    4212.500000\n",
       "2016-12-31    4434.416667\n",
       "2017-12-31    4602.666667\n",
       "2018-12-31    4830.666667\n",
       "2019-12-31    4972.750000\n",
       "2020-12-31    4922.500000"
      ]
     },
     "execution_count": 40,
     "metadata": {},
     "output_type": "execute_result"
    }
   ],
   "source": [
    "# Yearly Means\n",
    "sales.resample(rule='A').mean()"
   ]
  },
  {
   "cell_type": "markdown",
   "id": "10094bfc-d340-41ed-a462-1653220b9a10",
   "metadata": {},
   "source": [
    "Resampling rule 'A' takes all of the data points in a given year, applies the aggregation function (in this case we calculate the mean), and reports the result as the last day of that year. Note 2020 in this data set was not complete."
   ]
  },
  {
   "cell_type": "markdown",
   "id": "bf0a9091-737b-42a0-96fd-0e0c7a8ad84c",
   "metadata": {},
   "source": [
    "When calling `.resample()` you first need to pass in a **rule** parameter, then you need to call some sort of aggregation function.\n",
    "\n",
    "The **rule** parameter describes the frequency with which to apply the aggregation function (daily, monthly, yearly, etc.)<br>\n",
    "It is passed in using an \"offset alias\" - refer to the table below. [[reference](http://pandas.pydata.org/pandas-docs/stable/user_guide/timeseries.html#offset-aliases)]\n",
    "\n",
    "The aggregation function is needed because, due to resampling, we need some sort of mathematical rule to join the rows (mean, sum, count, etc.)"
   ]
  },
  {
   "cell_type": "markdown",
   "id": "2e8ef4ef-de64-475e-be90-e1afa9d22d94",
   "metadata": {},
   "source": [
    "<table style=\"display: inline-block\">\n",
    "    <caption style=\"text-align: center\"><strong>TIME SERIES OFFSET ALIASES</strong></caption>\n",
    "<tr><th>ALIAS</th><th>DESCRIPTION</th></tr>\n",
    "<tr><td>B</td><td>business day frequency</td></tr>\n",
    "<tr><td>C</td><td>custom business day frequency (experimental)</td></tr>\n",
    "<tr><td>D</td><td>calendar day frequency</td></tr>\n",
    "<tr><td>W</td><td>weekly frequency</td></tr>\n",
    "<tr><td>M</td><td>month end frequency</td></tr>\n",
    "<tr><td>SM</td><td>semi-month end frequency (15th and end of month)</td></tr>\n",
    "<tr><td>BM</td><td>business month end frequency</td></tr>\n",
    "<tr><td>CBM</td><td>custom business month end frequency</td></tr>\n",
    "<tr><td>MS</td><td>month start frequency</td></tr>\n",
    "<tr><td>SMS</td><td>semi-month start frequency (1st and 15th)</td></tr>\n",
    "<tr><td>BMS</td><td>business month start frequency</td></tr>\n",
    "<tr><td>CBMS</td><td>custom business month start frequency</td></tr>\n",
    "<tr><td>Q</td><td>quarter end frequency</td></tr>\n",
    "<tr><td></td><td><font color=white>intentionally left blank</font></td></tr></table>\n",
    "\n",
    "<table style=\"display: inline-block; margin-left: 40px\">\n",
    "<caption style=\"text-align: center\"></caption>\n",
    "<tr><th>ALIAS</th><th>DESCRIPTION</th></tr>\n",
    "<tr><td>BQ</td><td>business quarter endfrequency</td></tr>\n",
    "<tr><td>QS</td><td>quarter start frequency</td></tr>\n",
    "<tr><td>BQS</td><td>business quarter start frequency</td></tr>\n",
    "<tr><td>A</td><td>year end frequency</td></tr>\n",
    "<tr><td>BA</td><td>business year end frequency</td></tr>\n",
    "<tr><td>AS</td><td>year start frequency</td></tr>\n",
    "<tr><td>BAS</td><td>business year start frequency</td></tr>\n",
    "<tr><td>BH</td><td>business hour frequency</td></tr>\n",
    "<tr><td>H</td><td>hourly frequency</td></tr>\n",
    "<tr><td>T, min</td><td>minutely frequency</td></tr>\n",
    "<tr><td>S</td><td>secondly frequency</td></tr>\n",
    "<tr><td>L, ms</td><td>milliseconds</td></tr>\n",
    "<tr><td>U, us</td><td>microseconds</td></tr>\n",
    "<tr><td>N</td><td>nanoseconds</td></tr></table>"
   ]
  },
  {
   "cell_type": "markdown",
   "id": "d8faf9a8-83b3-4294-8c9c-8f1e722dc830",
   "metadata": {},
   "source": [
    "#### .dt Method Calls\n",
    "\n",
    "Once a column or index is ina  datetime format, you can call a variety of methods off of the .dt library inside pandas:\n",
    "\n",
    "https://pandas.pydata.org/pandas-docs/stable/reference/api/pandas.Series.dt.html"
   ]
  },
  {
   "cell_type": "code",
   "execution_count": 41,
   "id": "57d16f24-8ae2-402e-acc7-195fb0dc9297",
   "metadata": {},
   "outputs": [
    {
     "data": {
      "text/html": [
       "<div>\n",
       "<style scoped>\n",
       "    .dataframe tbody tr th:only-of-type {\n",
       "        vertical-align: middle;\n",
       "    }\n",
       "\n",
       "    .dataframe tbody tr th {\n",
       "        vertical-align: top;\n",
       "    }\n",
       "\n",
       "    .dataframe thead th {\n",
       "        text-align: right;\n",
       "    }\n",
       "</style>\n",
       "<table border=\"1\" class=\"dataframe\">\n",
       "  <thead>\n",
       "    <tr style=\"text-align: right;\">\n",
       "      <th></th>\n",
       "      <th>DATE</th>\n",
       "      <th>MRTSSM4453USN</th>\n",
       "    </tr>\n",
       "  </thead>\n",
       "  <tbody>\n",
       "    <tr>\n",
       "      <th>0</th>\n",
       "      <td>1992-01-01</td>\n",
       "      <td>1509</td>\n",
       "    </tr>\n",
       "    <tr>\n",
       "      <th>1</th>\n",
       "      <td>1992-02-01</td>\n",
       "      <td>1541</td>\n",
       "    </tr>\n",
       "    <tr>\n",
       "      <th>2</th>\n",
       "      <td>1992-03-01</td>\n",
       "      <td>1597</td>\n",
       "    </tr>\n",
       "    <tr>\n",
       "      <th>3</th>\n",
       "      <td>1992-04-01</td>\n",
       "      <td>1675</td>\n",
       "    </tr>\n",
       "    <tr>\n",
       "      <th>4</th>\n",
       "      <td>1992-05-01</td>\n",
       "      <td>1822</td>\n",
       "    </tr>\n",
       "  </tbody>\n",
       "</table>\n",
       "</div>"
      ],
      "text/plain": [
       "        DATE  MRTSSM4453USN\n",
       "0 1992-01-01           1509\n",
       "1 1992-02-01           1541\n",
       "2 1992-03-01           1597\n",
       "3 1992-04-01           1675\n",
       "4 1992-05-01           1822"
      ]
     },
     "execution_count": 41,
     "metadata": {},
     "output_type": "execute_result"
    }
   ],
   "source": [
    "sales = sales.reset_index()\n",
    "sales.head()"
   ]
  },
  {
   "cell_type": "code",
   "execution_count": 42,
   "id": "8d9561f9-a962-4791-ac4a-5f09de4fc3ab",
   "metadata": {},
   "outputs": [
    {
     "data": {
      "text/plain": [
       "0       1\n",
       "1       2\n",
       "2       3\n",
       "3       4\n",
       "4       5\n",
       "       ..\n",
       "335    12\n",
       "336     1\n",
       "337     2\n",
       "338     3\n",
       "339     4\n",
       "Name: DATE, Length: 340, dtype: int64"
      ]
     },
     "execution_count": 42,
     "metadata": {},
     "output_type": "execute_result"
    }
   ],
   "source": [
    "sales['DATE'].dt.month"
   ]
  },
  {
   "cell_type": "code",
   "execution_count": 43,
   "id": "f8862a96-5a33-455d-89f8-3a2688e71b7e",
   "metadata": {},
   "outputs": [
    {
     "data": {
      "text/plain": [
       "0       True\n",
       "1       True\n",
       "2       True\n",
       "3       True\n",
       "4       True\n",
       "       ...  \n",
       "335    False\n",
       "336     True\n",
       "337     True\n",
       "338     True\n",
       "339     True\n",
       "Name: DATE, Length: 340, dtype: bool"
      ]
     },
     "execution_count": 43,
     "metadata": {},
     "output_type": "execute_result"
    }
   ],
   "source": [
    "sales['DATE'].dt.is_leap_year"
   ]
  },
  {
   "cell_type": "markdown",
   "id": "e8299786-3c88-420e-bd4a-1b3119c0b7f0",
   "metadata": {},
   "source": [
    "## Pivot Tables\n",
    "\n",
    "A dataframe with repeated values can be pivoted for reorganization and clarity. We choose columns to define the new index, columns and values. Pivot methods are mainly for data analysis,visualization, and exploration."
   ]
  },
  {
   "cell_type": "code",
   "execution_count": 44,
   "id": "f425fe7c-a651-4906-a61d-2e6117c3210b",
   "metadata": {},
   "outputs": [
    {
     "data": {
      "text/html": [
       "<div>\n",
       "<style scoped>\n",
       "    .dataframe tbody tr th:only-of-type {\n",
       "        vertical-align: middle;\n",
       "    }\n",
       "\n",
       "    .dataframe tbody tr th {\n",
       "        vertical-align: top;\n",
       "    }\n",
       "\n",
       "    .dataframe thead th {\n",
       "        text-align: right;\n",
       "    }\n",
       "</style>\n",
       "<table border=\"1\" class=\"dataframe\">\n",
       "  <thead>\n",
       "    <tr style=\"text-align: right;\">\n",
       "      <th></th>\n",
       "      <th>Account Number</th>\n",
       "      <th>Company</th>\n",
       "      <th>Contact</th>\n",
       "      <th>Account Manager</th>\n",
       "      <th>Product</th>\n",
       "      <th>Licenses</th>\n",
       "      <th>Sale Price</th>\n",
       "      <th>Status</th>\n",
       "    </tr>\n",
       "  </thead>\n",
       "  <tbody>\n",
       "    <tr>\n",
       "      <th>0</th>\n",
       "      <td>2123398</td>\n",
       "      <td>Google</td>\n",
       "      <td>Larry Pager</td>\n",
       "      <td>Edward Thorp</td>\n",
       "      <td>Analytics</td>\n",
       "      <td>150</td>\n",
       "      <td>2100000</td>\n",
       "      <td>Presented</td>\n",
       "    </tr>\n",
       "    <tr>\n",
       "      <th>1</th>\n",
       "      <td>2123398</td>\n",
       "      <td>Google</td>\n",
       "      <td>Larry Pager</td>\n",
       "      <td>Edward Thorp</td>\n",
       "      <td>Prediction</td>\n",
       "      <td>150</td>\n",
       "      <td>700000</td>\n",
       "      <td>Presented</td>\n",
       "    </tr>\n",
       "    <tr>\n",
       "      <th>2</th>\n",
       "      <td>2123398</td>\n",
       "      <td>Google</td>\n",
       "      <td>Larry Pager</td>\n",
       "      <td>Edward Thorp</td>\n",
       "      <td>Tracking</td>\n",
       "      <td>300</td>\n",
       "      <td>350000</td>\n",
       "      <td>Under Review</td>\n",
       "    </tr>\n",
       "    <tr>\n",
       "      <th>3</th>\n",
       "      <td>2192650</td>\n",
       "      <td>BOBO</td>\n",
       "      <td>Larry Pager</td>\n",
       "      <td>Edward Thorp</td>\n",
       "      <td>Analytics</td>\n",
       "      <td>150</td>\n",
       "      <td>2450000</td>\n",
       "      <td>Lost</td>\n",
       "    </tr>\n",
       "    <tr>\n",
       "      <th>4</th>\n",
       "      <td>420496</td>\n",
       "      <td>IKEA</td>\n",
       "      <td>Elon Tusk</td>\n",
       "      <td>Edward Thorp</td>\n",
       "      <td>Analytics</td>\n",
       "      <td>300</td>\n",
       "      <td>4550000</td>\n",
       "      <td>Won</td>\n",
       "    </tr>\n",
       "  </tbody>\n",
       "</table>\n",
       "</div>"
      ],
      "text/plain": [
       "   Account Number  Company      Contact Account Manager     Product  Licenses  \\\n",
       "0         2123398   Google  Larry Pager    Edward Thorp   Analytics       150   \n",
       "1         2123398   Google  Larry Pager    Edward Thorp  Prediction       150   \n",
       "2         2123398   Google  Larry Pager    Edward Thorp    Tracking       300   \n",
       "3         2192650     BOBO  Larry Pager    Edward Thorp   Analytics       150   \n",
       "4          420496     IKEA    Elon Tusk    Edward Thorp   Analytics       300   \n",
       "\n",
       "   Sale Price        Status  \n",
       "0     2100000     Presented  \n",
       "1      700000     Presented  \n",
       "2      350000  Under Review  \n",
       "3     2450000          Lost  \n",
       "4     4550000           Won  "
      ]
     },
     "execution_count": 44,
     "metadata": {},
     "output_type": "execute_result"
    }
   ],
   "source": [
    "df = pd.read_csv('../Data/Sales_Funnel_CRM.csv')\n",
    "df.head()"
   ]
  },
  {
   "cell_type": "markdown",
   "id": "5084e909-d471-47a4-b9a5-608532f7d45b",
   "metadata": {},
   "source": [
    "#### You should first go through this checklist BEFORE running a pivot():\n",
    "\n",
    "* What question are you trying to answer?\n",
    "* What would a dataframe that answers the question look like? Does it need a pivot()\n",
    "* What you want the resulting pivot to look like? Do you need all the original columns?"
   ]
  },
  {
   "cell_type": "code",
   "execution_count": 45,
   "id": "053b0bea-478a-4a6e-9972-fc8e01d7d643",
   "metadata": {},
   "outputs": [
    {
     "data": {
      "text/html": [
       "<div>\n",
       "<style scoped>\n",
       "    .dataframe tbody tr th:only-of-type {\n",
       "        vertical-align: middle;\n",
       "    }\n",
       "\n",
       "    .dataframe tbody tr th {\n",
       "        vertical-align: top;\n",
       "    }\n",
       "\n",
       "    .dataframe thead th {\n",
       "        text-align: right;\n",
       "    }\n",
       "</style>\n",
       "<table border=\"1\" class=\"dataframe\">\n",
       "  <thead>\n",
       "    <tr style=\"text-align: right;\">\n",
       "      <th></th>\n",
       "      <th>Account Number</th>\n",
       "      <th>Company</th>\n",
       "      <th>Contact</th>\n",
       "      <th>Account Manager</th>\n",
       "      <th>Product</th>\n",
       "      <th>Licenses</th>\n",
       "      <th>Sale Price</th>\n",
       "      <th>Status</th>\n",
       "    </tr>\n",
       "  </thead>\n",
       "  <tbody>\n",
       "    <tr>\n",
       "      <th>7</th>\n",
       "      <td>1216870</td>\n",
       "      <td>Microsoft</td>\n",
       "      <td>Will Grates</td>\n",
       "      <td>Edward Thorp</td>\n",
       "      <td>Tracking</td>\n",
       "      <td>300</td>\n",
       "      <td>350000</td>\n",
       "      <td>Under Review</td>\n",
       "    </tr>\n",
       "    <tr>\n",
       "      <th>8</th>\n",
       "      <td>2200450</td>\n",
       "      <td>Walmart</td>\n",
       "      <td>Will Grates</td>\n",
       "      <td>Edward Thorp</td>\n",
       "      <td>Analytics</td>\n",
       "      <td>150</td>\n",
       "      <td>2450000</td>\n",
       "      <td>Lost</td>\n",
       "    </tr>\n",
       "    <tr>\n",
       "      <th>9</th>\n",
       "      <td>405886</td>\n",
       "      <td>Apple</td>\n",
       "      <td>Cindy Phoner</td>\n",
       "      <td>Claude Shannon</td>\n",
       "      <td>Analytics</td>\n",
       "      <td>300</td>\n",
       "      <td>4550000</td>\n",
       "      <td>Won</td>\n",
       "    </tr>\n",
       "    <tr>\n",
       "      <th>10</th>\n",
       "      <td>470248</td>\n",
       "      <td>Exxon Mobile</td>\n",
       "      <td>Cindy Phoner</td>\n",
       "      <td>Claude Shannon</td>\n",
       "      <td>Analytics</td>\n",
       "      <td>150</td>\n",
       "      <td>2100000</td>\n",
       "      <td>Presented</td>\n",
       "    </tr>\n",
       "    <tr>\n",
       "      <th>11</th>\n",
       "      <td>698032</td>\n",
       "      <td>ATT</td>\n",
       "      <td>Cindy Phoner</td>\n",
       "      <td>Claude Shannon</td>\n",
       "      <td>Tracking</td>\n",
       "      <td>150</td>\n",
       "      <td>350000</td>\n",
       "      <td>Under Review</td>\n",
       "    </tr>\n",
       "    <tr>\n",
       "      <th>12</th>\n",
       "      <td>698032</td>\n",
       "      <td>ATT</td>\n",
       "      <td>Cindy Phoner</td>\n",
       "      <td>Claude Shannon</td>\n",
       "      <td>Prediction</td>\n",
       "      <td>150</td>\n",
       "      <td>700000</td>\n",
       "      <td>Presented</td>\n",
       "    </tr>\n",
       "    <tr>\n",
       "      <th>13</th>\n",
       "      <td>902797</td>\n",
       "      <td>CVS Health</td>\n",
       "      <td>Emma Gordian</td>\n",
       "      <td>Claude Shannon</td>\n",
       "      <td>Tracking</td>\n",
       "      <td>450</td>\n",
       "      <td>490000</td>\n",
       "      <td>Won</td>\n",
       "    </tr>\n",
       "    <tr>\n",
       "      <th>14</th>\n",
       "      <td>2046943</td>\n",
       "      <td>Salesforce</td>\n",
       "      <td>Emma Gordian</td>\n",
       "      <td>Claude Shannon</td>\n",
       "      <td>Analytics</td>\n",
       "      <td>750</td>\n",
       "      <td>7000000</td>\n",
       "      <td>Won</td>\n",
       "    </tr>\n",
       "    <tr>\n",
       "      <th>15</th>\n",
       "      <td>2169499</td>\n",
       "      <td>Cisco</td>\n",
       "      <td>Emma Gordian</td>\n",
       "      <td>Claude Shannon</td>\n",
       "      <td>Analytics</td>\n",
       "      <td>300</td>\n",
       "      <td>4550000</td>\n",
       "      <td>Lost</td>\n",
       "    </tr>\n",
       "    <tr>\n",
       "      <th>16</th>\n",
       "      <td>2169499</td>\n",
       "      <td>Cisco</td>\n",
       "      <td>Emma Gordian</td>\n",
       "      <td>Claude Shannon</td>\n",
       "      <td>GPS Positioning</td>\n",
       "      <td>300</td>\n",
       "      <td>350000</td>\n",
       "      <td>Presented</td>\n",
       "    </tr>\n",
       "  </tbody>\n",
       "</table>\n",
       "</div>"
      ],
      "text/plain": [
       "    Account Number       Company       Contact Account Manager  \\\n",
       "7          1216870     Microsoft   Will Grates    Edward Thorp   \n",
       "8          2200450       Walmart   Will Grates    Edward Thorp   \n",
       "9           405886         Apple  Cindy Phoner  Claude Shannon   \n",
       "10          470248  Exxon Mobile  Cindy Phoner  Claude Shannon   \n",
       "11          698032           ATT  Cindy Phoner  Claude Shannon   \n",
       "12          698032           ATT  Cindy Phoner  Claude Shannon   \n",
       "13          902797    CVS Health  Emma Gordian  Claude Shannon   \n",
       "14         2046943    Salesforce  Emma Gordian  Claude Shannon   \n",
       "15         2169499         Cisco  Emma Gordian  Claude Shannon   \n",
       "16         2169499         Cisco  Emma Gordian  Claude Shannon   \n",
       "\n",
       "            Product  Licenses  Sale Price        Status  \n",
       "7          Tracking       300      350000  Under Review  \n",
       "8         Analytics       150     2450000          Lost  \n",
       "9         Analytics       300     4550000           Won  \n",
       "10        Analytics       150     2100000     Presented  \n",
       "11         Tracking       150      350000  Under Review  \n",
       "12       Prediction       150      700000     Presented  \n",
       "13         Tracking       450      490000           Won  \n",
       "14        Analytics       750     7000000           Won  \n",
       "15        Analytics       300     4550000          Lost  \n",
       "16  GPS Positioning       300      350000     Presented  "
      ]
     },
     "execution_count": 45,
     "metadata": {},
     "output_type": "execute_result"
    }
   ],
   "source": [
    "df.tail(10)"
   ]
  },
  {
   "cell_type": "markdown",
   "id": "80ee9f35-32dd-490e-8c42-5b10487e7a99",
   "metadata": {},
   "source": [
    "--------\n",
    "**What type of question does a pivot help answer?**\n",
    "\n",
    "**Imagine we wanted to know, how many licenses of each product type did Google purchase? Currently the way the data is formatted is hard to read. Let's pivot it so this is clearer, we will take a subset of the data for the question at hand.**"
   ]
  },
  {
   "cell_type": "code",
   "execution_count": 46,
   "id": "43ed9a77-414a-4bba-9c61-10fd524f4bdc",
   "metadata": {},
   "outputs": [
    {
     "data": {
      "text/html": [
       "<div>\n",
       "<style scoped>\n",
       "    .dataframe tbody tr th:only-of-type {\n",
       "        vertical-align: middle;\n",
       "    }\n",
       "\n",
       "    .dataframe tbody tr th {\n",
       "        vertical-align: top;\n",
       "    }\n",
       "\n",
       "    .dataframe thead th {\n",
       "        text-align: right;\n",
       "    }\n",
       "</style>\n",
       "<table border=\"1\" class=\"dataframe\">\n",
       "  <thead>\n",
       "    <tr style=\"text-align: right;\">\n",
       "      <th></th>\n",
       "      <th>Company</th>\n",
       "      <th>Product</th>\n",
       "      <th>Licenses</th>\n",
       "    </tr>\n",
       "  </thead>\n",
       "  <tbody>\n",
       "    <tr>\n",
       "      <th>0</th>\n",
       "      <td>Google</td>\n",
       "      <td>Analytics</td>\n",
       "      <td>150</td>\n",
       "    </tr>\n",
       "    <tr>\n",
       "      <th>1</th>\n",
       "      <td>Google</td>\n",
       "      <td>Prediction</td>\n",
       "      <td>150</td>\n",
       "    </tr>\n",
       "    <tr>\n",
       "      <th>2</th>\n",
       "      <td>Google</td>\n",
       "      <td>Tracking</td>\n",
       "      <td>300</td>\n",
       "    </tr>\n",
       "    <tr>\n",
       "      <th>3</th>\n",
       "      <td>BOBO</td>\n",
       "      <td>Analytics</td>\n",
       "      <td>150</td>\n",
       "    </tr>\n",
       "    <tr>\n",
       "      <th>4</th>\n",
       "      <td>IKEA</td>\n",
       "      <td>Analytics</td>\n",
       "      <td>300</td>\n",
       "    </tr>\n",
       "    <tr>\n",
       "      <th>5</th>\n",
       "      <td>Tesla Inc.</td>\n",
       "      <td>Analytics</td>\n",
       "      <td>300</td>\n",
       "    </tr>\n",
       "    <tr>\n",
       "      <th>6</th>\n",
       "      <td>Tesla Inc.</td>\n",
       "      <td>Prediction</td>\n",
       "      <td>150</td>\n",
       "    </tr>\n",
       "    <tr>\n",
       "      <th>7</th>\n",
       "      <td>Microsoft</td>\n",
       "      <td>Tracking</td>\n",
       "      <td>300</td>\n",
       "    </tr>\n",
       "    <tr>\n",
       "      <th>8</th>\n",
       "      <td>Walmart</td>\n",
       "      <td>Analytics</td>\n",
       "      <td>150</td>\n",
       "    </tr>\n",
       "    <tr>\n",
       "      <th>9</th>\n",
       "      <td>Apple</td>\n",
       "      <td>Analytics</td>\n",
       "      <td>300</td>\n",
       "    </tr>\n",
       "  </tbody>\n",
       "</table>\n",
       "</div>"
      ],
      "text/plain": [
       "      Company     Product  Licenses\n",
       "0      Google   Analytics       150\n",
       "1      Google  Prediction       150\n",
       "2      Google    Tracking       300\n",
       "3        BOBO   Analytics       150\n",
       "4        IKEA   Analytics       300\n",
       "5  Tesla Inc.   Analytics       300\n",
       "6  Tesla Inc.  Prediction       150\n",
       "7   Microsoft    Tracking       300\n",
       "8     Walmart   Analytics       150\n",
       "9       Apple   Analytics       300"
      ]
     },
     "execution_count": 46,
     "metadata": {},
     "output_type": "execute_result"
    }
   ],
   "source": [
    "# Let's take a subset, otherwise we'll get an error due to duplicate rows and data\n",
    "licenses = df[['Company','Product','Licenses']]\n",
    "licenses.head(10)"
   ]
  },
  {
   "cell_type": "code",
   "execution_count": 47,
   "id": "edee88bd-237a-41aa-9d8d-5f2c719322d8",
   "metadata": {},
   "outputs": [
    {
     "data": {
      "text/html": [
       "<div>\n",
       "<style scoped>\n",
       "    .dataframe tbody tr th:only-of-type {\n",
       "        vertical-align: middle;\n",
       "    }\n",
       "\n",
       "    .dataframe tbody tr th {\n",
       "        vertical-align: top;\n",
       "    }\n",
       "\n",
       "    .dataframe thead th {\n",
       "        text-align: right;\n",
       "    }\n",
       "</style>\n",
       "<table border=\"1\" class=\"dataframe\">\n",
       "  <thead>\n",
       "    <tr style=\"text-align: right;\">\n",
       "      <th>Product</th>\n",
       "      <th>Analytics</th>\n",
       "      <th>GPS Positioning</th>\n",
       "      <th>Prediction</th>\n",
       "      <th>Tracking</th>\n",
       "    </tr>\n",
       "    <tr>\n",
       "      <th>Company</th>\n",
       "      <th></th>\n",
       "      <th></th>\n",
       "      <th></th>\n",
       "      <th></th>\n",
       "    </tr>\n",
       "  </thead>\n",
       "  <tbody>\n",
       "    <tr>\n",
       "      <th>Google</th>\n",
       "      <td>150.0</td>\n",
       "      <td>NaN</td>\n",
       "      <td>150.0</td>\n",
       "      <td>300.0</td>\n",
       "    </tr>\n",
       "    <tr>\n",
       "      <th>ATT</th>\n",
       "      <td>NaN</td>\n",
       "      <td>NaN</td>\n",
       "      <td>150.0</td>\n",
       "      <td>150.0</td>\n",
       "    </tr>\n",
       "    <tr>\n",
       "      <th>Apple</th>\n",
       "      <td>300.0</td>\n",
       "      <td>NaN</td>\n",
       "      <td>NaN</td>\n",
       "      <td>NaN</td>\n",
       "    </tr>\n",
       "    <tr>\n",
       "      <th>BOBO</th>\n",
       "      <td>150.0</td>\n",
       "      <td>NaN</td>\n",
       "      <td>NaN</td>\n",
       "      <td>NaN</td>\n",
       "    </tr>\n",
       "    <tr>\n",
       "      <th>CVS Health</th>\n",
       "      <td>NaN</td>\n",
       "      <td>NaN</td>\n",
       "      <td>NaN</td>\n",
       "      <td>450.0</td>\n",
       "    </tr>\n",
       "    <tr>\n",
       "      <th>Cisco</th>\n",
       "      <td>300.0</td>\n",
       "      <td>300.0</td>\n",
       "      <td>NaN</td>\n",
       "      <td>NaN</td>\n",
       "    </tr>\n",
       "    <tr>\n",
       "      <th>Exxon Mobile</th>\n",
       "      <td>150.0</td>\n",
       "      <td>NaN</td>\n",
       "      <td>NaN</td>\n",
       "      <td>NaN</td>\n",
       "    </tr>\n",
       "    <tr>\n",
       "      <th>IKEA</th>\n",
       "      <td>300.0</td>\n",
       "      <td>NaN</td>\n",
       "      <td>NaN</td>\n",
       "      <td>NaN</td>\n",
       "    </tr>\n",
       "    <tr>\n",
       "      <th>Microsoft</th>\n",
       "      <td>NaN</td>\n",
       "      <td>NaN</td>\n",
       "      <td>NaN</td>\n",
       "      <td>300.0</td>\n",
       "    </tr>\n",
       "    <tr>\n",
       "      <th>Salesforce</th>\n",
       "      <td>750.0</td>\n",
       "      <td>NaN</td>\n",
       "      <td>NaN</td>\n",
       "      <td>NaN</td>\n",
       "    </tr>\n",
       "    <tr>\n",
       "      <th>Tesla Inc.</th>\n",
       "      <td>300.0</td>\n",
       "      <td>NaN</td>\n",
       "      <td>150.0</td>\n",
       "      <td>NaN</td>\n",
       "    </tr>\n",
       "    <tr>\n",
       "      <th>Walmart</th>\n",
       "      <td>150.0</td>\n",
       "      <td>NaN</td>\n",
       "      <td>NaN</td>\n",
       "      <td>NaN</td>\n",
       "    </tr>\n",
       "  </tbody>\n",
       "</table>\n",
       "</div>"
      ],
      "text/plain": [
       "Product       Analytics  GPS Positioning  Prediction  Tracking\n",
       "Company                                                       \n",
       " Google           150.0              NaN       150.0     300.0\n",
       "ATT                 NaN              NaN       150.0     150.0\n",
       "Apple             300.0              NaN         NaN       NaN\n",
       "BOBO              150.0              NaN         NaN       NaN\n",
       "CVS Health          NaN              NaN         NaN     450.0\n",
       "Cisco             300.0            300.0         NaN       NaN\n",
       "Exxon Mobile      150.0              NaN         NaN       NaN\n",
       "IKEA              300.0              NaN         NaN       NaN\n",
       "Microsoft           NaN              NaN         NaN     300.0\n",
       "Salesforce        750.0              NaN         NaN       NaN\n",
       "Tesla Inc.        300.0              NaN       150.0       NaN\n",
       "Walmart           150.0              NaN         NaN       NaN"
      ]
     },
     "execution_count": 47,
     "metadata": {},
     "output_type": "execute_result"
    }
   ],
   "source": [
    "pd.pivot(data=licenses,index='Company',columns='Product',values='Licenses')"
   ]
  },
  {
   "cell_type": "markdown",
   "id": "ebb587c7-b0ac-4fef-9c64-46ffe2b20ed6",
   "metadata": {},
   "source": [
    "### The pivot_table() method\n",
    "\n",
    "Similar to the pivot() method, the pivot_table() can add aggregation functions to a pivot call."
   ]
  },
  {
   "cell_type": "code",
   "execution_count": 48,
   "id": "a7af2f4a-c64a-4981-9696-2eb92b8c1047",
   "metadata": {},
   "outputs": [
    {
     "data": {
      "text/html": [
       "<div>\n",
       "<style scoped>\n",
       "    .dataframe tbody tr th:only-of-type {\n",
       "        vertical-align: middle;\n",
       "    }\n",
       "\n",
       "    .dataframe tbody tr th {\n",
       "        vertical-align: top;\n",
       "    }\n",
       "\n",
       "    .dataframe thead th {\n",
       "        text-align: right;\n",
       "    }\n",
       "</style>\n",
       "<table border=\"1\" class=\"dataframe\">\n",
       "  <thead>\n",
       "    <tr style=\"text-align: right;\">\n",
       "      <th></th>\n",
       "      <th>Account Number</th>\n",
       "      <th>Company</th>\n",
       "      <th>Contact</th>\n",
       "      <th>Account Manager</th>\n",
       "      <th>Product</th>\n",
       "      <th>Licenses</th>\n",
       "      <th>Sale Price</th>\n",
       "      <th>Status</th>\n",
       "    </tr>\n",
       "  </thead>\n",
       "  <tbody>\n",
       "    <tr>\n",
       "      <th>0</th>\n",
       "      <td>2123398</td>\n",
       "      <td>Google</td>\n",
       "      <td>Larry Pager</td>\n",
       "      <td>Edward Thorp</td>\n",
       "      <td>Analytics</td>\n",
       "      <td>150</td>\n",
       "      <td>2100000</td>\n",
       "      <td>Presented</td>\n",
       "    </tr>\n",
       "    <tr>\n",
       "      <th>1</th>\n",
       "      <td>2123398</td>\n",
       "      <td>Google</td>\n",
       "      <td>Larry Pager</td>\n",
       "      <td>Edward Thorp</td>\n",
       "      <td>Prediction</td>\n",
       "      <td>150</td>\n",
       "      <td>700000</td>\n",
       "      <td>Presented</td>\n",
       "    </tr>\n",
       "    <tr>\n",
       "      <th>2</th>\n",
       "      <td>2123398</td>\n",
       "      <td>Google</td>\n",
       "      <td>Larry Pager</td>\n",
       "      <td>Edward Thorp</td>\n",
       "      <td>Tracking</td>\n",
       "      <td>300</td>\n",
       "      <td>350000</td>\n",
       "      <td>Under Review</td>\n",
       "    </tr>\n",
       "    <tr>\n",
       "      <th>3</th>\n",
       "      <td>2192650</td>\n",
       "      <td>BOBO</td>\n",
       "      <td>Larry Pager</td>\n",
       "      <td>Edward Thorp</td>\n",
       "      <td>Analytics</td>\n",
       "      <td>150</td>\n",
       "      <td>2450000</td>\n",
       "      <td>Lost</td>\n",
       "    </tr>\n",
       "    <tr>\n",
       "      <th>4</th>\n",
       "      <td>420496</td>\n",
       "      <td>IKEA</td>\n",
       "      <td>Elon Tusk</td>\n",
       "      <td>Edward Thorp</td>\n",
       "      <td>Analytics</td>\n",
       "      <td>300</td>\n",
       "      <td>4550000</td>\n",
       "      <td>Won</td>\n",
       "    </tr>\n",
       "  </tbody>\n",
       "</table>\n",
       "</div>"
      ],
      "text/plain": [
       "   Account Number  Company      Contact Account Manager     Product  Licenses  \\\n",
       "0         2123398   Google  Larry Pager    Edward Thorp   Analytics       150   \n",
       "1         2123398   Google  Larry Pager    Edward Thorp  Prediction       150   \n",
       "2         2123398   Google  Larry Pager    Edward Thorp    Tracking       300   \n",
       "3         2192650     BOBO  Larry Pager    Edward Thorp   Analytics       150   \n",
       "4          420496     IKEA    Elon Tusk    Edward Thorp   Analytics       300   \n",
       "\n",
       "   Sale Price        Status  \n",
       "0     2100000     Presented  \n",
       "1      700000     Presented  \n",
       "2      350000  Under Review  \n",
       "3     2450000          Lost  \n",
       "4     4550000           Won  "
      ]
     },
     "execution_count": 48,
     "metadata": {},
     "output_type": "execute_result"
    }
   ],
   "source": [
    "df.head()"
   ]
  },
  {
   "cell_type": "code",
   "execution_count": 49,
   "id": "0fba9f22-24dd-47a7-ac51-9f63fbce02c2",
   "metadata": {},
   "outputs": [
    {
     "data": {
      "text/html": [
       "<div>\n",
       "<style scoped>\n",
       "    .dataframe tbody tr th:only-of-type {\n",
       "        vertical-align: middle;\n",
       "    }\n",
       "\n",
       "    .dataframe tbody tr th {\n",
       "        vertical-align: top;\n",
       "    }\n",
       "\n",
       "    .dataframe thead th {\n",
       "        text-align: right;\n",
       "    }\n",
       "</style>\n",
       "<table border=\"1\" class=\"dataframe\">\n",
       "  <thead>\n",
       "    <tr style=\"text-align: right;\">\n",
       "      <th></th>\n",
       "      <th>Account Number</th>\n",
       "      <th>Licenses</th>\n",
       "      <th>Sale Price</th>\n",
       "    </tr>\n",
       "    <tr>\n",
       "      <th>Company</th>\n",
       "      <th></th>\n",
       "      <th></th>\n",
       "      <th></th>\n",
       "    </tr>\n",
       "  </thead>\n",
       "  <tbody>\n",
       "    <tr>\n",
       "      <th>Google</th>\n",
       "      <td>6370194</td>\n",
       "      <td>600</td>\n",
       "      <td>3150000</td>\n",
       "    </tr>\n",
       "    <tr>\n",
       "      <th>ATT</th>\n",
       "      <td>1396064</td>\n",
       "      <td>300</td>\n",
       "      <td>1050000</td>\n",
       "    </tr>\n",
       "    <tr>\n",
       "      <th>Apple</th>\n",
       "      <td>405886</td>\n",
       "      <td>300</td>\n",
       "      <td>4550000</td>\n",
       "    </tr>\n",
       "    <tr>\n",
       "      <th>BOBO</th>\n",
       "      <td>2192650</td>\n",
       "      <td>150</td>\n",
       "      <td>2450000</td>\n",
       "    </tr>\n",
       "    <tr>\n",
       "      <th>CVS Health</th>\n",
       "      <td>902797</td>\n",
       "      <td>450</td>\n",
       "      <td>490000</td>\n",
       "    </tr>\n",
       "    <tr>\n",
       "      <th>Cisco</th>\n",
       "      <td>4338998</td>\n",
       "      <td>600</td>\n",
       "      <td>4900000</td>\n",
       "    </tr>\n",
       "    <tr>\n",
       "      <th>Exxon Mobile</th>\n",
       "      <td>470248</td>\n",
       "      <td>150</td>\n",
       "      <td>2100000</td>\n",
       "    </tr>\n",
       "    <tr>\n",
       "      <th>IKEA</th>\n",
       "      <td>420496</td>\n",
       "      <td>300</td>\n",
       "      <td>4550000</td>\n",
       "    </tr>\n",
       "    <tr>\n",
       "      <th>Microsoft</th>\n",
       "      <td>1216870</td>\n",
       "      <td>300</td>\n",
       "      <td>350000</td>\n",
       "    </tr>\n",
       "    <tr>\n",
       "      <th>Salesforce</th>\n",
       "      <td>2046943</td>\n",
       "      <td>750</td>\n",
       "      <td>7000000</td>\n",
       "    </tr>\n",
       "    <tr>\n",
       "      <th>Tesla Inc.</th>\n",
       "      <td>1273370</td>\n",
       "      <td>450</td>\n",
       "      <td>3500000</td>\n",
       "    </tr>\n",
       "    <tr>\n",
       "      <th>Walmart</th>\n",
       "      <td>2200450</td>\n",
       "      <td>150</td>\n",
       "      <td>2450000</td>\n",
       "    </tr>\n",
       "  </tbody>\n",
       "</table>\n",
       "</div>"
      ],
      "text/plain": [
       "              Account Number  Licenses  Sale Price\n",
       "Company                                           \n",
       " Google              6370194       600     3150000\n",
       "ATT                  1396064       300     1050000\n",
       "Apple                 405886       300     4550000\n",
       "BOBO                 2192650       150     2450000\n",
       "CVS Health            902797       450      490000\n",
       "Cisco                4338998       600     4900000\n",
       "Exxon Mobile          470248       150     2100000\n",
       "IKEA                  420496       300     4550000\n",
       "Microsoft            1216870       300      350000\n",
       "Salesforce           2046943       750     7000000\n",
       "Tesla Inc.           1273370       450     3500000\n",
       "Walmart              2200450       150     2450000"
      ]
     },
     "execution_count": 49,
     "metadata": {},
     "output_type": "execute_result"
    }
   ],
   "source": [
    "pd.pivot_table(df,index=\"Company\",aggfunc='sum')"
   ]
  },
  {
   "cell_type": "markdown",
   "id": "ada8f7b4-7eb2-488d-8d2a-4fa45a7450ec",
   "metadata": {},
   "source": [
    "It doesn't make sense that the Account Number is summed up, so you could either do one of the two to seperate them"
   ]
  },
  {
   "cell_type": "code",
   "execution_count": 50,
   "id": "842eb78c-25f8-4fed-8707-5f3e3aead8c1",
   "metadata": {},
   "outputs": [
    {
     "data": {
      "text/html": [
       "<div>\n",
       "<style scoped>\n",
       "    .dataframe tbody tr th:only-of-type {\n",
       "        vertical-align: middle;\n",
       "    }\n",
       "\n",
       "    .dataframe tbody tr th {\n",
       "        vertical-align: top;\n",
       "    }\n",
       "\n",
       "    .dataframe thead th {\n",
       "        text-align: right;\n",
       "    }\n",
       "</style>\n",
       "<table border=\"1\" class=\"dataframe\">\n",
       "  <thead>\n",
       "    <tr style=\"text-align: right;\">\n",
       "      <th></th>\n",
       "      <th>Licenses</th>\n",
       "      <th>Sale Price</th>\n",
       "    </tr>\n",
       "    <tr>\n",
       "      <th>Company</th>\n",
       "      <th></th>\n",
       "      <th></th>\n",
       "    </tr>\n",
       "  </thead>\n",
       "  <tbody>\n",
       "    <tr>\n",
       "      <th>Google</th>\n",
       "      <td>600</td>\n",
       "      <td>3150000</td>\n",
       "    </tr>\n",
       "    <tr>\n",
       "      <th>ATT</th>\n",
       "      <td>300</td>\n",
       "      <td>1050000</td>\n",
       "    </tr>\n",
       "    <tr>\n",
       "      <th>Apple</th>\n",
       "      <td>300</td>\n",
       "      <td>4550000</td>\n",
       "    </tr>\n",
       "    <tr>\n",
       "      <th>BOBO</th>\n",
       "      <td>150</td>\n",
       "      <td>2450000</td>\n",
       "    </tr>\n",
       "    <tr>\n",
       "      <th>CVS Health</th>\n",
       "      <td>450</td>\n",
       "      <td>490000</td>\n",
       "    </tr>\n",
       "    <tr>\n",
       "      <th>Cisco</th>\n",
       "      <td>600</td>\n",
       "      <td>4900000</td>\n",
       "    </tr>\n",
       "    <tr>\n",
       "      <th>Exxon Mobile</th>\n",
       "      <td>150</td>\n",
       "      <td>2100000</td>\n",
       "    </tr>\n",
       "    <tr>\n",
       "      <th>IKEA</th>\n",
       "      <td>300</td>\n",
       "      <td>4550000</td>\n",
       "    </tr>\n",
       "    <tr>\n",
       "      <th>Microsoft</th>\n",
       "      <td>300</td>\n",
       "      <td>350000</td>\n",
       "    </tr>\n",
       "    <tr>\n",
       "      <th>Salesforce</th>\n",
       "      <td>750</td>\n",
       "      <td>7000000</td>\n",
       "    </tr>\n",
       "    <tr>\n",
       "      <th>Tesla Inc.</th>\n",
       "      <td>450</td>\n",
       "      <td>3500000</td>\n",
       "    </tr>\n",
       "    <tr>\n",
       "      <th>Walmart</th>\n",
       "      <td>150</td>\n",
       "      <td>2450000</td>\n",
       "    </tr>\n",
       "  </tbody>\n",
       "</table>\n",
       "</div>"
      ],
      "text/plain": [
       "              Licenses  Sale Price\n",
       "Company                           \n",
       " Google            600     3150000\n",
       "ATT                300     1050000\n",
       "Apple              300     4550000\n",
       "BOBO               150     2450000\n",
       "CVS Health         450      490000\n",
       "Cisco              600     4900000\n",
       "Exxon Mobile       150     2100000\n",
       "IKEA               300     4550000\n",
       "Microsoft          300      350000\n",
       "Salesforce         750     7000000\n",
       "Tesla Inc.         450     3500000\n",
       "Walmart            150     2450000"
      ]
     },
     "execution_count": 50,
     "metadata": {},
     "output_type": "execute_result"
    }
   ],
   "source": [
    "# Either grab the columns\n",
    "pd.pivot_table(df,index=\"Company\",aggfunc='sum')[['Licenses','Sale Price']]"
   ]
  },
  {
   "cell_type": "code",
   "execution_count": 51,
   "id": "d1a3c6f4-adb5-4b91-9ee2-c19bf313dea5",
   "metadata": {},
   "outputs": [
    {
     "data": {
      "text/html": [
       "<div>\n",
       "<style scoped>\n",
       "    .dataframe tbody tr th:only-of-type {\n",
       "        vertical-align: middle;\n",
       "    }\n",
       "\n",
       "    .dataframe tbody tr th {\n",
       "        vertical-align: top;\n",
       "    }\n",
       "\n",
       "    .dataframe thead th {\n",
       "        text-align: right;\n",
       "    }\n",
       "</style>\n",
       "<table border=\"1\" class=\"dataframe\">\n",
       "  <thead>\n",
       "    <tr style=\"text-align: right;\">\n",
       "      <th></th>\n",
       "      <th>Licenses</th>\n",
       "      <th>Sale Price</th>\n",
       "    </tr>\n",
       "    <tr>\n",
       "      <th>Company</th>\n",
       "      <th></th>\n",
       "      <th></th>\n",
       "    </tr>\n",
       "  </thead>\n",
       "  <tbody>\n",
       "    <tr>\n",
       "      <th>Google</th>\n",
       "      <td>600</td>\n",
       "      <td>3150000</td>\n",
       "    </tr>\n",
       "    <tr>\n",
       "      <th>ATT</th>\n",
       "      <td>300</td>\n",
       "      <td>1050000</td>\n",
       "    </tr>\n",
       "    <tr>\n",
       "      <th>Apple</th>\n",
       "      <td>300</td>\n",
       "      <td>4550000</td>\n",
       "    </tr>\n",
       "    <tr>\n",
       "      <th>BOBO</th>\n",
       "      <td>150</td>\n",
       "      <td>2450000</td>\n",
       "    </tr>\n",
       "    <tr>\n",
       "      <th>CVS Health</th>\n",
       "      <td>450</td>\n",
       "      <td>490000</td>\n",
       "    </tr>\n",
       "    <tr>\n",
       "      <th>Cisco</th>\n",
       "      <td>600</td>\n",
       "      <td>4900000</td>\n",
       "    </tr>\n",
       "    <tr>\n",
       "      <th>Exxon Mobile</th>\n",
       "      <td>150</td>\n",
       "      <td>2100000</td>\n",
       "    </tr>\n",
       "    <tr>\n",
       "      <th>IKEA</th>\n",
       "      <td>300</td>\n",
       "      <td>4550000</td>\n",
       "    </tr>\n",
       "    <tr>\n",
       "      <th>Microsoft</th>\n",
       "      <td>300</td>\n",
       "      <td>350000</td>\n",
       "    </tr>\n",
       "    <tr>\n",
       "      <th>Salesforce</th>\n",
       "      <td>750</td>\n",
       "      <td>7000000</td>\n",
       "    </tr>\n",
       "    <tr>\n",
       "      <th>Tesla Inc.</th>\n",
       "      <td>450</td>\n",
       "      <td>3500000</td>\n",
       "    </tr>\n",
       "    <tr>\n",
       "      <th>Walmart</th>\n",
       "      <td>150</td>\n",
       "      <td>2450000</td>\n",
       "    </tr>\n",
       "  </tbody>\n",
       "</table>\n",
       "</div>"
      ],
      "text/plain": [
       "              Licenses  Sale Price\n",
       "Company                           \n",
       " Google            600     3150000\n",
       "ATT                300     1050000\n",
       "Apple              300     4550000\n",
       "BOBO               150     2450000\n",
       "CVS Health         450      490000\n",
       "Cisco              600     4900000\n",
       "Exxon Mobile       150     2100000\n",
       "IKEA               300     4550000\n",
       "Microsoft          300      350000\n",
       "Salesforce         750     7000000\n",
       "Tesla Inc.         450     3500000\n",
       "Walmart            150     2450000"
      ]
     },
     "execution_count": 51,
     "metadata": {},
     "output_type": "execute_result"
    }
   ],
   "source": [
    "# Or state them as wanted values\n",
    "pd.pivot_table(df,index=\"Company\",aggfunc='sum',values=['Licenses','Sale Price'])"
   ]
  },
  {
   "cell_type": "code",
   "execution_count": 52,
   "id": "d37cbb64-a293-4725-990c-bb985a0e5926",
   "metadata": {},
   "outputs": [
    {
     "data": {
      "text/html": [
       "<div>\n",
       "<style scoped>\n",
       "    .dataframe tbody tr th:only-of-type {\n",
       "        vertical-align: middle;\n",
       "    }\n",
       "\n",
       "    .dataframe tbody tr th {\n",
       "        vertical-align: top;\n",
       "    }\n",
       "\n",
       "    .dataframe thead th {\n",
       "        text-align: right;\n",
       "    }\n",
       "</style>\n",
       "<table border=\"1\" class=\"dataframe\">\n",
       "  <thead>\n",
       "    <tr style=\"text-align: right;\">\n",
       "      <th></th>\n",
       "      <th>Licenses</th>\n",
       "      <th>Sale Price</th>\n",
       "    </tr>\n",
       "    <tr>\n",
       "      <th>Company</th>\n",
       "      <th></th>\n",
       "      <th></th>\n",
       "    </tr>\n",
       "  </thead>\n",
       "  <tbody>\n",
       "    <tr>\n",
       "      <th>Google</th>\n",
       "      <td>600</td>\n",
       "      <td>3150000</td>\n",
       "    </tr>\n",
       "    <tr>\n",
       "      <th>ATT</th>\n",
       "      <td>300</td>\n",
       "      <td>1050000</td>\n",
       "    </tr>\n",
       "    <tr>\n",
       "      <th>Apple</th>\n",
       "      <td>300</td>\n",
       "      <td>4550000</td>\n",
       "    </tr>\n",
       "    <tr>\n",
       "      <th>BOBO</th>\n",
       "      <td>150</td>\n",
       "      <td>2450000</td>\n",
       "    </tr>\n",
       "    <tr>\n",
       "      <th>CVS Health</th>\n",
       "      <td>450</td>\n",
       "      <td>490000</td>\n",
       "    </tr>\n",
       "    <tr>\n",
       "      <th>Cisco</th>\n",
       "      <td>600</td>\n",
       "      <td>4900000</td>\n",
       "    </tr>\n",
       "    <tr>\n",
       "      <th>Exxon Mobile</th>\n",
       "      <td>150</td>\n",
       "      <td>2100000</td>\n",
       "    </tr>\n",
       "    <tr>\n",
       "      <th>IKEA</th>\n",
       "      <td>300</td>\n",
       "      <td>4550000</td>\n",
       "    </tr>\n",
       "    <tr>\n",
       "      <th>Microsoft</th>\n",
       "      <td>300</td>\n",
       "      <td>350000</td>\n",
       "    </tr>\n",
       "    <tr>\n",
       "      <th>Salesforce</th>\n",
       "      <td>750</td>\n",
       "      <td>7000000</td>\n",
       "    </tr>\n",
       "    <tr>\n",
       "      <th>Tesla Inc.</th>\n",
       "      <td>450</td>\n",
       "      <td>3500000</td>\n",
       "    </tr>\n",
       "    <tr>\n",
       "      <th>Walmart</th>\n",
       "      <td>150</td>\n",
       "      <td>2450000</td>\n",
       "    </tr>\n",
       "  </tbody>\n",
       "</table>\n",
       "</div>"
      ],
      "text/plain": [
       "              Licenses  Sale Price\n",
       "Company                           \n",
       " Google            600     3150000\n",
       "ATT                300     1050000\n",
       "Apple              300     4550000\n",
       "BOBO               150     2450000\n",
       "CVS Health         450      490000\n",
       "Cisco              600     4900000\n",
       "Exxon Mobile       150     2100000\n",
       "IKEA               300     4550000\n",
       "Microsoft          300      350000\n",
       "Salesforce         750     7000000\n",
       "Tesla Inc.         450     3500000\n",
       "Walmart            150     2450000"
      ]
     },
     "execution_count": 52,
     "metadata": {},
     "output_type": "execute_result"
    }
   ],
   "source": [
    "# Using groupby instead of pivot_table\n",
    "df.groupby('Company').sum()[['Licenses','Sale Price']]"
   ]
  },
  {
   "cell_type": "code",
   "execution_count": 53,
   "id": "568b4d77-9379-4ad0-b171-bba05800b77f",
   "metadata": {},
   "outputs": [
    {
     "data": {
      "text/html": [
       "<div>\n",
       "<style scoped>\n",
       "    .dataframe tbody tr th:only-of-type {\n",
       "        vertical-align: middle;\n",
       "    }\n",
       "\n",
       "    .dataframe tbody tr th {\n",
       "        vertical-align: top;\n",
       "    }\n",
       "\n",
       "    .dataframe thead th {\n",
       "        text-align: right;\n",
       "    }\n",
       "</style>\n",
       "<table border=\"1\" class=\"dataframe\">\n",
       "  <thead>\n",
       "    <tr style=\"text-align: right;\">\n",
       "      <th></th>\n",
       "      <th></th>\n",
       "      <th>Sale Price</th>\n",
       "    </tr>\n",
       "    <tr>\n",
       "      <th>Account Manager</th>\n",
       "      <th>Contact</th>\n",
       "      <th></th>\n",
       "    </tr>\n",
       "  </thead>\n",
       "  <tbody>\n",
       "    <tr>\n",
       "      <th rowspan=\"2\" valign=\"top\">Claude Shannon</th>\n",
       "      <th>Cindy Phoner</th>\n",
       "      <td>7700000</td>\n",
       "    </tr>\n",
       "    <tr>\n",
       "      <th>Emma Gordian</th>\n",
       "      <td>12390000</td>\n",
       "    </tr>\n",
       "    <tr>\n",
       "      <th rowspan=\"3\" valign=\"top\">Edward Thorp</th>\n",
       "      <th>Elon Tusk</th>\n",
       "      <td>8050000</td>\n",
       "    </tr>\n",
       "    <tr>\n",
       "      <th>Larry Pager</th>\n",
       "      <td>5600000</td>\n",
       "    </tr>\n",
       "    <tr>\n",
       "      <th>Will Grates</th>\n",
       "      <td>2800000</td>\n",
       "    </tr>\n",
       "  </tbody>\n",
       "</table>\n",
       "</div>"
      ],
      "text/plain": [
       "                              Sale Price\n",
       "Account Manager Contact                 \n",
       "Claude Shannon  Cindy Phoner     7700000\n",
       "                Emma Gordian    12390000\n",
       "Edward Thorp    Elon Tusk        8050000\n",
       "                Larry Pager      5600000\n",
       "                Will Grates      2800000"
      ]
     },
     "execution_count": 53,
     "metadata": {},
     "output_type": "execute_result"
    }
   ],
   "source": [
    "pd.pivot_table(df,index=[\"Account Manager\",\"Contact\"],values=['Sale Price'],aggfunc='sum')"
   ]
  },
  {
   "cell_type": "markdown",
   "id": "1cb197b2-9b1d-4151-bf83-e9fc8e2db85d",
   "metadata": {},
   "source": [
    "Columns are optional - they provide an additional way to segment the actual values you care about. The aggregation functions are applied to the values you list."
   ]
  },
  {
   "cell_type": "code",
   "execution_count": 54,
   "id": "decdffa9-8029-4d44-95b4-3b117cdeee5e",
   "metadata": {},
   "outputs": [
    {
     "data": {
      "text/html": [
       "<div>\n",
       "<style scoped>\n",
       "    .dataframe tbody tr th:only-of-type {\n",
       "        vertical-align: middle;\n",
       "    }\n",
       "\n",
       "    .dataframe tbody tr th {\n",
       "        vertical-align: top;\n",
       "    }\n",
       "\n",
       "    .dataframe thead tr th {\n",
       "        text-align: left;\n",
       "    }\n",
       "\n",
       "    .dataframe thead tr:last-of-type th {\n",
       "        text-align: right;\n",
       "    }\n",
       "</style>\n",
       "<table border=\"1\" class=\"dataframe\">\n",
       "  <thead>\n",
       "    <tr>\n",
       "      <th></th>\n",
       "      <th></th>\n",
       "      <th colspan=\"4\" halign=\"left\">sum</th>\n",
       "    </tr>\n",
       "    <tr>\n",
       "      <th></th>\n",
       "      <th></th>\n",
       "      <th colspan=\"4\" halign=\"left\">Sale Price</th>\n",
       "    </tr>\n",
       "    <tr>\n",
       "      <th></th>\n",
       "      <th>Product</th>\n",
       "      <th>Analytics</th>\n",
       "      <th>GPS Positioning</th>\n",
       "      <th>Prediction</th>\n",
       "      <th>Tracking</th>\n",
       "    </tr>\n",
       "    <tr>\n",
       "      <th>Account Manager</th>\n",
       "      <th>Contact</th>\n",
       "      <th></th>\n",
       "      <th></th>\n",
       "      <th></th>\n",
       "      <th></th>\n",
       "    </tr>\n",
       "  </thead>\n",
       "  <tbody>\n",
       "    <tr>\n",
       "      <th rowspan=\"2\" valign=\"top\">Claude Shannon</th>\n",
       "      <th>Cindy Phoner</th>\n",
       "      <td>6650000.0</td>\n",
       "      <td>NaN</td>\n",
       "      <td>700000.0</td>\n",
       "      <td>350000.0</td>\n",
       "    </tr>\n",
       "    <tr>\n",
       "      <th>Emma Gordian</th>\n",
       "      <td>11550000.0</td>\n",
       "      <td>350000.0</td>\n",
       "      <td>NaN</td>\n",
       "      <td>490000.0</td>\n",
       "    </tr>\n",
       "    <tr>\n",
       "      <th rowspan=\"3\" valign=\"top\">Edward Thorp</th>\n",
       "      <th>Elon Tusk</th>\n",
       "      <td>7350000.0</td>\n",
       "      <td>NaN</td>\n",
       "      <td>700000.0</td>\n",
       "      <td>NaN</td>\n",
       "    </tr>\n",
       "    <tr>\n",
       "      <th>Larry Pager</th>\n",
       "      <td>4550000.0</td>\n",
       "      <td>NaN</td>\n",
       "      <td>700000.0</td>\n",
       "      <td>350000.0</td>\n",
       "    </tr>\n",
       "    <tr>\n",
       "      <th>Will Grates</th>\n",
       "      <td>2450000.0</td>\n",
       "      <td>NaN</td>\n",
       "      <td>NaN</td>\n",
       "      <td>350000.0</td>\n",
       "    </tr>\n",
       "  </tbody>\n",
       "</table>\n",
       "</div>"
      ],
      "text/plain": [
       "                                     sum                                     \n",
       "                              Sale Price                                     \n",
       "Product                        Analytics GPS Positioning Prediction  Tracking\n",
       "Account Manager Contact                                                      \n",
       "Claude Shannon  Cindy Phoner   6650000.0             NaN   700000.0  350000.0\n",
       "                Emma Gordian  11550000.0        350000.0        NaN  490000.0\n",
       "Edward Thorp    Elon Tusk      7350000.0             NaN   700000.0       NaN\n",
       "                Larry Pager    4550000.0             NaN   700000.0  350000.0\n",
       "                Will Grates    2450000.0             NaN        NaN  350000.0"
      ]
     },
     "execution_count": 54,
     "metadata": {},
     "output_type": "execute_result"
    }
   ],
   "source": [
    "pd.pivot_table(df,index=[\"Account Manager\",\"Contact\"],values=[\"Sale Price\"],columns=[\"Product\"],aggfunc=[np.sum])"
   ]
  },
  {
   "cell_type": "code",
   "execution_count": 55,
   "id": "afff754f-7407-4573-98bd-95f45099f676",
   "metadata": {},
   "outputs": [
    {
     "data": {
      "text/html": [
       "<div>\n",
       "<style scoped>\n",
       "    .dataframe tbody tr th:only-of-type {\n",
       "        vertical-align: middle;\n",
       "    }\n",
       "\n",
       "    .dataframe tbody tr th {\n",
       "        vertical-align: top;\n",
       "    }\n",
       "\n",
       "    .dataframe thead tr th {\n",
       "        text-align: left;\n",
       "    }\n",
       "\n",
       "    .dataframe thead tr:last-of-type th {\n",
       "        text-align: right;\n",
       "    }\n",
       "</style>\n",
       "<table border=\"1\" class=\"dataframe\">\n",
       "  <thead>\n",
       "    <tr>\n",
       "      <th></th>\n",
       "      <th></th>\n",
       "      <th colspan=\"4\" halign=\"left\">sum</th>\n",
       "    </tr>\n",
       "    <tr>\n",
       "      <th></th>\n",
       "      <th></th>\n",
       "      <th colspan=\"4\" halign=\"left\">Sale Price</th>\n",
       "    </tr>\n",
       "    <tr>\n",
       "      <th></th>\n",
       "      <th>Product</th>\n",
       "      <th>Analytics</th>\n",
       "      <th>GPS Positioning</th>\n",
       "      <th>Prediction</th>\n",
       "      <th>Tracking</th>\n",
       "    </tr>\n",
       "    <tr>\n",
       "      <th>Account Manager</th>\n",
       "      <th>Contact</th>\n",
       "      <th></th>\n",
       "      <th></th>\n",
       "      <th></th>\n",
       "      <th></th>\n",
       "    </tr>\n",
       "  </thead>\n",
       "  <tbody>\n",
       "    <tr>\n",
       "      <th rowspan=\"2\" valign=\"top\">Claude Shannon</th>\n",
       "      <th>Cindy Phoner</th>\n",
       "      <td>6650000</td>\n",
       "      <td>0</td>\n",
       "      <td>700000</td>\n",
       "      <td>350000</td>\n",
       "    </tr>\n",
       "    <tr>\n",
       "      <th>Emma Gordian</th>\n",
       "      <td>11550000</td>\n",
       "      <td>350000</td>\n",
       "      <td>0</td>\n",
       "      <td>490000</td>\n",
       "    </tr>\n",
       "    <tr>\n",
       "      <th rowspan=\"3\" valign=\"top\">Edward Thorp</th>\n",
       "      <th>Elon Tusk</th>\n",
       "      <td>7350000</td>\n",
       "      <td>0</td>\n",
       "      <td>700000</td>\n",
       "      <td>0</td>\n",
       "    </tr>\n",
       "    <tr>\n",
       "      <th>Larry Pager</th>\n",
       "      <td>4550000</td>\n",
       "      <td>0</td>\n",
       "      <td>700000</td>\n",
       "      <td>350000</td>\n",
       "    </tr>\n",
       "    <tr>\n",
       "      <th>Will Grates</th>\n",
       "      <td>2450000</td>\n",
       "      <td>0</td>\n",
       "      <td>0</td>\n",
       "      <td>350000</td>\n",
       "    </tr>\n",
       "  </tbody>\n",
       "</table>\n",
       "</div>"
      ],
      "text/plain": [
       "                                    sum                                    \n",
       "                             Sale Price                                    \n",
       "Product                       Analytics GPS Positioning Prediction Tracking\n",
       "Account Manager Contact                                                    \n",
       "Claude Shannon  Cindy Phoner    6650000               0     700000   350000\n",
       "                Emma Gordian   11550000          350000          0   490000\n",
       "Edward Thorp    Elon Tusk       7350000               0     700000        0\n",
       "                Larry Pager     4550000               0     700000   350000\n",
       "                Will Grates     2450000               0          0   350000"
      ]
     },
     "execution_count": 55,
     "metadata": {},
     "output_type": "execute_result"
    }
   ],
   "source": [
    "# filling the Nan with 0\n",
    "pd.pivot_table(df,index=[\"Account Manager\",\"Contact\"],values=[\"Sale Price\"],columns=[\"Product\"],aggfunc=[np.sum],fill_value=0)"
   ]
  },
  {
   "cell_type": "code",
   "execution_count": 56,
   "id": "99eb6935-15dd-465e-9873-0cbbf0370b15",
   "metadata": {},
   "outputs": [
    {
     "data": {
      "text/html": [
       "<div>\n",
       "<style scoped>\n",
       "    .dataframe tbody tr th:only-of-type {\n",
       "        vertical-align: middle;\n",
       "    }\n",
       "\n",
       "    .dataframe tbody tr th {\n",
       "        vertical-align: top;\n",
       "    }\n",
       "\n",
       "    .dataframe thead tr th {\n",
       "        text-align: left;\n",
       "    }\n",
       "\n",
       "    .dataframe thead tr:last-of-type th {\n",
       "        text-align: right;\n",
       "    }\n",
       "</style>\n",
       "<table border=\"1\" class=\"dataframe\">\n",
       "  <thead>\n",
       "    <tr>\n",
       "      <th></th>\n",
       "      <th></th>\n",
       "      <th colspan=\"4\" halign=\"left\">sum</th>\n",
       "      <th colspan=\"4\" halign=\"left\">mean</th>\n",
       "    </tr>\n",
       "    <tr>\n",
       "      <th></th>\n",
       "      <th></th>\n",
       "      <th colspan=\"4\" halign=\"left\">Sale Price</th>\n",
       "      <th colspan=\"4\" halign=\"left\">Sale Price</th>\n",
       "    </tr>\n",
       "    <tr>\n",
       "      <th></th>\n",
       "      <th>Product</th>\n",
       "      <th>Analytics</th>\n",
       "      <th>GPS Positioning</th>\n",
       "      <th>Prediction</th>\n",
       "      <th>Tracking</th>\n",
       "      <th>Analytics</th>\n",
       "      <th>GPS Positioning</th>\n",
       "      <th>Prediction</th>\n",
       "      <th>Tracking</th>\n",
       "    </tr>\n",
       "    <tr>\n",
       "      <th>Account Manager</th>\n",
       "      <th>Contact</th>\n",
       "      <th></th>\n",
       "      <th></th>\n",
       "      <th></th>\n",
       "      <th></th>\n",
       "      <th></th>\n",
       "      <th></th>\n",
       "      <th></th>\n",
       "      <th></th>\n",
       "    </tr>\n",
       "  </thead>\n",
       "  <tbody>\n",
       "    <tr>\n",
       "      <th rowspan=\"2\" valign=\"top\">Claude Shannon</th>\n",
       "      <th>Cindy Phoner</th>\n",
       "      <td>6650000</td>\n",
       "      <td>0</td>\n",
       "      <td>700000</td>\n",
       "      <td>350000</td>\n",
       "      <td>3325000</td>\n",
       "      <td>0</td>\n",
       "      <td>700000</td>\n",
       "      <td>350000</td>\n",
       "    </tr>\n",
       "    <tr>\n",
       "      <th>Emma Gordian</th>\n",
       "      <td>11550000</td>\n",
       "      <td>350000</td>\n",
       "      <td>0</td>\n",
       "      <td>490000</td>\n",
       "      <td>5775000</td>\n",
       "      <td>350000</td>\n",
       "      <td>0</td>\n",
       "      <td>490000</td>\n",
       "    </tr>\n",
       "    <tr>\n",
       "      <th rowspan=\"3\" valign=\"top\">Edward Thorp</th>\n",
       "      <th>Elon Tusk</th>\n",
       "      <td>7350000</td>\n",
       "      <td>0</td>\n",
       "      <td>700000</td>\n",
       "      <td>0</td>\n",
       "      <td>3675000</td>\n",
       "      <td>0</td>\n",
       "      <td>700000</td>\n",
       "      <td>0</td>\n",
       "    </tr>\n",
       "    <tr>\n",
       "      <th>Larry Pager</th>\n",
       "      <td>4550000</td>\n",
       "      <td>0</td>\n",
       "      <td>700000</td>\n",
       "      <td>350000</td>\n",
       "      <td>2275000</td>\n",
       "      <td>0</td>\n",
       "      <td>700000</td>\n",
       "      <td>350000</td>\n",
       "    </tr>\n",
       "    <tr>\n",
       "      <th>Will Grates</th>\n",
       "      <td>2450000</td>\n",
       "      <td>0</td>\n",
       "      <td>0</td>\n",
       "      <td>350000</td>\n",
       "      <td>2450000</td>\n",
       "      <td>0</td>\n",
       "      <td>0</td>\n",
       "      <td>350000</td>\n",
       "    </tr>\n",
       "  </tbody>\n",
       "</table>\n",
       "</div>"
      ],
      "text/plain": [
       "                                    sum                                      \\\n",
       "                             Sale Price                                       \n",
       "Product                       Analytics GPS Positioning Prediction Tracking   \n",
       "Account Manager Contact                                                       \n",
       "Claude Shannon  Cindy Phoner    6650000               0     700000   350000   \n",
       "                Emma Gordian   11550000          350000          0   490000   \n",
       "Edward Thorp    Elon Tusk       7350000               0     700000        0   \n",
       "                Larry Pager     4550000               0     700000   350000   \n",
       "                Will Grates     2450000               0          0   350000   \n",
       "\n",
       "                                   mean                                      \n",
       "                             Sale Price                                      \n",
       "Product                       Analytics GPS Positioning Prediction Tracking  \n",
       "Account Manager Contact                                                      \n",
       "Claude Shannon  Cindy Phoner    3325000               0     700000   350000  \n",
       "                Emma Gordian    5775000          350000          0   490000  \n",
       "Edward Thorp    Elon Tusk       3675000               0     700000        0  \n",
       "                Larry Pager     2275000               0     700000   350000  \n",
       "                Will Grates     2450000               0          0   350000  "
      ]
     },
     "execution_count": 56,
     "metadata": {},
     "output_type": "execute_result"
    }
   ],
   "source": [
    "# Can add multiple agg functions\n",
    "pd.pivot_table(df,index=[\"Account Manager\",\"Contact\"],values=[\"Sale Price\"],columns=[\"Product\"],\n",
    "               aggfunc=[np.sum,np.mean],fill_value=0)"
   ]
  },
  {
   "cell_type": "code",
   "execution_count": 57,
   "id": "86e3ce20-e647-4454-acb0-9ff8618b5ebd",
   "metadata": {},
   "outputs": [
    {
     "data": {
      "text/html": [
       "<div>\n",
       "<style scoped>\n",
       "    .dataframe tbody tr th:only-of-type {\n",
       "        vertical-align: middle;\n",
       "    }\n",
       "\n",
       "    .dataframe tbody tr th {\n",
       "        vertical-align: top;\n",
       "    }\n",
       "\n",
       "    .dataframe thead tr th {\n",
       "        text-align: left;\n",
       "    }\n",
       "\n",
       "    .dataframe thead tr:last-of-type th {\n",
       "        text-align: right;\n",
       "    }\n",
       "</style>\n",
       "<table border=\"1\" class=\"dataframe\">\n",
       "  <thead>\n",
       "    <tr>\n",
       "      <th></th>\n",
       "      <th></th>\n",
       "      <th colspan=\"8\" halign=\"left\">sum</th>\n",
       "    </tr>\n",
       "    <tr>\n",
       "      <th></th>\n",
       "      <th></th>\n",
       "      <th colspan=\"4\" halign=\"left\">Licenses</th>\n",
       "      <th colspan=\"4\" halign=\"left\">Sale Price</th>\n",
       "    </tr>\n",
       "    <tr>\n",
       "      <th></th>\n",
       "      <th>Product</th>\n",
       "      <th>Analytics</th>\n",
       "      <th>GPS Positioning</th>\n",
       "      <th>Prediction</th>\n",
       "      <th>Tracking</th>\n",
       "      <th>Analytics</th>\n",
       "      <th>GPS Positioning</th>\n",
       "      <th>Prediction</th>\n",
       "      <th>Tracking</th>\n",
       "    </tr>\n",
       "    <tr>\n",
       "      <th>Account Manager</th>\n",
       "      <th>Contact</th>\n",
       "      <th></th>\n",
       "      <th></th>\n",
       "      <th></th>\n",
       "      <th></th>\n",
       "      <th></th>\n",
       "      <th></th>\n",
       "      <th></th>\n",
       "      <th></th>\n",
       "    </tr>\n",
       "  </thead>\n",
       "  <tbody>\n",
       "    <tr>\n",
       "      <th rowspan=\"2\" valign=\"top\">Claude Shannon</th>\n",
       "      <th>Cindy Phoner</th>\n",
       "      <td>450</td>\n",
       "      <td>0</td>\n",
       "      <td>150</td>\n",
       "      <td>150</td>\n",
       "      <td>6650000</td>\n",
       "      <td>0</td>\n",
       "      <td>700000</td>\n",
       "      <td>350000</td>\n",
       "    </tr>\n",
       "    <tr>\n",
       "      <th>Emma Gordian</th>\n",
       "      <td>1050</td>\n",
       "      <td>300</td>\n",
       "      <td>0</td>\n",
       "      <td>450</td>\n",
       "      <td>11550000</td>\n",
       "      <td>350000</td>\n",
       "      <td>0</td>\n",
       "      <td>490000</td>\n",
       "    </tr>\n",
       "    <tr>\n",
       "      <th rowspan=\"3\" valign=\"top\">Edward Thorp</th>\n",
       "      <th>Elon Tusk</th>\n",
       "      <td>600</td>\n",
       "      <td>0</td>\n",
       "      <td>150</td>\n",
       "      <td>0</td>\n",
       "      <td>7350000</td>\n",
       "      <td>0</td>\n",
       "      <td>700000</td>\n",
       "      <td>0</td>\n",
       "    </tr>\n",
       "    <tr>\n",
       "      <th>Larry Pager</th>\n",
       "      <td>300</td>\n",
       "      <td>0</td>\n",
       "      <td>150</td>\n",
       "      <td>300</td>\n",
       "      <td>4550000</td>\n",
       "      <td>0</td>\n",
       "      <td>700000</td>\n",
       "      <td>350000</td>\n",
       "    </tr>\n",
       "    <tr>\n",
       "      <th>Will Grates</th>\n",
       "      <td>150</td>\n",
       "      <td>0</td>\n",
       "      <td>0</td>\n",
       "      <td>300</td>\n",
       "      <td>2450000</td>\n",
       "      <td>0</td>\n",
       "      <td>0</td>\n",
       "      <td>350000</td>\n",
       "    </tr>\n",
       "  </tbody>\n",
       "</table>\n",
       "</div>"
      ],
      "text/plain": [
       "                                   sum                                      \\\n",
       "                              Licenses                                       \n",
       "Product                      Analytics GPS Positioning Prediction Tracking   \n",
       "Account Manager Contact                                                      \n",
       "Claude Shannon  Cindy Phoner       450               0        150      150   \n",
       "                Emma Gordian      1050             300          0      450   \n",
       "Edward Thorp    Elon Tusk          600               0        150        0   \n",
       "                Larry Pager        300               0        150      300   \n",
       "                Will Grates        150               0          0      300   \n",
       "\n",
       "                                                                             \n",
       "                             Sale Price                                      \n",
       "Product                       Analytics GPS Positioning Prediction Tracking  \n",
       "Account Manager Contact                                                      \n",
       "Claude Shannon  Cindy Phoner    6650000               0     700000   350000  \n",
       "                Emma Gordian   11550000          350000          0   490000  \n",
       "Edward Thorp    Elon Tusk       7350000               0     700000        0  \n",
       "                Larry Pager     4550000               0     700000   350000  \n",
       "                Will Grates     2450000               0          0   350000  "
      ]
     },
     "execution_count": 57,
     "metadata": {},
     "output_type": "execute_result"
    }
   ],
   "source": [
    "# Can add on multiple columns\n",
    "pd.pivot_table(df,index=[\"Account Manager\",\"Contact\"],values=[\"Sale Price\",\"Licenses\"],columns=[\"Product\"],\n",
    "               aggfunc=[np.sum],fill_value=0)"
   ]
  },
  {
   "cell_type": "code",
   "execution_count": 58,
   "id": "99410e6b-3271-4e23-ac37-44a22a0325e8",
   "metadata": {},
   "outputs": [
    {
     "data": {
      "text/html": [
       "<div>\n",
       "<style scoped>\n",
       "    .dataframe tbody tr th:only-of-type {\n",
       "        vertical-align: middle;\n",
       "    }\n",
       "\n",
       "    .dataframe tbody tr th {\n",
       "        vertical-align: top;\n",
       "    }\n",
       "\n",
       "    .dataframe thead tr th {\n",
       "        text-align: left;\n",
       "    }\n",
       "\n",
       "    .dataframe thead tr:last-of-type th {\n",
       "        text-align: right;\n",
       "    }\n",
       "</style>\n",
       "<table border=\"1\" class=\"dataframe\">\n",
       "  <thead>\n",
       "    <tr>\n",
       "      <th></th>\n",
       "      <th></th>\n",
       "      <th></th>\n",
       "      <th colspan=\"2\" halign=\"left\">sum</th>\n",
       "    </tr>\n",
       "    <tr>\n",
       "      <th></th>\n",
       "      <th></th>\n",
       "      <th></th>\n",
       "      <th>Licenses</th>\n",
       "      <th>Sale Price</th>\n",
       "    </tr>\n",
       "    <tr>\n",
       "      <th>Account Manager</th>\n",
       "      <th>Contact</th>\n",
       "      <th>Product</th>\n",
       "      <th></th>\n",
       "      <th></th>\n",
       "    </tr>\n",
       "  </thead>\n",
       "  <tbody>\n",
       "    <tr>\n",
       "      <th rowspan=\"6\" valign=\"top\">Claude Shannon</th>\n",
       "      <th rowspan=\"3\" valign=\"top\">Cindy Phoner</th>\n",
       "      <th>Analytics</th>\n",
       "      <td>450</td>\n",
       "      <td>6650000</td>\n",
       "    </tr>\n",
       "    <tr>\n",
       "      <th>Prediction</th>\n",
       "      <td>150</td>\n",
       "      <td>700000</td>\n",
       "    </tr>\n",
       "    <tr>\n",
       "      <th>Tracking</th>\n",
       "      <td>150</td>\n",
       "      <td>350000</td>\n",
       "    </tr>\n",
       "    <tr>\n",
       "      <th rowspan=\"3\" valign=\"top\">Emma Gordian</th>\n",
       "      <th>Analytics</th>\n",
       "      <td>1050</td>\n",
       "      <td>11550000</td>\n",
       "    </tr>\n",
       "    <tr>\n",
       "      <th>GPS Positioning</th>\n",
       "      <td>300</td>\n",
       "      <td>350000</td>\n",
       "    </tr>\n",
       "    <tr>\n",
       "      <th>Tracking</th>\n",
       "      <td>450</td>\n",
       "      <td>490000</td>\n",
       "    </tr>\n",
       "    <tr>\n",
       "      <th rowspan=\"7\" valign=\"top\">Edward Thorp</th>\n",
       "      <th rowspan=\"2\" valign=\"top\">Elon Tusk</th>\n",
       "      <th>Analytics</th>\n",
       "      <td>600</td>\n",
       "      <td>7350000</td>\n",
       "    </tr>\n",
       "    <tr>\n",
       "      <th>Prediction</th>\n",
       "      <td>150</td>\n",
       "      <td>700000</td>\n",
       "    </tr>\n",
       "    <tr>\n",
       "      <th rowspan=\"3\" valign=\"top\">Larry Pager</th>\n",
       "      <th>Analytics</th>\n",
       "      <td>300</td>\n",
       "      <td>4550000</td>\n",
       "    </tr>\n",
       "    <tr>\n",
       "      <th>Prediction</th>\n",
       "      <td>150</td>\n",
       "      <td>700000</td>\n",
       "    </tr>\n",
       "    <tr>\n",
       "      <th>Tracking</th>\n",
       "      <td>300</td>\n",
       "      <td>350000</td>\n",
       "    </tr>\n",
       "    <tr>\n",
       "      <th rowspan=\"2\" valign=\"top\">Will Grates</th>\n",
       "      <th>Analytics</th>\n",
       "      <td>150</td>\n",
       "      <td>2450000</td>\n",
       "    </tr>\n",
       "    <tr>\n",
       "      <th>Tracking</th>\n",
       "      <td>300</td>\n",
       "      <td>350000</td>\n",
       "    </tr>\n",
       "  </tbody>\n",
       "</table>\n",
       "</div>"
      ],
      "text/plain": [
       "                                                  sum           \n",
       "                                             Licenses Sale Price\n",
       "Account Manager Contact      Product                            \n",
       "Claude Shannon  Cindy Phoner Analytics            450    6650000\n",
       "                             Prediction           150     700000\n",
       "                             Tracking             150     350000\n",
       "                Emma Gordian Analytics           1050   11550000\n",
       "                             GPS Positioning      300     350000\n",
       "                             Tracking             450     490000\n",
       "Edward Thorp    Elon Tusk    Analytics            600    7350000\n",
       "                             Prediction           150     700000\n",
       "                Larry Pager  Analytics            300    4550000\n",
       "                             Prediction           150     700000\n",
       "                             Tracking             300     350000\n",
       "                Will Grates  Analytics            150    2450000\n",
       "                             Tracking             300     350000"
      ]
     },
     "execution_count": 58,
     "metadata": {},
     "output_type": "execute_result"
    }
   ],
   "source": [
    "# Can add on multiple columns\n",
    "pd.pivot_table(df,index=[\"Account Manager\",\"Contact\",\"Product\"],values=[\"Sale Price\",\"Licenses\"],\n",
    "               aggfunc=[np.sum],fill_value=0)"
   ]
  },
  {
   "cell_type": "code",
   "execution_count": 59,
   "id": "3b89e641-8843-48ff-892d-5a68417632f7",
   "metadata": {},
   "outputs": [
    {
     "data": {
      "text/html": [
       "<div>\n",
       "<style scoped>\n",
       "    .dataframe tbody tr th:only-of-type {\n",
       "        vertical-align: middle;\n",
       "    }\n",
       "\n",
       "    .dataframe tbody tr th {\n",
       "        vertical-align: top;\n",
       "    }\n",
       "\n",
       "    .dataframe thead tr th {\n",
       "        text-align: left;\n",
       "    }\n",
       "\n",
       "    .dataframe thead tr:last-of-type th {\n",
       "        text-align: right;\n",
       "    }\n",
       "</style>\n",
       "<table border=\"1\" class=\"dataframe\">\n",
       "  <thead>\n",
       "    <tr>\n",
       "      <th></th>\n",
       "      <th></th>\n",
       "      <th></th>\n",
       "      <th colspan=\"2\" halign=\"left\">sum</th>\n",
       "    </tr>\n",
       "    <tr>\n",
       "      <th></th>\n",
       "      <th></th>\n",
       "      <th></th>\n",
       "      <th>Licenses</th>\n",
       "      <th>Sale Price</th>\n",
       "    </tr>\n",
       "    <tr>\n",
       "      <th>Account Manager</th>\n",
       "      <th>Contact</th>\n",
       "      <th>Product</th>\n",
       "      <th></th>\n",
       "      <th></th>\n",
       "    </tr>\n",
       "  </thead>\n",
       "  <tbody>\n",
       "    <tr>\n",
       "      <th rowspan=\"6\" valign=\"top\">Claude Shannon</th>\n",
       "      <th rowspan=\"3\" valign=\"top\">Cindy Phoner</th>\n",
       "      <th>Analytics</th>\n",
       "      <td>450</td>\n",
       "      <td>6650000</td>\n",
       "    </tr>\n",
       "    <tr>\n",
       "      <th>Prediction</th>\n",
       "      <td>150</td>\n",
       "      <td>700000</td>\n",
       "    </tr>\n",
       "    <tr>\n",
       "      <th>Tracking</th>\n",
       "      <td>150</td>\n",
       "      <td>350000</td>\n",
       "    </tr>\n",
       "    <tr>\n",
       "      <th rowspan=\"3\" valign=\"top\">Emma Gordian</th>\n",
       "      <th>Analytics</th>\n",
       "      <td>1050</td>\n",
       "      <td>11550000</td>\n",
       "    </tr>\n",
       "    <tr>\n",
       "      <th>GPS Positioning</th>\n",
       "      <td>300</td>\n",
       "      <td>350000</td>\n",
       "    </tr>\n",
       "    <tr>\n",
       "      <th>Tracking</th>\n",
       "      <td>450</td>\n",
       "      <td>490000</td>\n",
       "    </tr>\n",
       "    <tr>\n",
       "      <th rowspan=\"7\" valign=\"top\">Edward Thorp</th>\n",
       "      <th rowspan=\"2\" valign=\"top\">Elon Tusk</th>\n",
       "      <th>Analytics</th>\n",
       "      <td>600</td>\n",
       "      <td>7350000</td>\n",
       "    </tr>\n",
       "    <tr>\n",
       "      <th>Prediction</th>\n",
       "      <td>150</td>\n",
       "      <td>700000</td>\n",
       "    </tr>\n",
       "    <tr>\n",
       "      <th rowspan=\"3\" valign=\"top\">Larry Pager</th>\n",
       "      <th>Analytics</th>\n",
       "      <td>300</td>\n",
       "      <td>4550000</td>\n",
       "    </tr>\n",
       "    <tr>\n",
       "      <th>Prediction</th>\n",
       "      <td>150</td>\n",
       "      <td>700000</td>\n",
       "    </tr>\n",
       "    <tr>\n",
       "      <th>Tracking</th>\n",
       "      <td>300</td>\n",
       "      <td>350000</td>\n",
       "    </tr>\n",
       "    <tr>\n",
       "      <th rowspan=\"2\" valign=\"top\">Will Grates</th>\n",
       "      <th>Analytics</th>\n",
       "      <td>150</td>\n",
       "      <td>2450000</td>\n",
       "    </tr>\n",
       "    <tr>\n",
       "      <th>Tracking</th>\n",
       "      <td>300</td>\n",
       "      <td>350000</td>\n",
       "    </tr>\n",
       "    <tr>\n",
       "      <th>All</th>\n",
       "      <th></th>\n",
       "      <th></th>\n",
       "      <td>4500</td>\n",
       "      <td>36540000</td>\n",
       "    </tr>\n",
       "  </tbody>\n",
       "</table>\n",
       "</div>"
      ],
      "text/plain": [
       "                                                  sum           \n",
       "                                             Licenses Sale Price\n",
       "Account Manager Contact      Product                            \n",
       "Claude Shannon  Cindy Phoner Analytics            450    6650000\n",
       "                             Prediction           150     700000\n",
       "                             Tracking             150     350000\n",
       "                Emma Gordian Analytics           1050   11550000\n",
       "                             GPS Positioning      300     350000\n",
       "                             Tracking             450     490000\n",
       "Edward Thorp    Elon Tusk    Analytics            600    7350000\n",
       "                             Prediction           150     700000\n",
       "                Larry Pager  Analytics            300    4550000\n",
       "                             Prediction           150     700000\n",
       "                             Tracking             300     350000\n",
       "                Will Grates  Analytics            150    2450000\n",
       "                             Tracking             300     350000\n",
       "All                                              4500   36540000"
      ]
     },
     "execution_count": 59,
     "metadata": {},
     "output_type": "execute_result"
    }
   ],
   "source": [
    "# get Final \"ALL\" with margins = True\n",
    "# Can add on multiple columns\n",
    "pd.pivot_table(df,index=[\"Account Manager\",\"Contact\",\"Product\"],values=[\"Sale Price\",\"Licenses\"],\n",
    "               aggfunc=[np.sum],fill_value=0,margins=True)"
   ]
  },
  {
   "cell_type": "code",
   "execution_count": 60,
   "id": "8131dca0-90e1-4b86-863d-b65a61d1615b",
   "metadata": {},
   "outputs": [
    {
     "data": {
      "text/html": [
       "<div>\n",
       "<style scoped>\n",
       "    .dataframe tbody tr th:only-of-type {\n",
       "        vertical-align: middle;\n",
       "    }\n",
       "\n",
       "    .dataframe tbody tr th {\n",
       "        vertical-align: top;\n",
       "    }\n",
       "\n",
       "    .dataframe thead tr th {\n",
       "        text-align: left;\n",
       "    }\n",
       "\n",
       "    .dataframe thead tr:last-of-type th {\n",
       "        text-align: right;\n",
       "    }\n",
       "</style>\n",
       "<table border=\"1\" class=\"dataframe\">\n",
       "  <thead>\n",
       "    <tr>\n",
       "      <th></th>\n",
       "      <th></th>\n",
       "      <th>sum</th>\n",
       "    </tr>\n",
       "    <tr>\n",
       "      <th></th>\n",
       "      <th></th>\n",
       "      <th>Sale Price</th>\n",
       "    </tr>\n",
       "    <tr>\n",
       "      <th>Account Manager</th>\n",
       "      <th>Status</th>\n",
       "      <th></th>\n",
       "    </tr>\n",
       "  </thead>\n",
       "  <tbody>\n",
       "    <tr>\n",
       "      <th rowspan=\"4\" valign=\"top\">Claude Shannon</th>\n",
       "      <th>Lost</th>\n",
       "      <td>4550000</td>\n",
       "    </tr>\n",
       "    <tr>\n",
       "      <th>Presented</th>\n",
       "      <td>3150000</td>\n",
       "    </tr>\n",
       "    <tr>\n",
       "      <th>Under Review</th>\n",
       "      <td>350000</td>\n",
       "    </tr>\n",
       "    <tr>\n",
       "      <th>Won</th>\n",
       "      <td>12040000</td>\n",
       "    </tr>\n",
       "    <tr>\n",
       "      <th rowspan=\"4\" valign=\"top\">Edward Thorp</th>\n",
       "      <th>Lost</th>\n",
       "      <td>4900000</td>\n",
       "    </tr>\n",
       "    <tr>\n",
       "      <th>Presented</th>\n",
       "      <td>3500000</td>\n",
       "    </tr>\n",
       "    <tr>\n",
       "      <th>Under Review</th>\n",
       "      <td>3500000</td>\n",
       "    </tr>\n",
       "    <tr>\n",
       "      <th>Won</th>\n",
       "      <td>4550000</td>\n",
       "    </tr>\n",
       "    <tr>\n",
       "      <th>All</th>\n",
       "      <th></th>\n",
       "      <td>36540000</td>\n",
       "    </tr>\n",
       "  </tbody>\n",
       "</table>\n",
       "</div>"
      ],
      "text/plain": [
       "                                    sum\n",
       "                             Sale Price\n",
       "Account Manager Status                 \n",
       "Claude Shannon  Lost            4550000\n",
       "                Presented       3150000\n",
       "                Under Review     350000\n",
       "                Won            12040000\n",
       "Edward Thorp    Lost            4900000\n",
       "                Presented       3500000\n",
       "                Under Review    3500000\n",
       "                Won             4550000\n",
       "All                            36540000"
      ]
     },
     "execution_count": 60,
     "metadata": {},
     "output_type": "execute_result"
    }
   ],
   "source": [
    "pd.pivot_table(df,index=[\"Account Manager\",\"Status\"],values=[\"Sale Price\"],\n",
    "               aggfunc=[np.sum],fill_value=0,margins=True)"
   ]
  },
  {
   "cell_type": "code",
   "execution_count": null,
   "id": "e1e5e534-9d6c-4759-97a6-0651554141a4",
   "metadata": {},
   "outputs": [],
   "source": []
  }
 ],
 "metadata": {
  "kernelspec": {
   "display_name": "Python 3 (ipykernel)",
   "language": "python",
   "name": "python3"
  },
  "language_info": {
   "codemirror_mode": {
    "name": "ipython",
    "version": 3
   },
   "file_extension": ".py",
   "mimetype": "text/x-python",
   "name": "python",
   "nbconvert_exporter": "python",
   "pygments_lexer": "ipython3",
   "version": "3.8.8"
  }
 },
 "nbformat": 4,
 "nbformat_minor": 5
}
