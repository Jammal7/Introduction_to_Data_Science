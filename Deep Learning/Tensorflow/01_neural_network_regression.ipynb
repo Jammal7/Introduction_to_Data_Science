{
 "cells": [
  {
   "attachments": {},
   "cell_type": "markdown",
   "id": "852ebbdf",
   "metadata": {},
   "source": [
    "# Introduction to Regression with Neural Networks in TensorFlow"
   ]
  },
  {
   "cell_type": "code",
   "execution_count": 1,
   "id": "ca73c734",
   "metadata": {},
   "outputs": [],
   "source": [
    "import tensorflow as tf\n",
    "import pandas as pd\n",
    "import numpy as np\n",
    "import matplotlib.pyplot as plt\n",
    "\n",
    "import warnings\n",
    "warnings.filterwarnings('ignore')"
   ]
  },
  {
   "cell_type": "code",
   "execution_count": 2,
   "id": "ef488e0d",
   "metadata": {},
   "outputs": [
    {
     "data": {
      "image/png": "[encoded data removed]",
      "text/plain": [
       "<Figure size 640x480 with 1 Axes>"
      ]
     },
     "metadata": {},
     "output_type": "display_data"
    }
   ],
   "source": [
    "# Create Featuers\n",
    "X = np.array([-7.0, -4.0, -1.0, 2.0, 5.0, 8.0, 11.0, 14.0])\n",
    "\n",
    "# Create Labels\n",
    "y = np.array([3.0, 6.0, 9.0, 12.0, 15.0, 18.0, 21.0, 24.0])\n",
    "\n",
    "# Visualizing \n",
    "plt.scatter(X, y);"
   ]
  },
  {
   "cell_type": "code",
   "execution_count": 3,
   "id": "12904fa2",
   "metadata": {},
   "outputs": [
    {
     "data": {
      "text/plain": [
       "array([ True,  True,  True,  True,  True,  True,  True,  True])"
      ]
     },
     "execution_count": 3,
     "metadata": {},
     "output_type": "execute_result"
    }
   ],
   "source": [
    "y == X + 10"
   ]
  },
  {
   "attachments": {},
   "cell_type": "markdown",
   "id": "3f5512f8",
   "metadata": {},
   "source": [
    "## Input and Output Shapes"
   ]
  },
  {
   "cell_type": "code",
   "execution_count": 4,
   "id": "d94277be",
   "metadata": {},
   "outputs": [
    {
     "name": "stdout",
     "output_type": "stream",
     "text": [
      "Metal device set to: Apple M2\n",
      "\n",
      "systemMemory: 8.00 GB\n",
      "maxCacheSize: 2.67 GB\n",
      "\n"
     ]
    }
   ],
   "source": [
    "house_info = tf.constant([\"bedroom\", \"bathroom\", \"garage\"])\n",
    "house_price = tf.constant([939700])"
   ]
  },
  {
   "cell_type": "code",
   "execution_count": 5,
   "id": "4db7ba11",
   "metadata": {},
   "outputs": [
    {
     "data": {
      "text/plain": [
       "<tf.Tensor: shape=(3,), dtype=string, numpy=array([b'bedroom', b'bathroom', b'garage'], dtype=object)>"
      ]
     },
     "execution_count": 5,
     "metadata": {},
     "output_type": "execute_result"
    }
   ],
   "source": [
    "house_info"
   ]
  },
  {
   "cell_type": "code",
   "execution_count": 6,
   "id": "4ee37754",
   "metadata": {},
   "outputs": [
    {
     "data": {
      "text/plain": [
       "<tf.Tensor: shape=(1,), dtype=int32, numpy=array([939700], dtype=int32)>"
      ]
     },
     "execution_count": 6,
     "metadata": {},
     "output_type": "execute_result"
    }
   ],
   "source": [
    "house_price"
   ]
  },
  {
   "cell_type": "code",
   "execution_count": 7,
   "id": "c1978355",
   "metadata": {},
   "outputs": [
    {
     "data": {
      "text/plain": [
       "(<tf.Tensor: shape=(8,), dtype=float32, numpy=array([-7., -4., -1.,  2.,  5.,  8., 11., 14.], dtype=float32)>,\n",
       " <tf.Tensor: shape=(8,), dtype=float32, numpy=array([ 3.,  6.,  9., 12., 15., 18., 21., 24.], dtype=float32)>)"
      ]
     },
     "execution_count": 7,
     "metadata": {},
     "output_type": "execute_result"
    }
   ],
   "source": [
    "# Turn the NumPy arrays into tensors with dtype float32\n",
    "X = tf.cast(tf.constant(X), dtype=tf.float32)\n",
    "y = tf.cast(tf.constant(y), dtype=tf.float32)\n",
    "\n",
    "X, y"
   ]
  },
  {
   "cell_type": "code",
   "execution_count": 8,
   "id": "bcdd5d14",
   "metadata": {},
   "outputs": [
    {
     "data": {
      "text/plain": [
       "(TensorShape([]), TensorShape([]))"
      ]
     },
     "execution_count": 8,
     "metadata": {},
     "output_type": "execute_result"
    }
   ],
   "source": [
    "input_shape = X[0].shape\n",
    "output_shape = y[0].shape\n",
    "\n",
    "input_shape, output_shape"
   ]
  },
  {
   "attachments": {},
   "cell_type": "markdown",
   "id": "f9a07db7",
   "metadata": {},
   "source": [
    "## Steps in Modelling with TensorFlow\n",
    "\n",
    "1. **Creating a model**: define the input & output layers, as well as the hidden layers of a deep learning model.\n",
    "2. **Compilin a model**: define the loss function (in other words, the function which tells the model how wrong it is), the optimizer (tells the model how to improve the patterns its learning) and evaluation metrics (evaluate/interpret the performance of the model).\n",
    "3. **Fitting a model**: letting the model try to find patterns between X & y (features and labels)."
   ]
  },
  {
   "cell_type": "code",
   "execution_count": 9,
   "id": "566bfde2",
   "metadata": {},
   "outputs": [
    {
     "name": "stdout",
     "output_type": "stream",
     "text": [
      "Epoch 1/10\n"
     ]
    },
    {
     "name": "stderr",
     "output_type": "stream",
     "text": [
      "2023-06-16 09:32:05.826249: W tensorflow/tsl/platform/profile_utils/cpu_utils.cc:128] Failed to get CPU frequency: 0 Hz\n"
     ]
    },
    {
     "name": "stdout",
     "output_type": "stream",
     "text": [
      "1/1 [==============================] - 0s 235ms/step - loss: 12.9534 - mae: 12.9534\n",
      "Epoch 2/10\n",
      "1/1 [==============================] - 0s 6ms/step - loss: 12.8209 - mae: 12.8209\n",
      "Epoch 3/10\n",
      "1/1 [==============================] - 0s 5ms/step - loss: 12.6884 - mae: 12.6884\n",
      "Epoch 4/10\n",
      "1/1 [==============================] - 0s 5ms/step - loss: 12.5559 - mae: 12.5559\n",
      "Epoch 5/10\n",
      "1/1 [==============================] - 0s 5ms/step - loss: 12.4234 - mae: 12.4234\n",
      "Epoch 6/10\n",
      "1/1 [==============================] - 0s 5ms/step - loss: 12.2909 - mae: 12.2909\n",
      "Epoch 7/10\n",
      "1/1 [==============================] - 0s 5ms/step - loss: 12.1584 - mae: 12.1584\n",
      "Epoch 8/10\n",
      "1/1 [==============================] - 0s 4ms/step - loss: 12.0259 - mae: 12.0259\n",
      "Epoch 9/10\n",
      "1/1 [==============================] - 0s 4ms/step - loss: 11.8934 - mae: 11.8934\n",
      "Epoch 10/10\n",
      "1/1 [==============================] - 0s 7ms/step - loss: 11.7609 - mae: 11.7609\n"
     ]
    },
    {
     "data": {
      "text/plain": [
       "<keras.callbacks.History at 0x2afc4b190>"
      ]
     },
     "execution_count": 9,
     "metadata": {},
     "output_type": "execute_result"
    }
   ],
   "source": [
    "# Set random seed\n",
    "tf.random.set_seed(42)\n",
    "\n",
    "# 1. Create a model using the Sequential API\n",
    "model = tf.keras.Sequential([\n",
    "    tf.keras.layers.Dense(1)\n",
    "])\n",
    "\n",
    "# 2. Compile the model\n",
    "model.compile(loss = tf.keras.losses.mae, # mae == mean absolute error\n",
    "             optimizer = tf.keras.optimizers.legacy.SGD(), # sgd == stochastic gradient descent,\n",
    "             metrics = [\"mae\"])\n",
    "\n",
    "# 3. Fit the model\n",
    "model.fit(tf.expand_dims(X, axis=-1), y, epochs=10)"
   ]
  },
  {
   "cell_type": "code",
   "execution_count": 10,
   "id": "11a3c6a0",
   "metadata": {},
   "outputs": [
    {
     "name": "stdout",
     "output_type": "stream",
     "text": [
      "1/1 [==============================] - 0s 49ms/step\n"
     ]
    },
    {
     "data": {
      "text/plain": [
       "array([[8.70502]], dtype=float32)"
      ]
     },
     "execution_count": 10,
     "metadata": {},
     "output_type": "execute_result"
    }
   ],
   "source": [
    "# prediction using the model\n",
    "model.predict([17.0])"
   ]
  },
  {
   "attachments": {},
   "cell_type": "markdown",
   "id": "316d67e9",
   "metadata": {},
   "source": [
    "## Improving the model\n",
    " \n",
    "The model could be improve by altering the steps that was taken to create the model\n",
    " \n",
    "1. **Creating a model**: add more layers, increase the numbers of hidden units(called neurons) within each of the hiden layers, and change the activation function of each layer.\n",
    "2. **Compiling the model**: might change the optimization function or the **learning rate** of the optimization function\n",
    "3. **Fitting the model**:fit the model with more **epochs**(leave it training for longer) or on more data (give the model more examples to learn from)."
   ]
  },
  {
   "cell_type": "code",
   "execution_count": 11,
   "id": "37f6f542",
   "metadata": {},
   "outputs": [
    {
     "name": "stdout",
     "output_type": "stream",
     "text": [
      "Epoch 1/100\n",
      "1/1 [==============================] - 0s 141ms/step - loss: 20.6571 - mae: 20.6571\n",
      "Epoch 2/100\n",
      "1/1 [==============================] - 0s 6ms/step - loss: 20.3201 - mae: 20.3201\n",
      "Epoch 3/100\n",
      "1/1 [==============================] - 0s 5ms/step - loss: 20.0388 - mae: 20.0388\n",
      "Epoch 4/100\n",
      "1/1 [==============================] - 0s 5ms/step - loss: 19.7576 - mae: 19.7576\n",
      "Epoch 5/100\n",
      "1/1 [==============================] - 0s 5ms/step - loss: 19.4763 - mae: 19.4763\n",
      "Epoch 6/100\n",
      "1/1 [==============================] - 0s 5ms/step - loss: 19.1951 - mae: 19.1951\n",
      "Epoch 7/100\n",
      "1/1 [==============================] - 0s 5ms/step - loss: 18.9138 - mae: 18.9138\n",
      "Epoch 8/100\n",
      "1/1 [==============================] - 0s 4ms/step - loss: 18.6326 - mae: 18.6326\n",
      "Epoch 9/100\n",
      "1/1 [==============================] - 0s 5ms/step - loss: 18.3513 - mae: 18.3513\n",
      "Epoch 10/100\n",
      "1/1 [==============================] - 0s 5ms/step - loss: 18.0701 - mae: 18.0701\n",
      "Epoch 11/100\n",
      "1/1 [==============================] - 0s 7ms/step - loss: 17.7888 - mae: 17.7888\n",
      "Epoch 12/100\n",
      "1/1 [==============================] - 0s 5ms/step - loss: 17.5076 - mae: 17.5076\n",
      "Epoch 13/100\n",
      "1/1 [==============================] - 0s 5ms/step - loss: 17.2263 - mae: 17.2263\n",
      "Epoch 14/100\n",
      "1/1 [==============================] - 0s 6ms/step - loss: 16.9451 - mae: 16.9451\n",
      "Epoch 15/100\n",
      "1/1 [==============================] - 0s 68ms/step - loss: 16.6638 - mae: 16.6638\n",
      "Epoch 16/100\n",
      "1/1 [==============================] - 0s 13ms/step - loss: 16.3826 - mae: 16.3826\n",
      "Epoch 17/100\n",
      "1/1 [==============================] - 0s 5ms/step - loss: 16.1013 - mae: 16.1013\n",
      "Epoch 18/100\n",
      "1/1 [==============================] - 0s 5ms/step - loss: 15.8201 - mae: 15.8201\n",
      "Epoch 19/100\n",
      "1/1 [==============================] - 0s 6ms/step - loss: 15.5388 - mae: 15.5388\n",
      "Epoch 20/100\n",
      "1/1 [==============================] - 0s 6ms/step - loss: 15.2576 - mae: 15.2576\n",
      "Epoch 21/100\n",
      "1/1 [==============================] - 0s 5ms/step - loss: 14.9763 - mae: 14.9763\n",
      "Epoch 22/100\n",
      "1/1 [==============================] - 0s 5ms/step - loss: 14.7192 - mae: 14.7192\n",
      "Epoch 23/100\n",
      "1/1 [==============================] - 0s 6ms/step - loss: 14.5867 - mae: 14.5867\n",
      "Epoch 24/100\n",
      "1/1 [==============================] - 0s 9ms/step - loss: 14.4542 - mae: 14.4542\n",
      "Epoch 25/100\n",
      "1/1 [==============================] - 0s 5ms/step - loss: 14.3217 - mae: 14.3217\n",
      "Epoch 26/100\n",
      "1/1 [==============================] - 0s 5ms/step - loss: 14.1892 - mae: 14.1892\n",
      "Epoch 27/100\n",
      "1/1 [==============================] - 0s 5ms/step - loss: 14.0567 - mae: 14.0567\n",
      "Epoch 28/100\n",
      "1/1 [==============================] - 0s 5ms/step - loss: 13.9242 - mae: 13.9242\n",
      "Epoch 29/100\n",
      "1/1 [==============================] - 0s 9ms/step - loss: 13.7917 - mae: 13.7917\n",
      "Epoch 30/100\n",
      "1/1 [==============================] - 0s 5ms/step - loss: 13.6592 - mae: 13.6592\n",
      "Epoch 31/100\n",
      "1/1 [==============================] - 0s 5ms/step - loss: 13.5267 - mae: 13.5267\n",
      "Epoch 32/100\n",
      "1/1 [==============================] - 0s 5ms/step - loss: 13.3942 - mae: 13.3942\n",
      "Epoch 33/100\n",
      "1/1 [==============================] - 0s 5ms/step - loss: 13.2617 - mae: 13.2617\n",
      "Epoch 34/100\n",
      "1/1 [==============================] - 0s 6ms/step - loss: 13.1292 - mae: 13.1292\n",
      "Epoch 35/100\n",
      "1/1 [==============================] - 0s 5ms/step - loss: 12.9967 - mae: 12.9967\n",
      "Epoch 36/100\n",
      "1/1 [==============================] - 0s 5ms/step - loss: 12.8642 - mae: 12.8642\n",
      "Epoch 37/100\n",
      "1/1 [==============================] - 0s 5ms/step - loss: 12.7317 - mae: 12.7317\n",
      "Epoch 38/100\n",
      "1/1 [==============================] - 0s 4ms/step - loss: 12.5992 - mae: 12.5992\n",
      "Epoch 39/100\n",
      "1/1 [==============================] - 0s 8ms/step - loss: 12.4667 - mae: 12.4667\n",
      "Epoch 40/100\n",
      "1/1 [==============================] - 0s 8ms/step - loss: 12.3342 - mae: 12.3342\n",
      "Epoch 41/100\n",
      "1/1 [==============================] - 0s 5ms/step - loss: 12.2017 - mae: 12.2017\n",
      "Epoch 42/100\n",
      "1/1 [==============================] - 0s 5ms/step - loss: 12.0692 - mae: 12.0692\n",
      "Epoch 43/100\n",
      "1/1 [==============================] - 0s 6ms/step - loss: 11.9367 - mae: 11.9367\n",
      "Epoch 44/100\n",
      "1/1 [==============================] - 0s 6ms/step - loss: 11.8042 - mae: 11.8042\n",
      "Epoch 45/100\n",
      "1/1 [==============================] - 0s 5ms/step - loss: 11.6717 - mae: 11.6717\n",
      "Epoch 46/100\n",
      "1/1 [==============================] - 0s 5ms/step - loss: 11.5392 - mae: 11.5392\n",
      "Epoch 47/100\n",
      "1/1 [==============================] - 0s 4ms/step - loss: 11.4067 - mae: 11.4067\n",
      "Epoch 48/100\n",
      "1/1 [==============================] - 0s 4ms/step - loss: 11.2742 - mae: 11.2742\n",
      "Epoch 49/100\n",
      "1/1 [==============================] - 0s 4ms/step - loss: 11.1417 - mae: 11.1417\n",
      "Epoch 50/100\n",
      "1/1 [==============================] - 0s 5ms/step - loss: 11.0092 - mae: 11.0092\n",
      "Epoch 51/100\n",
      "1/1 [==============================] - 0s 5ms/step - loss: 10.8767 - mae: 10.8767\n",
      "Epoch 52/100\n",
      "1/1 [==============================] - 0s 5ms/step - loss: 10.7442 - mae: 10.7442\n",
      "Epoch 53/100\n",
      "1/1 [==============================] - 0s 5ms/step - loss: 10.6117 - mae: 10.6117\n",
      "Epoch 54/100\n",
      "1/1 [==============================] - 0s 5ms/step - loss: 10.4792 - mae: 10.4792\n",
      "Epoch 55/100\n",
      "1/1 [==============================] - 0s 5ms/step - loss: 10.3467 - mae: 10.3467\n",
      "Epoch 56/100\n",
      "1/1 [==============================] - 0s 5ms/step - loss: 10.2142 - mae: 10.2142\n",
      "Epoch 57/100\n",
      "1/1 [==============================] - 0s 5ms/step - loss: 10.0817 - mae: 10.0817\n",
      "Epoch 58/100\n",
      "1/1 [==============================] - 0s 5ms/step - loss: 9.9492 - mae: 9.9492\n",
      "Epoch 59/100\n",
      "1/1 [==============================] - 0s 7ms/step - loss: 9.8167 - mae: 9.8167\n",
      "Epoch 60/100\n",
      "1/1 [==============================] - 0s 5ms/step - loss: 9.6842 - mae: 9.6842\n",
      "Epoch 61/100\n",
      "1/1 [==============================] - 0s 6ms/step - loss: 9.5517 - mae: 9.5517\n",
      "Epoch 62/100\n",
      "1/1 [==============================] - 0s 6ms/step - loss: 9.4192 - mae: 9.4192\n",
      "Epoch 63/100\n",
      "1/1 [==============================] - 0s 5ms/step - loss: 9.2867 - mae: 9.2867\n",
      "Epoch 64/100\n",
      "1/1 [==============================] - 0s 4ms/step - loss: 9.1542 - mae: 9.1542\n",
      "Epoch 65/100\n",
      "1/1 [==============================] - 0s 5ms/step - loss: 9.0217 - mae: 9.0217\n",
      "Epoch 66/100\n",
      "1/1 [==============================] - 0s 5ms/step - loss: 8.8892 - mae: 8.8892\n",
      "Epoch 67/100\n",
      "1/1 [==============================] - 0s 5ms/step - loss: 8.7567 - mae: 8.7567\n",
      "Epoch 68/100\n",
      "1/1 [==============================] - 0s 5ms/step - loss: 8.6242 - mae: 8.6242\n",
      "Epoch 69/100\n",
      "1/1 [==============================] - 0s 5ms/step - loss: 8.4917 - mae: 8.4917\n",
      "Epoch 70/100\n",
      "1/1 [==============================] - 0s 5ms/step - loss: 8.3592 - mae: 8.3592\n",
      "Epoch 71/100\n",
      "1/1 [==============================] - 0s 5ms/step - loss: 8.2267 - mae: 8.2267\n",
      "Epoch 72/100\n",
      "1/1 [==============================] - 0s 5ms/step - loss: 8.0942 - mae: 8.0942\n",
      "Epoch 73/100\n",
      "1/1 [==============================] - 0s 5ms/step - loss: 7.9617 - mae: 7.9617\n",
      "Epoch 74/100\n",
      "1/1 [==============================] - 0s 5ms/step - loss: 7.8292 - mae: 7.8292\n",
      "Epoch 75/100\n",
      "1/1 [==============================] - 0s 5ms/step - loss: 7.6967 - mae: 7.6967\n",
      "Epoch 76/100\n",
      "1/1 [==============================] - 0s 6ms/step - loss: 7.5642 - mae: 7.5642\n",
      "Epoch 77/100\n",
      "1/1 [==============================] - 0s 5ms/step - loss: 7.4317 - mae: 7.4317\n",
      "Epoch 78/100\n",
      "1/1 [==============================] - 0s 5ms/step - loss: 7.2992 - mae: 7.2992\n",
      "Epoch 79/100\n",
      "1/1 [==============================] - 0s 5ms/step - loss: 7.1667 - mae: 7.1667\n",
      "Epoch 80/100\n",
      "1/1 [==============================] - 0s 5ms/step - loss: 7.0342 - mae: 7.0342\n",
      "Epoch 81/100\n",
      "1/1 [==============================] - 0s 5ms/step - loss: 6.9413 - mae: 6.9413\n",
      "Epoch 82/100\n",
      "1/1 [==============================] - 0s 5ms/step - loss: 6.9356 - mae: 6.9356\n",
      "Epoch 83/100\n",
      "1/1 [==============================] - 0s 5ms/step - loss: 6.9300 - mae: 6.9300\n",
      "Epoch 84/100\n",
      "1/1 [==============================] - 0s 5ms/step - loss: 6.9244 - mae: 6.9244\n",
      "Epoch 85/100\n",
      "1/1 [==============================] - 0s 5ms/step - loss: 6.9188 - mae: 6.9188\n",
      "Epoch 86/100\n",
      "1/1 [==============================] - 0s 5ms/step - loss: 6.9131 - mae: 6.9131\n",
      "Epoch 87/100\n",
      "1/1 [==============================] - 0s 5ms/step - loss: 6.9075 - mae: 6.9075\n",
      "Epoch 88/100\n",
      "1/1 [==============================] - 0s 5ms/step - loss: 6.9019 - mae: 6.9019\n",
      "Epoch 89/100\n",
      "1/1 [==============================] - 0s 5ms/step - loss: 6.8963 - mae: 6.8963\n",
      "Epoch 90/100\n",
      "1/1 [==============================] - 0s 5ms/step - loss: 6.8906 - mae: 6.8906\n",
      "Epoch 91/100\n",
      "1/1 [==============================] - 0s 5ms/step - loss: 6.8850 - mae: 6.8850\n",
      "Epoch 92/100\n",
      "1/1 [==============================] - 0s 5ms/step - loss: 6.8794 - mae: 6.8794\n",
      "Epoch 93/100\n",
      "1/1 [==============================] - 0s 5ms/step - loss: 6.8738 - mae: 6.8738\n",
      "Epoch 94/100\n",
      "1/1 [==============================] - 0s 5ms/step - loss: 6.8681 - mae: 6.8681\n",
      "Epoch 95/100\n",
      "1/1 [==============================] - 0s 5ms/step - loss: 6.8625 - mae: 6.8625\n",
      "Epoch 96/100\n",
      "1/1 [==============================] - 0s 8ms/step - loss: 6.8569 - mae: 6.8569\n",
      "Epoch 97/100\n",
      "1/1 [==============================] - 0s 5ms/step - loss: 6.8513 - mae: 6.8513\n",
      "Epoch 98/100\n",
      "1/1 [==============================] - 0s 5ms/step - loss: 6.8456 - mae: 6.8456\n",
      "Epoch 99/100\n",
      "1/1 [==============================] - 0s 5ms/step - loss: 6.8400 - mae: 6.8400\n",
      "Epoch 100/100\n",
      "1/1 [==============================] - 0s 5ms/step - loss: 6.8344 - mae: 6.8344\n"
     ]
    },
    {
     "data": {
      "text/plain": [
       "<keras.callbacks.History at 0x2b46667f0>"
      ]
     },
     "execution_count": 11,
     "metadata": {},
     "output_type": "execute_result"
    }
   ],
   "source": [
    "# Recreating the model 1\n",
    "\n",
    "# Set random seed\n",
    "tf.random.set_seed(42)\n",
    "\n",
    "# 1. Create the model \n",
    "model1 = tf.keras.Sequential([\n",
    "    tf.keras.layers.Dense(1)\n",
    "])\n",
    "\n",
    "# 2. Compile the model\n",
    "model1.compile(loss = tf.keras.losses.mae, # mae == mean absolute error\n",
    "             optimizer = tf.keras.optimizers.legacy.SGD(), # sgd == stochastic gradient descent,\n",
    "             metrics = [\"mae\"])\n",
    "\n",
    "# 3. Fit the model\n",
    "model1.fit(tf.expand_dims(X, axis=-1), y, epochs=100)"
   ]
  },
  {
   "cell_type": "code",
   "execution_count": 12,
   "id": "14d39974",
   "metadata": {},
   "outputs": [
    {
     "name": "stdout",
     "output_type": "stream",
     "text": [
      "1/1 [==============================] - 0s 124ms/step\n"
     ]
    },
    {
     "data": {
      "text/plain": [
       "array([[29.32527]], dtype=float32)"
      ]
     },
     "execution_count": 12,
     "metadata": {},
     "output_type": "execute_result"
    }
   ],
   "source": [
    "# prediction using the model\n",
    "model1.predict([17.0])"
   ]
  },
  {
   "cell_type": "code",
   "execution_count": 13,
   "id": "c4945a77",
   "metadata": {},
   "outputs": [
    {
     "name": "stdout",
     "output_type": "stream",
     "text": [
      "Epoch 1/100\n",
      "1/1 [==============================] - 0s 331ms/step - loss: 12.8578 - mae: 12.8578\n",
      "Epoch 2/100\n",
      "1/1 [==============================] - 0s 8ms/step - loss: 12.8163 - mae: 12.8163\n",
      "Epoch 3/100\n",
      "1/1 [==============================] - 0s 7ms/step - loss: 12.7750 - mae: 12.7750\n",
      "Epoch 4/100\n",
      "1/1 [==============================] - 0s 7ms/step - loss: 12.7359 - mae: 12.7359\n",
      "Epoch 5/100\n",
      "1/1 [==============================] - 0s 7ms/step - loss: 12.6967 - mae: 12.6967\n",
      "Epoch 6/100\n",
      "1/1 [==============================] - 0s 7ms/step - loss: 12.6575 - mae: 12.6575\n",
      "Epoch 7/100\n",
      "1/1 [==============================] - 0s 7ms/step - loss: 12.6183 - mae: 12.6183\n",
      "Epoch 8/100\n",
      "1/1 [==============================] - 0s 6ms/step - loss: 12.5790 - mae: 12.5790\n",
      "Epoch 9/100\n",
      "1/1 [==============================] - 0s 7ms/step - loss: 12.5401 - mae: 12.5401\n",
      "Epoch 10/100\n",
      "1/1 [==============================] - 0s 7ms/step - loss: 12.5017 - mae: 12.5017\n",
      "Epoch 11/100\n",
      "1/1 [==============================] - 0s 7ms/step - loss: 12.4632 - mae: 12.4632\n",
      "Epoch 12/100\n",
      "1/1 [==============================] - 0s 6ms/step - loss: 12.4245 - mae: 12.4245\n",
      "Epoch 13/100\n",
      "1/1 [==============================] - 0s 6ms/step - loss: 12.3856 - mae: 12.3856\n",
      "Epoch 14/100\n",
      "1/1 [==============================] - 0s 7ms/step - loss: 12.3465 - mae: 12.3465\n",
      "Epoch 15/100\n",
      "1/1 [==============================] - 0s 7ms/step - loss: 12.3078 - mae: 12.3078\n",
      "Epoch 16/100\n",
      "1/1 [==============================] - 0s 7ms/step - loss: 12.2701 - mae: 12.2701\n",
      "Epoch 17/100\n",
      "1/1 [==============================] - 0s 7ms/step - loss: 12.2322 - mae: 12.2322\n",
      "Epoch 18/100\n",
      "1/1 [==============================] - 0s 6ms/step - loss: 12.1947 - mae: 12.1947\n",
      "Epoch 19/100\n",
      "1/1 [==============================] - 0s 7ms/step - loss: 12.1575 - mae: 12.1575\n",
      "Epoch 20/100\n",
      "1/1 [==============================] - 0s 7ms/step - loss: 12.1200 - mae: 12.1200\n",
      "Epoch 21/100\n",
      "1/1 [==============================] - 0s 6ms/step - loss: 12.0824 - mae: 12.0824\n",
      "Epoch 22/100\n",
      "1/1 [==============================] - 0s 7ms/step - loss: 12.0446 - mae: 12.0446\n",
      "Epoch 23/100\n",
      "1/1 [==============================] - 0s 6ms/step - loss: 12.0067 - mae: 12.0067\n",
      "Epoch 24/100\n",
      "1/1 [==============================] - 0s 9ms/step - loss: 11.9689 - mae: 11.9689\n",
      "Epoch 25/100\n",
      "1/1 [==============================] - 0s 7ms/step - loss: 11.9313 - mae: 11.9313\n",
      "Epoch 26/100\n",
      "1/1 [==============================] - 0s 7ms/step - loss: 11.8944 - mae: 11.8944\n",
      "Epoch 27/100\n",
      "1/1 [==============================] - 0s 8ms/step - loss: 11.8580 - mae: 11.8580\n",
      "Epoch 28/100\n",
      "1/1 [==============================] - 0s 7ms/step - loss: 11.8231 - mae: 11.8231\n",
      "Epoch 29/100\n",
      "1/1 [==============================] - 0s 7ms/step - loss: 11.7885 - mae: 11.7885\n",
      "Epoch 30/100\n",
      "1/1 [==============================] - 0s 7ms/step - loss: 11.7542 - mae: 11.7542\n",
      "Epoch 31/100\n",
      "1/1 [==============================] - 0s 7ms/step - loss: 11.7197 - mae: 11.7197\n",
      "Epoch 32/100\n",
      "1/1 [==============================] - 0s 7ms/step - loss: 11.6852 - mae: 11.6852\n",
      "Epoch 33/100\n",
      "1/1 [==============================] - 0s 7ms/step - loss: 11.6506 - mae: 11.6506\n",
      "Epoch 34/100\n",
      "1/1 [==============================] - 0s 6ms/step - loss: 11.6159 - mae: 11.6159\n",
      "Epoch 35/100\n",
      "1/1 [==============================] - 0s 7ms/step - loss: 11.5808 - mae: 11.5808\n",
      "Epoch 36/100\n",
      "1/1 [==============================] - 0s 7ms/step - loss: 11.5455 - mae: 11.5455\n",
      "Epoch 37/100\n",
      "1/1 [==============================] - 0s 6ms/step - loss: 11.5100 - mae: 11.5100\n",
      "Epoch 38/100\n",
      "1/1 [==============================] - 0s 10ms/step - loss: 11.4744 - mae: 11.4744\n",
      "Epoch 39/100\n",
      "1/1 [==============================] - 0s 8ms/step - loss: 11.4386 - mae: 11.4386\n",
      "Epoch 40/100\n",
      "1/1 [==============================] - 0s 7ms/step - loss: 11.4023 - mae: 11.4023\n",
      "Epoch 41/100\n",
      "1/1 [==============================] - 0s 7ms/step - loss: 11.3661 - mae: 11.3661\n",
      "Epoch 42/100\n",
      "1/1 [==============================] - 0s 7ms/step - loss: 11.3295 - mae: 11.3295\n",
      "Epoch 43/100\n",
      "1/1 [==============================] - 0s 8ms/step - loss: 11.2928 - mae: 11.2928\n",
      "Epoch 44/100\n",
      "1/1 [==============================] - 0s 7ms/step - loss: 11.2556 - mae: 11.2556\n",
      "Epoch 45/100\n",
      "1/1 [==============================] - 0s 7ms/step - loss: 11.2178 - mae: 11.2178\n",
      "Epoch 46/100\n",
      "1/1 [==============================] - 0s 6ms/step - loss: 11.1798 - mae: 11.1798\n",
      "Epoch 47/100\n",
      "1/1 [==============================] - 0s 7ms/step - loss: 11.1416 - mae: 11.1416\n",
      "Epoch 48/100\n",
      "1/1 [==============================] - 0s 7ms/step - loss: 11.1036 - mae: 11.1036\n",
      "Epoch 49/100\n",
      "1/1 [==============================] - 0s 6ms/step - loss: 11.0663 - mae: 11.0663\n",
      "Epoch 50/100\n",
      "1/1 [==============================] - 0s 7ms/step - loss: 11.0285 - mae: 11.0285\n",
      "Epoch 51/100\n",
      "1/1 [==============================] - 0s 18ms/step - loss: 10.9903 - mae: 10.9903\n",
      "Epoch 52/100\n",
      "1/1 [==============================] - 0s 11ms/step - loss: 10.9519 - mae: 10.9519\n",
      "Epoch 53/100\n",
      "1/1 [==============================] - 0s 8ms/step - loss: 10.9132 - mae: 10.9132\n",
      "Epoch 54/100\n",
      "1/1 [==============================] - 0s 7ms/step - loss: 10.8743 - mae: 10.8743\n",
      "Epoch 55/100\n",
      "1/1 [==============================] - 0s 12ms/step - loss: 10.8349 - mae: 10.8349\n",
      "Epoch 56/100\n",
      "1/1 [==============================] - 0s 7ms/step - loss: 10.7953 - mae: 10.7953\n",
      "Epoch 57/100\n",
      "1/1 [==============================] - 0s 7ms/step - loss: 10.7555 - mae: 10.7555\n",
      "Epoch 58/100\n",
      "1/1 [==============================] - 0s 8ms/step - loss: 10.7155 - mae: 10.7155\n",
      "Epoch 59/100\n",
      "1/1 [==============================] - 0s 7ms/step - loss: 10.6752 - mae: 10.6752\n",
      "Epoch 60/100\n",
      "1/1 [==============================] - 0s 8ms/step - loss: 10.6347 - mae: 10.6347\n",
      "Epoch 61/100\n",
      "1/1 [==============================] - 0s 6ms/step - loss: 10.5939 - mae: 10.5939\n",
      "Epoch 62/100\n",
      "1/1 [==============================] - 0s 7ms/step - loss: 10.5525 - mae: 10.5525\n",
      "Epoch 63/100\n",
      "1/1 [==============================] - 0s 6ms/step - loss: 10.5107 - mae: 10.5107\n",
      "Epoch 64/100\n",
      "1/1 [==============================] - 0s 7ms/step - loss: 10.4687 - mae: 10.4687\n",
      "Epoch 65/100\n",
      "1/1 [==============================] - 0s 6ms/step - loss: 10.4260 - mae: 10.4260\n",
      "Epoch 66/100\n",
      "1/1 [==============================] - 0s 7ms/step - loss: 10.3829 - mae: 10.3829\n",
      "Epoch 67/100\n",
      "1/1 [==============================] - 0s 7ms/step - loss: 10.3396 - mae: 10.3396\n",
      "Epoch 68/100\n",
      "1/1 [==============================] - 0s 7ms/step - loss: 10.2957 - mae: 10.2957\n",
      "Epoch 69/100\n",
      "1/1 [==============================] - 0s 6ms/step - loss: 10.2515 - mae: 10.2515\n",
      "Epoch 70/100\n",
      "1/1 [==============================] - 0s 7ms/step - loss: 10.2070 - mae: 10.2070\n",
      "Epoch 71/100\n",
      "1/1 [==============================] - 0s 7ms/step - loss: 10.1619 - mae: 10.1619\n",
      "Epoch 72/100\n",
      "1/1 [==============================] - 0s 7ms/step - loss: 10.1164 - mae: 10.1164\n",
      "Epoch 73/100\n",
      "1/1 [==============================] - 0s 7ms/step - loss: 10.0704 - mae: 10.0704\n",
      "Epoch 74/100\n",
      "1/1 [==============================] - 0s 6ms/step - loss: 10.0236 - mae: 10.0236\n",
      "Epoch 75/100\n",
      "1/1 [==============================] - 0s 6ms/step - loss: 9.9757 - mae: 9.9757\n",
      "Epoch 76/100\n",
      "1/1 [==============================] - 0s 7ms/step - loss: 9.9272 - mae: 9.9272\n",
      "Epoch 77/100\n",
      "1/1 [==============================] - 0s 6ms/step - loss: 9.8781 - mae: 9.8781\n",
      "Epoch 78/100\n",
      "1/1 [==============================] - 0s 6ms/step - loss: 9.8285 - mae: 9.8285\n",
      "Epoch 79/100\n",
      "1/1 [==============================] - 0s 7ms/step - loss: 9.7785 - mae: 9.7785\n",
      "Epoch 80/100\n",
      "1/1 [==============================] - 0s 6ms/step - loss: 9.7280 - mae: 9.7280\n",
      "Epoch 81/100\n",
      "1/1 [==============================] - 0s 7ms/step - loss: 9.6767 - mae: 9.6767\n",
      "Epoch 82/100\n",
      "1/1 [==============================] - 0s 18ms/step - loss: 9.6251 - mae: 9.6251\n",
      "Epoch 83/100\n",
      "1/1 [==============================] - 0s 9ms/step - loss: 9.5729 - mae: 9.5729\n",
      "Epoch 84/100\n",
      "1/1 [==============================] - 0s 7ms/step - loss: 9.5202 - mae: 9.5202\n",
      "Epoch 85/100\n",
      "1/1 [==============================] - 0s 7ms/step - loss: 9.4669 - mae: 9.4669\n",
      "Epoch 86/100\n",
      "1/1 [==============================] - 0s 6ms/step - loss: 9.4205 - mae: 9.4205\n",
      "Epoch 87/100\n",
      "1/1 [==============================] - 0s 7ms/step - loss: 9.3788 - mae: 9.3788\n",
      "Epoch 88/100\n",
      "1/1 [==============================] - 0s 14ms/step - loss: 9.3365 - mae: 9.3365\n",
      "Epoch 89/100\n",
      "1/1 [==============================] - 0s 52ms/step - loss: 9.2939 - mae: 9.2939\n",
      "Epoch 90/100\n",
      "1/1 [==============================] - 0s 8ms/step - loss: 9.2509 - mae: 9.2509\n",
      "Epoch 91/100\n",
      "1/1 [==============================] - 0s 6ms/step - loss: 9.2074 - mae: 9.2074\n",
      "Epoch 92/100\n",
      "1/1 [==============================] - 0s 7ms/step - loss: 9.1634 - mae: 9.1634\n",
      "Epoch 93/100\n",
      "1/1 [==============================] - 0s 7ms/step - loss: 9.1189 - mae: 9.1189\n",
      "Epoch 94/100\n",
      "1/1 [==============================] - 0s 7ms/step - loss: 9.0738 - mae: 9.0738\n",
      "Epoch 95/100\n",
      "1/1 [==============================] - 0s 6ms/step - loss: 9.0273 - mae: 9.0273\n",
      "Epoch 96/100\n",
      "1/1 [==============================] - 0s 7ms/step - loss: 8.9800 - mae: 8.9800\n",
      "Epoch 97/100\n",
      "1/1 [==============================] - 0s 7ms/step - loss: 8.9321 - mae: 8.9321\n",
      "Epoch 98/100\n",
      "1/1 [==============================] - 0s 7ms/step - loss: 8.8834 - mae: 8.8834\n",
      "Epoch 99/100\n",
      "1/1 [==============================] - 0s 7ms/step - loss: 8.8341 - mae: 8.8341\n",
      "Epoch 100/100\n",
      "1/1 [==============================] - 0s 6ms/step - loss: 8.7844 - mae: 8.7844\n"
     ]
    },
    {
     "data": {
      "text/plain": [
       "<keras.callbacks.History at 0x2b57a9b20>"
      ]
     },
     "execution_count": 13,
     "metadata": {},
     "output_type": "execute_result"
    }
   ],
   "source": [
    "# Recreating the model 2\n",
    "\n",
    "# Set random seed\n",
    "tf.random.set_seed(42)\n",
    "\n",
    "# 1. Create the model \n",
    "model2 = tf.keras.Sequential([\n",
    "    tf.keras.layers.Dense(100, activation=\"relu\"),\n",
    "    tf.keras.layers.Dense(100, activation=\"relu\"),\n",
    "    tf.keras.layers.Dense(100, activation=\"relu\"),\n",
    "    tf.keras.layers.Dense(1)\n",
    "])\n",
    "\n",
    "# 2. Compile the model\n",
    "model2.compile(loss = tf.keras.losses.mae, \n",
    "             optimizer = tf.keras.optimizers.legacy.Adam(lr=0.0001),\n",
    "             metrics = [\"mae\"])\n",
    "\n",
    "# 3. Fit the model\n",
    "model2.fit(tf.expand_dims(X, axis=-1), y, epochs=100)"
   ]
  },
  {
   "cell_type": "code",
   "execution_count": 14,
   "id": "a31b6ad1",
   "metadata": {},
   "outputs": [
    {
     "name": "stdout",
     "output_type": "stream",
     "text": [
      "1/1 [==============================] - 0s 54ms/step\n"
     ]
    },
    {
     "data": {
      "text/plain": [
       "array([[13.813232]], dtype=float32)"
      ]
     },
     "execution_count": 14,
     "metadata": {},
     "output_type": "execute_result"
    }
   ],
   "source": [
    "# prediction using the model\n",
    "model2.predict([17.0])"
   ]
  },
  {
   "cell_type": "code",
   "execution_count": 15,
   "id": "c21e8b52",
   "metadata": {},
   "outputs": [
    {
     "name": "stdout",
     "output_type": "stream",
     "text": [
      "Epoch 1/100\n",
      "1/1 [==============================] - 0s 189ms/step - loss: 12.2543 - mae: 12.2543\n",
      "Epoch 2/100\n",
      "1/1 [==============================] - 0s 6ms/step - loss: 11.5267 - mae: 11.5267\n",
      "Epoch 3/100\n",
      "1/1 [==============================] - 0s 5ms/step - loss: 10.7856 - mae: 10.7856\n",
      "Epoch 4/100\n",
      "1/1 [==============================] - 0s 6ms/step - loss: 10.0293 - mae: 10.0293\n",
      "Epoch 5/100\n",
      "1/1 [==============================] - 0s 6ms/step - loss: 9.2560 - mae: 9.2560\n",
      "Epoch 6/100\n",
      "1/1 [==============================] - 0s 6ms/step - loss: 8.4641 - mae: 8.4641\n",
      "Epoch 7/100\n",
      "1/1 [==============================] - 0s 6ms/step - loss: 7.6517 - mae: 7.6517\n",
      "Epoch 8/100\n",
      "1/1 [==============================] - 0s 6ms/step - loss: 6.9154 - mae: 6.9154\n",
      "Epoch 9/100\n",
      "1/1 [==============================] - 0s 6ms/step - loss: 6.9404 - mae: 6.9404\n",
      "Epoch 10/100\n",
      "1/1 [==============================] - 0s 6ms/step - loss: 7.2217 - mae: 7.2217\n",
      "Epoch 11/100\n",
      "1/1 [==============================] - 0s 6ms/step - loss: 7.3698 - mae: 7.3698\n",
      "Epoch 12/100\n",
      "1/1 [==============================] - 0s 6ms/step - loss: 7.4285 - mae: 7.4285\n",
      "Epoch 13/100\n",
      "1/1 [==============================] - 0s 6ms/step - loss: 7.3113 - mae: 7.3113\n",
      "Epoch 14/100\n",
      "1/1 [==============================] - 0s 6ms/step - loss: 7.1068 - mae: 7.1068\n",
      "Epoch 15/100\n",
      "1/1 [==============================] - 0s 6ms/step - loss: 6.8685 - mae: 6.8685\n",
      "Epoch 16/100\n",
      "1/1 [==============================] - 0s 5ms/step - loss: 6.5999 - mae: 6.5999\n",
      "Epoch 17/100\n",
      "1/1 [==============================] - 0s 6ms/step - loss: 6.3077 - mae: 6.3077\n",
      "Epoch 18/100\n",
      "1/1 [==============================] - 0s 6ms/step - loss: 6.2053 - mae: 6.2053\n",
      "Epoch 19/100\n",
      "1/1 [==============================] - 0s 6ms/step - loss: 6.1507 - mae: 6.1507\n",
      "Epoch 20/100\n",
      "1/1 [==============================] - 0s 5ms/step - loss: 6.3348 - mae: 6.3348\n",
      "Epoch 21/100\n",
      "1/1 [==============================] - 0s 6ms/step - loss: 6.3911 - mae: 6.3911\n",
      "Epoch 22/100\n",
      "1/1 [==============================] - 0s 6ms/step - loss: 6.3317 - mae: 6.3317\n",
      "Epoch 23/100\n",
      "1/1 [==============================] - 0s 5ms/step - loss: 6.1720 - mae: 6.1720\n",
      "Epoch 24/100\n",
      "1/1 [==============================] - 0s 5ms/step - loss: 5.9227 - mae: 5.9227\n",
      "Epoch 25/100\n",
      "1/1 [==============================] - 0s 6ms/step - loss: 5.6476 - mae: 5.6476\n",
      "Epoch 26/100\n",
      "1/1 [==============================] - 0s 6ms/step - loss: 5.5364 - mae: 5.5364\n",
      "Epoch 27/100\n",
      "1/1 [==============================] - 0s 16ms/step - loss: 5.4221 - mae: 5.4221\n",
      "Epoch 28/100\n",
      "1/1 [==============================] - 0s 10ms/step - loss: 5.4571 - mae: 5.4571\n",
      "Epoch 29/100\n",
      "1/1 [==============================] - 0s 6ms/step - loss: 5.4476 - mae: 5.4476\n",
      "Epoch 30/100\n",
      "1/1 [==============================] - 0s 6ms/step - loss: 5.3852 - mae: 5.3852\n",
      "Epoch 31/100\n",
      "1/1 [==============================] - 0s 6ms/step - loss: 5.2746 - mae: 5.2746\n",
      "Epoch 32/100\n",
      "1/1 [==============================] - 0s 6ms/step - loss: 5.1203 - mae: 5.1203\n",
      "Epoch 33/100\n",
      "1/1 [==============================] - 0s 6ms/step - loss: 4.9268 - mae: 4.9268\n",
      "Epoch 34/100\n",
      "1/1 [==============================] - 0s 6ms/step - loss: 4.6980 - mae: 4.6980\n",
      "Epoch 35/100\n",
      "1/1 [==============================] - 0s 6ms/step - loss: 4.6063 - mae: 4.6063\n",
      "Epoch 36/100\n",
      "1/1 [==============================] - 0s 5ms/step - loss: 4.5095 - mae: 4.5095\n",
      "Epoch 37/100\n",
      "1/1 [==============================] - 0s 6ms/step - loss: 4.5631 - mae: 4.5631\n",
      "Epoch 38/100\n",
      "1/1 [==============================] - 0s 6ms/step - loss: 4.4846 - mae: 4.4846\n",
      "Epoch 39/100\n",
      "1/1 [==============================] - 0s 6ms/step - loss: 4.2797 - mae: 4.2797\n",
      "Epoch 40/100\n",
      "1/1 [==============================] - 0s 5ms/step - loss: 3.9805 - mae: 3.9805\n",
      "Epoch 41/100\n",
      "1/1 [==============================] - 0s 5ms/step - loss: 3.8156 - mae: 3.8156\n",
      "Epoch 42/100\n",
      "1/1 [==============================] - 0s 6ms/step - loss: 3.6565 - mae: 3.6565\n",
      "Epoch 43/100\n",
      "1/1 [==============================] - 0s 6ms/step - loss: 3.5654 - mae: 3.5654\n",
      "Epoch 44/100\n",
      "1/1 [==============================] - 0s 9ms/step - loss: 3.4180 - mae: 3.4180\n",
      "Epoch 45/100\n",
      "1/1 [==============================] - 0s 6ms/step - loss: 3.2178 - mae: 3.2178\n",
      "Epoch 46/100\n",
      "1/1 [==============================] - 0s 6ms/step - loss: 3.0007 - mae: 3.0007\n",
      "Epoch 47/100\n",
      "1/1 [==============================] - 0s 6ms/step - loss: 2.8344 - mae: 2.8344\n",
      "Epoch 48/100\n",
      "1/1 [==============================] - 0s 8ms/step - loss: 2.6574 - mae: 2.6574\n",
      "Epoch 49/100\n",
      "1/1 [==============================] - 0s 6ms/step - loss: 2.5056 - mae: 2.5056\n",
      "Epoch 50/100\n",
      "1/1 [==============================] - 0s 6ms/step - loss: 2.2583 - mae: 2.2583\n",
      "Epoch 51/100\n",
      "1/1 [==============================] - 0s 6ms/step - loss: 2.0370 - mae: 2.0370\n",
      "Epoch 52/100\n",
      "1/1 [==============================] - 0s 6ms/step - loss: 1.8343 - mae: 1.8343\n",
      "Epoch 53/100\n",
      "1/1 [==============================] - 0s 6ms/step - loss: 1.6175 - mae: 1.6175\n",
      "Epoch 54/100\n",
      "1/1 [==============================] - 0s 5ms/step - loss: 1.3542 - mae: 1.3542\n",
      "Epoch 55/100\n",
      "1/1 [==============================] - 0s 6ms/step - loss: 1.1174 - mae: 1.1174\n",
      "Epoch 56/100\n",
      "1/1 [==============================] - 0s 6ms/step - loss: 0.9002 - mae: 0.9002\n",
      "Epoch 57/100\n",
      "1/1 [==============================] - 0s 6ms/step - loss: 0.6098 - mae: 0.6098\n",
      "Epoch 58/100\n",
      "1/1 [==============================] - 0s 5ms/step - loss: 0.3581 - mae: 0.3581\n",
      "Epoch 59/100\n",
      "1/1 [==============================] - 0s 10ms/step - loss: 0.0698 - mae: 0.0698\n",
      "Epoch 60/100\n",
      "1/1 [==============================] - 0s 16ms/step - loss: 0.3051 - mae: 0.3051\n",
      "Epoch 61/100\n",
      "1/1 [==============================] - 0s 7ms/step - loss: 0.4629 - mae: 0.4629\n",
      "Epoch 62/100\n",
      "1/1 [==============================] - 0s 7ms/step - loss: 0.6289 - mae: 0.6289\n",
      "Epoch 63/100\n",
      "1/1 [==============================] - 0s 18ms/step - loss: 0.7408 - mae: 0.7408\n",
      "Epoch 64/100\n",
      "1/1 [==============================] - 0s 8ms/step - loss: 0.8009 - mae: 0.8009\n",
      "Epoch 65/100\n",
      "1/1 [==============================] - 0s 6ms/step - loss: 0.8454 - mae: 0.8454\n",
      "Epoch 66/100\n",
      "1/1 [==============================] - 0s 5ms/step - loss: 0.8033 - mae: 0.8033\n",
      "Epoch 67/100\n",
      "1/1 [==============================] - 0s 7ms/step - loss: 0.7538 - mae: 0.7538\n",
      "Epoch 68/100\n",
      "1/1 [==============================] - 0s 6ms/step - loss: 0.6871 - mae: 0.6871\n",
      "Epoch 69/100\n",
      "1/1 [==============================] - 0s 5ms/step - loss: 0.6098 - mae: 0.6098\n",
      "Epoch 70/100\n",
      "1/1 [==============================] - 0s 6ms/step - loss: 0.4591 - mae: 0.4591\n",
      "Epoch 71/100\n",
      "1/1 [==============================] - 0s 6ms/step - loss: 0.3389 - mae: 0.3389\n",
      "Epoch 72/100\n",
      "1/1 [==============================] - 0s 7ms/step - loss: 0.1355 - mae: 0.1355\n",
      "Epoch 73/100\n",
      "1/1 [==============================] - 0s 6ms/step - loss: 0.3140 - mae: 0.3140\n",
      "Epoch 74/100\n",
      "1/1 [==============================] - 0s 6ms/step - loss: 0.3229 - mae: 0.3229\n",
      "Epoch 75/100\n",
      "1/1 [==============================] - 0s 7ms/step - loss: 0.3447 - mae: 0.3447\n",
      "Epoch 76/100\n",
      "1/1 [==============================] - 0s 7ms/step - loss: 0.4252 - mae: 0.4252\n",
      "Epoch 77/100\n",
      "1/1 [==============================] - 0s 6ms/step - loss: 0.4361 - mae: 0.4361\n",
      "Epoch 78/100\n",
      "1/1 [==============================] - 0s 6ms/step - loss: 0.4216 - mae: 0.4216\n",
      "Epoch 79/100\n",
      "1/1 [==============================] - 0s 6ms/step - loss: 0.4879 - mae: 0.4879\n",
      "Epoch 80/100\n",
      "1/1 [==============================] - 0s 6ms/step - loss: 0.4409 - mae: 0.4409\n",
      "Epoch 81/100\n",
      "1/1 [==============================] - 0s 6ms/step - loss: 0.3063 - mae: 0.3063\n",
      "Epoch 82/100\n",
      "1/1 [==============================] - 0s 5ms/step - loss: 0.2276 - mae: 0.2276\n",
      "Epoch 83/100\n",
      "1/1 [==============================] - 0s 6ms/step - loss: 0.2235 - mae: 0.2235\n",
      "Epoch 84/100\n",
      "1/1 [==============================] - 0s 6ms/step - loss: 0.0582 - mae: 0.0582\n",
      "Epoch 85/100\n",
      "1/1 [==============================] - 0s 6ms/step - loss: 0.4377 - mae: 0.4377\n",
      "Epoch 86/100\n",
      "1/1 [==============================] - 0s 5ms/step - loss: 0.5286 - mae: 0.5286\n",
      "Epoch 87/100\n",
      "1/1 [==============================] - 0s 5ms/step - loss: 0.3393 - mae: 0.3393\n",
      "Epoch 88/100\n",
      "1/1 [==============================] - 0s 6ms/step - loss: 0.4334 - mae: 0.4334\n",
      "Epoch 89/100\n",
      "1/1 [==============================] - 0s 6ms/step - loss: 0.5494 - mae: 0.5494\n",
      "Epoch 90/100\n",
      "1/1 [==============================] - 0s 8ms/step - loss: 0.4833 - mae: 0.4833\n",
      "Epoch 91/100\n",
      "1/1 [==============================] - 0s 14ms/step - loss: 0.2571 - mae: 0.2571\n",
      "Epoch 92/100\n",
      "1/1 [==============================] - 0s 6ms/step - loss: 0.3048 - mae: 0.3048\n",
      "Epoch 93/100\n",
      "1/1 [==============================] - 0s 6ms/step - loss: 0.3430 - mae: 0.3430\n",
      "Epoch 94/100\n",
      "1/1 [==============================] - 0s 5ms/step - loss: 0.1464 - mae: 0.1464\n",
      "Epoch 95/100\n",
      "1/1 [==============================] - 0s 6ms/step - loss: 0.3756 - mae: 0.3756\n",
      "Epoch 96/100\n",
      "1/1 [==============================] - 0s 5ms/step - loss: 0.4820 - mae: 0.4820\n",
      "Epoch 97/100\n",
      "1/1 [==============================] - 0s 7ms/step - loss: 0.2941 - mae: 0.2941\n",
      "Epoch 98/100\n",
      "1/1 [==============================] - 0s 6ms/step - loss: 0.3004 - mae: 0.3004\n",
      "Epoch 99/100\n",
      "1/1 [==============================] - 0s 5ms/step - loss: 0.4521 - mae: 0.4521\n",
      "Epoch 100/100\n",
      "1/1 [==============================] - 0s 6ms/step - loss: 0.3560 - mae: 0.3560\n"
     ]
    },
    {
     "data": {
      "text/plain": [
       "<keras.callbacks.History at 0x2b46b14f0>"
      ]
     },
     "execution_count": 15,
     "metadata": {},
     "output_type": "execute_result"
    }
   ],
   "source": [
    "# Recreating the model 3\n",
    "\n",
    "# Set random seed\n",
    "tf.random.set_seed(42)\n",
    "\n",
    "# 1. Create the model \n",
    "model3 = tf.keras.Sequential([\n",
    "    tf.keras.layers.Dense(50, activation=None),\n",
    "    tf.keras.layers.Dense(1)\n",
    "])\n",
    "\n",
    "# 2. Compile the model\n",
    "model3.compile(loss = tf.keras.losses.mae, \n",
    "             optimizer = tf.keras.optimizers.legacy.Adam(lr=0.01),\n",
    "             metrics = [\"mae\"])\n",
    "\n",
    "# 3. Fit the model\n",
    "model3.fit(tf.expand_dims(X, axis=-1), y, epochs=100)"
   ]
  },
  {
   "cell_type": "code",
   "execution_count": 16,
   "id": "45a5a229",
   "metadata": {},
   "outputs": [
    {
     "name": "stdout",
     "output_type": "stream",
     "text": [
      "1/1 [==============================] - 0s 34ms/step\n"
     ]
    },
    {
     "data": {
      "text/plain": [
       "array([[27.068178]], dtype=float32)"
      ]
     },
     "execution_count": 16,
     "metadata": {},
     "output_type": "execute_result"
    }
   ],
   "source": [
    "# prediction using the model\n",
    "model3.predict([17.0])"
   ]
  },
  {
   "attachments": {},
   "cell_type": "markdown",
   "id": "bddcd0d6",
   "metadata": {},
   "source": [
    "## Evaluating the model\n",
    "\n",
    "When it comes to evaluation, we need to\n",
    "\n",
    "> \"Visualize, visualize, Visualize\"\n",
    "\n",
    "It's always a good idea to visualize:\n",
    "* The data - What data are we working with? What does it look like?\n",
    "* The model itself - What does our model look like?\n",
    "* The training of a model - how does a model perform while it learns?\n",
    "* The predictions of the model - how do the predictions of a model line up against the ground truth (the original labels)?"
   ]
  },
  {
   "cell_type": "code",
   "execution_count": 17,
   "id": "371a856a",
   "metadata": {},
   "outputs": [],
   "source": [
    "# Make a bigger dataset\n",
    "X = tf.range(-100, 100, 4)\n",
    "\n",
    "# Make labels for the dataset\n",
    "y = X + 10"
   ]
  },
  {
   "cell_type": "code",
   "execution_count": 18,
   "id": "e1725ff8",
   "metadata": {},
   "outputs": [
    {
     "data": {
      "text/plain": [
       "<tf.Tensor: shape=(50,), dtype=int32, numpy=\n",
       "array([-100,  -96,  -92,  -88,  -84,  -80,  -76,  -72,  -68,  -64,  -60,\n",
       "        -56,  -52,  -48,  -44,  -40,  -36,  -32,  -28,  -24,  -20,  -16,\n",
       "        -12,   -8,   -4,    0,    4,    8,   12,   16,   20,   24,   28,\n",
       "         32,   36,   40,   44,   48,   52,   56,   60,   64,   68,   72,\n",
       "         76,   80,   84,   88,   92,   96], dtype=int32)>"
      ]
     },
     "execution_count": 18,
     "metadata": {},
     "output_type": "execute_result"
    }
   ],
   "source": [
    "X"
   ]
  },
  {
   "cell_type": "code",
   "execution_count": 19,
   "id": "c592b169",
   "metadata": {},
   "outputs": [
    {
     "data": {
      "text/plain": [
       "<tf.Tensor: shape=(50,), dtype=int32, numpy=\n",
       "array([-90, -86, -82, -78, -74, -70, -66, -62, -58, -54, -50, -46, -42,\n",
       "       -38, -34, -30, -26, -22, -18, -14, -10,  -6,  -2,   2,   6,  10,\n",
       "        14,  18,  22,  26,  30,  34,  38,  42,  46,  50,  54,  58,  62,\n",
       "        66,  70,  74,  78,  82,  86,  90,  94,  98, 102, 106], dtype=int32)>"
      ]
     },
     "execution_count": 19,
     "metadata": {},
     "output_type": "execute_result"
    }
   ],
   "source": [
    "y"
   ]
  },
  {
   "cell_type": "code",
   "execution_count": 20,
   "id": "6ccb2308",
   "metadata": {},
   "outputs": [
    {
     "data": {
      "image/png": "[encoded data removed]",
      "text/plain": [
       "<Figure size 640x480 with 1 Axes>"
      ]
     },
     "metadata": {},
     "output_type": "display_data"
    }
   ],
   "source": [
    "# Visualize the data\n",
    "plt.scatter(X, y);"
   ]
  },
  {
   "attachments": {},
   "cell_type": "markdown",
   "id": "0f37a453",
   "metadata": {},
   "source": [
    "### Splitting the dataset"
   ]
  },
  {
   "cell_type": "code",
   "execution_count": 21,
   "id": "1ea46717",
   "metadata": {},
   "outputs": [
    {
     "data": {
      "text/plain": [
       "(40, 10, 40, 10)"
      ]
     },
     "execution_count": 21,
     "metadata": {},
     "output_type": "execute_result"
    }
   ],
   "source": [
    "X_train = X[:40]\n",
    "y_train = y[:40]\n",
    "\n",
    "X_test = X[40:]\n",
    "y_test = y[40:]\n",
    "\n",
    "len(X_train), len(X_test), len(y_train), len(y_test)"
   ]
  },
  {
   "cell_type": "code",
   "execution_count": 22,
   "id": "00428a50",
   "metadata": {},
   "outputs": [
    {
     "data": {
      "text/plain": [
       "(50, 50)"
      ]
     },
     "execution_count": 22,
     "metadata": {},
     "output_type": "execute_result"
    }
   ],
   "source": [
    "len(X), len(y)"
   ]
  },
  {
   "cell_type": "code",
   "execution_count": 23,
   "id": "ef3e0c77",
   "metadata": {},
   "outputs": [],
   "source": [
    "tf.random.set_seed(42)\n",
    "\n",
    "# 1. Create a model\n",
    "model = tf.keras.Sequential([\n",
    "    tf.keras.layers.Dense(10, input_shape=[1], name=\"input_layer\"),\n",
    "    tf.keras.layers.Dense(1, name=\"output_layer\")\n",
    "])\n",
    "\n",
    "# 2. Compile the model\n",
    "model.compile(loss = tf.keras.losses.mae,\n",
    "             optimizer = tf.keras.optimizers.legacy.SGD(),\n",
    "             metrics = ['mae'])"
   ]
  },
  {
   "cell_type": "code",
   "execution_count": 24,
   "id": "08019cb0",
   "metadata": {},
   "outputs": [
    {
     "name": "stdout",
     "output_type": "stream",
     "text": [
      "Model: \"sequential_4\"\n",
      "_________________________________________________________________\n",
      " Layer (type)                Output Shape              Param #   \n",
      "=================================================================\n",
      " input_layer (Dense)         (None, 10)                20        \n",
      "                                                                 \n",
      " output_layer (Dense)        (None, 1)                 11        \n",
      "                                                                 \n",
      "=================================================================\n",
      "Total params: 31\n",
      "Trainable params: 31\n",
      "Non-trainable params: 0\n",
      "_________________________________________________________________\n"
     ]
    }
   ],
   "source": [
    "model.summary()"
   ]
  },
  {
   "attachments": {},
   "cell_type": "markdown",
   "id": "e7bdb167",
   "metadata": {},
   "source": [
    "* Total params - total no of parameters in the model.\n",
    "* Trainable params - parameters(patterns) the model can update as it trains.\n",
    "* Non-trainable params - parameters aren't updated during training (this is typical when you bring in already learn patterns/parameters from other models during **transfer learning**)."
   ]
  },
  {
   "cell_type": "code",
   "execution_count": 25,
   "id": "f9fae9ba",
   "metadata": {},
   "outputs": [
    {
     "data": {
      "text/plain": [
       "<keras.callbacks.History at 0x2b5115520>"
      ]
     },
     "execution_count": 25,
     "metadata": {},
     "output_type": "execute_result"
    }
   ],
   "source": [
    "# 3. Fit the model\n",
    "model.fit(X_train, y_train, epochs=100, verbose=0)"
   ]
  },
  {
   "cell_type": "code",
   "execution_count": 26,
   "id": "991e414c",
   "metadata": {},
   "outputs": [
    {
     "data": {
      "image/png": "[encoded data removed]",
      "text/plain": [
       "<IPython.core.display.Image object>"
      ]
     },
     "execution_count": 26,
     "metadata": {},
     "output_type": "execute_result"
    }
   ],
   "source": [
    "from tensorflow.keras.utils import plot_model\n",
    "\n",
    "plot_model(model=model, show_shapes=True)"
   ]
  },
  {
   "attachments": {},
   "cell_type": "markdown",
   "id": "f17fd798",
   "metadata": {},
   "source": [
    "### Visualizing the model's predictions\n",
    "\n",
    "To visualize predictions, it's a good idea to lot them against the ground truth labels. Often in the form of `y_test`/`y_true` versus `y_pred` (ground truth versus model's prediction)."
   ]
  },
  {
   "cell_type": "code",
   "execution_count": 27,
   "id": "a962b876",
   "metadata": {},
   "outputs": [
    {
     "name": "stdout",
     "output_type": "stream",
     "text": [
      "WARNING:tensorflow:5 out of the last 5 calls to <function Model.make_predict_function.<locals>.predict_function at 0x1711a7ca0> triggered tf.function retracing. Tracing is expensive and the excessive number of tracings could be due to (1) creating @tf.function repeatedly in a loop, (2) passing tensors with different shapes, (3) passing Python objects instead of tensors. For (1), please define your @tf.function outside of the loop. For (2), @tf.function has reduce_retracing=True option that can avoid unnecessary retracing. For (3), please refer to https://www.tensorflow.org/guide/function#controlling_retracing and https://www.tensorflow.org/api_docs/python/tf/function for  more details.\n",
      "1/1 [==============================] - 0s 37ms/step\n"
     ]
    },
    {
     "data": {
      "text/plain": [
       "array([[ 69.59992 ],\n",
       "       [ 74.12364 ],\n",
       "       [ 78.647354],\n",
       "       [ 83.171074],\n",
       "       [ 87.69479 ],\n",
       "       [ 92.218506],\n",
       "       [ 96.74222 ],\n",
       "       [101.26594 ],\n",
       "       [105.78965 ],\n",
       "       [110.31338 ]], dtype=float32)"
      ]
     },
     "execution_count": 27,
     "metadata": {},
     "output_type": "execute_result"
    }
   ],
   "source": [
    "y_pred = model.predict(X_test)\n",
    "y_pred"
   ]
  },
  {
   "cell_type": "code",
   "execution_count": 28,
   "id": "a358fff9",
   "metadata": {},
   "outputs": [
    {
     "data": {
      "text/plain": [
       "<tf.Tensor: shape=(10,), dtype=int32, numpy=array([ 70,  74,  78,  82,  86,  90,  94,  98, 102, 106], dtype=int32)>"
      ]
     },
     "execution_count": 28,
     "metadata": {},
     "output_type": "execute_result"
    }
   ],
   "source": [
    "y_test"
   ]
  },
  {
   "cell_type": "code",
   "execution_count": 29,
   "id": "7d9d3f64",
   "metadata": {},
   "outputs": [],
   "source": [
    "# Creating the Plot Function\n",
    "def plot_predictions(train_data = X_train,\n",
    "                     train_labels = y_train,\n",
    "                     test_data = X_test,\n",
    "                     test_labels = y_test,\n",
    "                     predictions = y_pred):\n",
    "\n",
    "    plt.figure(figsize=(10, 7))\n",
    "    plt.scatter(train_data, train_labels, label=\"Training data\")\n",
    "    plt.scatter(test_data, test_labels, label=\"Testing data\")\n",
    "    plt.scatter(test_data, predictions, label=\"Predictions\")\n",
    "    plt.legend()\n",
    "    plt.show()"
   ]
  },
  {
   "cell_type": "code",
   "execution_count": 30,
   "id": "1674b598",
   "metadata": {},
   "outputs": [
    {
     "data": {
      "image/png": "[encoded data removed]",
      "text/plain": [
       "<Figure size 1000x700 with 1 Axes>"
      ]
     },
     "metadata": {},
     "output_type": "display_data"
    }
   ],
   "source": [
    "plot_predictions(X_train, y_train, X_test, y_test, y_pred)"
   ]
  },
  {
   "attachments": {},
   "cell_type": "markdown",
   "id": "64b2ea4e",
   "metadata": {},
   "source": [
    "### Evaluting the model's prediction with regression evaluation metrics"
   ]
  },
  {
   "cell_type": "code",
   "execution_count": 31,
   "id": "825d955c",
   "metadata": {},
   "outputs": [
    {
     "name": "stdout",
     "output_type": "stream",
     "text": [
      "1/1 [==============================] - 0s 117ms/step - loss: 2.0367 - mae: 2.0367\n"
     ]
    },
    {
     "data": {
      "text/plain": [
       "[2.036663055419922, 2.036663055419922]"
      ]
     },
     "execution_count": 31,
     "metadata": {},
     "output_type": "execute_result"
    }
   ],
   "source": [
    "model.evaluate(X_test, y_test)"
   ]
  },
  {
   "cell_type": "code",
   "execution_count": 32,
   "id": "dce24b0e",
   "metadata": {},
   "outputs": [
    {
     "data": {
      "text/plain": [
       "<tf.Tensor: shape=(), dtype=float32, numpy=2.036663>"
      ]
     },
     "execution_count": 32,
     "metadata": {},
     "output_type": "execute_result"
    }
   ],
   "source": [
    "# Calculate the mean absolute error\n",
    "mae = tf.metrics.mean_absolute_error(y_true=y_test,\n",
    "                                     y_pred=tf.squeeze(y_pred))\n",
    "mae"
   ]
  },
  {
   "cell_type": "code",
   "execution_count": 33,
   "id": "e6214919",
   "metadata": {},
   "outputs": [
    {
     "data": {
      "text/plain": [
       "<tf.Tensor: shape=(), dtype=float32, numpy=6.0912704>"
      ]
     },
     "execution_count": 33,
     "metadata": {},
     "output_type": "execute_result"
    }
   ],
   "source": [
    "# Calculate the mean squared error\n",
    "mse = tf.metrics.mean_squared_error(y_true=y_test,\n",
    "                                    y_pred=tf.squeeze(y_pred))\n",
    "mse"
   ]
  },
  {
   "cell_type": "code",
   "execution_count": 34,
   "id": "55e594eb",
   "metadata": {},
   "outputs": [],
   "source": [
    "# Make a function to reuse MAE and MSE\n",
    "def mae(y_true, y_pred):\n",
    "    return tf.metrics.mean_absolute_error(y_true=y_true,\n",
    "                                          y_pred=tf.squeeze(y_pred))\n",
    "\n",
    "def mse(y_true, y_pred):\n",
    "    return tf.metrics.mean_squared_error(y_true=y_true,\n",
    "                                         y_pred=tf.squeeze(y_pred))"
   ]
  },
  {
   "attachments": {},
   "cell_type": "markdown",
   "id": "9ea32aa6",
   "metadata": {},
   "source": [
    "## Improving the model"
   ]
  },
  {
   "cell_type": "code",
   "execution_count": 35,
   "id": "4a907b07",
   "metadata": {},
   "outputs": [
    {
     "data": {
      "text/plain": [
       "<keras.callbacks.History at 0x2b52cf2e0>"
      ]
     },
     "execution_count": 35,
     "metadata": {},
     "output_type": "execute_result"
    }
   ],
   "source": [
    "# Set random seed\n",
    "tf.random.set_seed(42)\n",
    "\n",
    "# Create a model\n",
    "model_1 = tf.keras.Sequential([\n",
    "    tf.keras.layers.Dense(10, input_shape=[1], name=\"input_layer\"),\n",
    "    tf.keras.layers.Dense(1, name=\"output_layer\")\n",
    "])\n",
    "\n",
    "# Compile the model\n",
    "model_1.compile(loss=tf.keras.losses.mae,\n",
    "                optimizer=tf.keras.optimizers.legacy.SGD(),\n",
    "                metrics=[\"mse\"])\n",
    "\n",
    "# Fit the model\n",
    "model_1.fit(X_train, y_train, epochs=100, verbose=0)"
   ]
  },
  {
   "cell_type": "code",
   "execution_count": 36,
   "id": "2359afa4",
   "metadata": {},
   "outputs": [
    {
     "name": "stdout",
     "output_type": "stream",
     "text": [
      "WARNING:tensorflow:6 out of the last 6 calls to <function Model.make_predict_function.<locals>.predict_function at 0x1711bcca0> triggered tf.function retracing. Tracing is expensive and the excessive number of tracings could be due to (1) creating @tf.function repeatedly in a loop, (2) passing tensors with different shapes, (3) passing Python objects instead of tensors. For (1), please define your @tf.function outside of the loop. For (2), @tf.function has reduce_retracing=True option that can avoid unnecessary retracing. For (3), please refer to https://www.tensorflow.org/guide/function#controlling_retracing and https://www.tensorflow.org/api_docs/python/tf/function for  more details.\n",
      "1/1 [==============================] - 0s 29ms/step\n"
     ]
    },
    {
     "data": {
      "image/png": "[encoded data removed]",
      "text/plain": [
       "<Figure size 1000x700 with 1 Axes>"
      ]
     },
     "metadata": {},
     "output_type": "display_data"
    }
   ],
   "source": [
    "# Make and Plot predictions\n",
    "y_preds_1 = model_1.predict(X_test)\n",
    "plot_predictions(predictions=y_preds_1)"
   ]
  },
  {
   "cell_type": "code",
   "execution_count": 37,
   "id": "9d5d35a1",
   "metadata": {},
   "outputs": [
    {
     "data": {
      "text/plain": [
       "(<tf.Tensor: shape=(), dtype=float32, numpy=10.630229>,\n",
       " <tf.Tensor: shape=(), dtype=float32, numpy=120.75354>)"
      ]
     },
     "execution_count": 37,
     "metadata": {},
     "output_type": "execute_result"
    }
   ],
   "source": [
    "# Calculate model_1 evaluation metrics\n",
    "mae_1 = mae(y_test, y_preds_1)\n",
    "mse_1 = mse(y_test, y_preds_1)\n",
    "mae_1, mse_1"
   ]
  },
  {
   "attachments": {},
   "cell_type": "markdown",
   "id": "e3ba62cd",
   "metadata": {},
   "source": [
    "**Build model 2**"
   ]
  },
  {
   "cell_type": "code",
   "execution_count": 38,
   "id": "94fb591f",
   "metadata": {},
   "outputs": [
    {
     "data": {
      "text/plain": [
       "<keras.callbacks.History at 0x174aeb6a0>"
      ]
     },
     "execution_count": 38,
     "metadata": {},
     "output_type": "execute_result"
    }
   ],
   "source": [
    "# Set random seed\n",
    "tf.random.set_seed(42)\n",
    "\n",
    "# Create a model\n",
    "model_2 = tf.keras.Sequential([\n",
    "    tf.keras.layers.Dense(10, input_shape=[1], name=\"input_layer\"),\n",
    "    tf.keras.layers.Dense(1, name=\"output_layer\")\n",
    "])\n",
    "\n",
    "# Compile the model\n",
    "model_2.compile(loss=tf.keras.losses.mae,\n",
    "                optimizer=tf.keras.optimizers.legacy.SGD(),\n",
    "                metrics=[\"mae\"])\n",
    "\n",
    "# Fit the model\n",
    "model_2.fit(X_train, y_train, epochs=120, verbose=0)"
   ]
  },
  {
   "cell_type": "code",
   "execution_count": 39,
   "id": "2b04585d",
   "metadata": {},
   "outputs": [
    {
     "name": "stdout",
     "output_type": "stream",
     "text": [
      "1/1 [==============================] - 0s 45ms/step\n"
     ]
    },
    {
     "data": {
      "image/png": "[encoded data removed]",
      "text/plain": [
       "<Figure size 1000x700 with 1 Axes>"
      ]
     },
     "metadata": {},
     "output_type": "display_data"
    }
   ],
   "source": [
    "y_preds_2 = model_2.predict(X_test)\n",
    "plot_predictions(predictions=y_preds_2)"
   ]
  },
  {
   "cell_type": "code",
   "execution_count": 40,
   "id": "db0992d6",
   "metadata": {},
   "outputs": [
    {
     "data": {
      "text/plain": [
       "(<tf.Tensor: shape=(), dtype=float32, numpy=5.8863373>,\n",
       " <tf.Tensor: shape=(), dtype=float32, numpy=38.792713>)"
      ]
     },
     "execution_count": 40,
     "metadata": {},
     "output_type": "execute_result"
    }
   ],
   "source": [
    "# Calculate model_1 evaluation metrics\n",
    "mae_2 = mae(y_test, y_preds_2)\n",
    "mse_2 = mse(y_test, y_preds_2)\n",
    "mae_2, mse_2"
   ]
  },
  {
   "attachments": {},
   "cell_type": "markdown",
   "id": "0132f835",
   "metadata": {},
   "source": [
    "## Comparing the results of our experiments"
   ]
  },
  {
   "cell_type": "code",
   "execution_count": 41,
   "id": "3f667cb9",
   "metadata": {},
   "outputs": [
    {
     "data": {
      "text/html": [
       "<div>\n",
       "<style scoped>\n",
       "    .dataframe tbody tr th:only-of-type {\n",
       "        vertical-align: middle;\n",
       "    }\n",
       "\n",
       "    .dataframe tbody tr th {\n",
       "        vertical-align: top;\n",
       "    }\n",
       "\n",
       "    .dataframe thead th {\n",
       "        text-align: right;\n",
       "    }\n",
       "</style>\n",
       "<table border=\"1\" class=\"dataframe\">\n",
       "  <thead>\n",
       "    <tr style=\"text-align: right;\">\n",
       "      <th></th>\n",
       "      <th>model</th>\n",
       "      <th>mae</th>\n",
       "      <th>mse</th>\n",
       "    </tr>\n",
       "  </thead>\n",
       "  <tbody>\n",
       "    <tr>\n",
       "      <th>0</th>\n",
       "      <td>model_1</td>\n",
       "      <td>10.630229</td>\n",
       "      <td>120.753540</td>\n",
       "    </tr>\n",
       "    <tr>\n",
       "      <th>1</th>\n",
       "      <td>model_2</td>\n",
       "      <td>5.886337</td>\n",
       "      <td>38.792713</td>\n",
       "    </tr>\n",
       "  </tbody>\n",
       "</table>\n",
       "</div>"
      ],
      "text/plain": [
       "     model        mae         mse\n",
       "0  model_1  10.630229  120.753540\n",
       "1  model_2   5.886337   38.792713"
      ]
     },
     "execution_count": 41,
     "metadata": {},
     "output_type": "execute_result"
    }
   ],
   "source": [
    "model_results = [[\"model_1\", mae_1.numpy(), mse_1.numpy()],\n",
    "                 [\"model_2\", mae_2.numpy(), mse_2.numpy()]]\n",
    "\n",
    "all_results = pd.DataFrame(model_results, columns=[\"model\", \"mae\", \"mse\"])\n",
    "all_results"
   ]
  },
  {
   "attachments": {},
   "cell_type": "markdown",
   "id": "070e99e6",
   "metadata": {},
   "source": [
    "## Working on a Larger dataset"
   ]
  },
  {
   "cell_type": "code",
   "execution_count": 42,
   "id": "b2b23bfa",
   "metadata": {},
   "outputs": [
    {
     "data": {
      "text/html": [
       "<div>\n",
       "<style scoped>\n",
       "    .dataframe tbody tr th:only-of-type {\n",
       "        vertical-align: middle;\n",
       "    }\n",
       "\n",
       "    .dataframe tbody tr th {\n",
       "        vertical-align: top;\n",
       "    }\n",
       "\n",
       "    .dataframe thead th {\n",
       "        text-align: right;\n",
       "    }\n",
       "</style>\n",
       "<table border=\"1\" class=\"dataframe\">\n",
       "  <thead>\n",
       "    <tr style=\"text-align: right;\">\n",
       "      <th></th>\n",
       "      <th>age</th>\n",
       "      <th>sex</th>\n",
       "      <th>bmi</th>\n",
       "      <th>children</th>\n",
       "      <th>smoker</th>\n",
       "      <th>region</th>\n",
       "      <th>charges</th>\n",
       "    </tr>\n",
       "  </thead>\n",
       "  <tbody>\n",
       "    <tr>\n",
       "      <th>0</th>\n",
       "      <td>19</td>\n",
       "      <td>female</td>\n",
       "      <td>27.900</td>\n",
       "      <td>0</td>\n",
       "      <td>yes</td>\n",
       "      <td>southwest</td>\n",
       "      <td>16884.92400</td>\n",
       "    </tr>\n",
       "    <tr>\n",
       "      <th>1</th>\n",
       "      <td>18</td>\n",
       "      <td>male</td>\n",
       "      <td>33.770</td>\n",
       "      <td>1</td>\n",
       "      <td>no</td>\n",
       "      <td>southeast</td>\n",
       "      <td>1725.55230</td>\n",
       "    </tr>\n",
       "    <tr>\n",
       "      <th>2</th>\n",
       "      <td>28</td>\n",
       "      <td>male</td>\n",
       "      <td>33.000</td>\n",
       "      <td>3</td>\n",
       "      <td>no</td>\n",
       "      <td>southeast</td>\n",
       "      <td>4449.46200</td>\n",
       "    </tr>\n",
       "    <tr>\n",
       "      <th>3</th>\n",
       "      <td>33</td>\n",
       "      <td>male</td>\n",
       "      <td>22.705</td>\n",
       "      <td>0</td>\n",
       "      <td>no</td>\n",
       "      <td>northwest</td>\n",
       "      <td>21984.47061</td>\n",
       "    </tr>\n",
       "    <tr>\n",
       "      <th>4</th>\n",
       "      <td>32</td>\n",
       "      <td>male</td>\n",
       "      <td>28.880</td>\n",
       "      <td>0</td>\n",
       "      <td>no</td>\n",
       "      <td>northwest</td>\n",
       "      <td>3866.85520</td>\n",
       "    </tr>\n",
       "  </tbody>\n",
       "</table>\n",
       "</div>"
      ],
      "text/plain": [
       "   age     sex     bmi  children smoker     region      charges\n",
       "0   19  female  27.900         0    yes  southwest  16884.92400\n",
       "1   18    male  33.770         1     no  southeast   1725.55230\n",
       "2   28    male  33.000         3     no  southeast   4449.46200\n",
       "3   33    male  22.705         0     no  northwest  21984.47061\n",
       "4   32    male  28.880         0     no  northwest   3866.85520"
      ]
     },
     "execution_count": 42,
     "metadata": {},
     "output_type": "execute_result"
    }
   ],
   "source": [
    "insurance = pd.read_csv(\"https://raw.githubusercontent.com/stedy/Machine-Learning-with-R-datasets/master/insurance.csv\")\n",
    "insurance.head()"
   ]
  },
  {
   "cell_type": "code",
   "execution_count": 43,
   "id": "609ba408",
   "metadata": {},
   "outputs": [
    {
     "data": {
      "text/plain": [
       "(1338, 7)"
      ]
     },
     "execution_count": 43,
     "metadata": {},
     "output_type": "execute_result"
    }
   ],
   "source": [
    "insurance.shape"
   ]
  },
  {
   "cell_type": "code",
   "execution_count": 44,
   "id": "49818e11",
   "metadata": {},
   "outputs": [
    {
     "name": "stdout",
     "output_type": "stream",
     "text": [
      "<class 'pandas.core.frame.DataFrame'>\n",
      "RangeIndex: 1338 entries, 0 to 1337\n",
      "Data columns (total 7 columns):\n",
      " #   Column    Non-Null Count  Dtype  \n",
      "---  ------    --------------  -----  \n",
      " 0   age       1338 non-null   int64  \n",
      " 1   sex       1338 non-null   object \n",
      " 2   bmi       1338 non-null   float64\n",
      " 3   children  1338 non-null   int64  \n",
      " 4   smoker    1338 non-null   object \n",
      " 5   region    1338 non-null   object \n",
      " 6   charges   1338 non-null   float64\n",
      "dtypes: float64(2), int64(2), object(3)\n",
      "memory usage: 73.3+ KB\n"
     ]
    }
   ],
   "source": [
    "insurance.info()"
   ]
  },
  {
   "cell_type": "code",
   "execution_count": 45,
   "id": "9538ee51",
   "metadata": {},
   "outputs": [
    {
     "data": {
      "text/html": [
       "<div>\n",
       "<style scoped>\n",
       "    .dataframe tbody tr th:only-of-type {\n",
       "        vertical-align: middle;\n",
       "    }\n",
       "\n",
       "    .dataframe tbody tr th {\n",
       "        vertical-align: top;\n",
       "    }\n",
       "\n",
       "    .dataframe thead th {\n",
       "        text-align: right;\n",
       "    }\n",
       "</style>\n",
       "<table border=\"1\" class=\"dataframe\">\n",
       "  <thead>\n",
       "    <tr style=\"text-align: right;\">\n",
       "      <th></th>\n",
       "      <th>age</th>\n",
       "      <th>bmi</th>\n",
       "      <th>children</th>\n",
       "      <th>charges</th>\n",
       "    </tr>\n",
       "  </thead>\n",
       "  <tbody>\n",
       "    <tr>\n",
       "      <th>count</th>\n",
       "      <td>1338.000000</td>\n",
       "      <td>1338.000000</td>\n",
       "      <td>1338.000000</td>\n",
       "      <td>1338.000000</td>\n",
       "    </tr>\n",
       "    <tr>\n",
       "      <th>mean</th>\n",
       "      <td>39.207025</td>\n",
       "      <td>30.663397</td>\n",
       "      <td>1.094918</td>\n",
       "      <td>13270.422265</td>\n",
       "    </tr>\n",
       "    <tr>\n",
       "      <th>std</th>\n",
       "      <td>14.049960</td>\n",
       "      <td>6.098187</td>\n",
       "      <td>1.205493</td>\n",
       "      <td>12110.011237</td>\n",
       "    </tr>\n",
       "    <tr>\n",
       "      <th>min</th>\n",
       "      <td>18.000000</td>\n",
       "      <td>15.960000</td>\n",
       "      <td>0.000000</td>\n",
       "      <td>1121.873900</td>\n",
       "    </tr>\n",
       "    <tr>\n",
       "      <th>25%</th>\n",
       "      <td>27.000000</td>\n",
       "      <td>26.296250</td>\n",
       "      <td>0.000000</td>\n",
       "      <td>4740.287150</td>\n",
       "    </tr>\n",
       "    <tr>\n",
       "      <th>50%</th>\n",
       "      <td>39.000000</td>\n",
       "      <td>30.400000</td>\n",
       "      <td>1.000000</td>\n",
       "      <td>9382.033000</td>\n",
       "    </tr>\n",
       "    <tr>\n",
       "      <th>75%</th>\n",
       "      <td>51.000000</td>\n",
       "      <td>34.693750</td>\n",
       "      <td>2.000000</td>\n",
       "      <td>16639.912515</td>\n",
       "    </tr>\n",
       "    <tr>\n",
       "      <th>max</th>\n",
       "      <td>64.000000</td>\n",
       "      <td>53.130000</td>\n",
       "      <td>5.000000</td>\n",
       "      <td>63770.428010</td>\n",
       "    </tr>\n",
       "  </tbody>\n",
       "</table>\n",
       "</div>"
      ],
      "text/plain": [
       "               age          bmi     children       charges\n",
       "count  1338.000000  1338.000000  1338.000000   1338.000000\n",
       "mean     39.207025    30.663397     1.094918  13270.422265\n",
       "std      14.049960     6.098187     1.205493  12110.011237\n",
       "min      18.000000    15.960000     0.000000   1121.873900\n",
       "25%      27.000000    26.296250     0.000000   4740.287150\n",
       "50%      39.000000    30.400000     1.000000   9382.033000\n",
       "75%      51.000000    34.693750     2.000000  16639.912515\n",
       "max      64.000000    53.130000     5.000000  63770.428010"
      ]
     },
     "execution_count": 45,
     "metadata": {},
     "output_type": "execute_result"
    }
   ],
   "source": [
    "insurance.describe()"
   ]
  },
  {
   "cell_type": "code",
   "execution_count": 46,
   "id": "3d99b8e2",
   "metadata": {},
   "outputs": [
    {
     "data": {
      "text/html": [
       "<div>\n",
       "<style scoped>\n",
       "    .dataframe tbody tr th:only-of-type {\n",
       "        vertical-align: middle;\n",
       "    }\n",
       "\n",
       "    .dataframe tbody tr th {\n",
       "        vertical-align: top;\n",
       "    }\n",
       "\n",
       "    .dataframe thead th {\n",
       "        text-align: right;\n",
       "    }\n",
       "</style>\n",
       "<table border=\"1\" class=\"dataframe\">\n",
       "  <thead>\n",
       "    <tr style=\"text-align: right;\">\n",
       "      <th></th>\n",
       "      <th>age</th>\n",
       "      <th>bmi</th>\n",
       "      <th>children</th>\n",
       "      <th>charges</th>\n",
       "      <th>sex_female</th>\n",
       "      <th>sex_male</th>\n",
       "      <th>smoker_no</th>\n",
       "      <th>smoker_yes</th>\n",
       "      <th>region_northeast</th>\n",
       "      <th>region_northwest</th>\n",
       "      <th>region_southeast</th>\n",
       "      <th>region_southwest</th>\n",
       "    </tr>\n",
       "  </thead>\n",
       "  <tbody>\n",
       "    <tr>\n",
       "      <th>0</th>\n",
       "      <td>19</td>\n",
       "      <td>27.900</td>\n",
       "      <td>0</td>\n",
       "      <td>16884.92400</td>\n",
       "      <td>1</td>\n",
       "      <td>0</td>\n",
       "      <td>0</td>\n",
       "      <td>1</td>\n",
       "      <td>0</td>\n",
       "      <td>0</td>\n",
       "      <td>0</td>\n",
       "      <td>1</td>\n",
       "    </tr>\n",
       "    <tr>\n",
       "      <th>1</th>\n",
       "      <td>18</td>\n",
       "      <td>33.770</td>\n",
       "      <td>1</td>\n",
       "      <td>1725.55230</td>\n",
       "      <td>0</td>\n",
       "      <td>1</td>\n",
       "      <td>1</td>\n",
       "      <td>0</td>\n",
       "      <td>0</td>\n",
       "      <td>0</td>\n",
       "      <td>1</td>\n",
       "      <td>0</td>\n",
       "    </tr>\n",
       "    <tr>\n",
       "      <th>2</th>\n",
       "      <td>28</td>\n",
       "      <td>33.000</td>\n",
       "      <td>3</td>\n",
       "      <td>4449.46200</td>\n",
       "      <td>0</td>\n",
       "      <td>1</td>\n",
       "      <td>1</td>\n",
       "      <td>0</td>\n",
       "      <td>0</td>\n",
       "      <td>0</td>\n",
       "      <td>1</td>\n",
       "      <td>0</td>\n",
       "    </tr>\n",
       "    <tr>\n",
       "      <th>3</th>\n",
       "      <td>33</td>\n",
       "      <td>22.705</td>\n",
       "      <td>0</td>\n",
       "      <td>21984.47061</td>\n",
       "      <td>0</td>\n",
       "      <td>1</td>\n",
       "      <td>1</td>\n",
       "      <td>0</td>\n",
       "      <td>0</td>\n",
       "      <td>1</td>\n",
       "      <td>0</td>\n",
       "      <td>0</td>\n",
       "    </tr>\n",
       "    <tr>\n",
       "      <th>4</th>\n",
       "      <td>32</td>\n",
       "      <td>28.880</td>\n",
       "      <td>0</td>\n",
       "      <td>3866.85520</td>\n",
       "      <td>0</td>\n",
       "      <td>1</td>\n",
       "      <td>1</td>\n",
       "      <td>0</td>\n",
       "      <td>0</td>\n",
       "      <td>1</td>\n",
       "      <td>0</td>\n",
       "      <td>0</td>\n",
       "    </tr>\n",
       "  </tbody>\n",
       "</table>\n",
       "</div>"
      ],
      "text/plain": [
       "   age     bmi  children      charges  sex_female  sex_male  smoker_no  \\\n",
       "0   19  27.900         0  16884.92400           1         0          0   \n",
       "1   18  33.770         1   1725.55230           0         1          1   \n",
       "2   28  33.000         3   4449.46200           0         1          1   \n",
       "3   33  22.705         0  21984.47061           0         1          1   \n",
       "4   32  28.880         0   3866.85520           0         1          1   \n",
       "\n",
       "   smoker_yes  region_northeast  region_northwest  region_southeast  \\\n",
       "0           1                 0                 0                 0   \n",
       "1           0                 0                 0                 1   \n",
       "2           0                 0                 0                 1   \n",
       "3           0                 0                 1                 0   \n",
       "4           0                 0                 1                 0   \n",
       "\n",
       "   region_southwest  \n",
       "0                 1  \n",
       "1                 0  \n",
       "2                 0  \n",
       "3                 0  \n",
       "4                 0  "
      ]
     },
     "execution_count": 46,
     "metadata": {},
     "output_type": "execute_result"
    }
   ],
   "source": [
    "# One-hot encode the DataFrame\n",
    "df = pd.get_dummies(insurance)\n",
    "df.head()"
   ]
  },
  {
   "cell_type": "code",
   "execution_count": 47,
   "id": "ce78b4b2",
   "metadata": {},
   "outputs": [],
   "source": [
    "# Create X & y values (features and labels)\n",
    "X = df.drop(\"charges\", axis=1)\n",
    "y = df[\"charges\"]"
   ]
  },
  {
   "cell_type": "code",
   "execution_count": 48,
   "id": "f2ae0048",
   "metadata": {},
   "outputs": [],
   "source": [
    "# Create training and test sets\n",
    "from sklearn.model_selection import train_test_split\n",
    "\n",
    "X_train, X_test, y_train, y_test = train_test_split(X, y, test_size=0.2, random_state=42)"
   ]
  },
  {
   "cell_type": "code",
   "execution_count": 49,
   "id": "9681dad7",
   "metadata": {},
   "outputs": [
    {
     "data": {
      "text/plain": [
       "<keras.callbacks.History at 0x2c4bd09a0>"
      ]
     },
     "execution_count": 49,
     "metadata": {},
     "output_type": "execute_result"
    }
   ],
   "source": [
    "tf.random.set_seed(42)\n",
    "\n",
    "# create a model\n",
    "df_model = tf.keras.Sequential([\n",
    "    tf.keras.layers.Dense(10),\n",
    "    tf.keras.layers.Dense(1)\n",
    "])\n",
    "\n",
    "# Compile the model\n",
    "df_model.compile(loss=tf.keras.losses.mae,\n",
    "                 optimizer=tf.keras.optimizers.legacy.SGD(),\n",
    "                 metrics=[\"mae\"])\n",
    "\n",
    "# fit the model\n",
    "df_model.fit(X_train, y_train, epochs=100, verbose=0)"
   ]
  },
  {
   "cell_type": "code",
   "execution_count": 50,
   "id": "affc821e",
   "metadata": {},
   "outputs": [
    {
     "name": "stdout",
     "output_type": "stream",
     "text": [
      "9/9 [==============================] - 0s 11ms/step - loss: 7273.4526 - mae: 7273.4526\n"
     ]
    },
    {
     "data": {
      "text/plain": [
       "[7273.45263671875, 7273.45263671875]"
      ]
     },
     "execution_count": 50,
     "metadata": {},
     "output_type": "execute_result"
    }
   ],
   "source": [
    "# Check the results of the insurance model on the test data\n",
    "df_model.evaluate(X_test, y_test)"
   ]
  },
  {
   "cell_type": "code",
   "execution_count": 54,
   "id": "9eafc0ce",
   "metadata": {},
   "outputs": [
    {
     "data": {
      "text/plain": [
       "<keras.callbacks.History at 0x2b525d400>"
      ]
     },
     "execution_count": 54,
     "metadata": {},
     "output_type": "execute_result"
    }
   ],
   "source": [
    "# Re-training the model\n",
    "df_model_2 = tf.keras.Sequential([\n",
    "    tf.keras.layers.Dense(100),\n",
    "    tf.keras.layers.Dense(10),\n",
    "    tf.keras.layers.Dense(1)\n",
    "])\n",
    "\n",
    "# Compile the model\n",
    "df_model_2.compile(loss = tf.keras.losses.mae,\n",
    "                   optimizer = tf.keras.optimizers.legacy.Adam(lr=0.01),\n",
    "                   metrics = [\"mae\"])\n",
    "\n",
    "# Fit the model\n",
    "df_model_2.fit(X_train, y_train, epochs=100, verbose=0)"
   ]
  },
  {
   "cell_type": "code",
   "execution_count": 55,
   "id": "14b7b95d",
   "metadata": {},
   "outputs": [
    {
     "name": "stdout",
     "output_type": "stream",
     "text": [
      "9/9 [==============================] - 0s 37ms/step - loss: 3155.8328 - mae: 3155.8328\n"
     ]
    },
    {
     "data": {
      "text/plain": [
       "[3155.832763671875, 3155.832763671875]"
      ]
     },
     "execution_count": 55,
     "metadata": {},
     "output_type": "execute_result"
    }
   ],
   "source": [
    "# Check the results of the insurance model on the test data\n",
    "df_model_2.evaluate(X_test, y_test)"
   ]
  },
  {
   "cell_type": "code",
   "execution_count": 62,
   "id": "98655735",
   "metadata": {},
   "outputs": [],
   "source": [
    "# Create a model (same as model_2)\n",
    "df_model_3 = tf.keras.Sequential([\n",
    "    tf.keras.layers.Dense(100),\n",
    "    tf.keras.layers.Dense(10),\n",
    "    tf.keras.layers.Dense(1)\n",
    "])\n",
    "\n",
    "# Compile the model\n",
    "df_model_3.compile(loss = tf.keras.losses.mae,\n",
    "                   optimizer = tf.keras.optimizers.legacy.Adam(lr=0.01),\n",
    "                   metrics=[\"mae\"])\n",
    "\n",
    "# Fit the model\n",
    "history = df_model_3.fit(X_train, y_train, epochs=500, verbose=0)"
   ]
  },
  {
   "cell_type": "code",
   "execution_count": 63,
   "id": "0be6b46d",
   "metadata": {},
   "outputs": [
    {
     "name": "stdout",
     "output_type": "stream",
     "text": [
      "9/9 [==============================] - 0s 5ms/step - loss: 3164.8152 - mae: 3164.8152\n"
     ]
    },
    {
     "data": {
      "text/plain": [
       "[3164.815185546875, 3164.815185546875]"
      ]
     },
     "execution_count": 63,
     "metadata": {},
     "output_type": "execute_result"
    }
   ],
   "source": [
    "# Evaluate the 3rd model\n",
    "df_model_3.evaluate(X_test, y_test)"
   ]
  },
  {
   "cell_type": "code",
   "execution_count": 64,
   "id": "20486d2e",
   "metadata": {},
   "outputs": [],
   "source": [
    "# Implementing the early stopping callback\n",
    "df_model_4 = tf.keras.Sequential([\n",
    "    tf.keras.layers.Dense(100),\n",
    "    tf.keras.layers.Dense(10),\n",
    "    tf.keras.layers.Dense(1)\n",
    "])\n",
    "\n",
    "# Compile the model\n",
    "df_model_4.compile(loss = tf.keras.losses.mae,\n",
    "                   optimizer=tf.keras.optimizers.legacy.Adam(lr=0.01),\n",
    "                   metrics=[\"mae\"])\n",
    "\n",
    "# Create early stopping callback\n",
    "callback = tf.keras.callbacks.EarlyStopping(monitor=\"loss\", patience=5)\n",
    "\n",
    "# Fit the model\n",
    "history_1 = df_model_4.fit(X_train, y_train, epochs=300, verbose=0, callbacks=[callback])"
   ]
  },
  {
   "cell_type": "code",
   "execution_count": 65,
   "id": "dadd6c2a",
   "metadata": {},
   "outputs": [
    {
     "name": "stdout",
     "output_type": "stream",
     "text": [
      "9/9 [==============================] - 0s 7ms/step - loss: 3545.4370 - mae: 3545.4370\n"
     ]
    },
    {
     "data": {
      "text/plain": [
       "[3545.43701171875, 3545.43701171875]"
      ]
     },
     "execution_count": 65,
     "metadata": {},
     "output_type": "execute_result"
    }
   ],
   "source": [
    "# Evaluate the 3rd model\n",
    "df_model_4.evaluate(X_test, y_test)"
   ]
  },
  {
   "cell_type": "code",
   "execution_count": null,
   "id": "5286fa43",
   "metadata": {},
   "outputs": [],
   "source": []
  },
  {
   "cell_type": "code",
   "execution_count": null,
   "id": "f2028d63",
   "metadata": {},
   "outputs": [],
   "source": []
  },
  {
   "cell_type": "code",
   "execution_count": null,
   "id": "dca04856",
   "metadata": {},
   "outputs": [],
   "source": []
  }
 ],
 "metadata": {
  "kernelspec": {
   "display_name": "Python 3 (ipykernel)",
   "language": "python",
   "name": "python3"
  },
  "language_info": {
   "codemirror_mode": {
    "name": "ipython",
    "version": 3
   },
   "file_extension": ".py",
   "mimetype": "text/x-python",
   "name": "python",
   "nbconvert_exporter": "python",
   "pygments_lexer": "ipython3",
   "version": "3.9.16"
  }
 },
 "nbformat": 4,
 "nbformat_minor": 5
}
