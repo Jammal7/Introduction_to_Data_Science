{
 "cells": [
  {
   "cell_type": "markdown",
   "id": "90f90718-b431-4374-b9f5-e1fe8ff3e397",
   "metadata": {},
   "source": [
    "# Introduction to Regression with Neural Networks in TensorFlow"
   ]
  },
  {
   "cell_type": "code",
   "execution_count": 1,
   "id": "4183a1c0-64de-4983-b96c-365c5de199dd",
   "metadata": {},
   "outputs": [],
   "source": [
    "import tensorflow as tf\n",
    "import pandas as pd\n",
    "import numpy as np\n",
    "import matplotlib.pyplot as plt"
   ]
  },
  {
   "cell_type": "code",
   "execution_count": 2,
   "id": "b8a1a7a8-8bd3-4e18-b68b-4429b6242761",
   "metadata": {},
   "outputs": [
    {
     "data": {
      "image/png": "[encoded data removed]",
      "text/plain": [
       "<Figure size 640x480 with 1 Axes>"
      ]
     },
     "metadata": {},
     "output_type": "display_data"
    }
   ],
   "source": [
    "# Create Featuers\n",
    "X = np.array([-7.0, -4.0, -1.0, 2.0, 5.0, 8.0, 11.0, 14.0])\n",
    "\n",
    "# Create Labels\n",
    "y = np.array([3.0, 6.0, 9.0, 12.0, 15.0, 18.0, 21.0, 24.0])\n",
    "\n",
    "# Visualizing \n",
    "plt.scatter(X, y);"
   ]
  },
  {
   "cell_type": "code",
   "execution_count": 3,
   "id": "a7c852c4-a5d6-46c7-9db3-0e73d47ab406",
   "metadata": {},
   "outputs": [
    {
     "data": {
      "text/plain": [
       "array([ True,  True,  True,  True,  True,  True,  True,  True])"
      ]
     },
     "execution_count": 3,
     "metadata": {},
     "output_type": "execute_result"
    }
   ],
   "source": [
    "y == X + 10"
   ]
  },
  {
   "cell_type": "markdown",
   "id": "b5b36316-0714-42fd-b2b0-92a4ab532844",
   "metadata": {},
   "source": [
    "## Input and Output Shapes"
   ]
  },
  {
   "cell_type": "code",
   "execution_count": 4,
   "id": "aff0f7e3-f525-49aa-add5-c8dc00beaf3b",
   "metadata": {},
   "outputs": [
    {
     "name": "stdout",
     "output_type": "stream",
     "text": [
      "Metal device set to: Apple M2\n"
     ]
    }
   ],
   "source": [
    "house_info = tf.constant([\"bedroom\", \"bathroom\", \"garage\"])\n",
    "house_price = tf.constant([939700])"
   ]
  },
  {
   "cell_type": "code",
   "execution_count": 5,
   "id": "c86892c2-a85e-4497-8f85-bf9df7095cf4",
   "metadata": {},
   "outputs": [
    {
     "data": {
      "text/plain": [
       "<tf.Tensor: shape=(3,), dtype=string, numpy=array([b'bedroom', b'bathroom', b'garage'], dtype=object)>"
      ]
     },
     "execution_count": 5,
     "metadata": {},
     "output_type": "execute_result"
    }
   ],
   "source": [
    "house_info"
   ]
  },
  {
   "cell_type": "code",
   "execution_count": 6,
   "id": "307878cb-10b0-4e7a-9de7-719740227448",
   "metadata": {},
   "outputs": [
    {
     "data": {
      "text/plain": [
       "<tf.Tensor: shape=(1,), dtype=int32, numpy=array([939700], dtype=int32)>"
      ]
     },
     "execution_count": 6,
     "metadata": {},
     "output_type": "execute_result"
    }
   ],
   "source": [
    "house_price"
   ]
  },
  {
   "cell_type": "code",
   "execution_count": 7,
   "id": "15088650-a5fc-4321-ad52-8979ea1e8cad",
   "metadata": {},
   "outputs": [
    {
     "data": {
      "text/plain": [
       "(<tf.Tensor: shape=(8,), dtype=float32, numpy=array([-7., -4., -1.,  2.,  5.,  8., 11., 14.], dtype=float32)>,\n",
       " <tf.Tensor: shape=(8,), dtype=float32, numpy=array([ 3.,  6.,  9., 12., 15., 18., 21., 24.], dtype=float32)>)"
      ]
     },
     "execution_count": 7,
     "metadata": {},
     "output_type": "execute_result"
    }
   ],
   "source": [
    "# Turn the NumPy arrays into tensors with dtype float32\n",
    "X = tf.cast(tf.constant(X), dtype=tf.float32)\n",
    "y = tf.cast(tf.constant(y), dtype=tf.float32)\n",
    "\n",
    "X, y"
   ]
  },
  {
   "cell_type": "code",
   "execution_count": 8,
   "id": "8658359a-bd7a-48e4-8627-40ca5f8991d5",
   "metadata": {},
   "outputs": [
    {
     "data": {
      "text/plain": [
       "(TensorShape([]), TensorShape([]))"
      ]
     },
     "execution_count": 8,
     "metadata": {},
     "output_type": "execute_result"
    }
   ],
   "source": [
    "input_shape = X[0].shape\n",
    "output_shape = y[0].shape\n",
    "\n",
    "input_shape, output_shape"
   ]
  },
  {
   "cell_type": "markdown",
   "id": "cc8a5cb8-a414-44a5-935d-3bb1488ef883",
   "metadata": {},
   "source": [
    "## Steps in Modelling with TensorFlow\n",
    "\n",
    "1. **Creating a model**: define the input & output layers, as well as the hidden layers of a deep learning model.\n",
    "2. **Compilin a model**: define the loss function (in other words, the function which tells the model how wrong it is), the optimizer (tells the model how to improve the patterns its learning) and evaluation metrics (evaluate/interpret the performance of the model).\n",
    "3. **Fitting a model**: letting the model try to find patterns between X & y (features and labels)."
   ]
  },
  {
   "cell_type": "code",
   "execution_count": 9,
   "id": "81f24a0d-c6d0-43b5-99c8-72120ed1d7a5",
   "metadata": {},
   "outputs": [
    {
     "name": "stderr",
     "output_type": "stream",
     "text": [
      "WARNING:absl:At this time, the v2.11+ optimizer `tf.keras.optimizers.SGD` runs slowly on M1/M2 Macs, please use the legacy Keras optimizer instead, located at `tf.keras.optimizers.legacy.SGD`.\n",
      "WARNING:absl:There is a known slowdown when using v2.11+ Keras optimizers on M1/M2 Macs. Falling back to the legacy Keras optimizer, i.e., `tf.keras.optimizers.legacy.SGD`.\n"
     ]
    },
    {
     "name": "stdout",
     "output_type": "stream",
     "text": [
      "Epoch 1/10\n"
     ]
    },
    {
     "name": "stderr",
     "output_type": "stream",
     "text": [
      "2023-05-08 12:35:33.319223: W tensorflow/tsl/platform/profile_utils/cpu_utils.cc:128] Failed to get CPU frequency: 0 Hz\n"
     ]
    },
    {
     "name": "stdout",
     "output_type": "stream",
     "text": [
      "1/1 [==============================] - 0s 275ms/step - loss: 8.3260 - mae: 8.3260\n",
      "Epoch 2/10\n",
      "1/1 [==============================] - 0s 7ms/step - loss: 8.1935 - mae: 8.1935\n",
      "Epoch 3/10\n",
      "1/1 [==============================] - 0s 7ms/step - loss: 8.0610 - mae: 8.0610\n",
      "Epoch 4/10\n",
      "1/1 [==============================] - 0s 7ms/step - loss: 7.9285 - mae: 7.9285\n",
      "Epoch 5/10\n",
      "1/1 [==============================] - 0s 6ms/step - loss: 7.7960 - mae: 7.7960\n",
      "Epoch 6/10\n",
      "1/1 [==============================] - 0s 7ms/step - loss: 7.6635 - mae: 7.6635\n",
      "Epoch 7/10\n",
      "1/1 [==============================] - 0s 6ms/step - loss: 7.5310 - mae: 7.5310\n",
      "Epoch 8/10\n",
      "1/1 [==============================] - 0s 8ms/step - loss: 7.4475 - mae: 7.4475\n",
      "Epoch 9/10\n",
      "1/1 [==============================] - 0s 7ms/step - loss: 7.4419 - mae: 7.4419\n",
      "Epoch 10/10\n",
      "1/1 [==============================] - 0s 8ms/step - loss: 7.4363 - mae: 7.4363\n"
     ]
    },
    {
     "data": {
      "text/plain": [
       "<keras.callbacks.History at 0x2a170bf10>"
      ]
     },
     "execution_count": 9,
     "metadata": {},
     "output_type": "execute_result"
    }
   ],
   "source": [
    "# Set random seed\n",
    "tf.random.set_seed(42)\n",
    "\n",
    "# 1. Create a model using the Sequential API\n",
    "model = tf.keras.Sequential([\n",
    "    tf.keras.layers.Dense(1)\n",
    "])\n",
    "\n",
    "# 2. Compile the model\n",
    "model.compile(loss = tf.keras.losses.mae, # mae == mean absolute error\n",
    "             optimizer = tf.keras.optimizers.SGD(), # sgd == stochastic gradient descent,\n",
    "             metrics = [\"mae\"])\n",
    "\n",
    "# 3. Fit the model\n",
    "model.fit(tf.expand_dims(X, axis=-1), y, epochs=10)"
   ]
  },
  {
   "cell_type": "code",
   "execution_count": 10,
   "id": "111379cb-3278-41b1-b1ff-537cf360a4c6",
   "metadata": {},
   "outputs": [
    {
     "name": "stdout",
     "output_type": "stream",
     "text": [
      "1/1 [==============================] - 0s 51ms/step\n"
     ]
    },
    {
     "data": {
      "text/plain": [
       "array([[29.388206]], dtype=float32)"
      ]
     },
     "execution_count": 10,
     "metadata": {},
     "output_type": "execute_result"
    }
   ],
   "source": [
    "# prediction using the model\n",
    "model.predict([17.0])"
   ]
  },
  {
   "cell_type": "markdown",
   "id": "7c33e27b-0240-471f-80c0-059845bae85d",
   "metadata": {},
   "source": [
    "## Improving the model\n",
    " \n",
    "The model could be improve by altering the steps that was taken to create the model\n",
    " \n",
    "1. **Creating a model**: add more layers, increase the numbers of hidden units(called neurons) within each of the hiden layers, and change the activation function of each layer.\n",
    "2. **Compiling the model**: might change the optimization function or the **learning rate** of the optimization function\n",
    "3. **Fitting the model**:fit the model with more **epochs**(leave it training for longer) or on more data (give the model more examples to learn from)."
   ]
  },
  {
   "cell_type": "code",
   "execution_count": 11,
   "id": "8399b15f-5c2b-4858-b11c-d4c7c5331a2c",
   "metadata": {},
   "outputs": [
    {
     "name": "stderr",
     "output_type": "stream",
     "text": [
      "WARNING:absl:At this time, the v2.11+ optimizer `tf.keras.optimizers.SGD` runs slowly on M1/M2 Macs, please use the legacy Keras optimizer instead, located at `tf.keras.optimizers.legacy.SGD`.\n",
      "WARNING:absl:There is a known slowdown when using v2.11+ Keras optimizers on M1/M2 Macs. Falling back to the legacy Keras optimizer, i.e., `tf.keras.optimizers.legacy.SGD`.\n"
     ]
    },
    {
     "name": "stdout",
     "output_type": "stream",
     "text": [
      "Epoch 1/100\n",
      "1/1 [==============================] - 0s 267ms/step - loss: 16.5162 - mae: 16.5162\n",
      "Epoch 2/100\n",
      "1/1 [==============================] - 0s 7ms/step - loss: 16.2350 - mae: 16.2350\n",
      "Epoch 3/100\n",
      "1/1 [==============================] - 0s 9ms/step - loss: 15.9537 - mae: 15.9537\n",
      "Epoch 4/100\n",
      "1/1 [==============================] - 0s 7ms/step - loss: 15.6725 - mae: 15.6725\n",
      "Epoch 5/100\n",
      "1/1 [==============================] - 0s 8ms/step - loss: 15.3912 - mae: 15.3912\n",
      "Epoch 6/100\n",
      "1/1 [==============================] - 0s 6ms/step - loss: 15.1100 - mae: 15.1100\n",
      "Epoch 7/100\n",
      "1/1 [==============================] - 0s 7ms/step - loss: 14.8633 - mae: 14.8633\n",
      "Epoch 8/100\n",
      "1/1 [==============================] - 0s 6ms/step - loss: 14.7308 - mae: 14.7308\n",
      "Epoch 9/100\n",
      "1/1 [==============================] - 0s 7ms/step - loss: 14.5983 - mae: 14.5983\n",
      "Epoch 10/100\n",
      "1/1 [==============================] - 0s 6ms/step - loss: 14.4658 - mae: 14.4658\n",
      "Epoch 11/100\n",
      "1/1 [==============================] - 0s 7ms/step - loss: 14.3333 - mae: 14.3333\n",
      "Epoch 12/100\n",
      "1/1 [==============================] - 0s 6ms/step - loss: 14.2008 - mae: 14.2008\n",
      "Epoch 13/100\n",
      "1/1 [==============================] - 0s 7ms/step - loss: 14.0683 - mae: 14.0683\n",
      "Epoch 14/100\n",
      "1/1 [==============================] - 0s 6ms/step - loss: 13.9358 - mae: 13.9358\n",
      "Epoch 15/100\n",
      "1/1 [==============================] - 0s 7ms/step - loss: 13.8033 - mae: 13.8033\n",
      "Epoch 16/100\n",
      "1/1 [==============================] - 0s 7ms/step - loss: 13.6708 - mae: 13.6708\n",
      "Epoch 17/100\n",
      "1/1 [==============================] - 0s 7ms/step - loss: 13.5383 - mae: 13.5383\n",
      "Epoch 18/100\n",
      "1/1 [==============================] - 0s 6ms/step - loss: 13.4058 - mae: 13.4058\n",
      "Epoch 19/100\n",
      "1/1 [==============================] - 0s 7ms/step - loss: 13.2733 - mae: 13.2733\n",
      "Epoch 20/100\n",
      "1/1 [==============================] - 0s 7ms/step - loss: 13.1408 - mae: 13.1408\n",
      "Epoch 21/100\n",
      "1/1 [==============================] - 0s 7ms/step - loss: 13.0083 - mae: 13.0083\n",
      "Epoch 22/100\n",
      "1/1 [==============================] - 0s 6ms/step - loss: 12.8758 - mae: 12.8758\n",
      "Epoch 23/100\n",
      "1/1 [==============================] - 0s 8ms/step - loss: 12.7433 - mae: 12.7433\n",
      "Epoch 24/100\n",
      "1/1 [==============================] - 0s 6ms/step - loss: 12.6108 - mae: 12.6108\n",
      "Epoch 25/100\n",
      "1/1 [==============================] - 0s 7ms/step - loss: 12.4783 - mae: 12.4783\n",
      "Epoch 26/100\n",
      "1/1 [==============================] - 0s 7ms/step - loss: 12.3458 - mae: 12.3458\n",
      "Epoch 27/100\n",
      "1/1 [==============================] - 0s 7ms/step - loss: 12.2133 - mae: 12.2133\n",
      "Epoch 28/100\n",
      "1/1 [==============================] - 0s 7ms/step - loss: 12.0808 - mae: 12.0808\n",
      "Epoch 29/100\n",
      "1/1 [==============================] - 0s 7ms/step - loss: 11.9483 - mae: 11.9483\n",
      "Epoch 30/100\n",
      "1/1 [==============================] - 0s 7ms/step - loss: 11.8158 - mae: 11.8158\n",
      "Epoch 31/100\n",
      "1/1 [==============================] - 0s 6ms/step - loss: 11.6833 - mae: 11.6833\n",
      "Epoch 32/100\n",
      "1/1 [==============================] - 0s 7ms/step - loss: 11.5508 - mae: 11.5508\n",
      "Epoch 33/100\n",
      "1/1 [==============================] - 0s 6ms/step - loss: 11.4183 - mae: 11.4183\n",
      "Epoch 34/100\n",
      "1/1 [==============================] - 0s 6ms/step - loss: 11.2858 - mae: 11.2858\n",
      "Epoch 35/100\n",
      "1/1 [==============================] - 0s 6ms/step - loss: 11.1533 - mae: 11.1533\n",
      "Epoch 36/100\n",
      "1/1 [==============================] - 0s 7ms/step - loss: 11.0208 - mae: 11.0208\n",
      "Epoch 37/100\n",
      "1/1 [==============================] - 0s 7ms/step - loss: 10.8883 - mae: 10.8883\n",
      "Epoch 38/100\n",
      "1/1 [==============================] - 0s 7ms/step - loss: 10.7558 - mae: 10.7558\n",
      "Epoch 39/100\n",
      "1/1 [==============================] - 0s 6ms/step - loss: 10.6233 - mae: 10.6233\n",
      "Epoch 40/100\n",
      "1/1 [==============================] - 0s 7ms/step - loss: 10.4908 - mae: 10.4908\n",
      "Epoch 41/100\n",
      "1/1 [==============================] - 0s 6ms/step - loss: 10.3583 - mae: 10.3583\n",
      "Epoch 42/100\n",
      "1/1 [==============================] - 0s 7ms/step - loss: 10.2258 - mae: 10.2258\n",
      "Epoch 43/100\n",
      "1/1 [==============================] - 0s 6ms/step - loss: 10.0933 - mae: 10.0933\n",
      "Epoch 44/100\n",
      "1/1 [==============================] - 0s 7ms/step - loss: 9.9608 - mae: 9.9608\n",
      "Epoch 45/100\n",
      "1/1 [==============================] - 0s 6ms/step - loss: 9.8283 - mae: 9.8283\n",
      "Epoch 46/100\n",
      "1/1 [==============================] - 0s 10ms/step - loss: 9.6958 - mae: 9.6958\n",
      "Epoch 47/100\n",
      "1/1 [==============================] - 0s 7ms/step - loss: 9.5633 - mae: 9.5633\n",
      "Epoch 48/100\n",
      "1/1 [==============================] - 0s 8ms/step - loss: 9.4308 - mae: 9.4308\n",
      "Epoch 49/100\n",
      "1/1 [==============================] - 0s 11ms/step - loss: 9.2983 - mae: 9.2983\n",
      "Epoch 50/100\n",
      "1/1 [==============================] - 0s 8ms/step - loss: 9.1658 - mae: 9.1658\n",
      "Epoch 51/100\n",
      "1/1 [==============================] - 0s 7ms/step - loss: 9.0333 - mae: 9.0333\n",
      "Epoch 52/100\n",
      "1/1 [==============================] - 0s 8ms/step - loss: 8.9008 - mae: 8.9008\n",
      "Epoch 53/100\n",
      "1/1 [==============================] - 0s 7ms/step - loss: 8.7683 - mae: 8.7683\n",
      "Epoch 54/100\n",
      "1/1 [==============================] - 0s 9ms/step - loss: 8.6358 - mae: 8.6358\n",
      "Epoch 55/100\n",
      "1/1 [==============================] - 0s 6ms/step - loss: 8.5033 - mae: 8.5033\n",
      "Epoch 56/100\n",
      "1/1 [==============================] - 0s 7ms/step - loss: 8.3708 - mae: 8.3708\n",
      "Epoch 57/100\n",
      "1/1 [==============================] - 0s 7ms/step - loss: 8.2383 - mae: 8.2383\n",
      "Epoch 58/100\n",
      "1/1 [==============================] - 0s 7ms/step - loss: 8.1058 - mae: 8.1058\n",
      "Epoch 59/100\n",
      "1/1 [==============================] - 0s 7ms/step - loss: 7.9733 - mae: 7.9733\n",
      "Epoch 60/100\n",
      "1/1 [==============================] - 0s 7ms/step - loss: 7.8408 - mae: 7.8408\n",
      "Epoch 61/100\n",
      "1/1 [==============================] - 0s 7ms/step - loss: 7.7083 - mae: 7.7083\n",
      "Epoch 62/100\n",
      "1/1 [==============================] - 0s 7ms/step - loss: 7.5758 - mae: 7.5758\n",
      "Epoch 63/100\n",
      "1/1 [==============================] - 0s 8ms/step - loss: 7.4433 - mae: 7.4433\n",
      "Epoch 64/100\n",
      "1/1 [==============================] - 0s 9ms/step - loss: 7.3108 - mae: 7.3108\n",
      "Epoch 65/100\n",
      "1/1 [==============================] - 0s 7ms/step - loss: 7.1783 - mae: 7.1783\n",
      "Epoch 66/100\n",
      "1/1 [==============================] - 0s 8ms/step - loss: 7.0458 - mae: 7.0458\n",
      "Epoch 67/100\n",
      "1/1 [==============================] - 0s 7ms/step - loss: 7.0163 - mae: 7.0163\n",
      "Epoch 68/100\n",
      "1/1 [==============================] - 0s 7ms/step - loss: 7.0106 - mae: 7.0106\n",
      "Epoch 69/100\n",
      "1/1 [==============================] - 0s 7ms/step - loss: 7.0050 - mae: 7.0050\n",
      "Epoch 70/100\n",
      "1/1 [==============================] - 0s 7ms/step - loss: 6.9994 - mae: 6.9994\n",
      "Epoch 71/100\n",
      "1/1 [==============================] - 0s 7ms/step - loss: 6.9938 - mae: 6.9938\n",
      "Epoch 72/100\n",
      "1/1 [==============================] - 0s 7ms/step - loss: 6.9881 - mae: 6.9881\n",
      "Epoch 73/100\n",
      "1/1 [==============================] - 0s 7ms/step - loss: 6.9825 - mae: 6.9825\n",
      "Epoch 74/100\n",
      "1/1 [==============================] - 0s 7ms/step - loss: 6.9769 - mae: 6.9769\n",
      "Epoch 75/100\n",
      "1/1 [==============================] - 0s 7ms/step - loss: 6.9712 - mae: 6.9712\n",
      "Epoch 76/100\n",
      "1/1 [==============================] - 0s 7ms/step - loss: 6.9656 - mae: 6.9656\n",
      "Epoch 77/100\n",
      "1/1 [==============================] - 0s 7ms/step - loss: 6.9600 - mae: 6.9600\n",
      "Epoch 78/100\n",
      "1/1 [==============================] - 0s 7ms/step - loss: 6.9544 - mae: 6.9544\n",
      "Epoch 79/100\n",
      "1/1 [==============================] - 0s 7ms/step - loss: 6.9488 - mae: 6.9488\n",
      "Epoch 80/100\n",
      "1/1 [==============================] - 0s 6ms/step - loss: 6.9431 - mae: 6.9431\n",
      "Epoch 81/100\n",
      "1/1 [==============================] - 0s 12ms/step - loss: 6.9375 - mae: 6.9375\n",
      "Epoch 82/100\n",
      "1/1 [==============================] - 0s 11ms/step - loss: 6.9319 - mae: 6.9319\n",
      "Epoch 83/100\n",
      "1/1 [==============================] - 0s 12ms/step - loss: 6.9263 - mae: 6.9263\n",
      "Epoch 84/100\n",
      "1/1 [==============================] - 0s 8ms/step - loss: 6.9206 - mae: 6.9206\n",
      "Epoch 85/100\n",
      "1/1 [==============================] - 0s 6ms/step - loss: 6.9150 - mae: 6.9150\n",
      "Epoch 86/100\n",
      "1/1 [==============================] - 0s 7ms/step - loss: 6.9094 - mae: 6.9094\n",
      "Epoch 87/100\n",
      "1/1 [==============================] - 0s 8ms/step - loss: 6.9038 - mae: 6.9038\n",
      "Epoch 88/100\n",
      "1/1 [==============================] - 0s 6ms/step - loss: 6.8981 - mae: 6.8981\n",
      "Epoch 89/100\n",
      "1/1 [==============================] - 0s 7ms/step - loss: 6.8925 - mae: 6.8925\n",
      "Epoch 90/100\n",
      "1/1 [==============================] - 0s 7ms/step - loss: 6.8869 - mae: 6.8869\n",
      "Epoch 91/100\n",
      "1/1 [==============================] - 0s 7ms/step - loss: 6.8813 - mae: 6.8813\n",
      "Epoch 92/100\n",
      "1/1 [==============================] - 0s 6ms/step - loss: 6.8756 - mae: 6.8756\n",
      "Epoch 93/100\n",
      "1/1 [==============================] - 0s 7ms/step - loss: 6.8700 - mae: 6.8700\n",
      "Epoch 94/100\n",
      "1/1 [==============================] - 0s 7ms/step - loss: 6.8644 - mae: 6.8644\n",
      "Epoch 95/100\n",
      "1/1 [==============================] - 0s 6ms/step - loss: 6.8588 - mae: 6.8588\n",
      "Epoch 96/100\n",
      "1/1 [==============================] - 0s 8ms/step - loss: 6.8531 - mae: 6.8531\n",
      "Epoch 97/100\n",
      "1/1 [==============================] - 0s 7ms/step - loss: 6.8475 - mae: 6.8475\n",
      "Epoch 98/100\n",
      "1/1 [==============================] - 0s 7ms/step - loss: 6.8419 - mae: 6.8419\n",
      "Epoch 99/100\n",
      "1/1 [==============================] - 0s 6ms/step - loss: 6.8363 - mae: 6.8363\n",
      "Epoch 100/100\n",
      "1/1 [==============================] - 0s 7ms/step - loss: 6.8306 - mae: 6.8306\n"
     ]
    },
    {
     "data": {
      "text/plain": [
       "<keras.callbacks.History at 0x2a59eeeb0>"
      ]
     },
     "execution_count": 11,
     "metadata": {},
     "output_type": "execute_result"
    }
   ],
   "source": [
    "# Recreating the model 1\n",
    "\n",
    "# Set random seed\n",
    "tf.random.set_seed(42)\n",
    "\n",
    "# 1. Create the model \n",
    "model1 = tf.keras.Sequential([\n",
    "    tf.keras.layers.Dense(1)\n",
    "])\n",
    "\n",
    "# 2. Compile the model\n",
    "model1.compile(loss = tf.keras.losses.mae, # mae == mean absolute error\n",
    "             optimizer = tf.keras.optimizers.SGD(), # sgd == stochastic gradient descent,\n",
    "             metrics = [\"mae\"])\n",
    "\n",
    "# 3. Fit the model\n",
    "model1.fit(tf.expand_dims(X, axis=-1), y, epochs=100)"
   ]
  },
  {
   "cell_type": "code",
   "execution_count": 12,
   "id": "a2351818-1e2e-4aeb-9f33-abea0f1dc69b",
   "metadata": {},
   "outputs": [
    {
     "name": "stdout",
     "output_type": "stream",
     "text": [
      "1/1 [==============================] - 0s 33ms/step\n"
     ]
    },
    {
     "data": {
      "text/plain": [
       "array([[29.759562]], dtype=float32)"
      ]
     },
     "execution_count": 12,
     "metadata": {},
     "output_type": "execute_result"
    }
   ],
   "source": [
    "# prediction using the model\n",
    "model1.predict([17.0])"
   ]
  },
  {
   "cell_type": "code",
   "execution_count": 13,
   "id": "f81dc3b0-580c-4db9-94af-06d024bef6c4",
   "metadata": {},
   "outputs": [
    {
     "name": "stderr",
     "output_type": "stream",
     "text": [
      "WARNING:absl:At this time, the v2.11+ optimizer `tf.keras.optimizers.Adam` runs slowly on M1/M2 Macs, please use the legacy Keras optimizer instead, located at `tf.keras.optimizers.legacy.Adam`.\n",
      "WARNING:absl:`lr` is deprecated in Keras optimizer, please use `learning_rate` or use the legacy optimizer, e.g.,tf.keras.optimizers.legacy.Adam.\n",
      "WARNING:absl:There is a known slowdown when using v2.11+ Keras optimizers on M1/M2 Macs. Falling back to the legacy Keras optimizer, i.e., `tf.keras.optimizers.legacy.Adam`.\n"
     ]
    },
    {
     "name": "stdout",
     "output_type": "stream",
     "text": [
      "Epoch 1/100\n",
      "1/1 [==============================] - 0s 412ms/step - loss: 13.7668 - mae: 13.7668\n",
      "Epoch 2/100\n",
      "1/1 [==============================] - 0s 10ms/step - loss: 13.3471 - mae: 13.3471\n",
      "Epoch 3/100\n",
      "1/1 [==============================] - 0s 11ms/step - loss: 12.9636 - mae: 12.9636\n",
      "Epoch 4/100\n",
      "1/1 [==============================] - 0s 9ms/step - loss: 12.6227 - mae: 12.6227\n",
      "Epoch 5/100\n",
      "1/1 [==============================] - 0s 9ms/step - loss: 12.2976 - mae: 12.2976\n",
      "Epoch 6/100\n",
      "1/1 [==============================] - 0s 11ms/step - loss: 11.9790 - mae: 11.9790\n",
      "Epoch 7/100\n",
      "1/1 [==============================] - 0s 10ms/step - loss: 11.6510 - mae: 11.6510\n",
      "Epoch 8/100\n",
      "1/1 [==============================] - 0s 9ms/step - loss: 11.3229 - mae: 11.3229\n",
      "Epoch 9/100\n",
      "1/1 [==============================] - 0s 10ms/step - loss: 10.9872 - mae: 10.9872\n",
      "Epoch 10/100\n",
      "1/1 [==============================] - 0s 9ms/step - loss: 10.7415 - mae: 10.7415\n",
      "Epoch 11/100\n",
      "1/1 [==============================] - 0s 9ms/step - loss: 10.4962 - mae: 10.4962\n",
      "Epoch 12/100\n",
      "1/1 [==============================] - 0s 10ms/step - loss: 10.2434 - mae: 10.2434\n",
      "Epoch 13/100\n",
      "1/1 [==============================] - 0s 9ms/step - loss: 9.9743 - mae: 9.9743\n",
      "Epoch 14/100\n",
      "1/1 [==============================] - 0s 9ms/step - loss: 9.6850 - mae: 9.6850\n",
      "Epoch 15/100\n",
      "1/1 [==============================] - 0s 9ms/step - loss: 9.3799 - mae: 9.3799\n",
      "Epoch 16/100\n",
      "1/1 [==============================] - 0s 9ms/step - loss: 9.0498 - mae: 9.0498\n",
      "Epoch 17/100\n",
      "1/1 [==============================] - 0s 9ms/step - loss: 8.6939 - mae: 8.6939\n",
      "Epoch 18/100\n",
      "1/1 [==============================] - 0s 9ms/step - loss: 8.3111 - mae: 8.3111\n",
      "Epoch 19/100\n",
      "1/1 [==============================] - 0s 10ms/step - loss: 7.9002 - mae: 7.9002\n",
      "Epoch 20/100\n",
      "1/1 [==============================] - 0s 9ms/step - loss: 7.4602 - mae: 7.4602\n",
      "Epoch 21/100\n",
      "1/1 [==============================] - 0s 10ms/step - loss: 6.9951 - mae: 6.9951\n",
      "Epoch 22/100\n",
      "1/1 [==============================] - 0s 9ms/step - loss: 6.4985 - mae: 6.4985\n",
      "Epoch 23/100\n",
      "1/1 [==============================] - 0s 9ms/step - loss: 5.9676 - mae: 5.9676\n",
      "Epoch 24/100\n",
      "1/1 [==============================] - 0s 9ms/step - loss: 5.3998 - mae: 5.3998\n",
      "Epoch 25/100\n",
      "1/1 [==============================] - 0s 9ms/step - loss: 4.7930 - mae: 4.7930\n",
      "Epoch 26/100\n",
      "1/1 [==============================] - 0s 9ms/step - loss: 4.1816 - mae: 4.1816\n",
      "Epoch 27/100\n",
      "1/1 [==============================] - 0s 9ms/step - loss: 3.9758 - mae: 3.9758\n",
      "Epoch 28/100\n",
      "1/1 [==============================] - 0s 9ms/step - loss: 3.9928 - mae: 3.9928\n",
      "Epoch 29/100\n",
      "1/1 [==============================] - 0s 9ms/step - loss: 4.1229 - mae: 4.1229\n",
      "Epoch 30/100\n",
      "1/1 [==============================] - 0s 9ms/step - loss: 4.2352 - mae: 4.2352\n",
      "Epoch 31/100\n",
      "1/1 [==============================] - 0s 9ms/step - loss: 4.4681 - mae: 4.4681\n",
      "Epoch 32/100\n",
      "1/1 [==============================] - 0s 10ms/step - loss: 4.6441 - mae: 4.6441\n",
      "Epoch 33/100\n",
      "1/1 [==============================] - 0s 10ms/step - loss: 4.7337 - mae: 4.7337\n",
      "Epoch 34/100\n",
      "1/1 [==============================] - 0s 11ms/step - loss: 4.7469 - mae: 4.7469\n",
      "Epoch 35/100\n",
      "1/1 [==============================] - 0s 9ms/step - loss: 4.6942 - mae: 4.6942\n",
      "Epoch 36/100\n",
      "1/1 [==============================] - 0s 9ms/step - loss: 4.5855 - mae: 4.5855\n",
      "Epoch 37/100\n",
      "1/1 [==============================] - 0s 9ms/step - loss: 4.4304 - mae: 4.4304\n",
      "Epoch 38/100\n",
      "1/1 [==============================] - 0s 9ms/step - loss: 4.2384 - mae: 4.2384\n",
      "Epoch 39/100\n",
      "1/1 [==============================] - 0s 9ms/step - loss: 4.1041 - mae: 4.1041\n",
      "Epoch 40/100\n",
      "1/1 [==============================] - 0s 10ms/step - loss: 4.0166 - mae: 4.0166\n",
      "Epoch 41/100\n",
      "1/1 [==============================] - 0s 8ms/step - loss: 3.9317 - mae: 3.9317\n",
      "Epoch 42/100\n",
      "1/1 [==============================] - 0s 9ms/step - loss: 3.8485 - mae: 3.8485\n",
      "Epoch 43/100\n",
      "1/1 [==============================] - 0s 9ms/step - loss: 3.7674 - mae: 3.7674\n",
      "Epoch 44/100\n",
      "1/1 [==============================] - 0s 9ms/step - loss: 3.7908 - mae: 3.7908\n",
      "Epoch 45/100\n",
      "1/1 [==============================] - 0s 9ms/step - loss: 3.8503 - mae: 3.8503\n",
      "Epoch 46/100\n",
      "1/1 [==============================] - 0s 10ms/step - loss: 3.8914 - mae: 3.8914\n",
      "Epoch 47/100\n",
      "1/1 [==============================] - 0s 10ms/step - loss: 3.9160 - mae: 3.9160\n",
      "Epoch 48/100\n",
      "1/1 [==============================] - 0s 9ms/step - loss: 3.9600 - mae: 3.9600\n",
      "Epoch 49/100\n",
      "1/1 [==============================] - 0s 9ms/step - loss: 3.9591 - mae: 3.9591\n",
      "Epoch 50/100\n",
      "1/1 [==============================] - 0s 9ms/step - loss: 3.9248 - mae: 3.9248\n",
      "Epoch 51/100\n",
      "1/1 [==============================] - 0s 9ms/step - loss: 3.9090 - mae: 3.9090\n",
      "Epoch 52/100\n",
      "1/1 [==============================] - 0s 10ms/step - loss: 3.8825 - mae: 3.8825\n",
      "Epoch 53/100\n",
      "1/1 [==============================] - 0s 10ms/step - loss: 3.8438 - mae: 3.8438\n",
      "Epoch 54/100\n",
      "1/1 [==============================] - 0s 9ms/step - loss: 3.7955 - mae: 3.7955\n",
      "Epoch 55/100\n",
      "1/1 [==============================] - 0s 9ms/step - loss: 3.7380 - mae: 3.7380\n",
      "Epoch 56/100\n",
      "1/1 [==============================] - 0s 10ms/step - loss: 3.6718 - mae: 3.6718\n",
      "Epoch 57/100\n",
      "1/1 [==============================] - 0s 10ms/step - loss: 3.6357 - mae: 3.6357\n",
      "Epoch 58/100\n",
      "1/1 [==============================] - 0s 10ms/step - loss: 3.6603 - mae: 3.6603\n",
      "Epoch 59/100\n",
      "1/1 [==============================] - 0s 10ms/step - loss: 3.6750 - mae: 3.6750\n",
      "Epoch 60/100\n",
      "1/1 [==============================] - 0s 10ms/step - loss: 3.6800 - mae: 3.6800\n",
      "Epoch 61/100\n",
      "1/1 [==============================] - 0s 9ms/step - loss: 3.6770 - mae: 3.6770\n",
      "Epoch 62/100\n",
      "1/1 [==============================] - 0s 10ms/step - loss: 3.6652 - mae: 3.6652\n",
      "Epoch 63/100\n",
      "1/1 [==============================] - 0s 9ms/step - loss: 3.6621 - mae: 3.6621\n",
      "Epoch 64/100\n",
      "1/1 [==============================] - 0s 9ms/step - loss: 3.6299 - mae: 3.6299\n",
      "Epoch 65/100\n",
      "1/1 [==============================] - 0s 9ms/step - loss: 3.6042 - mae: 3.6042\n",
      "Epoch 66/100\n",
      "1/1 [==============================] - 0s 9ms/step - loss: 3.5769 - mae: 3.5769\n",
      "Epoch 67/100\n",
      "1/1 [==============================] - 0s 9ms/step - loss: 3.5446 - mae: 3.5446\n",
      "Epoch 68/100\n",
      "1/1 [==============================] - 0s 9ms/step - loss: 3.5382 - mae: 3.5382\n",
      "Epoch 69/100\n",
      "1/1 [==============================] - 0s 9ms/step - loss: 3.5559 - mae: 3.5559\n",
      "Epoch 70/100\n",
      "1/1 [==============================] - 0s 9ms/step - loss: 3.5549 - mae: 3.5549\n",
      "Epoch 71/100\n",
      "1/1 [==============================] - 0s 9ms/step - loss: 3.5361 - mae: 3.5361\n",
      "Epoch 72/100\n",
      "1/1 [==============================] - 0s 9ms/step - loss: 3.5028 - mae: 3.5028\n",
      "Epoch 73/100\n",
      "1/1 [==============================] - 0s 11ms/step - loss: 3.4764 - mae: 3.4764\n",
      "Epoch 74/100\n",
      "1/1 [==============================] - 0s 10ms/step - loss: 3.4788 - mae: 3.4788\n",
      "Epoch 75/100\n",
      "1/1 [==============================] - 0s 10ms/step - loss: 3.4717 - mae: 3.4717\n",
      "Epoch 76/100\n",
      "1/1 [==============================] - 0s 9ms/step - loss: 3.4563 - mae: 3.4563\n",
      "Epoch 77/100\n",
      "1/1 [==============================] - 0s 10ms/step - loss: 3.4329 - mae: 3.4329\n",
      "Epoch 78/100\n",
      "1/1 [==============================] - 0s 10ms/step - loss: 3.4023 - mae: 3.4023\n",
      "Epoch 79/100\n",
      "1/1 [==============================] - 0s 9ms/step - loss: 3.4072 - mae: 3.4072\n",
      "Epoch 80/100\n",
      "1/1 [==============================] - 0s 9ms/step - loss: 3.4322 - mae: 3.4322\n",
      "Epoch 81/100\n",
      "1/1 [==============================] - 0s 10ms/step - loss: 3.3959 - mae: 3.3959\n",
      "Epoch 82/100\n",
      "1/1 [==============================] - 0s 9ms/step - loss: 3.3532 - mae: 3.3532\n",
      "Epoch 83/100\n",
      "1/1 [==============================] - 0s 9ms/step - loss: 3.3649 - mae: 3.3649\n",
      "Epoch 84/100\n",
      "1/1 [==============================] - 0s 9ms/step - loss: 3.3731 - mae: 3.3731\n",
      "Epoch 85/100\n",
      "1/1 [==============================] - 0s 9ms/step - loss: 3.3692 - mae: 3.3692\n",
      "Epoch 86/100\n",
      "1/1 [==============================] - 0s 9ms/step - loss: 3.3553 - mae: 3.3553\n",
      "Epoch 87/100\n",
      "1/1 [==============================] - 0s 9ms/step - loss: 3.3364 - mae: 3.3364\n",
      "Epoch 88/100\n",
      "1/1 [==============================] - 0s 9ms/step - loss: 3.3107 - mae: 3.3107\n",
      "Epoch 89/100\n",
      "1/1 [==============================] - 0s 9ms/step - loss: 3.2759 - mae: 3.2759\n",
      "Epoch 90/100\n",
      "1/1 [==============================] - 0s 10ms/step - loss: 3.2796 - mae: 3.2796\n",
      "Epoch 91/100\n",
      "1/1 [==============================] - 0s 9ms/step - loss: 3.2786 - mae: 3.2786\n",
      "Epoch 92/100\n",
      "1/1 [==============================] - 0s 9ms/step - loss: 3.2538 - mae: 3.2538\n",
      "Epoch 93/100\n",
      "1/1 [==============================] - 0s 9ms/step - loss: 3.2089 - mae: 3.2089\n",
      "Epoch 94/100\n",
      "1/1 [==============================] - 0s 9ms/step - loss: 3.1970 - mae: 3.1970\n",
      "Epoch 95/100\n",
      "1/1 [==============================] - 0s 9ms/step - loss: 3.1920 - mae: 3.1920\n",
      "Epoch 96/100\n",
      "1/1 [==============================] - 0s 10ms/step - loss: 3.1747 - mae: 3.1747\n",
      "Epoch 97/100\n",
      "1/1 [==============================] - 0s 9ms/step - loss: 3.1849 - mae: 3.1849\n",
      "Epoch 98/100\n",
      "1/1 [==============================] - 0s 9ms/step - loss: 3.1325 - mae: 3.1325\n",
      "Epoch 99/100\n",
      "1/1 [==============================] - 0s 9ms/step - loss: 3.1075 - mae: 3.1075\n",
      "Epoch 100/100\n",
      "1/1 [==============================] - 0s 9ms/step - loss: 3.0775 - mae: 3.0775\n"
     ]
    },
    {
     "data": {
      "text/plain": [
       "<keras.callbacks.History at 0x2a04f6df0>"
      ]
     },
     "execution_count": 13,
     "metadata": {},
     "output_type": "execute_result"
    }
   ],
   "source": [
    "# Recreating the model 2\n",
    "\n",
    "# Set random seed\n",
    "tf.random.set_seed(42)\n",
    "\n",
    "# 1. Create the model \n",
    "model2 = tf.keras.Sequential([\n",
    "    tf.keras.layers.Dense(100, activation=\"relu\"),\n",
    "    tf.keras.layers.Dense(100, activation=\"relu\"),\n",
    "    tf.keras.layers.Dense(100, activation=\"relu\"),\n",
    "    tf.keras.layers.Dense(1)\n",
    "])\n",
    "\n",
    "# 2. Compile the model\n",
    "model2.compile(loss = tf.keras.losses.mae, \n",
    "             optimizer = tf.keras.optimizers.Adam(lr=0.0001),\n",
    "             metrics = [\"mae\"])\n",
    "\n",
    "# 3. Fit the model\n",
    "model2.fit(tf.expand_dims(X, axis=-1), y, epochs=100)"
   ]
  },
  {
   "cell_type": "code",
   "execution_count": 14,
   "id": "9a6fbf27-c6fd-4975-b610-04090917a34d",
   "metadata": {},
   "outputs": [
    {
     "name": "stdout",
     "output_type": "stream",
     "text": [
      "1/1 [==============================] - 0s 70ms/step\n"
     ]
    },
    {
     "data": {
      "text/plain": [
       "array([[30.786417]], dtype=float32)"
      ]
     },
     "execution_count": 14,
     "metadata": {},
     "output_type": "execute_result"
    }
   ],
   "source": [
    "# prediction using the model\n",
    "model2.predict([17.0])"
   ]
  },
  {
   "cell_type": "code",
   "execution_count": 15,
   "id": "09730b53-5397-4b88-b207-4029c0eb4272",
   "metadata": {},
   "outputs": [
    {
     "name": "stderr",
     "output_type": "stream",
     "text": [
      "WARNING:absl:At this time, the v2.11+ optimizer `tf.keras.optimizers.Adam` runs slowly on M1/M2 Macs, please use the legacy Keras optimizer instead, located at `tf.keras.optimizers.legacy.Adam`.\n",
      "WARNING:absl:`lr` is deprecated in Keras optimizer, please use `learning_rate` or use the legacy optimizer, e.g.,tf.keras.optimizers.legacy.Adam.\n",
      "WARNING:absl:There is a known slowdown when using v2.11+ Keras optimizers on M1/M2 Macs. Falling back to the legacy Keras optimizer, i.e., `tf.keras.optimizers.legacy.Adam`.\n"
     ]
    },
    {
     "name": "stdout",
     "output_type": "stream",
     "text": [
      "Epoch 1/100\n",
      "1/1 [==============================] - 0s 259ms/step - loss: 15.0780 - mae: 15.0780\n",
      "Epoch 2/100\n",
      "1/1 [==============================] - 0s 10ms/step - loss: 14.9790 - mae: 14.9790\n",
      "Epoch 3/100\n",
      "1/1 [==============================] - 0s 9ms/step - loss: 14.9079 - mae: 14.9079\n",
      "Epoch 4/100\n",
      "1/1 [==============================] - 0s 8ms/step - loss: 14.8372 - mae: 14.8372\n",
      "Epoch 5/100\n",
      "1/1 [==============================] - 0s 8ms/step - loss: 14.7665 - mae: 14.7665\n",
      "Epoch 6/100\n",
      "1/1 [==============================] - 0s 8ms/step - loss: 14.6958 - mae: 14.6958\n",
      "Epoch 7/100\n",
      "1/1 [==============================] - 0s 8ms/step - loss: 14.6252 - mae: 14.6252\n",
      "Epoch 8/100\n",
      "1/1 [==============================] - 0s 10ms/step - loss: 14.5545 - mae: 14.5545\n",
      "Epoch 9/100\n",
      "1/1 [==============================] - 0s 8ms/step - loss: 14.4839 - mae: 14.4839\n",
      "Epoch 10/100\n",
      "1/1 [==============================] - 0s 9ms/step - loss: 14.4132 - mae: 14.4132\n",
      "Epoch 11/100\n",
      "1/1 [==============================] - 0s 8ms/step - loss: 14.3426 - mae: 14.3426\n",
      "Epoch 12/100\n",
      "1/1 [==============================] - 0s 8ms/step - loss: 14.2720 - mae: 14.2720\n",
      "Epoch 13/100\n",
      "1/1 [==============================] - 0s 8ms/step - loss: 14.2014 - mae: 14.2014\n",
      "Epoch 14/100\n",
      "1/1 [==============================] - 0s 8ms/step - loss: 14.1308 - mae: 14.1308\n",
      "Epoch 15/100\n",
      "1/1 [==============================] - 0s 8ms/step - loss: 14.0603 - mae: 14.0603\n",
      "Epoch 16/100\n",
      "1/1 [==============================] - 0s 8ms/step - loss: 13.9898 - mae: 13.9898\n",
      "Epoch 17/100\n",
      "1/1 [==============================] - 0s 8ms/step - loss: 13.9193 - mae: 13.9193\n",
      "Epoch 18/100\n",
      "1/1 [==============================] - 0s 8ms/step - loss: 13.8488 - mae: 13.8488\n",
      "Epoch 19/100\n",
      "1/1 [==============================] - 0s 7ms/step - loss: 13.7783 - mae: 13.7783\n",
      "Epoch 20/100\n",
      "1/1 [==============================] - 0s 8ms/step - loss: 13.7078 - mae: 13.7078\n",
      "Epoch 21/100\n",
      "1/1 [==============================] - 0s 7ms/step - loss: 13.6374 - mae: 13.6374\n",
      "Epoch 22/100\n",
      "1/1 [==============================] - 0s 8ms/step - loss: 13.5669 - mae: 13.5669\n",
      "Epoch 23/100\n",
      "1/1 [==============================] - 0s 8ms/step - loss: 13.4965 - mae: 13.4965\n",
      "Epoch 24/100\n",
      "1/1 [==============================] - 0s 7ms/step - loss: 13.4260 - mae: 13.4260\n",
      "Epoch 25/100\n",
      "1/1 [==============================] - 0s 9ms/step - loss: 13.3556 - mae: 13.3556\n",
      "Epoch 26/100\n",
      "1/1 [==============================] - 0s 8ms/step - loss: 13.2851 - mae: 13.2851\n",
      "Epoch 27/100\n",
      "1/1 [==============================] - 0s 8ms/step - loss: 13.2146 - mae: 13.2146\n",
      "Epoch 28/100\n",
      "1/1 [==============================] - 0s 8ms/step - loss: 13.1441 - mae: 13.1441\n",
      "Epoch 29/100\n",
      "1/1 [==============================] - 0s 8ms/step - loss: 13.0735 - mae: 13.0735\n",
      "Epoch 30/100\n",
      "1/1 [==============================] - 0s 9ms/step - loss: 13.0030 - mae: 13.0030\n",
      "Epoch 31/100\n",
      "1/1 [==============================] - 0s 8ms/step - loss: 12.9323 - mae: 12.9323\n",
      "Epoch 32/100\n",
      "1/1 [==============================] - 0s 8ms/step - loss: 12.8617 - mae: 12.8617\n",
      "Epoch 33/100\n",
      "1/1 [==============================] - 0s 9ms/step - loss: 12.7910 - mae: 12.7910\n",
      "Epoch 34/100\n",
      "1/1 [==============================] - 0s 8ms/step - loss: 12.7202 - mae: 12.7202\n",
      "Epoch 35/100\n",
      "1/1 [==============================] - 0s 8ms/step - loss: 12.6493 - mae: 12.6493\n",
      "Epoch 36/100\n",
      "1/1 [==============================] - 0s 8ms/step - loss: 12.5784 - mae: 12.5784\n",
      "Epoch 37/100\n",
      "1/1 [==============================] - 0s 8ms/step - loss: 12.5074 - mae: 12.5074\n",
      "Epoch 38/100\n",
      "1/1 [==============================] - 0s 8ms/step - loss: 12.4364 - mae: 12.4364\n",
      "Epoch 39/100\n",
      "1/1 [==============================] - 0s 7ms/step - loss: 12.3652 - mae: 12.3652\n",
      "Epoch 40/100\n",
      "1/1 [==============================] - 0s 8ms/step - loss: 12.2940 - mae: 12.2940\n",
      "Epoch 41/100\n",
      "1/1 [==============================] - 0s 11ms/step - loss: 12.2226 - mae: 12.2226\n",
      "Epoch 42/100\n",
      "1/1 [==============================] - 0s 8ms/step - loss: 12.1512 - mae: 12.1512\n",
      "Epoch 43/100\n",
      "1/1 [==============================] - 0s 9ms/step - loss: 12.0796 - mae: 12.0796\n",
      "Epoch 44/100\n",
      "1/1 [==============================] - 0s 9ms/step - loss: 12.0079 - mae: 12.0079\n",
      "Epoch 45/100\n",
      "1/1 [==============================] - 0s 8ms/step - loss: 11.9361 - mae: 11.9361\n",
      "Epoch 46/100\n",
      "1/1 [==============================] - 0s 8ms/step - loss: 11.8642 - mae: 11.8642\n",
      "Epoch 47/100\n",
      "1/1 [==============================] - 0s 8ms/step - loss: 11.7921 - mae: 11.7921\n",
      "Epoch 48/100\n",
      "1/1 [==============================] - 0s 8ms/step - loss: 11.7199 - mae: 11.7199\n",
      "Epoch 49/100\n",
      "1/1 [==============================] - 0s 8ms/step - loss: 11.6476 - mae: 11.6476\n",
      "Epoch 50/100\n",
      "1/1 [==============================] - 0s 8ms/step - loss: 11.5751 - mae: 11.5751\n",
      "Epoch 51/100\n",
      "1/1 [==============================] - 0s 8ms/step - loss: 11.5024 - mae: 11.5024\n",
      "Epoch 52/100\n",
      "1/1 [==============================] - 0s 7ms/step - loss: 11.4296 - mae: 11.4296\n",
      "Epoch 53/100\n",
      "1/1 [==============================] - 0s 8ms/step - loss: 11.3566 - mae: 11.3566\n",
      "Epoch 54/100\n",
      "1/1 [==============================] - 0s 9ms/step - loss: 11.2834 - mae: 11.2834\n",
      "Epoch 55/100\n",
      "1/1 [==============================] - 0s 7ms/step - loss: 11.2101 - mae: 11.2101\n",
      "Epoch 56/100\n",
      "1/1 [==============================] - 0s 8ms/step - loss: 11.1365 - mae: 11.1365\n",
      "Epoch 57/100\n",
      "1/1 [==============================] - 0s 7ms/step - loss: 11.0628 - mae: 11.0628\n",
      "Epoch 58/100\n",
      "1/1 [==============================] - 0s 8ms/step - loss: 10.9889 - mae: 10.9889\n",
      "Epoch 59/100\n",
      "1/1 [==============================] - 0s 7ms/step - loss: 10.9148 - mae: 10.9148\n",
      "Epoch 60/100\n",
      "1/1 [==============================] - 0s 8ms/step - loss: 10.8404 - mae: 10.8404\n",
      "Epoch 61/100\n",
      "1/1 [==============================] - 0s 7ms/step - loss: 10.7659 - mae: 10.7659\n",
      "Epoch 62/100\n",
      "1/1 [==============================] - 0s 8ms/step - loss: 10.6911 - mae: 10.6911\n",
      "Epoch 63/100\n",
      "1/1 [==============================] - 0s 8ms/step - loss: 10.6161 - mae: 10.6161\n",
      "Epoch 64/100\n",
      "1/1 [==============================] - 0s 7ms/step - loss: 10.5408 - mae: 10.5408\n",
      "Epoch 65/100\n",
      "1/1 [==============================] - 0s 9ms/step - loss: 10.4653 - mae: 10.4653\n",
      "Epoch 66/100\n",
      "1/1 [==============================] - 0s 8ms/step - loss: 10.3896 - mae: 10.3896\n",
      "Epoch 67/100\n",
      "1/1 [==============================] - 0s 9ms/step - loss: 10.3136 - mae: 10.3136\n",
      "Epoch 68/100\n",
      "1/1 [==============================] - 0s 8ms/step - loss: 10.2374 - mae: 10.2374\n",
      "Epoch 69/100\n",
      "1/1 [==============================] - 0s 8ms/step - loss: 10.1609 - mae: 10.1609\n",
      "Epoch 70/100\n",
      "1/1 [==============================] - 0s 8ms/step - loss: 10.0841 - mae: 10.0841\n",
      "Epoch 71/100\n",
      "1/1 [==============================] - 0s 7ms/step - loss: 10.0071 - mae: 10.0071\n",
      "Epoch 72/100\n",
      "1/1 [==============================] - 0s 9ms/step - loss: 9.9297 - mae: 9.9297\n",
      "Epoch 73/100\n",
      "1/1 [==============================] - 0s 8ms/step - loss: 9.8521 - mae: 9.8521\n",
      "Epoch 74/100\n",
      "1/1 [==============================] - 0s 8ms/step - loss: 9.7742 - mae: 9.7742\n",
      "Epoch 75/100\n",
      "1/1 [==============================] - 0s 9ms/step - loss: 9.6960 - mae: 9.6960\n",
      "Epoch 76/100\n",
      "1/1 [==============================] - 0s 8ms/step - loss: 9.6175 - mae: 9.6175\n",
      "Epoch 77/100\n",
      "1/1 [==============================] - 0s 8ms/step - loss: 9.5387 - mae: 9.5387\n",
      "Epoch 78/100\n",
      "1/1 [==============================] - 0s 8ms/step - loss: 9.4596 - mae: 9.4596\n",
      "Epoch 79/100\n",
      "1/1 [==============================] - 0s 7ms/step - loss: 9.3801 - mae: 9.3801\n",
      "Epoch 80/100\n",
      "1/1 [==============================] - 0s 9ms/step - loss: 9.3004 - mae: 9.3004\n",
      "Epoch 81/100\n",
      "1/1 [==============================] - 0s 7ms/step - loss: 9.2203 - mae: 9.2203\n",
      "Epoch 82/100\n",
      "1/1 [==============================] - 0s 8ms/step - loss: 9.1398 - mae: 9.1398\n",
      "Epoch 83/100\n",
      "1/1 [==============================] - 0s 8ms/step - loss: 9.0591 - mae: 9.0591\n",
      "Epoch 84/100\n",
      "1/1 [==============================] - 0s 8ms/step - loss: 8.9780 - mae: 8.9780\n",
      "Epoch 85/100\n",
      "1/1 [==============================] - 0s 9ms/step - loss: 8.8965 - mae: 8.8965\n",
      "Epoch 86/100\n",
      "1/1 [==============================] - 0s 8ms/step - loss: 8.8147 - mae: 8.8147\n",
      "Epoch 87/100\n",
      "1/1 [==============================] - 0s 8ms/step - loss: 8.7325 - mae: 8.7325\n",
      "Epoch 88/100\n",
      "1/1 [==============================] - 0s 8ms/step - loss: 8.6500 - mae: 8.6500\n",
      "Epoch 89/100\n",
      "1/1 [==============================] - 0s 7ms/step - loss: 8.5671 - mae: 8.5671\n",
      "Epoch 90/100\n",
      "1/1 [==============================] - 0s 8ms/step - loss: 8.4838 - mae: 8.4838\n",
      "Epoch 91/100\n",
      "1/1 [==============================] - 0s 8ms/step - loss: 8.4001 - mae: 8.4001\n",
      "Epoch 92/100\n",
      "1/1 [==============================] - 0s 8ms/step - loss: 8.3161 - mae: 8.3161\n",
      "Epoch 93/100\n",
      "1/1 [==============================] - 0s 7ms/step - loss: 8.2317 - mae: 8.2317\n",
      "Epoch 94/100\n",
      "1/1 [==============================] - 0s 8ms/step - loss: 8.1468 - mae: 8.1468\n",
      "Epoch 95/100\n",
      "1/1 [==============================] - 0s 8ms/step - loss: 8.0616 - mae: 8.0616\n",
      "Epoch 96/100\n",
      "1/1 [==============================] - 0s 9ms/step - loss: 7.9760 - mae: 7.9760\n",
      "Epoch 97/100\n",
      "1/1 [==============================] - 0s 11ms/step - loss: 7.8900 - mae: 7.8900\n",
      "Epoch 98/100\n",
      "1/1 [==============================] - 0s 15ms/step - loss: 7.8035 - mae: 7.8035\n",
      "Epoch 99/100\n",
      "1/1 [==============================] - 0s 8ms/step - loss: 7.7167 - mae: 7.7167\n",
      "Epoch 100/100\n",
      "1/1 [==============================] - 0s 8ms/step - loss: 7.6294 - mae: 7.6294\n"
     ]
    },
    {
     "data": {
      "text/plain": [
       "<keras.callbacks.History at 0x2a5f9d910>"
      ]
     },
     "execution_count": 15,
     "metadata": {},
     "output_type": "execute_result"
    }
   ],
   "source": [
    "# Recreating the model 3\n",
    "\n",
    "# Set random seed\n",
    "tf.random.set_seed(42)\n",
    "\n",
    "# 1. Create the model \n",
    "model3 = tf.keras.Sequential([\n",
    "    tf.keras.layers.Dense(50, activation=None),\n",
    "    tf.keras.layers.Dense(1)\n",
    "])\n",
    "\n",
    "# 2. Compile the model\n",
    "model3.compile(loss = tf.keras.losses.mae, \n",
    "             optimizer = tf.keras.optimizers.Adam(lr=0.01),\n",
    "             metrics = [\"mae\"])\n",
    "\n",
    "# 3. Fit the model\n",
    "model3.fit(tf.expand_dims(X, axis=-1), y, epochs=100)"
   ]
  },
  {
   "cell_type": "code",
   "execution_count": 16,
   "id": "577de510-2aba-4a76-8a9a-83feb41e4fbc",
   "metadata": {},
   "outputs": [
    {
     "name": "stdout",
     "output_type": "stream",
     "text": [
      "1/1 [==============================] - 0s 46ms/step\n"
     ]
    },
    {
     "data": {
      "text/plain": [
       "array([[24.699732]], dtype=float32)"
      ]
     },
     "execution_count": 16,
     "metadata": {},
     "output_type": "execute_result"
    }
   ],
   "source": [
    "# prediction using the model\n",
    "model3.predict([17.0])"
   ]
  },
  {
   "cell_type": "markdown",
   "id": "70c23859-3024-41f1-8501-c384954b2ced",
   "metadata": {},
   "source": [
    "## Evaluating the model\n",
    "\n",
    "When it comes to evaluation, we need to\n",
    "\n",
    "> \"Visualize, visualize, Visualize\"\n",
    "\n",
    "It's always a good idea to visualize:\n",
    "* The data - What data are we working with? What does it look like?\n",
    "* The model itself - What does our model look like?\n",
    "* The training of a model - how does a model perform while it learns?\n",
    "* The predictions of the model - how do the predictions of a model line up against the ground truth (the original labels)?"
   ]
  },
  {
   "cell_type": "code",
   "execution_count": 17,
   "id": "b4ffcbb7-a0de-4a80-b4f9-0038a0008084",
   "metadata": {},
   "outputs": [],
   "source": [
    "# Make a bigger dataset\n",
    "X = tf.range(-100, 100, 4)\n",
    "\n",
    "# Make labels for the dataset\n",
    "y = X + 10"
   ]
  },
  {
   "cell_type": "code",
   "execution_count": 18,
   "id": "1215b4d0-223e-4bbd-b3c0-e40b864d428e",
   "metadata": {},
   "outputs": [
    {
     "data": {
      "text/plain": [
       "<tf.Tensor: shape=(50,), dtype=int32, numpy=\n",
       "array([-100,  -96,  -92,  -88,  -84,  -80,  -76,  -72,  -68,  -64,  -60,\n",
       "        -56,  -52,  -48,  -44,  -40,  -36,  -32,  -28,  -24,  -20,  -16,\n",
       "        -12,   -8,   -4,    0,    4,    8,   12,   16,   20,   24,   28,\n",
       "         32,   36,   40,   44,   48,   52,   56,   60,   64,   68,   72,\n",
       "         76,   80,   84,   88,   92,   96], dtype=int32)>"
      ]
     },
     "execution_count": 18,
     "metadata": {},
     "output_type": "execute_result"
    }
   ],
   "source": [
    "X"
   ]
  },
  {
   "cell_type": "code",
   "execution_count": 19,
   "id": "396c79a8-a6a6-42fe-9ae3-9dac4942e75b",
   "metadata": {},
   "outputs": [
    {
     "data": {
      "text/plain": [
       "<tf.Tensor: shape=(50,), dtype=int32, numpy=\n",
       "array([-90, -86, -82, -78, -74, -70, -66, -62, -58, -54, -50, -46, -42,\n",
       "       -38, -34, -30, -26, -22, -18, -14, -10,  -6,  -2,   2,   6,  10,\n",
       "        14,  18,  22,  26,  30,  34,  38,  42,  46,  50,  54,  58,  62,\n",
       "        66,  70,  74,  78,  82,  86,  90,  94,  98, 102, 106], dtype=int32)>"
      ]
     },
     "execution_count": 19,
     "metadata": {},
     "output_type": "execute_result"
    }
   ],
   "source": [
    "y"
   ]
  },
  {
   "cell_type": "code",
   "execution_count": 20,
   "id": "18b09071-48b5-4e09-b2ea-e6287630ca8f",
   "metadata": {},
   "outputs": [
    {
     "data": {
      "image/png": "[encoded data removed]",
      "text/plain": [
       "<Figure size 640x480 with 1 Axes>"
      ]
     },
     "metadata": {},
     "output_type": "display_data"
    }
   ],
   "source": [
    "# Visualize the data\n",
    "plt.scatter(X, y);"
   ]
  },
  {
   "cell_type": "markdown",
   "id": "cb69c4e2-5111-4f71-88f8-98cc0036d79b",
   "metadata": {},
   "source": [
    "### Splitting the dataset"
   ]
  },
  {
   "cell_type": "code",
   "execution_count": 21,
   "id": "0d113e96-b3ee-4ff6-9e6c-f61d6b4ef71d",
   "metadata": {},
   "outputs": [
    {
     "data": {
      "text/plain": [
       "(40, 10, 40, 10)"
      ]
     },
     "execution_count": 21,
     "metadata": {},
     "output_type": "execute_result"
    }
   ],
   "source": [
    "X_train = X[:40]\n",
    "y_train = y[:40]\n",
    "\n",
    "X_test = X[40:]\n",
    "y_test = y[40:]\n",
    "\n",
    "len(X_train), len(X_test), len(y_train), len(y_test)"
   ]
  },
  {
   "cell_type": "code",
   "execution_count": 22,
   "id": "e2f4dc78-97a1-4764-b976-c8e40a8b3dde",
   "metadata": {},
   "outputs": [
    {
     "data": {
      "text/plain": [
       "(50, 50)"
      ]
     },
     "execution_count": 22,
     "metadata": {},
     "output_type": "execute_result"
    }
   ],
   "source": [
    "len(X), len(y)"
   ]
  },
  {
   "cell_type": "code",
   "execution_count": 23,
   "id": "a1f5d855-d7c4-4ec4-bfe6-31402f28d583",
   "metadata": {},
   "outputs": [
    {
     "name": "stderr",
     "output_type": "stream",
     "text": [
      "WARNING:absl:At this time, the v2.11+ optimizer `tf.keras.optimizers.SGD` runs slowly on M1/M2 Macs, please use the legacy Keras optimizer instead, located at `tf.keras.optimizers.legacy.SGD`.\n",
      "WARNING:absl:There is a known slowdown when using v2.11+ Keras optimizers on M1/M2 Macs. Falling back to the legacy Keras optimizer, i.e., `tf.keras.optimizers.legacy.SGD`.\n"
     ]
    }
   ],
   "source": [
    "tf.random.set_seed(42)\n",
    "\n",
    "# 1. Create a model\n",
    "model = tf.keras.Sequential([\n",
    "    tf.keras.layers.Dense(1, input_shape=[1])\n",
    "])\n",
    "\n",
    "# 2. Compile the model\n",
    "model.compile(loss = tf.keras.losses.mae,\n",
    "             optimizer = tf.keras.optimizers.SGD(),\n",
    "             metrics = ['mae'])"
   ]
  },
  {
   "cell_type": "code",
   "execution_count": 24,
   "id": "1a032bcf-2077-4af5-83cc-df827f786f93",
   "metadata": {},
   "outputs": [
    {
     "name": "stdout",
     "output_type": "stream",
     "text": [
      "Model: \"sequential_4\"\n",
      "_________________________________________________________________\n",
      " Layer (type)                Output Shape              Param #   \n",
      "=================================================================\n",
      " dense_8 (Dense)             (None, 1)                 2         \n",
      "                                                                 \n",
      "=================================================================\n",
      "Total params: 2\n",
      "Trainable params: 2\n",
      "Non-trainable params: 0\n",
      "_________________________________________________________________\n"
     ]
    }
   ],
   "source": [
    "model.summary()"
   ]
  },
  {
   "cell_type": "markdown",
   "id": "d976a02f-a1f9-4ee6-a375-08e3bcb3d1ec",
   "metadata": {},
   "source": [
    "* Total params - total no of parameters in the model.\n",
    "* Trainable params - parameters(patterns) the model can update as it trains.\n",
    "* Non-trainable params - parameters aren't updated during training (this is typical when you bring in already learn patterns/parameters from other models during **transfer learning**)."
   ]
  },
  {
   "cell_type": "code",
   "execution_count": 25,
   "id": "1e6f07a7-3d5f-4a93-a968-a649d2759367",
   "metadata": {},
   "outputs": [
    {
     "data": {
      "text/plain": [
       "<keras.callbacks.History at 0x2a5699430>"
      ]
     },
     "execution_count": 25,
     "metadata": {},
     "output_type": "execute_result"
    }
   ],
   "source": [
    "# 3. Fit the model\n",
    "model.fit(X_train, y_train, epochs=100, verbose=0)"
   ]
  },
  {
   "cell_type": "code",
   "execution_count": 27,
   "id": "24253523-cf00-4817-afbe-446be9394781",
   "metadata": {},
   "outputs": [
    {
     "data": {
      "image/png": "[encoded data removed]",
      "text/plain": [
       "<IPython.core.display.Image object>"
      ]
     },
     "execution_count": 27,
     "metadata": {},
     "output_type": "execute_result"
    }
   ],
   "source": [
    "from tensorflow.keras.utils import plot_model\n",
    "\n",
    "plot_model(model=model, show_shapes=True)"
   ]
  },
  {
   "cell_type": "code",
   "execution_count": null,
   "id": "57adb98f-9bde-47d8-a6a3-aa9f27706948",
   "metadata": {},
   "outputs": [],
   "source": []
  }
 ],
 "metadata": {
  "kernelspec": {
   "display_name": "Python 3 (ipykernel)",
   "language": "python",
   "name": "python3"
  },
  "language_info": {
   "codemirror_mode": {
    "name": "ipython",
    "version": 3
   },
   "file_extension": ".py",
   "mimetype": "text/x-python",
   "name": "python",
   "nbconvert_exporter": "python",
   "pygments_lexer": "ipython3",
   "version": "3.9.16"
  }
 },
 "nbformat": 4,
 "nbformat_minor": 5
}
