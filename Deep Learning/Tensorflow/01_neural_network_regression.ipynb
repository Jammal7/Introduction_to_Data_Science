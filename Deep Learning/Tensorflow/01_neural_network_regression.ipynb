{
 "cells": [
  {
   "cell_type": "markdown",
   "id": "852ebbdf",
   "metadata": {},
   "source": [
    "# Introduction to Regression with Neural Networks in TensorFlow"
   ]
  },
  {
   "cell_type": "code",
   "execution_count": 1,
   "id": "ca73c734",
   "metadata": {},
   "outputs": [],
   "source": [
    "import tensorflow as tf\n",
    "import pandas as pd\n",
    "import numpy as np\n",
    "import matplotlib.pyplot as plt\n",
    "\n",
    "import warnings\n",
    "warnings.filterwarnings('ignore')"
   ]
  },
  {
   "cell_type": "code",
   "execution_count": 2,
   "id": "ef488e0d",
   "metadata": {},
   "outputs": [
    {
     "data": {
      "image/png": "[encoded data removed]",
      "text/plain": [
       "<Figure size 640x480 with 1 Axes>"
      ]
     },
     "metadata": {},
     "output_type": "display_data"
    }
   ],
   "source": [
    "# Create Featuers\n",
    "X = np.array([-7.0, -4.0, -1.0, 2.0, 5.0, 8.0, 11.0, 14.0])\n",
    "\n",
    "# Create Labels\n",
    "y = np.array([3.0, 6.0, 9.0, 12.0, 15.0, 18.0, 21.0, 24.0])\n",
    "\n",
    "# Visualizing \n",
    "plt.scatter(X, y);"
   ]
  },
  {
   "cell_type": "code",
   "execution_count": 3,
   "id": "12904fa2",
   "metadata": {},
   "outputs": [
    {
     "data": {
      "text/plain": [
       "array([ True,  True,  True,  True,  True,  True,  True,  True])"
      ]
     },
     "execution_count": 3,
     "metadata": {},
     "output_type": "execute_result"
    }
   ],
   "source": [
    "y == X + 10"
   ]
  },
  {
   "cell_type": "markdown",
   "id": "3f5512f8",
   "metadata": {},
   "source": [
    "## Input and Output Shapes"
   ]
  },
  {
   "cell_type": "code",
   "execution_count": 4,
   "id": "d94277be",
   "metadata": {},
   "outputs": [
    {
     "name": "stdout",
     "output_type": "stream",
     "text": [
      "Metal device set to: Apple M2\n",
      "\n",
      "systemMemory: 8.00 GB\n",
      "maxCacheSize: 2.67 GB\n",
      "\n"
     ]
    }
   ],
   "source": [
    "house_info = tf.constant([\"bedroom\", \"bathroom\", \"garage\"])\n",
    "house_price = tf.constant([939700])"
   ]
  },
  {
   "cell_type": "code",
   "execution_count": 5,
   "id": "4db7ba11",
   "metadata": {},
   "outputs": [
    {
     "data": {
      "text/plain": [
       "<tf.Tensor: shape=(3,), dtype=string, numpy=array([b'bedroom', b'bathroom', b'garage'], dtype=object)>"
      ]
     },
     "execution_count": 5,
     "metadata": {},
     "output_type": "execute_result"
    }
   ],
   "source": [
    "house_info"
   ]
  },
  {
   "cell_type": "code",
   "execution_count": 6,
   "id": "4ee37754",
   "metadata": {},
   "outputs": [
    {
     "data": {
      "text/plain": [
       "<tf.Tensor: shape=(1,), dtype=int32, numpy=array([939700], dtype=int32)>"
      ]
     },
     "execution_count": 6,
     "metadata": {},
     "output_type": "execute_result"
    }
   ],
   "source": [
    "house_price"
   ]
  },
  {
   "cell_type": "code",
   "execution_count": 7,
   "id": "c1978355",
   "metadata": {},
   "outputs": [
    {
     "data": {
      "text/plain": [
       "(<tf.Tensor: shape=(8,), dtype=float32, numpy=array([-7., -4., -1.,  2.,  5.,  8., 11., 14.], dtype=float32)>,\n",
       " <tf.Tensor: shape=(8,), dtype=float32, numpy=array([ 3.,  6.,  9., 12., 15., 18., 21., 24.], dtype=float32)>)"
      ]
     },
     "execution_count": 7,
     "metadata": {},
     "output_type": "execute_result"
    }
   ],
   "source": [
    "# Turn the NumPy arrays into tensors with dtype float32\n",
    "X = tf.cast(tf.constant(X), dtype=tf.float32)\n",
    "y = tf.cast(tf.constant(y), dtype=tf.float32)\n",
    "\n",
    "X, y"
   ]
  },
  {
   "cell_type": "code",
   "execution_count": 8,
   "id": "bcdd5d14",
   "metadata": {},
   "outputs": [
    {
     "data": {
      "text/plain": [
       "(TensorShape([]), TensorShape([]))"
      ]
     },
     "execution_count": 8,
     "metadata": {},
     "output_type": "execute_result"
    }
   ],
   "source": [
    "input_shape = X[0].shape\n",
    "output_shape = y[0].shape\n",
    "\n",
    "input_shape, output_shape"
   ]
  },
  {
   "cell_type": "markdown",
   "id": "f9a07db7",
   "metadata": {},
   "source": [
    "## Steps in Modelling with TensorFlow\n",
    "\n",
    "1. **Creating a model**: define the input & output layers, as well as the hidden layers of a deep learning model.\n",
    "2. **Compilin a model**: define the loss function (in other words, the function which tells the model how wrong it is), the optimizer (tells the model how to improve the patterns its learning) and evaluation metrics (evaluate/interpret the performance of the model).\n",
    "3. **Fitting a model**: letting the model try to find patterns between X & y (features and labels)."
   ]
  },
  {
   "cell_type": "code",
   "execution_count": 9,
   "id": "566bfde2",
   "metadata": {},
   "outputs": [
    {
     "name": "stdout",
     "output_type": "stream",
     "text": [
      "Epoch 1/10\n"
     ]
    },
    {
     "name": "stderr",
     "output_type": "stream",
     "text": [
      "2023-06-03 20:31:39.212406: W tensorflow/tsl/platform/profile_utils/cpu_utils.cc:128] Failed to get CPU frequency: 0 Hz\n"
     ]
    },
    {
     "name": "stdout",
     "output_type": "stream",
     "text": [
      "1/1 [==============================] - 0s 204ms/step - loss: 14.9197 - mae: 14.9197\n",
      "Epoch 2/10\n",
      "1/1 [==============================] - 0s 6ms/step - loss: 14.7872 - mae: 14.7872\n",
      "Epoch 3/10\n",
      "1/1 [==============================] - 0s 5ms/step - loss: 14.6547 - mae: 14.6547\n",
      "Epoch 4/10\n",
      "1/1 [==============================] - 0s 5ms/step - loss: 14.5222 - mae: 14.5222\n",
      "Epoch 5/10\n",
      "1/1 [==============================] - 0s 5ms/step - loss: 14.3897 - mae: 14.3897\n",
      "Epoch 6/10\n",
      "1/1 [==============================] - 0s 5ms/step - loss: 14.2572 - mae: 14.2572\n",
      "Epoch 7/10\n",
      "1/1 [==============================] - 0s 5ms/step - loss: 14.1247 - mae: 14.1247\n",
      "Epoch 8/10\n",
      "1/1 [==============================] - 0s 5ms/step - loss: 13.9922 - mae: 13.9922\n",
      "Epoch 9/10\n",
      "1/1 [==============================] - 0s 5ms/step - loss: 13.8597 - mae: 13.8597\n",
      "Epoch 10/10\n",
      "1/1 [==============================] - 0s 5ms/step - loss: 13.7272 - mae: 13.7272\n"
     ]
    },
    {
     "data": {
      "text/plain": [
       "<keras.callbacks.History at 0x2aafddee0>"
      ]
     },
     "execution_count": 9,
     "metadata": {},
     "output_type": "execute_result"
    }
   ],
   "source": [
    "# Set random seed\n",
    "tf.random.set_seed(42)\n",
    "\n",
    "# 1. Create a model using the Sequential API\n",
    "model = tf.keras.Sequential([\n",
    "    tf.keras.layers.Dense(1)\n",
    "])\n",
    "\n",
    "# 2. Compile the model\n",
    "model.compile(loss = tf.keras.losses.mae, # mae == mean absolute error\n",
    "             optimizer = tf.keras.optimizers.legacy.SGD(), # sgd == stochastic gradient descent,\n",
    "             metrics = [\"mae\"])\n",
    "\n",
    "# 3. Fit the model\n",
    "model.fit(tf.expand_dims(X, axis=-1), y, epochs=10)"
   ]
  },
  {
   "cell_type": "code",
   "execution_count": 10,
   "id": "11a3c6a0",
   "metadata": {},
   "outputs": [
    {
     "name": "stdout",
     "output_type": "stream",
     "text": [
      "1/1 [==============================] - 0s 38ms/step\n"
     ]
    },
    {
     "data": {
      "text/plain": [
       "array([[-0.8454531]], dtype=float32)"
      ]
     },
     "execution_count": 10,
     "metadata": {},
     "output_type": "execute_result"
    }
   ],
   "source": [
    "# prediction using the model\n",
    "model.predict([17.0])"
   ]
  },
  {
   "cell_type": "markdown",
   "id": "316d67e9",
   "metadata": {},
   "source": [
    "## Improving the model\n",
    " \n",
    "The model could be improve by altering the steps that was taken to create the model\n",
    " \n",
    "1. **Creating a model**: add more layers, increase the numbers of hidden units(called neurons) within each of the hiden layers, and change the activation function of each layer.\n",
    "2. **Compiling the model**: might change the optimization function or the **learning rate** of the optimization function\n",
    "3. **Fitting the model**:fit the model with more **epochs**(leave it training for longer) or on more data (give the model more examples to learn from)."
   ]
  },
  {
   "cell_type": "code",
   "execution_count": 11,
   "id": "37f6f542",
   "metadata": {},
   "outputs": [
    {
     "name": "stdout",
     "output_type": "stream",
     "text": [
      "Epoch 1/100\n",
      "1/1 [==============================] - 0s 124ms/step - loss: 15.0112 - mae: 15.0112\n",
      "Epoch 2/100\n",
      "1/1 [==============================] - 0s 6ms/step - loss: 14.8162 - mae: 14.8162\n",
      "Epoch 3/100\n",
      "1/1 [==============================] - 0s 5ms/step - loss: 14.6837 - mae: 14.6837\n",
      "Epoch 4/100\n",
      "1/1 [==============================] - 0s 5ms/step - loss: 14.5512 - mae: 14.5512\n",
      "Epoch 5/100\n",
      "1/1 [==============================] - 0s 5ms/step - loss: 14.4187 - mae: 14.4187\n",
      "Epoch 6/100\n",
      "1/1 [==============================] - 0s 5ms/step - loss: 14.2862 - mae: 14.2862\n",
      "Epoch 7/100\n",
      "1/1 [==============================] - 0s 5ms/step - loss: 14.1537 - mae: 14.1537\n",
      "Epoch 8/100\n",
      "1/1 [==============================] - 0s 5ms/step - loss: 14.0212 - mae: 14.0212\n",
      "Epoch 9/100\n",
      "1/1 [==============================] - 0s 6ms/step - loss: 13.8887 - mae: 13.8887\n",
      "Epoch 10/100\n",
      "1/1 [==============================] - 0s 5ms/step - loss: 13.7562 - mae: 13.7562\n",
      "Epoch 11/100\n",
      "1/1 [==============================] - 0s 6ms/step - loss: 13.6237 - mae: 13.6237\n",
      "Epoch 12/100\n",
      "1/1 [==============================] - 0s 9ms/step - loss: 13.4912 - mae: 13.4912\n",
      "Epoch 13/100\n",
      "1/1 [==============================] - 0s 6ms/step - loss: 13.3587 - mae: 13.3587\n",
      "Epoch 14/100\n",
      "1/1 [==============================] - 0s 7ms/step - loss: 13.2262 - mae: 13.2262\n",
      "Epoch 15/100\n",
      "1/1 [==============================] - 0s 6ms/step - loss: 13.0937 - mae: 13.0937\n",
      "Epoch 16/100\n",
      "1/1 [==============================] - 0s 7ms/step - loss: 12.9612 - mae: 12.9612\n",
      "Epoch 17/100\n",
      "1/1 [==============================] - 0s 6ms/step - loss: 12.8287 - mae: 12.8287\n",
      "Epoch 18/100\n",
      "1/1 [==============================] - 0s 5ms/step - loss: 12.6962 - mae: 12.6962\n",
      "Epoch 19/100\n",
      "1/1 [==============================] - 0s 6ms/step - loss: 12.5637 - mae: 12.5637\n",
      "Epoch 20/100\n",
      "1/1 [==============================] - 0s 8ms/step - loss: 12.4312 - mae: 12.4312\n",
      "Epoch 21/100\n",
      "1/1 [==============================] - 0s 6ms/step - loss: 12.2987 - mae: 12.2987\n",
      "Epoch 22/100\n",
      "1/1 [==============================] - 0s 8ms/step - loss: 12.1662 - mae: 12.1662\n",
      "Epoch 23/100\n",
      "1/1 [==============================] - 0s 6ms/step - loss: 12.0337 - mae: 12.0337\n",
      "Epoch 24/100\n",
      "1/1 [==============================] - 0s 8ms/step - loss: 11.9012 - mae: 11.9012\n",
      "Epoch 25/100\n",
      "1/1 [==============================] - 0s 6ms/step - loss: 11.7687 - mae: 11.7687\n",
      "Epoch 26/100\n",
      "1/1 [==============================] - 0s 6ms/step - loss: 11.6362 - mae: 11.6362\n",
      "Epoch 27/100\n",
      "1/1 [==============================] - 0s 5ms/step - loss: 11.5037 - mae: 11.5037\n",
      "Epoch 28/100\n",
      "1/1 [==============================] - 0s 20ms/step - loss: 11.3712 - mae: 11.3712\n",
      "Epoch 29/100\n",
      "1/1 [==============================] - 0s 8ms/step - loss: 11.2387 - mae: 11.2387\n",
      "Epoch 30/100\n",
      "1/1 [==============================] - 0s 8ms/step - loss: 11.1062 - mae: 11.1062\n",
      "Epoch 31/100\n",
      "1/1 [==============================] - 0s 5ms/step - loss: 10.9737 - mae: 10.9737\n",
      "Epoch 32/100\n",
      "1/1 [==============================] - 0s 7ms/step - loss: 10.8412 - mae: 10.8412\n",
      "Epoch 33/100\n",
      "1/1 [==============================] - 0s 6ms/step - loss: 10.7087 - mae: 10.7087\n",
      "Epoch 34/100\n",
      "1/1 [==============================] - 0s 9ms/step - loss: 10.5762 - mae: 10.5762\n",
      "Epoch 35/100\n",
      "1/1 [==============================] - 0s 5ms/step - loss: 10.4437 - mae: 10.4437\n",
      "Epoch 36/100\n",
      "1/1 [==============================] - 0s 8ms/step - loss: 10.3112 - mae: 10.3112\n",
      "Epoch 37/100\n",
      "1/1 [==============================] - 0s 5ms/step - loss: 10.1787 - mae: 10.1787\n",
      "Epoch 38/100\n",
      "1/1 [==============================] - 0s 9ms/step - loss: 10.0462 - mae: 10.0462\n",
      "Epoch 39/100\n",
      "1/1 [==============================] - 0s 6ms/step - loss: 9.9137 - mae: 9.9137\n",
      "Epoch 40/100\n",
      "1/1 [==============================] - 0s 8ms/step - loss: 9.7812 - mae: 9.7812\n",
      "Epoch 41/100\n",
      "1/1 [==============================] - 0s 6ms/step - loss: 9.6487 - mae: 9.6487\n",
      "Epoch 42/100\n",
      "1/1 [==============================] - 0s 8ms/step - loss: 9.5162 - mae: 9.5162\n",
      "Epoch 43/100\n",
      "1/1 [==============================] - 0s 5ms/step - loss: 9.3837 - mae: 9.3837\n",
      "Epoch 44/100\n",
      "1/1 [==============================] - 0s 6ms/step - loss: 9.2512 - mae: 9.2512\n",
      "Epoch 45/100\n",
      "1/1 [==============================] - 0s 8ms/step - loss: 9.1187 - mae: 9.1187\n",
      "Epoch 46/100\n",
      "1/1 [==============================] - 0s 9ms/step - loss: 8.9862 - mae: 8.9862\n",
      "Epoch 47/100\n",
      "1/1 [==============================] - 0s 5ms/step - loss: 8.8537 - mae: 8.8537\n",
      "Epoch 48/100\n",
      "1/1 [==============================] - 0s 6ms/step - loss: 8.7212 - mae: 8.7212\n",
      "Epoch 49/100\n",
      "1/1 [==============================] - 0s 5ms/step - loss: 8.5887 - mae: 8.5887\n",
      "Epoch 50/100\n",
      "1/1 [==============================] - 0s 8ms/step - loss: 8.4562 - mae: 8.4562\n",
      "Epoch 51/100\n",
      "1/1 [==============================] - 0s 6ms/step - loss: 8.3237 - mae: 8.3237\n",
      "Epoch 52/100\n",
      "1/1 [==============================] - 0s 18ms/step - loss: 8.1912 - mae: 8.1912\n",
      "Epoch 53/100\n",
      "1/1 [==============================] - 0s 11ms/step - loss: 8.0587 - mae: 8.0587\n",
      "Epoch 54/100\n",
      "1/1 [==============================] - 0s 8ms/step - loss: 7.9262 - mae: 7.9262\n",
      "Epoch 55/100\n",
      "1/1 [==============================] - 0s 5ms/step - loss: 7.7937 - mae: 7.7937\n",
      "Epoch 56/100\n",
      "1/1 [==============================] - 0s 8ms/step - loss: 7.6612 - mae: 7.6612\n",
      "Epoch 57/100\n",
      "1/1 [==============================] - 0s 5ms/step - loss: 7.5287 - mae: 7.5287\n",
      "Epoch 58/100\n",
      "1/1 [==============================] - 0s 5ms/step - loss: 7.3962 - mae: 7.3962\n",
      "Epoch 59/100\n",
      "1/1 [==============================] - 0s 7ms/step - loss: 7.2637 - mae: 7.2637\n",
      "Epoch 60/100\n",
      "1/1 [==============================] - 0s 8ms/step - loss: 7.1312 - mae: 7.1312\n",
      "Epoch 61/100\n",
      "1/1 [==============================] - 0s 5ms/step - loss: 7.0519 - mae: 7.0519\n",
      "Epoch 62/100\n",
      "1/1 [==============================] - 0s 7ms/step - loss: 7.0463 - mae: 7.0463\n",
      "Epoch 63/100\n",
      "1/1 [==============================] - 0s 5ms/step - loss: 7.0406 - mae: 7.0406\n",
      "Epoch 64/100\n",
      "1/1 [==============================] - 0s 9ms/step - loss: 7.0350 - mae: 7.0350\n",
      "Epoch 65/100\n",
      "1/1 [==============================] - 0s 5ms/step - loss: 7.0294 - mae: 7.0294\n",
      "Epoch 66/100\n",
      "1/1 [==============================] - 0s 8ms/step - loss: 7.0238 - mae: 7.0238\n",
      "Epoch 67/100\n",
      "1/1 [==============================] - 0s 5ms/step - loss: 7.0181 - mae: 7.0181\n",
      "Epoch 68/100\n",
      "1/1 [==============================] - 0s 9ms/step - loss: 7.0125 - mae: 7.0125\n",
      "Epoch 69/100\n",
      "1/1 [==============================] - 0s 6ms/step - loss: 7.0069 - mae: 7.0069\n",
      "Epoch 70/100\n",
      "1/1 [==============================] - 0s 9ms/step - loss: 7.0013 - mae: 7.0013\n",
      "Epoch 71/100\n",
      "1/1 [==============================] - 0s 6ms/step - loss: 6.9956 - mae: 6.9956\n",
      "Epoch 72/100\n",
      "1/1 [==============================] - 0s 7ms/step - loss: 6.9900 - mae: 6.9900\n",
      "Epoch 73/100\n",
      "1/1 [==============================] - 0s 6ms/step - loss: 6.9844 - mae: 6.9844\n",
      "Epoch 74/100\n",
      "1/1 [==============================] - 0s 8ms/step - loss: 6.9788 - mae: 6.9788\n",
      "Epoch 75/100\n",
      "1/1 [==============================] - 0s 32ms/step - loss: 6.9731 - mae: 6.9731\n",
      "Epoch 76/100\n",
      "1/1 [==============================] - 0s 9ms/step - loss: 6.9675 - mae: 6.9675\n",
      "Epoch 77/100\n",
      "1/1 [==============================] - 0s 6ms/step - loss: 6.9619 - mae: 6.9619\n",
      "Epoch 78/100\n",
      "1/1 [==============================] - 0s 7ms/step - loss: 6.9563 - mae: 6.9563\n",
      "Epoch 79/100\n",
      "1/1 [==============================] - 0s 5ms/step - loss: 6.9506 - mae: 6.9506\n",
      "Epoch 80/100\n",
      "1/1 [==============================] - 0s 5ms/step - loss: 6.9450 - mae: 6.9450\n",
      "Epoch 81/100\n",
      "1/1 [==============================] - 0s 7ms/step - loss: 6.9394 - mae: 6.9394\n",
      "Epoch 82/100\n",
      "1/1 [==============================] - 0s 5ms/step - loss: 6.9338 - mae: 6.9338\n",
      "Epoch 83/100\n",
      "1/1 [==============================] - 0s 6ms/step - loss: 6.9281 - mae: 6.9281\n",
      "Epoch 84/100\n",
      "1/1 [==============================] - 0s 5ms/step - loss: 6.9225 - mae: 6.9225\n",
      "Epoch 85/100\n",
      "1/1 [==============================] - 0s 7ms/step - loss: 6.9169 - mae: 6.9169\n",
      "Epoch 86/100\n",
      "1/1 [==============================] - 0s 5ms/step - loss: 6.9113 - mae: 6.9113\n",
      "Epoch 87/100\n",
      "1/1 [==============================] - 0s 5ms/step - loss: 6.9056 - mae: 6.9056\n",
      "Epoch 88/100\n",
      "1/1 [==============================] - 0s 7ms/step - loss: 6.9000 - mae: 6.9000\n",
      "Epoch 89/100\n",
      "1/1 [==============================] - 0s 5ms/step - loss: 6.8944 - mae: 6.8944\n",
      "Epoch 90/100\n",
      "1/1 [==============================] - 0s 8ms/step - loss: 6.8888 - mae: 6.8888\n",
      "Epoch 91/100\n",
      "1/1 [==============================] - 0s 6ms/step - loss: 6.8831 - mae: 6.8831\n",
      "Epoch 92/100\n",
      "1/1 [==============================] - 0s 10ms/step - loss: 6.8775 - mae: 6.8775\n",
      "Epoch 93/100\n",
      "1/1 [==============================] - 0s 7ms/step - loss: 6.8719 - mae: 6.8719\n",
      "Epoch 94/100\n",
      "1/1 [==============================] - 0s 6ms/step - loss: 6.8663 - mae: 6.8663\n",
      "Epoch 95/100\n",
      "1/1 [==============================] - 0s 7ms/step - loss: 6.8606 - mae: 6.8606\n",
      "Epoch 96/100\n",
      "1/1 [==============================] - 0s 12ms/step - loss: 6.8550 - mae: 6.8550\n",
      "Epoch 97/100\n",
      "1/1 [==============================] - 0s 8ms/step - loss: 6.8494 - mae: 6.8494\n",
      "Epoch 98/100\n",
      "1/1 [==============================] - 0s 33ms/step - loss: 6.8438 - mae: 6.8438\n",
      "Epoch 99/100\n",
      "1/1 [==============================] - 0s 14ms/step - loss: 6.8381 - mae: 6.8381\n",
      "Epoch 100/100\n",
      "1/1 [==============================] - 0s 6ms/step - loss: 6.8325 - mae: 6.8325\n"
     ]
    },
    {
     "data": {
      "text/plain": [
       "<keras.callbacks.History at 0x2af8ae7f0>"
      ]
     },
     "execution_count": 11,
     "metadata": {},
     "output_type": "execute_result"
    }
   ],
   "source": [
    "# Recreating the model 1\n",
    "\n",
    "# Set random seed\n",
    "tf.random.set_seed(42)\n",
    "\n",
    "# 1. Create the model \n",
    "model1 = tf.keras.Sequential([\n",
    "    tf.keras.layers.Dense(1)\n",
    "])\n",
    "\n",
    "# 2. Compile the model\n",
    "model1.compile(loss = tf.keras.losses.mae, # mae == mean absolute error\n",
    "             optimizer = tf.keras.optimizers.legacy.SGD(), # sgd == stochastic gradient descent,\n",
    "             metrics = [\"mae\"])\n",
    "\n",
    "# 3. Fit the model\n",
    "model1.fit(tf.expand_dims(X, axis=-1), y, epochs=100)"
   ]
  },
  {
   "cell_type": "code",
   "execution_count": 12,
   "id": "14d39974",
   "metadata": {},
   "outputs": [
    {
     "name": "stdout",
     "output_type": "stream",
     "text": [
      "1/1 [==============================] - 0s 155ms/step\n"
     ]
    },
    {
     "data": {
      "text/plain": [
       "array([[29.573086]], dtype=float32)"
      ]
     },
     "execution_count": 12,
     "metadata": {},
     "output_type": "execute_result"
    }
   ],
   "source": [
    "# prediction using the model\n",
    "model1.predict([17.0])"
   ]
  },
  {
   "cell_type": "code",
   "execution_count": 13,
   "id": "c4945a77",
   "metadata": {},
   "outputs": [
    {
     "name": "stdout",
     "output_type": "stream",
     "text": [
      "Epoch 1/100\n",
      "1/1 [==============================] - 0s 375ms/step - loss: 14.0258 - mae: 14.0258\n",
      "Epoch 2/100\n",
      "1/1 [==============================] - 0s 9ms/step - loss: 13.9892 - mae: 13.9892\n",
      "Epoch 3/100\n",
      "1/1 [==============================] - 0s 8ms/step - loss: 13.9526 - mae: 13.9526\n",
      "Epoch 4/100\n",
      "1/1 [==============================] - 0s 12ms/step - loss: 13.9158 - mae: 13.9158\n",
      "Epoch 5/100\n",
      "1/1 [==============================] - 0s 12ms/step - loss: 13.8789 - mae: 13.8789\n",
      "Epoch 6/100\n",
      "1/1 [==============================] - 0s 7ms/step - loss: 13.8421 - mae: 13.8421\n",
      "Epoch 7/100\n",
      "1/1 [==============================] - 0s 11ms/step - loss: 13.8053 - mae: 13.8053\n",
      "Epoch 8/100\n",
      "1/1 [==============================] - 0s 11ms/step - loss: 13.7684 - mae: 13.7684\n",
      "Epoch 9/100\n",
      "1/1 [==============================] - 0s 8ms/step - loss: 13.7316 - mae: 13.7316\n",
      "Epoch 10/100\n",
      "1/1 [==============================] - 0s 7ms/step - loss: 13.6947 - mae: 13.6947\n",
      "Epoch 11/100\n",
      "1/1 [==============================] - 0s 9ms/step - loss: 13.6582 - mae: 13.6582\n",
      "Epoch 12/100\n",
      "1/1 [==============================] - 0s 7ms/step - loss: 13.6221 - mae: 13.6221\n",
      "Epoch 13/100\n",
      "1/1 [==============================] - 0s 8ms/step - loss: 13.5861 - mae: 13.5861\n",
      "Epoch 14/100\n",
      "1/1 [==============================] - 0s 7ms/step - loss: 13.5499 - mae: 13.5499\n",
      "Epoch 15/100\n",
      "1/1 [==============================] - 0s 6ms/step - loss: 13.5138 - mae: 13.5138\n",
      "Epoch 16/100\n",
      "1/1 [==============================] - 0s 6ms/step - loss: 13.4779 - mae: 13.4779\n",
      "Epoch 17/100\n",
      "1/1 [==============================] - 0s 7ms/step - loss: 13.4427 - mae: 13.4427\n",
      "Epoch 18/100\n",
      "1/1 [==============================] - 0s 6ms/step - loss: 13.4072 - mae: 13.4072\n",
      "Epoch 19/100\n",
      "1/1 [==============================] - 0s 7ms/step - loss: 13.3714 - mae: 13.3714\n",
      "Epoch 20/100\n",
      "1/1 [==============================] - 0s 6ms/step - loss: 13.3365 - mae: 13.3365\n",
      "Epoch 21/100\n",
      "1/1 [==============================] - 0s 7ms/step - loss: 13.3022 - mae: 13.3022\n",
      "Epoch 22/100\n",
      "1/1 [==============================] - 0s 7ms/step - loss: 13.2679 - mae: 13.2679\n",
      "Epoch 23/100\n",
      "1/1 [==============================] - 0s 7ms/step - loss: 13.2335 - mae: 13.2335\n",
      "Epoch 24/100\n",
      "1/1 [==============================] - 0s 7ms/step - loss: 13.1990 - mae: 13.1990\n",
      "Epoch 25/100\n",
      "1/1 [==============================] - 0s 7ms/step - loss: 13.1645 - mae: 13.1645\n",
      "Epoch 26/100\n",
      "1/1 [==============================] - 0s 7ms/step - loss: 13.1306 - mae: 13.1306\n",
      "Epoch 27/100\n",
      "1/1 [==============================] - 0s 7ms/step - loss: 13.0966 - mae: 13.0966\n",
      "Epoch 28/100\n",
      "1/1 [==============================] - 0s 7ms/step - loss: 13.0625 - mae: 13.0625\n",
      "Epoch 29/100\n",
      "1/1 [==============================] - 0s 9ms/step - loss: 13.0283 - mae: 13.0283\n",
      "Epoch 30/100\n",
      "1/1 [==============================] - 0s 7ms/step - loss: 12.9941 - mae: 12.9941\n",
      "Epoch 31/100\n",
      "1/1 [==============================] - 0s 18ms/step - loss: 12.9597 - mae: 12.9597\n",
      "Epoch 32/100\n",
      "1/1 [==============================] - 0s 9ms/step - loss: 12.9248 - mae: 12.9248\n",
      "Epoch 33/100\n",
      "1/1 [==============================] - 0s 7ms/step - loss: 12.8898 - mae: 12.8898\n",
      "Epoch 34/100\n",
      "1/1 [==============================] - 0s 6ms/step - loss: 12.8548 - mae: 12.8548\n",
      "Epoch 35/100\n",
      "1/1 [==============================] - 0s 7ms/step - loss: 12.8201 - mae: 12.8201\n",
      "Epoch 36/100\n",
      "1/1 [==============================] - 0s 6ms/step - loss: 12.7852 - mae: 12.7852\n",
      "Epoch 37/100\n",
      "1/1 [==============================] - 0s 6ms/step - loss: 12.7506 - mae: 12.7506\n",
      "Epoch 38/100\n",
      "1/1 [==============================] - 0s 7ms/step - loss: 12.7165 - mae: 12.7165\n",
      "Epoch 39/100\n",
      "1/1 [==============================] - 0s 7ms/step - loss: 12.6834 - mae: 12.6834\n",
      "Epoch 40/100\n",
      "1/1 [==============================] - 0s 7ms/step - loss: 12.6506 - mae: 12.6506\n",
      "Epoch 41/100\n",
      "1/1 [==============================] - 0s 7ms/step - loss: 12.6177 - mae: 12.6177\n",
      "Epoch 42/100\n",
      "1/1 [==============================] - 0s 6ms/step - loss: 12.5845 - mae: 12.5845\n",
      "Epoch 43/100\n",
      "1/1 [==============================] - 0s 6ms/step - loss: 12.5511 - mae: 12.5511\n",
      "Epoch 44/100\n",
      "1/1 [==============================] - 0s 7ms/step - loss: 12.5173 - mae: 12.5173\n",
      "Epoch 45/100\n",
      "1/1 [==============================] - 0s 14ms/step - loss: 12.4831 - mae: 12.4831\n",
      "Epoch 46/100\n",
      "1/1 [==============================] - 0s 14ms/step - loss: 12.4487 - mae: 12.4487\n",
      "Epoch 47/100\n",
      "1/1 [==============================] - 0s 7ms/step - loss: 12.4141 - mae: 12.4141\n",
      "Epoch 48/100\n",
      "1/1 [==============================] - 0s 8ms/step - loss: 12.3792 - mae: 12.3792\n",
      "Epoch 49/100\n",
      "1/1 [==============================] - 0s 7ms/step - loss: 12.3443 - mae: 12.3443\n",
      "Epoch 50/100\n",
      "1/1 [==============================] - 0s 10ms/step - loss: 12.3098 - mae: 12.3098\n",
      "Epoch 51/100\n",
      "1/1 [==============================] - 0s 10ms/step - loss: 12.2753 - mae: 12.2753\n",
      "Epoch 52/100\n",
      "1/1 [==============================] - 0s 6ms/step - loss: 12.2410 - mae: 12.2410\n",
      "Epoch 53/100\n",
      "1/1 [==============================] - 0s 11ms/step - loss: 12.2065 - mae: 12.2065\n",
      "Epoch 54/100\n",
      "1/1 [==============================] - 0s 11ms/step - loss: 12.1717 - mae: 12.1717\n",
      "Epoch 55/100\n",
      "1/1 [==============================] - 0s 7ms/step - loss: 12.1367 - mae: 12.1367\n",
      "Epoch 56/100\n",
      "1/1 [==============================] - 0s 11ms/step - loss: 12.1017 - mae: 12.1017\n",
      "Epoch 57/100\n",
      "1/1 [==============================] - 0s 26ms/step - loss: 12.0667 - mae: 12.0667\n",
      "Epoch 58/100\n",
      "1/1 [==============================] - 0s 14ms/step - loss: 12.0314 - mae: 12.0314\n",
      "Epoch 59/100\n",
      "1/1 [==============================] - 0s 8ms/step - loss: 11.9960 - mae: 11.9960\n",
      "Epoch 60/100\n",
      "1/1 [==============================] - 0s 9ms/step - loss: 11.9604 - mae: 11.9604\n",
      "Epoch 61/100\n",
      "1/1 [==============================] - 0s 10ms/step - loss: 11.9248 - mae: 11.9248\n",
      "Epoch 62/100\n",
      "1/1 [==============================] - 0s 9ms/step - loss: 11.8891 - mae: 11.8891\n",
      "Epoch 63/100\n",
      "1/1 [==============================] - 0s 8ms/step - loss: 11.8536 - mae: 11.8536\n",
      "Epoch 64/100\n",
      "1/1 [==============================] - 0s 7ms/step - loss: 11.8180 - mae: 11.8180\n",
      "Epoch 65/100\n",
      "1/1 [==============================] - 0s 7ms/step - loss: 11.7825 - mae: 11.7825\n",
      "Epoch 66/100\n",
      "1/1 [==============================] - 0s 9ms/step - loss: 11.7468 - mae: 11.7468\n",
      "Epoch 67/100\n",
      "1/1 [==============================] - 0s 7ms/step - loss: 11.7108 - mae: 11.7108\n",
      "Epoch 68/100\n",
      "1/1 [==============================] - 0s 8ms/step - loss: 11.6748 - mae: 11.6748\n",
      "Epoch 69/100\n",
      "1/1 [==============================] - 0s 8ms/step - loss: 11.6389 - mae: 11.6389\n",
      "Epoch 70/100\n",
      "1/1 [==============================] - 0s 7ms/step - loss: 11.6026 - mae: 11.6026\n",
      "Epoch 71/100\n",
      "1/1 [==============================] - 0s 13ms/step - loss: 11.5661 - mae: 11.5661\n",
      "Epoch 72/100\n",
      "1/1 [==============================] - 0s 18ms/step - loss: 11.5295 - mae: 11.5295\n",
      "Epoch 73/100\n",
      "1/1 [==============================] - 0s 11ms/step - loss: 11.4929 - mae: 11.4929\n",
      "Epoch 74/100\n",
      "1/1 [==============================] - 0s 10ms/step - loss: 11.4561 - mae: 11.4561\n",
      "Epoch 75/100\n",
      "1/1 [==============================] - 0s 7ms/step - loss: 11.4187 - mae: 11.4187\n",
      "Epoch 76/100\n",
      "1/1 [==============================] - 0s 15ms/step - loss: 11.3810 - mae: 11.3810\n",
      "Epoch 77/100\n",
      "1/1 [==============================] - 0s 16ms/step - loss: 11.3429 - mae: 11.3429\n",
      "Epoch 78/100\n",
      "1/1 [==============================] - 0s 8ms/step - loss: 11.3043 - mae: 11.3043\n",
      "Epoch 79/100\n",
      "1/1 [==============================] - 0s 9ms/step - loss: 11.2653 - mae: 11.2653\n",
      "Epoch 80/100\n",
      "1/1 [==============================] - 0s 7ms/step - loss: 11.2261 - mae: 11.2261\n",
      "Epoch 81/100\n",
      "1/1 [==============================] - 0s 7ms/step - loss: 11.1865 - mae: 11.1865\n",
      "Epoch 82/100\n",
      "1/1 [==============================] - 0s 7ms/step - loss: 11.1466 - mae: 11.1466\n",
      "Epoch 83/100\n",
      "1/1 [==============================] - 0s 12ms/step - loss: 11.1065 - mae: 11.1065\n",
      "Epoch 84/100\n",
      "1/1 [==============================] - 0s 8ms/step - loss: 11.0665 - mae: 11.0665\n",
      "Epoch 85/100\n",
      "1/1 [==============================] - 0s 7ms/step - loss: 11.0269 - mae: 11.0269\n",
      "Epoch 86/100\n",
      "1/1 [==============================] - 0s 6ms/step - loss: 10.9870 - mae: 10.9870\n",
      "Epoch 87/100\n",
      "1/1 [==============================] - 0s 7ms/step - loss: 10.9599 - mae: 10.9599\n",
      "Epoch 88/100\n",
      "1/1 [==============================] - 0s 7ms/step - loss: 10.9327 - mae: 10.9327\n",
      "Epoch 89/100\n",
      "1/1 [==============================] - 0s 6ms/step - loss: 10.9053 - mae: 10.9053\n",
      "Epoch 90/100\n",
      "1/1 [==============================] - 0s 6ms/step - loss: 10.8776 - mae: 10.8776\n",
      "Epoch 91/100\n",
      "1/1 [==============================] - 0s 6ms/step - loss: 10.8498 - mae: 10.8498\n",
      "Epoch 92/100\n",
      "1/1 [==============================] - 0s 7ms/step - loss: 10.8220 - mae: 10.8220\n",
      "Epoch 93/100\n",
      "1/1 [==============================] - 0s 6ms/step - loss: 10.7940 - mae: 10.7940\n",
      "Epoch 94/100\n",
      "1/1 [==============================] - 0s 7ms/step - loss: 10.7656 - mae: 10.7656\n",
      "Epoch 95/100\n",
      "1/1 [==============================] - 0s 7ms/step - loss: 10.7370 - mae: 10.7370\n",
      "Epoch 96/100\n",
      "1/1 [==============================] - 0s 7ms/step - loss: 10.7080 - mae: 10.7080\n",
      "Epoch 97/100\n",
      "1/1 [==============================] - 0s 7ms/step - loss: 10.6787 - mae: 10.6787\n",
      "Epoch 98/100\n",
      "1/1 [==============================] - 0s 10ms/step - loss: 10.6492 - mae: 10.6492\n",
      "Epoch 99/100\n",
      "1/1 [==============================] - 0s 7ms/step - loss: 10.6194 - mae: 10.6194\n",
      "Epoch 100/100\n",
      "1/1 [==============================] - 0s 7ms/step - loss: 10.5892 - mae: 10.5892\n"
     ]
    },
    {
     "data": {
      "text/plain": [
       "<keras.callbacks.History at 0x2afcea3d0>"
      ]
     },
     "execution_count": 13,
     "metadata": {},
     "output_type": "execute_result"
    }
   ],
   "source": [
    "# Recreating the model 2\n",
    "\n",
    "# Set random seed\n",
    "tf.random.set_seed(42)\n",
    "\n",
    "# 1. Create the model \n",
    "model2 = tf.keras.Sequential([\n",
    "    tf.keras.layers.Dense(100, activation=\"relu\"),\n",
    "    tf.keras.layers.Dense(100, activation=\"relu\"),\n",
    "    tf.keras.layers.Dense(100, activation=\"relu\"),\n",
    "    tf.keras.layers.Dense(1)\n",
    "])\n",
    "\n",
    "# 2. Compile the model\n",
    "model2.compile(loss = tf.keras.losses.mae, \n",
    "             optimizer = tf.keras.optimizers.legacy.Adam(lr=0.0001),\n",
    "             metrics = [\"mae\"])\n",
    "\n",
    "# 3. Fit the model\n",
    "model2.fit(tf.expand_dims(X, axis=-1), y, epochs=100)"
   ]
  },
  {
   "cell_type": "code",
   "execution_count": 14,
   "id": "a31b6ad1",
   "metadata": {},
   "outputs": [
    {
     "name": "stdout",
     "output_type": "stream",
     "text": [
      "1/1 [==============================] - 0s 63ms/step\n"
     ]
    },
    {
     "data": {
      "text/plain": [
       "array([[7.6676207]], dtype=float32)"
      ]
     },
     "execution_count": 14,
     "metadata": {},
     "output_type": "execute_result"
    }
   ],
   "source": [
    "# prediction using the model\n",
    "model2.predict([17.0])"
   ]
  },
  {
   "cell_type": "code",
   "execution_count": 15,
   "id": "c21e8b52",
   "metadata": {},
   "outputs": [
    {
     "name": "stdout",
     "output_type": "stream",
     "text": [
      "Epoch 1/100\n",
      "1/1 [==============================] - 0s 211ms/step - loss: 13.6425 - mae: 13.6425\n",
      "Epoch 2/100\n",
      "1/1 [==============================] - 0s 7ms/step - loss: 12.8992 - mae: 12.8992\n",
      "Epoch 3/100\n",
      "1/1 [==============================] - 0s 6ms/step - loss: 12.1609 - mae: 12.1609\n",
      "Epoch 4/100\n",
      "1/1 [==============================] - 0s 6ms/step - loss: 11.4255 - mae: 11.4255\n",
      "Epoch 5/100\n",
      "1/1 [==============================] - 0s 6ms/step - loss: 10.6920 - mae: 10.6920\n",
      "Epoch 6/100\n",
      "1/1 [==============================] - 0s 6ms/step - loss: 9.9589 - mae: 9.9589\n",
      "Epoch 7/100\n",
      "1/1 [==============================] - 0s 6ms/step - loss: 9.2244 - mae: 9.2244\n",
      "Epoch 8/100\n",
      "1/1 [==============================] - 0s 6ms/step - loss: 8.4862 - mae: 8.4862\n",
      "Epoch 9/100\n",
      "1/1 [==============================] - 0s 6ms/step - loss: 7.7419 - mae: 7.7419\n",
      "Epoch 10/100\n",
      "1/1 [==============================] - 0s 6ms/step - loss: 6.9892 - mae: 6.9892\n",
      "Epoch 11/100\n",
      "1/1 [==============================] - 0s 6ms/step - loss: 6.7430 - mae: 6.7430\n",
      "Epoch 12/100\n",
      "1/1 [==============================] - 0s 6ms/step - loss: 7.0810 - mae: 7.0810\n",
      "Epoch 13/100\n",
      "1/1 [==============================] - 0s 6ms/step - loss: 7.3693 - mae: 7.3693\n",
      "Epoch 14/100\n",
      "1/1 [==============================] - 0s 7ms/step - loss: 7.7171 - mae: 7.7171\n",
      "Epoch 15/100\n",
      "1/1 [==============================] - 0s 6ms/step - loss: 7.8347 - mae: 7.8347\n",
      "Epoch 16/100\n",
      "1/1 [==============================] - 0s 6ms/step - loss: 7.7607 - mae: 7.7607\n",
      "Epoch 17/100\n",
      "1/1 [==============================] - 0s 6ms/step - loss: 7.5412 - mae: 7.5412\n",
      "Epoch 18/100\n",
      "1/1 [==============================] - 0s 6ms/step - loss: 7.2108 - mae: 7.2108\n",
      "Epoch 19/100\n",
      "1/1 [==============================] - 0s 6ms/step - loss: 6.8864 - mae: 6.8864\n",
      "Epoch 20/100\n",
      "1/1 [==============================] - 0s 8ms/step - loss: 6.6120 - mae: 6.6120\n",
      "Epoch 21/100\n",
      "1/1 [==============================] - 0s 7ms/step - loss: 6.3270 - mae: 6.3270\n",
      "Epoch 22/100\n",
      "1/1 [==============================] - 0s 55ms/step - loss: 6.1075 - mae: 6.1075\n",
      "Epoch 23/100\n",
      "1/1 [==============================] - 0s 7ms/step - loss: 6.0624 - mae: 6.0624\n",
      "Epoch 24/100\n",
      "1/1 [==============================] - 0s 8ms/step - loss: 6.0835 - mae: 6.0835\n",
      "Epoch 25/100\n",
      "1/1 [==============================] - 0s 7ms/step - loss: 6.1716 - mae: 6.1716\n",
      "Epoch 26/100\n",
      "1/1 [==============================] - 0s 22ms/step - loss: 6.1645 - mae: 6.1645\n",
      "Epoch 27/100\n",
      "1/1 [==============================] - 0s 11ms/step - loss: 6.0737 - mae: 6.0737\n",
      "Epoch 28/100\n",
      "1/1 [==============================] - 0s 23ms/step - loss: 5.9082 - mae: 5.9082\n",
      "Epoch 29/100\n",
      "1/1 [==============================] - 0s 10ms/step - loss: 5.6749 - mae: 5.6749\n",
      "Epoch 30/100\n",
      "1/1 [==============================] - 0s 11ms/step - loss: 5.5361 - mae: 5.5361\n",
      "Epoch 31/100\n",
      "1/1 [==============================] - 0s 7ms/step - loss: 5.4346 - mae: 5.4346\n",
      "Epoch 32/100\n",
      "1/1 [==============================] - 0s 8ms/step - loss: 5.3628 - mae: 5.3628\n",
      "Epoch 33/100\n",
      "1/1 [==============================] - 0s 6ms/step - loss: 5.3631 - mae: 5.3631\n",
      "Epoch 34/100\n",
      "1/1 [==============================] - 0s 10ms/step - loss: 5.3217 - mae: 5.3217\n",
      "Epoch 35/100\n",
      "1/1 [==============================] - 0s 9ms/step - loss: 5.2416 - mae: 5.2416\n",
      "Epoch 36/100\n",
      "1/1 [==============================] - 0s 6ms/step - loss: 5.1259 - mae: 5.1259\n",
      "Epoch 37/100\n",
      "1/1 [==============================] - 0s 8ms/step - loss: 4.9774 - mae: 4.9774\n",
      "Epoch 38/100\n",
      "1/1 [==============================] - 0s 6ms/step - loss: 4.7984 - mae: 4.7984\n",
      "Epoch 39/100\n",
      "1/1 [==============================] - 0s 8ms/step - loss: 4.6902 - mae: 4.6902\n",
      "Epoch 40/100\n",
      "1/1 [==============================] - 0s 6ms/step - loss: 4.5988 - mae: 4.5988\n",
      "Epoch 41/100\n",
      "1/1 [==============================] - 0s 7ms/step - loss: 4.5007 - mae: 4.5007\n",
      "Epoch 42/100\n",
      "1/1 [==============================] - 0s 6ms/step - loss: 4.4619 - mae: 4.4619\n",
      "Epoch 43/100\n",
      "1/1 [==============================] - 0s 7ms/step - loss: 4.3501 - mae: 4.3501\n",
      "Epoch 44/100\n",
      "1/1 [==============================] - 0s 6ms/step - loss: 4.1421 - mae: 4.1421\n",
      "Epoch 45/100\n",
      "1/1 [==============================] - 0s 6ms/step - loss: 4.0021 - mae: 4.0021\n",
      "Epoch 46/100\n",
      "1/1 [==============================] - 0s 5ms/step - loss: 3.8558 - mae: 3.8558\n",
      "Epoch 47/100\n",
      "1/1 [==============================] - 0s 17ms/step - loss: 3.7030 - mae: 3.7030\n",
      "Epoch 48/100\n",
      "1/1 [==============================] - 0s 12ms/step - loss: 3.5704 - mae: 3.5704\n",
      "Epoch 49/100\n",
      "1/1 [==============================] - 0s 6ms/step - loss: 3.4422 - mae: 3.4422\n",
      "Epoch 50/100\n",
      "1/1 [==============================] - 0s 5ms/step - loss: 3.2636 - mae: 3.2636\n",
      "Epoch 51/100\n",
      "1/1 [==============================] - 0s 9ms/step - loss: 3.0769 - mae: 3.0769\n",
      "Epoch 52/100\n",
      "1/1 [==============================] - 0s 6ms/step - loss: 2.9132 - mae: 2.9132\n",
      "Epoch 53/100\n",
      "1/1 [==============================] - 0s 6ms/step - loss: 2.7396 - mae: 2.7396\n",
      "Epoch 54/100\n",
      "1/1 [==============================] - 0s 5ms/step - loss: 2.5561 - mae: 2.5561\n",
      "Epoch 55/100\n",
      "1/1 [==============================] - 0s 6ms/step - loss: 2.3987 - mae: 2.3987\n",
      "Epoch 56/100\n",
      "1/1 [==============================] - 0s 6ms/step - loss: 2.1488 - mae: 2.1488\n",
      "Epoch 57/100\n",
      "1/1 [==============================] - 0s 5ms/step - loss: 1.9254 - mae: 1.9254\n",
      "Epoch 58/100\n",
      "1/1 [==============================] - 0s 5ms/step - loss: 1.7559 - mae: 1.7559\n",
      "Epoch 59/100\n",
      "1/1 [==============================] - 0s 6ms/step - loss: 1.5405 - mae: 1.5405\n",
      "Epoch 60/100\n",
      "1/1 [==============================] - 0s 6ms/step - loss: 1.2548 - mae: 1.2548\n",
      "Epoch 61/100\n",
      "1/1 [==============================] - 0s 6ms/step - loss: 1.0262 - mae: 1.0262\n",
      "Epoch 62/100\n",
      "1/1 [==============================] - 0s 6ms/step - loss: 0.7816 - mae: 0.7816\n",
      "Epoch 63/100\n",
      "1/1 [==============================] - 0s 6ms/step - loss: 0.5027 - mae: 0.5027\n",
      "Epoch 64/100\n",
      "1/1 [==============================] - 0s 5ms/step - loss: 0.3182 - mae: 0.3182\n",
      "Epoch 65/100\n",
      "1/1 [==============================] - 0s 5ms/step - loss: 0.1496 - mae: 0.1496\n",
      "Epoch 66/100\n",
      "1/1 [==============================] - 0s 6ms/step - loss: 0.3051 - mae: 0.3051\n",
      "Epoch 67/100\n",
      "1/1 [==============================] - 0s 7ms/step - loss: 0.4991 - mae: 0.4991\n",
      "Epoch 68/100\n",
      "1/1 [==============================] - 0s 14ms/step - loss: 0.6058 - mae: 0.6058\n",
      "Epoch 69/100\n",
      "1/1 [==============================] - 0s 8ms/step - loss: 0.6737 - mae: 0.6737\n",
      "Epoch 70/100\n",
      "1/1 [==============================] - 0s 6ms/step - loss: 0.6625 - mae: 0.6625\n",
      "Epoch 71/100\n",
      "1/1 [==============================] - 0s 6ms/step - loss: 0.6734 - mae: 0.6734\n",
      "Epoch 72/100\n",
      "1/1 [==============================] - 0s 6ms/step - loss: 0.5937 - mae: 0.5937\n",
      "Epoch 73/100\n",
      "1/1 [==============================] - 0s 8ms/step - loss: 0.5128 - mae: 0.5128\n",
      "Epoch 74/100\n",
      "1/1 [==============================] - 0s 6ms/step - loss: 0.4200 - mae: 0.4200\n",
      "Epoch 75/100\n",
      "1/1 [==============================] - 0s 7ms/step - loss: 0.2694 - mae: 0.2694\n",
      "Epoch 76/100\n",
      "1/1 [==============================] - 0s 6ms/step - loss: 0.1141 - mae: 0.1141\n",
      "Epoch 77/100\n",
      "1/1 [==============================] - 0s 7ms/step - loss: 0.0494 - mae: 0.0494\n",
      "Epoch 78/100\n",
      "1/1 [==============================] - 0s 6ms/step - loss: 0.1703 - mae: 0.1703\n",
      "Epoch 79/100\n",
      "1/1 [==============================] - 0s 7ms/step - loss: 0.2683 - mae: 0.2683\n",
      "Epoch 80/100\n",
      "1/1 [==============================] - 0s 6ms/step - loss: 0.2787 - mae: 0.2787\n",
      "Epoch 81/100\n",
      "1/1 [==============================] - 0s 7ms/step - loss: 0.2730 - mae: 0.2730\n",
      "Epoch 82/100\n",
      "1/1 [==============================] - 0s 26ms/step - loss: 0.2907 - mae: 0.2907\n",
      "Epoch 83/100\n",
      "1/1 [==============================] - 0s 8ms/step - loss: 0.1815 - mae: 0.1815\n",
      "Epoch 84/100\n",
      "1/1 [==============================] - 0s 9ms/step - loss: 0.1598 - mae: 0.1598\n",
      "Epoch 85/100\n",
      "1/1 [==============================] - 0s 6ms/step - loss: 0.1228 - mae: 0.1228\n",
      "Epoch 86/100\n",
      "1/1 [==============================] - 0s 6ms/step - loss: 0.0922 - mae: 0.0922\n",
      "Epoch 87/100\n",
      "1/1 [==============================] - 0s 6ms/step - loss: 0.1427 - mae: 0.1427\n",
      "Epoch 88/100\n",
      "1/1 [==============================] - 0s 8ms/step - loss: 0.1991 - mae: 0.1991\n",
      "Epoch 89/100\n",
      "1/1 [==============================] - 0s 6ms/step - loss: 0.1374 - mae: 0.1374\n",
      "Epoch 90/100\n",
      "1/1 [==============================] - 0s 6ms/step - loss: 0.2676 - mae: 0.2676\n",
      "Epoch 91/100\n",
      "1/1 [==============================] - 0s 6ms/step - loss: 0.1560 - mae: 0.1560\n",
      "Epoch 92/100\n",
      "1/1 [==============================] - 0s 8ms/step - loss: 0.2730 - mae: 0.2730\n",
      "Epoch 93/100\n",
      "1/1 [==============================] - 0s 6ms/step - loss: 0.3249 - mae: 0.3249\n",
      "Epoch 94/100\n",
      "1/1 [==============================] - 0s 6ms/step - loss: 0.1110 - mae: 0.1110\n",
      "Epoch 95/100\n",
      "1/1 [==============================] - 0s 6ms/step - loss: 0.3464 - mae: 0.3464\n",
      "Epoch 96/100\n",
      "1/1 [==============================] - 0s 7ms/step - loss: 0.3992 - mae: 0.3992\n",
      "Epoch 97/100\n",
      "1/1 [==============================] - 0s 6ms/step - loss: 0.1712 - mae: 0.1712\n",
      "Epoch 98/100\n",
      "1/1 [==============================] - 0s 7ms/step - loss: 0.2674 - mae: 0.2674\n",
      "Epoch 99/100\n",
      "1/1 [==============================] - 0s 6ms/step - loss: 0.3204 - mae: 0.3204\n",
      "Epoch 100/100\n",
      "1/1 [==============================] - 0s 8ms/step - loss: 0.1117 - mae: 0.1117\n"
     ]
    },
    {
     "data": {
      "text/plain": [
       "<keras.callbacks.History at 0x2b3fde6a0>"
      ]
     },
     "execution_count": 15,
     "metadata": {},
     "output_type": "execute_result"
    }
   ],
   "source": [
    "# Recreating the model 3\n",
    "\n",
    "# Set random seed\n",
    "tf.random.set_seed(42)\n",
    "\n",
    "# 1. Create the model \n",
    "model3 = tf.keras.Sequential([\n",
    "    tf.keras.layers.Dense(50, activation=None),\n",
    "    tf.keras.layers.Dense(1)\n",
    "])\n",
    "\n",
    "# 2. Compile the model\n",
    "model3.compile(loss = tf.keras.losses.mae, \n",
    "             optimizer = tf.keras.optimizers.legacy.Adam(lr=0.01),\n",
    "             metrics = [\"mae\"])\n",
    "\n",
    "# 3. Fit the model\n",
    "model3.fit(tf.expand_dims(X, axis=-1), y, epochs=100)"
   ]
  },
  {
   "cell_type": "code",
   "execution_count": 16,
   "id": "45a5a229",
   "metadata": {},
   "outputs": [
    {
     "name": "stdout",
     "output_type": "stream",
     "text": [
      "1/1 [==============================] - 0s 43ms/step\n"
     ]
    },
    {
     "data": {
      "text/plain": [
       "array([[26.167791]], dtype=float32)"
      ]
     },
     "execution_count": 16,
     "metadata": {},
     "output_type": "execute_result"
    }
   ],
   "source": [
    "# prediction using the model\n",
    "model3.predict([17.0])"
   ]
  },
  {
   "cell_type": "markdown",
   "id": "bddcd0d6",
   "metadata": {},
   "source": [
    "## Evaluating the model\n",
    "\n",
    "When it comes to evaluation, we need to\n",
    "\n",
    "> \"Visualize, visualize, Visualize\"\n",
    "\n",
    "It's always a good idea to visualize:\n",
    "* The data - What data are we working with? What does it look like?\n",
    "* The model itself - What does our model look like?\n",
    "* The training of a model - how does a model perform while it learns?\n",
    "* The predictions of the model - how do the predictions of a model line up against the ground truth (the original labels)?"
   ]
  },
  {
   "cell_type": "code",
   "execution_count": 17,
   "id": "371a856a",
   "metadata": {},
   "outputs": [],
   "source": [
    "# Make a bigger dataset\n",
    "X = tf.range(-100, 100, 4)\n",
    "\n",
    "# Make labels for the dataset\n",
    "y = X + 10"
   ]
  },
  {
   "cell_type": "code",
   "execution_count": 18,
   "id": "e1725ff8",
   "metadata": {},
   "outputs": [
    {
     "data": {
      "text/plain": [
       "<tf.Tensor: shape=(50,), dtype=int32, numpy=\n",
       "array([-100,  -96,  -92,  -88,  -84,  -80,  -76,  -72,  -68,  -64,  -60,\n",
       "        -56,  -52,  -48,  -44,  -40,  -36,  -32,  -28,  -24,  -20,  -16,\n",
       "        -12,   -8,   -4,    0,    4,    8,   12,   16,   20,   24,   28,\n",
       "         32,   36,   40,   44,   48,   52,   56,   60,   64,   68,   72,\n",
       "         76,   80,   84,   88,   92,   96], dtype=int32)>"
      ]
     },
     "execution_count": 18,
     "metadata": {},
     "output_type": "execute_result"
    }
   ],
   "source": [
    "X"
   ]
  },
  {
   "cell_type": "code",
   "execution_count": 19,
   "id": "c592b169",
   "metadata": {},
   "outputs": [
    {
     "data": {
      "text/plain": [
       "<tf.Tensor: shape=(50,), dtype=int32, numpy=\n",
       "array([-90, -86, -82, -78, -74, -70, -66, -62, -58, -54, -50, -46, -42,\n",
       "       -38, -34, -30, -26, -22, -18, -14, -10,  -6,  -2,   2,   6,  10,\n",
       "        14,  18,  22,  26,  30,  34,  38,  42,  46,  50,  54,  58,  62,\n",
       "        66,  70,  74,  78,  82,  86,  90,  94,  98, 102, 106], dtype=int32)>"
      ]
     },
     "execution_count": 19,
     "metadata": {},
     "output_type": "execute_result"
    }
   ],
   "source": [
    "y"
   ]
  },
  {
   "cell_type": "code",
   "execution_count": 20,
   "id": "6ccb2308",
   "metadata": {},
   "outputs": [
    {
     "data": {
      "image/png": "[encoded data removed]",
      "text/plain": [
       "<Figure size 640x480 with 1 Axes>"
      ]
     },
     "metadata": {},
     "output_type": "display_data"
    }
   ],
   "source": [
    "# Visualize the data\n",
    "plt.scatter(X, y);"
   ]
  },
  {
   "cell_type": "markdown",
   "id": "0f37a453",
   "metadata": {},
   "source": [
    "### Splitting the dataset"
   ]
  },
  {
   "cell_type": "code",
   "execution_count": 21,
   "id": "1ea46717",
   "metadata": {},
   "outputs": [
    {
     "data": {
      "text/plain": [
       "(40, 10, 40, 10)"
      ]
     },
     "execution_count": 21,
     "metadata": {},
     "output_type": "execute_result"
    }
   ],
   "source": [
    "X_train = X[:40]\n",
    "y_train = y[:40]\n",
    "\n",
    "X_test = X[40:]\n",
    "y_test = y[40:]\n",
    "\n",
    "len(X_train), len(X_test), len(y_train), len(y_test)"
   ]
  },
  {
   "cell_type": "code",
   "execution_count": 22,
   "id": "00428a50",
   "metadata": {},
   "outputs": [
    {
     "data": {
      "text/plain": [
       "(50, 50)"
      ]
     },
     "execution_count": 22,
     "metadata": {},
     "output_type": "execute_result"
    }
   ],
   "source": [
    "len(X), len(y)"
   ]
  },
  {
   "cell_type": "code",
   "execution_count": 23,
   "id": "ef3e0c77",
   "metadata": {},
   "outputs": [],
   "source": [
    "tf.random.set_seed(42)\n",
    "\n",
    "# 1. Create a model\n",
    "model = tf.keras.Sequential([\n",
    "    tf.keras.layers.Dense(10, input_shape=[1], name=\"input_layer\"),\n",
    "    tf.keras.layers.Dense(1, name=\"output_layer\")\n",
    "])\n",
    "\n",
    "# 2. Compile the model\n",
    "model.compile(loss = tf.keras.losses.mae,\n",
    "             optimizer = tf.keras.optimizers.legacy.SGD(),\n",
    "             metrics = ['mae'])"
   ]
  },
  {
   "cell_type": "code",
   "execution_count": 24,
   "id": "08019cb0",
   "metadata": {},
   "outputs": [
    {
     "name": "stdout",
     "output_type": "stream",
     "text": [
      "Model: \"sequential_4\"\n",
      "_________________________________________________________________\n",
      " Layer (type)                Output Shape              Param #   \n",
      "=================================================================\n",
      " input_layer (Dense)         (None, 10)                20        \n",
      "                                                                 \n",
      " output_layer (Dense)        (None, 1)                 11        \n",
      "                                                                 \n",
      "=================================================================\n",
      "Total params: 31\n",
      "Trainable params: 31\n",
      "Non-trainable params: 0\n",
      "_________________________________________________________________\n"
     ]
    }
   ],
   "source": [
    "model.summary()"
   ]
  },
  {
   "cell_type": "markdown",
   "id": "e7bdb167",
   "metadata": {},
   "source": [
    "* Total params - total no of parameters in the model.\n",
    "* Trainable params - parameters(patterns) the model can update as it trains.\n",
    "* Non-trainable params - parameters aren't updated during training (this is typical when you bring in already learn patterns/parameters from other models during **transfer learning**)."
   ]
  },
  {
   "cell_type": "code",
   "execution_count": 25,
   "id": "f9fae9ba",
   "metadata": {},
   "outputs": [
    {
     "data": {
      "text/plain": [
       "<keras.callbacks.History at 0x2b151d910>"
      ]
     },
     "execution_count": 25,
     "metadata": {},
     "output_type": "execute_result"
    }
   ],
   "source": [
    "# 3. Fit the model\n",
    "model.fit(X_train, y_train, epochs=100, verbose=0)"
   ]
  },
  {
   "cell_type": "code",
   "execution_count": 26,
   "id": "991e414c",
   "metadata": {},
   "outputs": [
    {
     "data": {
      "image/png": "[encoded data removed]",
      "text/plain": [
       "<IPython.core.display.Image object>"
      ]
     },
     "execution_count": 26,
     "metadata": {},
     "output_type": "execute_result"
    }
   ],
   "source": [
    "from tensorflow.keras.utils import plot_model\n",
    "\n",
    "plot_model(model=model, show_shapes=True)"
   ]
  },
  {
   "cell_type": "markdown",
   "id": "f17fd798",
   "metadata": {},
   "source": [
    "### Visualizing the model's predictions\n",
    "\n",
    "To visualize predictions, it's a good idea to lot them against the ground truth labels. Often in the form of `y_test`/`y_true` versus `y_pred` (ground truth versus model's prediction)."
   ]
  },
  {
   "cell_type": "code",
   "execution_count": 27,
   "id": "a962b876",
   "metadata": {},
   "outputs": [
    {
     "name": "stdout",
     "output_type": "stream",
     "text": [
      "WARNING:tensorflow:5 out of the last 5 calls to <function Model.make_predict_function.<locals>.predict_function at 0x2afc49a60> triggered tf.function retracing. Tracing is expensive and the excessive number of tracings could be due to (1) creating @tf.function repeatedly in a loop, (2) passing tensors with different shapes, (3) passing Python objects instead of tensors. For (1), please define your @tf.function outside of the loop. For (2), @tf.function has reduce_retracing=True option that can avoid unnecessary retracing. For (3), please refer to https://www.tensorflow.org/guide/function#controlling_retracing and https://www.tensorflow.org/api_docs/python/tf/function for  more details.\n",
      "1/1 [==============================] - 0s 32ms/step\n"
     ]
    },
    {
     "data": {
      "text/plain": [
       "array([[ 91.11863 ],\n",
       "       [ 97.069176],\n",
       "       [103.019714],\n",
       "       [108.97027 ],\n",
       "       [114.9208  ],\n",
       "       [120.871346],\n",
       "       [126.8219  ],\n",
       "       [132.77243 ],\n",
       "       [138.72298 ],\n",
       "       [144.67352 ]], dtype=float32)"
      ]
     },
     "execution_count": 27,
     "metadata": {},
     "output_type": "execute_result"
    }
   ],
   "source": [
    "y_pred = model.predict(X_test)\n",
    "y_pred"
   ]
  },
  {
   "cell_type": "code",
   "execution_count": 28,
   "id": "a358fff9",
   "metadata": {},
   "outputs": [
    {
     "data": {
      "text/plain": [
       "<tf.Tensor: shape=(10,), dtype=int32, numpy=array([ 70,  74,  78,  82,  86,  90,  94,  98, 102, 106], dtype=int32)>"
      ]
     },
     "execution_count": 28,
     "metadata": {},
     "output_type": "execute_result"
    }
   ],
   "source": [
    "y_test"
   ]
  },
  {
   "cell_type": "code",
   "execution_count": 29,
   "id": "7d9d3f64",
   "metadata": {},
   "outputs": [],
   "source": [
    "# Creating the Plot Function\n",
    "def plot_predictions(train_data = X_train,\n",
    "                     train_labels = y_train,\n",
    "                     test_data = X_test,\n",
    "                     test_labels = y_test,\n",
    "                     predictions = y_pred):\n",
    "\n",
    "    plt.figure(figsize=(10, 7))\n",
    "    plt.scatter(train_data, train_labels, label=\"Training data\")\n",
    "    plt.scatter(test_data, test_labels, label=\"Testing data\")\n",
    "    plt.scatter(test_data, predictions, label=\"Predictions\")\n",
    "    plt.legend()\n",
    "    plt.show()"
   ]
  },
  {
   "cell_type": "code",
   "execution_count": 30,
   "id": "1674b598",
   "metadata": {},
   "outputs": [
    {
     "data": {
      "image/png": "[encoded data removed]",
      "text/plain": [
       "<Figure size 1000x700 with 1 Axes>"
      ]
     },
     "metadata": {},
     "output_type": "display_data"
    }
   ],
   "source": [
    "plot_predictions(X_train, y_train, X_test, y_test, y_pred)"
   ]
  },
  {
   "cell_type": "markdown",
   "id": "64b2ea4e",
   "metadata": {},
   "source": [
    "### Evaluting the model's prediction with regression evaluation metrics"
   ]
  },
  {
   "cell_type": "code",
   "execution_count": 31,
   "id": "825d955c",
   "metadata": {},
   "outputs": [
    {
     "name": "stdout",
     "output_type": "stream",
     "text": [
      "1/1 [==============================] - 0s 209ms/step - loss: 29.8961 - mae: 29.8961\n"
     ]
    },
    {
     "data": {
      "text/plain": [
       "[29.896076202392578, 29.896076202392578]"
      ]
     },
     "execution_count": 31,
     "metadata": {},
     "output_type": "execute_result"
    }
   ],
   "source": [
    "model.evaluate(X_test, y_test)"
   ]
  },
  {
   "cell_type": "code",
   "execution_count": 33,
   "id": "dce24b0e",
   "metadata": {},
   "outputs": [
    {
     "data": {
      "text/plain": [
       "<tf.Tensor: shape=(), dtype=float32, numpy=29.896076>"
      ]
     },
     "execution_count": 33,
     "metadata": {},
     "output_type": "execute_result"
    }
   ],
   "source": [
    "# Calculate the mean absolute error\n",
    "mae = tf.metrics.mean_absolute_error(y_true=y_test,\n",
    "                                     y_pred=tf.squeeze(y_pred))\n",
    "mae"
   ]
  },
  {
   "cell_type": "code",
   "execution_count": 34,
   "id": "e6214919",
   "metadata": {},
   "outputs": [
    {
     "data": {
      "text/plain": [
       "<tf.Tensor: shape=(), dtype=float32, numpy=925.1635>"
      ]
     },
     "execution_count": 34,
     "metadata": {},
     "output_type": "execute_result"
    }
   ],
   "source": [
    "# Calculate the mean squared error\n",
    "mse = tf.metrics.mean_squared_error(y_true=y_test,\n",
    "                                    y_pred=tf.squeeze(y_pred))\n",
    "mse"
   ]
  },
  {
   "cell_type": "code",
   "execution_count": 36,
   "id": "d3209f87",
   "metadata": {},
   "outputs": [
    {
     "data": {
      "text/plain": [
       "<keras.losses.Huber at 0x17c3beb80>"
      ]
     },
     "execution_count": 36,
     "metadata": {},
     "output_type": "execute_result"
    }
   ],
   "source": [
    "# Calculate the huber\n",
    "huber = tf.keras.losses.Huber()\n",
    "huber(y_test, y_pred)\n",
    "huber"
   ]
  },
  {
   "cell_type": "code",
   "execution_count": 37,
   "id": "55e594eb",
   "metadata": {},
   "outputs": [],
   "source": [
    "# Make a function to reuse MAE and MSE\n",
    "def mae(y_true, y_pred):\n",
    "    return tf.metrics.mean_absolute_error(y_true=y_true,\n",
    "                                          y_pred=tf.squeeze(y_pred))\n",
    "\n",
    "def mse(y_true, y_pred):\n",
    "    return tf.metrics.mean_squared_error(y_true=y_true,\n",
    "                                         y_pred=tf.squeeze(y_pred))"
   ]
  },
  {
   "cell_type": "code",
   "execution_count": null,
   "id": "9ea32aa6",
   "metadata": {},
   "outputs": [],
   "source": []
  }
 ],
 "metadata": {
  "kernelspec": {
   "display_name": "Python 3 (ipykernel)",
   "language": "python",
   "name": "python3"
  },
  "language_info": {
   "codemirror_mode": {
    "name": "ipython",
    "version": 3
   },
   "file_extension": ".py",
   "mimetype": "text/x-python",
   "name": "python",
   "nbconvert_exporter": "python",
   "pygments_lexer": "ipython3",
   "version": "3.9.16"
  }
 },
 "nbformat": 4,
 "nbformat_minor": 5
}
