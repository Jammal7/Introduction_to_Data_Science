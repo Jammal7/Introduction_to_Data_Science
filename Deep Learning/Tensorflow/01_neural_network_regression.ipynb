{
 "cells": [
  {
   "cell_type": "markdown",
   "id": "90f90718-b431-4374-b9f5-e1fe8ff3e397",
   "metadata": {},
   "source": [
    "# Introduction to Regression with Neural Networks in TensorFlow"
   ]
  },
  {
   "cell_type": "code",
   "execution_count": 2,
   "id": "e09bc4f7-1775-41b0-8f8e-f7850426ec57",
   "metadata": {},
   "outputs": [],
   "source": [
    "import tensorflow as tf\n",
    "import pandas as pd\n",
    "import numpy as np\n",
    "import matplotlib.pyplot as plt"
   ]
  },
  {
   "cell_type": "code",
   "execution_count": 3,
   "id": "c09a5acb-0907-47a1-843c-02274556999a",
   "metadata": {},
   "outputs": [
    {
     "data": {
      "image/png": "[encoded data removed]",
      "text/plain": [
       "<Figure size 640x480 with 1 Axes>"
      ]
     },
     "metadata": {},
     "output_type": "display_data"
    }
   ],
   "source": [
    "# Create Featuers\n",
    "X = np.array([-7.0, -4.0, -1.0, 2.0, 5.0, 8.0, 11.0, 14.0])\n",
    "\n",
    "# Create Labels\n",
    "y = np.array([3.0, 6.0, 9.0, 12.0, 15.0, 18.0, 21.0, 24.0])\n",
    "\n",
    "# Visualizing \n",
    "plt.scatter(X, y);"
   ]
  },
  {
   "cell_type": "code",
   "execution_count": 4,
   "id": "f30df02b-1c80-488f-90a1-d35fbf299176",
   "metadata": {},
   "outputs": [
    {
     "data": {
      "text/plain": [
       "array([ True,  True,  True,  True,  True,  True,  True,  True])"
      ]
     },
     "execution_count": 4,
     "metadata": {},
     "output_type": "execute_result"
    }
   ],
   "source": [
    "y == X + 10"
   ]
  },
  {
   "cell_type": "markdown",
   "id": "b5b36316-0714-42fd-b2b0-92a4ab532844",
   "metadata": {},
   "source": [
    "## Input and Output Shapes"
   ]
  },
  {
   "cell_type": "code",
   "execution_count": 5,
   "id": "34c291e9-d807-490c-9210-61a12576e353",
   "metadata": {},
   "outputs": [
    {
     "name": "stdout",
     "output_type": "stream",
     "text": [
      "Metal device set to: Apple M2\n"
     ]
    }
   ],
   "source": [
    "house_info = tf.constant([\"bedroom\", \"bathroom\", \"garage\"])\n",
    "house_price = tf.constant([939700])"
   ]
  },
  {
   "cell_type": "code",
   "execution_count": 6,
   "id": "80150a78-ad27-4dd6-b53b-53c6f7817136",
   "metadata": {},
   "outputs": [
    {
     "data": {
      "text/plain": [
       "<tf.Tensor: shape=(3,), dtype=string, numpy=array([b'bedroom', b'bathroom', b'garage'], dtype=object)>"
      ]
     },
     "execution_count": 6,
     "metadata": {},
     "output_type": "execute_result"
    }
   ],
   "source": [
    "house_info"
   ]
  },
  {
   "cell_type": "code",
   "execution_count": 7,
   "id": "5b13f031-e0e1-48d9-b7fc-f91d57bc5dce",
   "metadata": {},
   "outputs": [
    {
     "data": {
      "text/plain": [
       "<tf.Tensor: shape=(1,), dtype=int32, numpy=array([939700], dtype=int32)>"
      ]
     },
     "execution_count": 7,
     "metadata": {},
     "output_type": "execute_result"
    }
   ],
   "source": [
    "house_price"
   ]
  },
  {
   "cell_type": "code",
   "execution_count": 14,
   "id": "291b32ec-0e29-4b93-b5b6-c2df85ceb54b",
   "metadata": {},
   "outputs": [
    {
     "data": {
      "text/plain": [
       "(<tf.Tensor: shape=(8,), dtype=float32, numpy=array([-7., -4., -1.,  2.,  5.,  8., 11., 14.], dtype=float32)>,\n",
       " <tf.Tensor: shape=(8,), dtype=float32, numpy=array([ 3.,  6.,  9., 12., 15., 18., 21., 24.], dtype=float32)>)"
      ]
     },
     "execution_count": 14,
     "metadata": {},
     "output_type": "execute_result"
    }
   ],
   "source": [
    "# Turn the NumPy arrays into tensors with dtype float32\n",
    "X = tf.cast(tf.constant(X), dtype=tf.float32)\n",
    "y = tf.cast(tf.constant(y), dtype=tf.float32)\n",
    "\n",
    "X, y"
   ]
  },
  {
   "cell_type": "code",
   "execution_count": 10,
   "id": "23712429-e710-42d2-bb4d-e0fe86347ff5",
   "metadata": {},
   "outputs": [
    {
     "data": {
      "text/plain": [
       "(TensorShape([]), TensorShape([]))"
      ]
     },
     "execution_count": 10,
     "metadata": {},
     "output_type": "execute_result"
    }
   ],
   "source": [
    "input_shape = X[0].shape\n",
    "output_shape = y[0].shape\n",
    "\n",
    "input_shape, output_shape"
   ]
  },
  {
   "cell_type": "markdown",
   "id": "cc8a5cb8-a414-44a5-935d-3bb1488ef883",
   "metadata": {},
   "source": [
    "## Steps in Modelling with TensorFlow\n",
    "\n",
    "1. **Creating a model**: define the input & output layers, as well as the hidden layers of a deep learning model.\n",
    "2. **Compilin a model**: define the loss function (in other words, the function which tells the model how wrong it is), the optimizer (tells the model how to improve the patterns its learning) and evaluation metrics (evaluate/interpret the performance of the model).\n",
    "3. **Fitting a model**: letting the model try to find patterns between X & y (features and labels)."
   ]
  },
  {
   "cell_type": "code",
   "execution_count": 15,
   "id": "ea1c3150-8106-4322-98e9-b0bf72c89136",
   "metadata": {},
   "outputs": [
    {
     "name": "stderr",
     "output_type": "stream",
     "text": [
      "WARNING:absl:At this time, the v2.11+ optimizer `tf.keras.optimizers.SGD` runs slowly on M1/M2 Macs, please use the legacy Keras optimizer instead, located at `tf.keras.optimizers.legacy.SGD`.\n",
      "WARNING:absl:There is a known slowdown when using v2.11+ Keras optimizers on M1/M2 Macs. Falling back to the legacy Keras optimizer, i.e., `tf.keras.optimizers.legacy.SGD`.\n"
     ]
    },
    {
     "name": "stdout",
     "output_type": "stream",
     "text": [
      "Epoch 1/10\n",
      "1/1 [==============================] - 0s 116ms/step - loss: 19.7293 - mae: 19.7293\n",
      "Epoch 2/10\n",
      "1/1 [==============================] - 0s 5ms/step - loss: 19.4481 - mae: 19.4481\n",
      "Epoch 3/10\n",
      "1/1 [==============================] - 0s 5ms/step - loss: 19.1668 - mae: 19.1668\n",
      "Epoch 4/10\n",
      "1/1 [==============================] - 0s 5ms/step - loss: 18.8856 - mae: 18.8856\n",
      "Epoch 5/10\n",
      "1/1 [==============================] - 0s 5ms/step - loss: 18.6043 - mae: 18.6043\n",
      "Epoch 6/10\n",
      "1/1 [==============================] - 0s 13ms/step - loss: 18.3231 - mae: 18.3231\n",
      "Epoch 7/10\n",
      "1/1 [==============================] - 0s 8ms/step - loss: 18.0418 - mae: 18.0418\n",
      "Epoch 8/10\n",
      "1/1 [==============================] - 0s 5ms/step - loss: 17.7606 - mae: 17.7606\n",
      "Epoch 9/10\n",
      "1/1 [==============================] - 0s 5ms/step - loss: 17.4793 - mae: 17.4793\n",
      "Epoch 10/10\n",
      "1/1 [==============================] - 0s 8ms/step - loss: 17.1981 - mae: 17.1981\n"
     ]
    },
    {
     "data": {
      "text/plain": [
       "<keras.callbacks.History at 0x13425d940>"
      ]
     },
     "execution_count": 15,
     "metadata": {},
     "output_type": "execute_result"
    }
   ],
   "source": [
    "# Set random seed\n",
    "tf.random.set_seed(42)\n",
    "\n",
    "# 1. Create a model using the Sequential API\n",
    "model = tf.keras.Sequential([\n",
    "    tf.keras.layers.Dense(1)\n",
    "])\n",
    "\n",
    "# 2. Compile the model\n",
    "model.compile(loss = tf.keras.losses.mae, # mae == mean absolute error\n",
    "             optimizer = tf.keras.optimizers.SGD(), # sgd == stochastic gradient descent,\n",
    "             metrics = [\"mae\"])\n",
    "\n",
    "# 3. Fit the model\n",
    "model.fit(tf.expand_dims(X, axis=-1), y, epochs=10)"
   ]
  },
  {
   "cell_type": "code",
   "execution_count": 16,
   "id": "ffbb5889-427e-47cb-b7bc-c5600b61b22d",
   "metadata": {},
   "outputs": [
    {
     "name": "stdout",
     "output_type": "stream",
     "text": [
      "1/1 [==============================] - 0s 182ms/step\n"
     ]
    },
    {
     "data": {
      "text/plain": [
       "array([[-13.599779]], dtype=float32)"
      ]
     },
     "execution_count": 16,
     "metadata": {},
     "output_type": "execute_result"
    }
   ],
   "source": [
    "# prediction using the model\n",
    "model.predict([17.0])"
   ]
  },
  {
   "cell_type": "code",
   "execution_count": null,
   "id": "415f038d-ccc5-4e2a-9303-3dc5b3549492",
   "metadata": {},
   "outputs": [],
   "source": [
    " "
   ]
  }
 ],
 "metadata": {
  "kernelspec": {
   "display_name": "Python 3 (ipykernel)",
   "language": "python",
   "name": "python3"
  },
  "language_info": {
   "codemirror_mode": {
    "name": "ipython",
    "version": 3
   },
   "file_extension": ".py",
   "mimetype": "text/x-python",
   "name": "python",
   "nbconvert_exporter": "python",
   "pygments_lexer": "ipython3",
   "version": "3.9.16"
  }
 },
 "nbformat": 4,
 "nbformat_minor": 5
}
