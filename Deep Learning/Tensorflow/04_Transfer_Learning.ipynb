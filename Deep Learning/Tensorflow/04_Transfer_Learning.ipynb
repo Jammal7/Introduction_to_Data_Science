{
 "cells": [
  {
   "cell_type": "markdown",
   "metadata": {},
   "source": [
    "# Transfer Learning with TensorFlow Part 1: Feature Extraction\n",
    "\n",
    "We're going to go through the following with TensorFlow:\n",
    "\n",
    "* Introduce transfer learning (a way to beat all of our old self-built models)\n",
    "* Using a smaller dataset to experiment faster (10% of training samples of 10 classes of food)\n",
    "* Build a transfer learning feature extraction model using TensorFlow Hub\n",
    "* Introduce the TensorBoard callback to track model training results\n",
    "* Compare model results using TensorBoard"
   ]
  },
  {
   "cell_type": "code",
   "execution_count": 8,
   "metadata": {},
   "outputs": [],
   "source": [
    "import pandas as pd\n",
    "import numpy as np\n",
    "import matplotlib.pyplot as plt\n",
    "import matplotlib.image as mpimg\n",
    "import seaborn as sns\n",
    "import os\n",
    "import cv2\n",
    "import pathlib\n",
    "import random\n",
    "import zipfile\n",
    "import datetime\n",
    "\n",
    "from sklearn.model_selection import train_test_split\n",
    "from sklearn.metrics import confusion_matrix, classification_report\n",
    "\n",
    "import tensorflow as tf\n",
    "from tensorflow.keras.preprocessing.image import ImageDataGenerator\n",
    "from tensorflow.keras.models import Sequential\n",
    "from tensorflow.keras.layers import Dense, Conv2D, MaxPool2D, Flatten, Dropout, Activation\n",
    "from tensorflow.keras.optimizers import Adam\n"
   ]
  },
  {
   "cell_type": "markdown",
   "metadata": {},
   "source": [
    "## Import and Inspect the data"
   ]
  },
  {
   "cell_type": "code",
   "execution_count": 5,
   "metadata": {},
   "outputs": [
    {
     "name": "stdout",
     "output_type": "stream",
     "text": [
      "--2023-08-10 17:05:17--  https://storage.googleapis.com/ztm_tf_course/food_vision/10_food_classes_10_percent.zip\n",
      "Resolving storage.googleapis.com (storage.googleapis.com)... 172.217.169.16, 172.217.169.48, 142.250.178.16, ...\n",
      "Connecting to storage.googleapis.com (storage.googleapis.com)|172.217.169.16|:443... connected.\n",
      "HTTP request sent, awaiting response... 200 OK\n",
      "Length: 168546183 (161M) [application/zip]\n",
      "Saving to: ‘10_food_classes_10_percent.zip’\n",
      "\n",
      "10_food_classes_10_ 100%[===================>] 160.74M  15.6MB/s    in 11s     \n",
      "\n",
      "2023-08-10 17:05:29 (14.2 MB/s) - ‘10_food_classes_10_percent.zip’ saved [168546183/168546183]\n",
      "\n"
     ]
    }
   ],
   "source": [
    "# Get data (10% of labels)\n",
    "import zipfile\n",
    "\n",
    "# Download data\n",
    "!wget https://storage.googleapis.com/ztm_tf_course/food_vision/10_food_classes_10_percent.zip\n",
    "\n",
    "# Unzip the downloaded file\n",
    "zip_ref = zipfile.ZipFile(\"10_food_classes_10_percent.zip\", \"r\")\n",
    "zip_ref.extractall()\n",
    "zip_ref.close()"
   ]
  },
  {
   "cell_type": "code",
   "execution_count": 6,
   "metadata": {},
   "outputs": [
    {
     "name": "stdout",
     "output_type": "stream",
     "text": [
      "There are 2 directories and 0 images in 'data/10_food_classes_10_percent'.\n",
      "There are 10 directories and 0 images in 'data/10_food_classes_10_percent/test'.\n",
      "There are 0 directories and 250 images in 'data/10_food_classes_10_percent/test/ice_cream'.\n",
      "There are 0 directories and 250 images in 'data/10_food_classes_10_percent/test/chicken_curry'.\n",
      "There are 0 directories and 250 images in 'data/10_food_classes_10_percent/test/steak'.\n",
      "There are 0 directories and 250 images in 'data/10_food_classes_10_percent/test/sushi'.\n",
      "There are 0 directories and 250 images in 'data/10_food_classes_10_percent/test/chicken_wings'.\n",
      "There are 0 directories and 250 images in 'data/10_food_classes_10_percent/test/grilled_salmon'.\n",
      "There are 0 directories and 250 images in 'data/10_food_classes_10_percent/test/hamburger'.\n",
      "There are 0 directories and 250 images in 'data/10_food_classes_10_percent/test/pizza'.\n",
      "There are 0 directories and 250 images in 'data/10_food_classes_10_percent/test/ramen'.\n",
      "There are 0 directories and 250 images in 'data/10_food_classes_10_percent/test/fried_rice'.\n",
      "There are 10 directories and 0 images in 'data/10_food_classes_10_percent/train'.\n",
      "There are 0 directories and 75 images in 'data/10_food_classes_10_percent/train/ice_cream'.\n",
      "There are 0 directories and 75 images in 'data/10_food_classes_10_percent/train/chicken_curry'.\n",
      "There are 0 directories and 75 images in 'data/10_food_classes_10_percent/train/steak'.\n",
      "There are 0 directories and 75 images in 'data/10_food_classes_10_percent/train/sushi'.\n",
      "There are 0 directories and 75 images in 'data/10_food_classes_10_percent/train/chicken_wings'.\n",
      "There are 0 directories and 75 images in 'data/10_food_classes_10_percent/train/grilled_salmon'.\n",
      "There are 0 directories and 75 images in 'data/10_food_classes_10_percent/train/hamburger'.\n",
      "There are 0 directories and 75 images in 'data/10_food_classes_10_percent/train/pizza'.\n",
      "There are 0 directories and 75 images in 'data/10_food_classes_10_percent/train/ramen'.\n",
      "There are 0 directories and 75 images in 'data/10_food_classes_10_percent/train/fried_rice'.\n"
     ]
    }
   ],
   "source": [
    "# Walk through 10 percent data directory and list number of files\n",
    "for dirpath, dirnames, filenames in os.walk(\"data/10_food_classes_10_percent\"):\n",
    "  print(f\"There are {len(dirnames)} directories and {len(filenames)} images in '{dirpath}'.\")"
   ]
  },
  {
   "cell_type": "code",
   "execution_count": 7,
   "metadata": {},
   "outputs": [
    {
     "name": "stdout",
     "output_type": "stream",
     "text": [
      "Training images:\n",
      "Found 750 images belonging to 10 classes.\n",
      "Testing images:\n",
      "Found 2500 images belonging to 10 classes.\n"
     ]
    }
   ],
   "source": [
    "IMAGE_SHAPE = (224, 224)\n",
    "BATCH_SIZE = 32\n",
    "\n",
    "# Set the train and test directory paths\n",
    "train_dir = \"data/10_food_classes_10_percent/train\"\n",
    "test_dir = \"data/10_food_classes_10_percent/test\"\n",
    "\n",
    "# Create train and test data generators and rescale the data\n",
    "train_datagen = ImageDataGenerator(rescale=1/255.)\n",
    "test_datagen = ImageDataGenerator(rescale=1/255.)\n",
    "\n",
    "print(\"Training images:\")\n",
    "train_data_10_percent = train_datagen.flow_from_directory(train_dir,\n",
    "                                                          target_size=IMAGE_SHAPE,\n",
    "                                                          batch_size=BATCH_SIZE,\n",
    "                                                          class_mode=\"categorical\")\n",
    "\n",
    "print(\"Testing images:\")\n",
    "test_data = test_datagen.flow_from_directory(test_dir,\n",
    "                                             target_size=IMAGE_SHAPE,\n",
    "                                             batch_size=BATCH_SIZE,\n",
    "                                             class_mode=\"categorical\")"
   ]
  },
  {
   "cell_type": "markdown",
   "metadata": {},
   "source": [
    "## Setting up callbacks (things to run whilst our model trains)\n",
    "\n",
    "[Callbacks](https://www.tensorflow.org/api_docs/python/tf/keras/callbacks) are extra functionality you can add to your models to be performed during or after training. Some of the most popular callbacks include:\n",
    "\n",
    "* [Experiment tracking with TensorBoard](https://www.tensorflow.org/api_docs/python/tf/keras/callbacks/TensorBoard) - log the performance of multiple models and then view and compare these models in a visual way on [TensorBoard](https://www.tensorflow.org/tensorboard) (a dashboard for inspecting neural network parameters). Helpful to compare the results of different models on your data.\n",
    "* [Model checkpointing](https://www.tensorflow.org/api_docs/python/tf/keras/callbacks/ModelCheckpoint) - save your model as it trains so you can stop training if needed and come back to continue off where you left. Helpful if training takes a long time and can't be done in one sitting.\n",
    "* [Early stopping](https://www.tensorflow.org/api_docs/python/tf/keras/callbacks/EarlyStopping) - leave your model training for an arbitrary amount of time and have it stop training automatically when it ceases to improve. Helpful when you've got a large dataset and don't know how long training will take."
   ]
  },
  {
   "cell_type": "code",
   "execution_count": 9,
   "metadata": {},
   "outputs": [],
   "source": [
    "def create_tensorboard_callback(dir_name, experiment_name):\n",
    "    log_dir = dir_name + \"/\" + experiment_name + \"/\" + datetime.datetime.now().strftime(\"%Y%m%d-%H%M%S\")\n",
    "    tensorboard_callback = tf.keras.callbacks.TensorBoard(log_dir=log_dir)\n",
    "    print(f\"Saving TensorBoard log files to: {log_dir}\")\n",
    "    return tensorboard_callback"
   ]
  },
  {
   "cell_type": "markdown",
   "metadata": {},
   "source": [
    "Because you're likely to run multiple experiments, it's a good idea to be able to track them in some way.\n",
    "\n",
    "In our case, our function saves a model's performance logs to a directory named `[dir_name]/[experiment_name]/[current_timestamp]`, where:\n",
    "\n",
    "* `dir_name` is the overall logs directory\n",
    "* `experiment_name` is the particular experiment\n",
    "* `current_timestamp` is the time the experiment started based on Python's datetime.datetime().now()"
   ]
  },
  {
   "cell_type": "markdown",
   "metadata": {},
   "source": [
    "## Creating models using TensorFlow Hub\n",
    "\n",
    "Will be using the following two models from [TensorFlow Hub](https://tfhub.dev/):\n",
    "1. [ResNetV2](https://arxiv.org/abs/1603.05027) - a state of the art computer vision model architecture from 2016.\n",
    "2. [EfficientNet](https://arxiv.org/abs/1905.11946) - a state of the art computer vision architecture from 2019."
   ]
  },
  {
   "cell_type": "code",
   "execution_count": null,
   "metadata": {},
   "outputs": [],
   "source": []
  }
 ],
 "metadata": {
  "kernelspec": {
   "display_name": "base",
   "language": "python",
   "name": "python3"
  },
  "language_info": {
   "codemirror_mode": {
    "name": "ipython",
    "version": 3
   },
   "file_extension": ".py",
   "mimetype": "text/x-python",
   "name": "python",
   "nbconvert_exporter": "python",
   "pygments_lexer": "ipython3",
   "version": "3.9.16"
  },
  "orig_nbformat": 4
 },
 "nbformat": 4,
 "nbformat_minor": 2
}
